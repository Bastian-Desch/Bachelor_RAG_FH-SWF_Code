{
 "cells": [
  {
   "cell_type": "code",
   "execution_count": 1,
   "id": "initial_id",
   "metadata": {
    "ExecuteTime": {
     "end_time": "2025-03-15T10:33:45.486475Z",
     "start_time": "2025-03-15T10:33:44.402471Z"
    },
    "collapsed": true
   },
   "outputs": [],
   "source": [
    "from langchain_core.prompts import ChatPromptTemplate\n",
    "\n",
    "from enums import CollectionNames, EmbeddingModels\n",
    "from qdrant_client.models import Filter, FieldCondition, MatchValue\n",
    "from langchain_ollama import ChatOllama\n",
    "from langchain_core.documents import Document\n",
    "\n",
    "from retrieval_util import (\n",
    "    get_qdrant_client,\n",
    "    get_embeddings_function,\n",
    "    retrieve_with_score_with_filters\n",
    ")\n",
    "\n",
    "import os\n",
    "import re\n",
    "import logging\n",
    "from typing import List, Tuple\n",
    "\n",
    "os.environ[\n",
    "    \"TOKENIZERS_PARALLELISM\"] = \"false\"  # Verhindert Fehler beim Erzeugen von Embeddings (Tritt sporadisch auf, konnte ich nicht gezielt reproduzieren)\n",
    "logging.basicConfig(level=logging.INFO)"
   ]
  },
  {
   "cell_type": "markdown",
   "id": "a55afbdb5b53cb22",
   "metadata": {},
   "source": [
    "Nach den erfassten Metriken in der Evaluation des Retrievals hat sich herausgestellt, dass die Kombination aus dem deutschsprachigen Embedding-Modell, den Rekursiv gebildeten Chunks, den optimalen Filtern und den ursprünglichen Fragestellungen die besten Ergebnisse liefert.\n",
    "\n",
    "Daher soll diese Kombination als Basis für das Generieren der Antworten genutzt werden.\n",
    "\n",
    "Das genutzte Modell is das llama3.1:8b.\n",
    "\n",
    "Das Modell wird über die Ollama-API angesprochen, hat 8 Milliarden Parameter und wird 4-Bit quantisiert genutzt.\n",
    "\n",
    "Antworten werden in Textdateien gespeichert, um sie später in den Anhang der Arbeit einzufügen.\n"
   ]
  },
  {
   "cell_type": "code",
   "execution_count": null,
   "id": "98e70bb06780f4c",
   "metadata": {
    "ExecuteTime": {
     "end_time": "2025-03-15T10:34:01.288036Z",
     "start_time": "2025-03-15T10:33:53.184200Z"
    }
   },
   "outputs": [
    {
     "name": "stderr",
     "output_type": "stream",
     "text": [
      "/Users/bastian/Desktop/BachelorProjektAbgabe/.venv/lib/python3.12/site-packages/tqdm/auto.py:21: TqdmWarning: IProgress not found. Please update jupyter and ipywidgets. See https://ipywidgets.readthedocs.io/en/stable/user_install.html\n",
      "  from .autonotebook import tqdm as notebook_tqdm\n",
      "2025-03-15 11:33:56,925 [INFO] PyTorch version 2.6.0 available.\n",
      "2025-03-15 11:33:57,177 [INFO] Use pytorch device_name: mps\n",
      "2025-03-15 11:33:57,178 [INFO] Load pretrained SentenceTransformer: mixedbread-ai/deepset-mxbai-embed-de-large-v1\n"
     ]
    }
   ],
   "source": [
    "# Konstanten\n",
    "EMBEDDINGS = get_embeddings_function(model_name=EmbeddingModels.MIXEDBREAD.value)\n",
    "QDRANT_URL = \"http://localhost:6333\"\n",
    "COLLECTION = CollectionNames.MIXEDBREAD_RECURSIVE.value\n",
    "\n",
    "FRAGEN = {\n",
    "    1: \"Wann kann ich mich einschreiben?\",\n",
    "    2: \"Welche Literatur ist relevant für das Modul Mathematik?\",\n",
    "    3: \"Welche Fachgebiete sind an der FH vertreten?\",\n",
    "    4: \"Ist eine Beurlaubung während des Studiums möglich?\",\n",
    "    5: \"Welche Studienmodelle werden angeboten?\",\n",
    "    6: \"Wie viele Seiten muss ich in meiner Bachelorarbeit schreiben?\",\n",
    "    7: \"Wie sind Portfolioprüfungen aufgebaut?\",\n",
    "    8: \"Was muss ich beachten, wenn ich bei einer Prüfung krank bin?\",\n",
    "    9: \"Was sind die Inhalte im Modul IT-Sicherheit?\",\n",
    "    10: \"Wie lange dauern die Klausuren?\"\n",
    "}\n",
    "\n",
    "\n",
    "# Alle relevanten Filter für die Fragen\n",
    "def create_field_condition(field, value):\n",
    "    return FieldCondition(\n",
    "        key=f\"metadata.{field}\",\n",
    "        match=MatchValue(value=value)\n",
    "    )\n",
    "\n",
    "\n",
    "FILTERS = {\n",
    "    1: Filter(must=[\n",
    "        create_field_condition(\"studiengang\", \"Elektrotechnik\"),\n",
    "        create_field_condition(\"standort\", \"Meschede\"),\n",
    "        create_field_condition(\"abschluss\", \"Master\")\n",
    "    ]),\n",
    "    2: Filter(must=[\n",
    "        create_field_condition(\"standort\", \"Soest\"),\n",
    "        create_field_condition(\"studiengang\", \"Elektrotechnik\"),\n",
    "        create_field_condition(\"abschluss\", \"Bachelor\")\n",
    "    ]),\n",
    "    3: Filter(must=[\n",
    "        create_field_condition(\"studiengang\", \"Alle\"),\n",
    "        create_field_condition(\"standort\", \"Alle\"),\n",
    "        create_field_condition(\"abschluss\", \"Alle\")\n",
    "    ]),\n",
    "    4: Filter(must=[\n",
    "        create_field_condition(\"studiengang\", \"Alle\"),\n",
    "        create_field_condition(\"standort\", \"Alle\"),\n",
    "        create_field_condition(\"abschluss\", \"Alle\")\n",
    "    ]),\n",
    "    5: Filter(must=[\n",
    "        create_field_condition(\"studiengang\", \"Alle\"),\n",
    "        create_field_condition(\"standort\", \"Alle\"),\n",
    "        create_field_condition(\"abschluss\", \"Alle\")\n",
    "    ]),\n",
    "    6: Filter(must=[\n",
    "        create_field_condition(\"studiengang\", \"Wirtschaftsinformatik\"),\n",
    "        create_field_condition(\"standort\", \"Hagen\"),\n",
    "        create_field_condition(\"abschluss\", \"Bachelor\")\n",
    "    ]),\n",
    "    7: Filter(must=[\n",
    "        create_field_condition(\"studiengang\", \"Elektrotechnik\"),\n",
    "        create_field_condition(\"standort\", \"Soest\"),\n",
    "        create_field_condition(\"abschluss\", \"Bachelor\")\n",
    "    ]),\n",
    "    8: Filter(must=[\n",
    "        create_field_condition(\"studiengang\", \"Alle\"),\n",
    "        create_field_condition(\"standort\", \"Alle\"),\n",
    "        create_field_condition(\"abschluss\", \"Alle\")\n",
    "    ]),\n",
    "    9: Filter(must=[\n",
    "        create_field_condition(\"studiengang\", \"Elektrotechnik\"),\n",
    "        create_field_condition(\"standort\", \"Hagen\"),\n",
    "        create_field_condition(\"abschluss\", \"Bachelor\")\n",
    "    ]),\n",
    "    10: Filter(must=[\n",
    "        create_field_condition(\"studiengang\", \"Wirtschaftsinformatik\"),\n",
    "        create_field_condition(\"standort\", \"Hagen\"),\n",
    "        create_field_condition(\"abschluss\", \"Bachelor\")\n",
    "    ]),\n",
    "}\n",
    "\n",
    "LLAMA_MODELL = \"llama3.1:8b\""
   ]
  },
  {
   "cell_type": "code",
   "execution_count": 3,
   "id": "d663ea5ecb59d14f",
   "metadata": {
    "ExecuteTime": {
     "end_time": "2025-03-15T10:34:04.381802Z",
     "start_time": "2025-03-15T10:34:04.379429Z"
    }
   },
   "outputs": [],
   "source": [
    "MAX_DOCUMENTS = 10"
   ]
  },
  {
   "cell_type": "code",
   "execution_count": 4,
   "id": "aa2354170b69f418",
   "metadata": {
    "ExecuteTime": {
     "end_time": "2025-03-15T10:34:06.555259Z",
     "start_time": "2025-03-15T10:34:06.543116Z"
    }
   },
   "outputs": [],
   "source": [
    "FH_PROMPT = \"\"\"\n",
    "<|begin_of_text|>\n",
    "<|start_header_id|>system<|end_header_id|>\n",
    "Du bist der Assistent der Fachhochschule Südwestfalen (FH-SWF).\n",
    "Du beantwortest Fragen von Studieninteressierten und Studierenden.\n",
    "\n",
    "Nutze den bereitgestellten Kontext, um die Frage konkret zu beantworten.\n",
    "Wenn du die Frage nicht aus dem Kontext beantworten kannst, antworte mit \"Das weiß ich leider nicht.\", sonst nichts.\n",
    "Erfinde niemals etwas, was nicht aus dem Kontext hervorgeht.\n",
    "\n",
    "<|start_header_id|>user<|end_header_id|>\n",
    "Kontext: {context}\n",
    "Frage: {query}\n",
    "\n",
    "<|start_header_id|>assistant<|end_header_id|>\n",
    "\"\"\"\n",
    "\n",
    "rag_prompt_template = ChatPromptTemplate.from_template(FH_PROMPT)"
   ]
  },
  {
   "cell_type": "code",
   "execution_count": null,
   "id": "fe4a5a2f9226f650",
   "metadata": {
    "ExecuteTime": {
     "end_time": "2025-03-15T10:34:12.194107Z",
     "start_time": "2025-03-15T10:34:12.123556Z"
    }
   },
   "outputs": [],
   "source": [
    "LLAMA_LLM = ChatOllama(\n",
    "    model=LLAMA_MODELL,\n",
    "    temperature=0,\n",
    "    num_ctx=10000\n",
    ")\n",
    "# num_ctx legt das Kontextfenster in Tokens fest.\n",
    "# Kann später reduziert werden, je nachdem wie viel Speicher benötigt wird. Kontext (max. 10 * 504) + Frage + Prompt sollte nie mehr als ca. 8k Tokens haben"
   ]
  },
  {
   "cell_type": "code",
   "execution_count": null,
   "id": "6d6bd96a6b3df9cd",
   "metadata": {
    "ExecuteTime": {
     "end_time": "2025-03-15T10:34:20.666283Z",
     "start_time": "2025-03-15T10:34:20.662320Z"
    }
   },
   "outputs": [],
   "source": [
    "# Kontexte formatieren vor der Übergabe an das LLM\n",
    "'''\n",
    "Die drei Angaben aus den Metadaten füge ich hinzu. Ziel ist, dass Antworten spezifischer werden, wenn das Modell Studiengang, Standort un Abschluss zu jedem Chunk bekommt.\n",
    "In den Antworten zeigte sich jedoch, dass dies nicht erfolgreich ist.\n",
    "'''\n",
    "\n",
    "\n",
    "def keep_relevant_metadata(documents: list[Document]) -> Tuple[List[Document], List[str]]:\n",
    "    relevant_metadata = [\n",
    "        \"standort\",\n",
    "        \"studiengang\",\n",
    "        \"abschluss\"\n",
    "    ]\n",
    "    links = []\n",
    "    for doc in documents:\n",
    "        if doc.metadata['link'] not in links:\n",
    "            links.append(doc.metadata['link'])\n",
    "        doc.metadata = {key: doc.metadata[key] for key in relevant_metadata}\n",
    "    return documents, links\n",
    "\n",
    "\n",
    "def format_page_content(documents: list[Document]) -> str:\n",
    "    formatted_context = \"\"\n",
    "    for doc in documents:\n",
    "        formatted_context += f\"Standort: {doc.metadata['standort']}, Studiengang: {doc.metadata['studiengang']}, Abschluss: {doc.metadata['abschluss']}\\n{doc.page_content}\\n\\n\"\n",
    "    return formatted_context"
   ]
  },
  {
   "cell_type": "code",
   "execution_count": 8,
   "id": "daa500cb05ff828b",
   "metadata": {
    "ExecuteTime": {
     "end_time": "2025-03-15T10:34:23.167552Z",
     "start_time": "2025-03-15T10:34:23.165181Z"
    }
   },
   "outputs": [],
   "source": [
    "def prepare_context(retrieved_documents: list[Document]) -> Tuple[str, List[str]]:\n",
    "    documents, links = keep_relevant_metadata(retrieved_documents)\n",
    "    prepared_context = format_page_content(documents)\n",
    "    return prepared_context, links"
   ]
  },
  {
   "cell_type": "code",
   "execution_count": null,
   "id": "cfdb39d628596ef4",
   "metadata": {
    "ExecuteTime": {
     "end_time": "2025-03-12T14:18:12.580789Z",
     "start_time": "2025-03-12T14:18:12.579478Z"
    }
   },
   "outputs": [],
   "source": []
  },
  {
   "cell_type": "code",
   "execution_count": 9,
   "id": "31f3c8b053bdd962",
   "metadata": {
    "ExecuteTime": {
     "end_time": "2025-03-15T10:34:25.603596Z",
     "start_time": "2025-03-15T10:34:25.253792Z"
    }
   },
   "outputs": [
    {
     "name": "stderr",
     "output_type": "stream",
     "text": [
      "2025-03-15 11:34:25,302 [INFO] HTTP Request: GET http://localhost:6333 \"HTTP/1.1 200 OK\"\n",
      "2025-03-15 11:34:25,308 [INFO] HTTP Request: GET http://localhost:6333/collections/mixedbread-ai_deepset-mxbai-embed-de-large-v1_recursive_chunks \"HTTP/1.1 200 OK\"\n"
     ]
    }
   ],
   "source": [
    "# Qdrant-Clinet mit mixedbread-ai/deepset-mxbai-embed-de-large-v1, Recursive Chunks\n",
    "best_client = get_qdrant_client(embeddings=EMBEDDINGS,\n",
    "                                collection_name=COLLECTION,\n",
    "                                qdrant_url=QDRANT_URL)"
   ]
  },
  {
   "cell_type": "code",
   "execution_count": 10,
   "id": "75f1e27b5653543e",
   "metadata": {
    "ExecuteTime": {
     "end_time": "2025-03-15T10:34:27.434374Z",
     "start_time": "2025-03-15T10:34:27.432311Z"
    }
   },
   "outputs": [],
   "source": [
    "# Ordner zum Speichern der Antworten\n",
    "LLAMA_ANSWERS_DIR = \"./antworten_llama_base_modell\""
   ]
  },
  {
   "cell_type": "code",
   "execution_count": 11,
   "id": "cd7b0e48584b20a7",
   "metadata": {
    "ExecuteTime": {
     "end_time": "2025-03-15T10:39:58.777019Z",
     "start_time": "2025-03-15T10:34:33.568028Z"
    }
   },
   "outputs": [
    {
     "name": "stderr",
     "output_type": "stream",
     "text": [
      "2025-03-15 11:34:33,751 [INFO] HTTP Request: POST http://localhost:6333/collections/mixedbread-ai_deepset-mxbai-embed-de-large-v1_recursive_chunks/points/query \"HTTP/1.1 200 OK\"\n"
     ]
    },
    {
     "name": "stdout",
     "output_type": "stream",
     "text": [
      "Frage 1: Wann kann ich mich einschreiben?\n"
     ]
    },
    {
     "name": "stderr",
     "output_type": "stream",
     "text": [
      "2025-03-15 11:35:01,605 [INFO] HTTP Request: POST http://127.0.0.1:11434/api/chat \"HTTP/1.1 200 OK\"\n"
     ]
    },
    {
     "name": "stdout",
     "output_type": "stream",
     "text": [
      "Input Tokens: 5006\n",
      "Antwort: Für Deutsche und Deutsche gleichgestellte Bewerber*innen:\n",
      "\n",
      "- Wintersemester: i.d.R. Mitte Mai bis Ende August jeden Jahres\n",
      "- Sommersemester: i.d.R. Anfang Dezember bis Ende Februar jeden Jahres\n",
      "\n",
      "Für Bewerber*innen aus Nicht-EU-Ländern:\n",
      "\n",
      "- Wintersemester: i.d.R. Anfang März bis 15. Juli jeden Jahres\n",
      "- Sommersemester: i.d.R. Anfang November bis zum 15. Januar jeden Jahres\n",
      "--------------------------------------------------\n",
      "Für weitere Informationen besuchen Sie:\n",
      "- https://www.fh-swf.de/de/studienangebot/studiengaenge/elektrotechnik_m_eng_/index.php\n",
      "- https://www.fh-swf.de/media/neu_np/hv_2/downloads_der_studiengangsseiten/fb_iw_1/elektrotechnik_m_eng_/FPO_MA_ETM_2017.pdf\n",
      "Frage 2: Welche Literatur ist relevant für das Modul Mathematik?\n"
     ]
    },
    {
     "name": "stderr",
     "output_type": "stream",
     "text": [
      "2025-03-15 11:35:09,273 [INFO] HTTP Request: POST http://localhost:6333/collections/mixedbread-ai_deepset-mxbai-embed-de-large-v1_recursive_chunks/points/query \"HTTP/1.1 200 OK\"\n",
      "2025-03-15 11:35:19,843 [INFO] HTTP Request: POST http://127.0.0.1:11434/api/chat \"HTTP/1.1 200 OK\"\n"
     ]
    },
    {
     "name": "stdout",
     "output_type": "stream",
     "text": [
      "Input Tokens: 2408\n",
      "Antwort: Für das Modul \"Mathematik\" sind folgende Literatur empfohlen:\n",
      "\n",
      "- Skript Mathematik, J. Oberrath\n",
      "- Mathematik für Ingenieure und Naturwissenschaftler, Papula, Band 1 + 2, SpringerVieweg\n",
      "- Mathematik für Ingenieure und Naturwissenschaftler, Burg, Haff, Wille, Band 1, 2 + 3, Springer-Vieweg\n",
      "--------------------------------------------------\n",
      "Für weitere Informationen besuchen Sie:\n",
      "- https://www.fh-swf.de/media/neu_np/hv_2/dateien_sg_2_4/verlaufsplaene_modulhandbuecher_1/soest_4/fb_eet_3/Modulhandbuch_BA_ETS_ETA_ETP_20_02.2024.pdf\n",
      "- https://www.fh-swf.de/media/neu_np/hv_2/dateien_sg_2_4/verlaufsplaene_modulhandbuecher_1/soest_4/fb_eet_3/ModulhandbuchWPM_WiSe_BA_ETS_ETA_ETP_20_10.2024.pdf\n",
      "Frage 3: Welche Fachgebiete sind an der FH vertreten?\n"
     ]
    },
    {
     "name": "stderr",
     "output_type": "stream",
     "text": [
      "2025-03-15 11:35:25,266 [INFO] HTTP Request: POST http://localhost:6333/collections/mixedbread-ai_deepset-mxbai-embed-de-large-v1_recursive_chunks/points/query \"HTTP/1.1 200 OK\"\n",
      "2025-03-15 11:35:49,851 [INFO] HTTP Request: POST http://127.0.0.1:11434/api/chat \"HTTP/1.1 200 OK\"\n"
     ]
    },
    {
     "name": "stdout",
     "output_type": "stream",
     "text": [
      "Input Tokens: 5193\n",
      "Antwort: Die Fachhochschule Südwestfalen (FH-SWF) bietet Studiengänge in folgenden acht differenzierten Fachgebieten an:\n",
      "\n",
      "1. Agrarwirtschaft\n",
      "2. Designmanagement und Produktentwicklung\n",
      "3. Gesundheits- und Naturwissenschaften\n",
      "4. Informatik und Digitalisierung\n",
      "5. Pädagogik und Psychologie\n",
      "6. Technik und Ingenieurwesen\n",
      "7. Umwelt und Nachhaltigkeit\n",
      "8. Wirtschaft und Recht\n",
      "--------------------------------------------------\n",
      "Für weitere Informationen besuchen Sie:\n",
      "- https://www.fh-swf.de/de/studienangebot/index.php\n",
      "- https://www.fh-swf.de/de/index.php\n",
      "Frage 4: Ist eine Beurlaubung während des Studiums möglich?\n"
     ]
    },
    {
     "name": "stderr",
     "output_type": "stream",
     "text": [
      "2025-03-15 11:35:57,875 [INFO] HTTP Request: POST http://localhost:6333/collections/mixedbread-ai_deepset-mxbai-embed-de-large-v1_recursive_chunks/points/query \"HTTP/1.1 200 OK\"\n",
      "2025-03-15 11:36:26,264 [INFO] HTTP Request: POST http://127.0.0.1:11434/api/chat \"HTTP/1.1 200 OK\"\n"
     ]
    },
    {
     "name": "stdout",
     "output_type": "stream",
     "text": [
      "Input Tokens: 5856\n",
      "Antwort: Ja, eine Beurlaubung während des Studiums ist möglich. Nach den Informationen auf der Website der Fachhochschule Südwestfalen kann eine Beurlaubung vom Studium gewährt werden, wenn ein wichtiger Grund vorliegt. Die wichtigsten Gründe für eine Beurlaubung sind:\n",
      "\n",
      "* Krankheit: Vorlage einer ärztlichen Bescheinigung\n",
      "* Praktikum: Der Praktikumsvertrag muss dem Studium förderlich sein\n",
      "* Auslandsstudium bzw. Auslandspraktikum: Entspr. Nachweis\n",
      "* Freiwilligendienst: Aufforderung zum Antritt des Freiwilligendiensts\n",
      "* Schwangerschaft: Vorlage einer ärztlichen Bescheinigung\n",
      "* Elternzeit: Bis zum vollendeten 8. Lebensjahr des Kindes können pro Kind bis zu 6 Semester beantragt werden, Vorlage der Geburtsurkunde\n",
      "\n",
      "Die Beurlaubung kann online über das Online-Portal der Fachhochschule Südwestfalen gestellt werden und muss spätestens vor Beginn des Semesters beantragt werden.\n",
      "--------------------------------------------------\n",
      "Für weitere Informationen besuchen Sie:\n",
      "- https://www.fh-swf.de/de/studierende/studienorganisation/index.php\n",
      "- https://www.fh-swf.de/media/neu_np/hv_2/dateien_sg_2_4/online_pruefungsorga/Ruecktritt-Info-2023.pdf\n",
      "Frage 5: Welche Studienmodelle werden angeboten?\n"
     ]
    },
    {
     "name": "stderr",
     "output_type": "stream",
     "text": [
      "2025-03-15 11:36:44,306 [INFO] HTTP Request: POST http://localhost:6333/collections/mixedbread-ai_deepset-mxbai-embed-de-large-v1_recursive_chunks/points/query \"HTTP/1.1 200 OK\"\n",
      "2025-03-15 11:37:10,485 [INFO] HTTP Request: POST http://127.0.0.1:11434/api/chat \"HTTP/1.1 200 OK\"\n"
     ]
    },
    {
     "name": "stdout",
     "output_type": "stream",
     "text": [
      "Input Tokens: 5425\n",
      "Antwort: Die Fachhochschule Südwestfalen bietet verschiedene Studienmodelle an, darunter:\n",
      "\n",
      "* Vollzeitstudium\n",
      "* Teilzeitstudium\n",
      "* Kooperative Studienmodelle (z.B. Werkstudenten)\n",
      "* Duales Studium\n",
      "* Berufsbegleitendes oder ausbildungsbegleitendes Verbundstudium\n",
      "* Zertifikatsstudium\n",
      "\n",
      "Diese Modelle ermöglichen es den Studierenden, ihr Studium an ihre individuellen Bedürfnisse und Lebensumstände anzupassen.\n",
      "--------------------------------------------------\n",
      "Für weitere Informationen besuchen Sie:\n",
      "- https://www.fh-swf.de/de/studienangebot/studienmodelle/index.php\n",
      "- https://www.fh-swf.de/de/studienangebot/index.php\n",
      "Frage 6: Wie viele Seiten muss ich in meiner Bachelorarbeit schreiben?\n"
     ]
    },
    {
     "name": "stderr",
     "output_type": "stream",
     "text": [
      "2025-03-15 11:37:19,174 [INFO] HTTP Request: POST http://localhost:6333/collections/mixedbread-ai_deepset-mxbai-embed-de-large-v1_recursive_chunks/points/query \"HTTP/1.1 200 OK\"\n",
      "2025-03-15 11:37:43,344 [INFO] HTTP Request: POST http://127.0.0.1:11434/api/chat \"HTTP/1.1 200 OK\"\n"
     ]
    },
    {
     "name": "stdout",
     "output_type": "stream",
     "text": [
      "Input Tokens: 5056\n",
      "Antwort: Die Bachelorarbeit sollte in der Regel 65 Seiten (inklusive Bilder und Tabellen, aber ohne Verzeichnisse und Anhänge) umfassen.\n",
      "--------------------------------------------------\n",
      "Für weitere Informationen besuchen Sie:\n",
      "- https://www.fh-swf.de/media/neu_np/hv_2/prfungsundnderungsordnungen/fbtbw_1/FPO_2018_WiIng_WiInf_IBE_IBI.pdf\n",
      "- https://www.fh-swf.de/media/neu_np/hv_2/dateien_sg_2_4/verlaufsplaene_modulhandbuecher_1/hagen/tbw_neu/Modulhandbuch_Winf_FPO_2018_Stand_09.2024.pdf\n",
      "Frage 7: Wie sind Portfolioprüfungen aufgebaut?\n"
     ]
    },
    {
     "name": "stderr",
     "output_type": "stream",
     "text": [
      "2025-03-15 11:37:46,552 [INFO] HTTP Request: POST http://localhost:6333/collections/mixedbread-ai_deepset-mxbai-embed-de-large-v1_recursive_chunks/points/query \"HTTP/1.1 200 OK\"\n",
      "2025-03-15 11:38:04,160 [INFO] HTTP Request: POST http://127.0.0.1:11434/api/chat \"HTTP/1.1 200 OK\"\n"
     ]
    },
    {
     "name": "stdout",
     "output_type": "stream",
     "text": [
      "Input Tokens: 3924\n",
      "Antwort: Ein Portfolio ist eine eigenständige Lernprozessdokumentation und -reflexion, die neben schriftlichen Anteilen auch mündliche Anteile enthalten kann. Es besteht aus mehreren Einzelelementen wie Protokollen, Präsentationen, Fallstudien, konstruktiven Entwürfen oder Zeichnungen. Die Anzahl der Einzelelemente soll fünf nicht überschreiten.\n",
      "\n",
      "Der Gesamtumfang der schriftlichen Elemente hat in der Regel einen Umfang von 15 bis 25 Seiten à 30 Zeilen (exklusive Abbildungen und Tabellen). Die Gesamtdauer der mündlichen Elemente umfasst 30 bis 120 Minuten.\n",
      "--------------------------------------------------\n",
      "Für weitere Informationen besuchen Sie:\n",
      "- https://www.fh-swf.de/media/neu_np/hv_2/dateien_sg_2_4/online_antraege_formulare_soest/Lesefassung_FPO_BA_ETS_20_03.2023.pdf\n",
      "- https://www.fh-swf.de/media/neu_np/hv_2/dateien_sg_2_4/verlaufsplaene_modulhandbuecher_1/soest_4/fb_eet_3/Modulhandbuch_BA_ETS_ETA_ETP_20_02.2024.pdf\n",
      "Frage 8: Was muss ich beachten, wenn ich bei einer Prüfung krank bin?\n"
     ]
    },
    {
     "name": "stderr",
     "output_type": "stream",
     "text": [
      "2025-03-15 11:38:14,103 [INFO] HTTP Request: POST http://localhost:6333/collections/mixedbread-ai_deepset-mxbai-embed-de-large-v1_recursive_chunks/points/query \"HTTP/1.1 200 OK\"\n",
      "2025-03-15 11:38:40,069 [INFO] HTTP Request: POST http://127.0.0.1:11434/api/chat \"HTTP/1.1 200 OK\"\n"
     ]
    },
    {
     "name": "stdout",
     "output_type": "stream",
     "text": [
      "Input Tokens: 5459\n",
      "Antwort: Wenn Sie bei einer Prüfung krank sind, müssen Sie sich umgehend an einen Arzt wenden und ein ärztliches Attest beantragen. Dieses Attest sollte spätestens am Tag der Prüfung ausgestellt werden. Wenn Sie bereits vor der Prüfung erkrankt sind, können Sie sich bis 7 Tage vor der Prüfung online zurückziehen, ohne dass dies als Nachteil für Ihre Note gilt.\n",
      "\n",
      "Wenn Sie jedoch nach Ablauf dieser Frist krank werden und die Prüfung nicht absagen konnten, müssen Sie ein ärztliches Attest vorlegen, das spätestens am Tag der Prüfung ausgestellt wurde. Dieses Attest muss unverzüglich eingereicht werden.\n",
      "\n",
      "Es ist wichtig zu beachten, dass nur ein qualifiziertes Attest akzeptiert wird, in dem bescheinigt wird, dass Sie als prüfungsunfähig eingeschätzt wurden und warum dies der Fall ist.\n",
      "--------------------------------------------------\n",
      "Für weitere Informationen besuchen Sie:\n",
      "- https://www.fh-swf.de/media/neu_np/hv_2/dateien_sg_2_4/online_pruefungsorga/Ruecktritt-Info-2023.pdf\n",
      "- https://www.fh-swf.de/media/neu_np/hv_2/prfungsundnderungsordnungen/rahmenpruefungsordnung/RPO_2018_endgueltig.pdf\n",
      "Frage 9: Was sind die Inhalte im Modul IT-Sicherheit?\n"
     ]
    },
    {
     "name": "stderr",
     "output_type": "stream",
     "text": [
      "2025-03-15 11:38:55,348 [INFO] HTTP Request: POST http://localhost:6333/collections/mixedbread-ai_deepset-mxbai-embed-de-large-v1_recursive_chunks/points/query \"HTTP/1.1 200 OK\"\n",
      "2025-03-15 11:39:22,085 [INFO] HTTP Request: POST http://127.0.0.1:11434/api/chat \"HTTP/1.1 200 OK\"\n"
     ]
    },
    {
     "name": "stdout",
     "output_type": "stream",
     "text": [
      "Input Tokens: 5432\n",
      "Antwort: Die Inhalte des Moduls IT-Sicherheit umfassen:\n",
      "\n",
      "- Grundbegriffe der IT-Sicherheit, Schutzziele, Angreifermodelle\n",
      "- Prozessmodelle für Security Engineering, Misuse Cases, Attack Trees\n",
      "- Sicherheitsmodelle (BLP & BIBA), IFC-Sprachen\n",
      "- Asymmetrische und Symmetrische Verschlüsselung (RSA, AES)\n",
      "- Hashfunktionen, Block- und Stromchiffren, Betriebsmodi\n",
      "- kryptographische Protokolle (NSP, Kerberos, Diffie-Hellman)\n",
      "- Zertifikate und digitale Signaturen\n",
      "--------------------------------------------------\n",
      "Für weitere Informationen besuchen Sie:\n",
      "- https://www.fh-swf.de/media/neu_np/hv_2/dateien_sg_2_4/verlaufsplaene_modulhandbuecher_1/hagen/e___i/Modulhandbuch_Elektrotechnik_2024_Juli_2024.pdf\n",
      "Frage 10: Wie lange dauern die Klausuren?\n"
     ]
    },
    {
     "name": "stderr",
     "output_type": "stream",
     "text": [
      "2025-03-15 11:39:32,990 [INFO] HTTP Request: POST http://localhost:6333/collections/mixedbread-ai_deepset-mxbai-embed-de-large-v1_recursive_chunks/points/query \"HTTP/1.1 200 OK\"\n",
      "2025-03-15 11:39:50,133 [INFO] HTTP Request: POST http://127.0.0.1:11434/api/chat \"HTTP/1.1 200 OK\"\n"
     ]
    },
    {
     "name": "stdout",
     "output_type": "stream",
     "text": [
      "Input Tokens: 3757\n",
      "Antwort: Die Dauer der Klausur hängt von den Leistungspunkten des Moduls ab. \n",
      "\n",
      "- Bei Modulen mit 2 LP (Leistungspunkten) beträgt die Bearbeitungszeit mindestens 15 Minuten und höchstens 30 Minuten.\n",
      "- Bei Modulen mit 5 LP beträgt die Bearbeitungszeit mindestens 60 Minuten und höchstens 120 Minuten.\n",
      "- Bei Modulen mit 6 LP beträgt die Bearbeitungszeit mindestens 80 Minuten und höchstens 150 Minuten.\n",
      "- Bei Modulen mit 7 LP beträgt die Bearbeitungszeit mindestens 100 Minuten und höchstens 180 Minuten.\n",
      "--------------------------------------------------\n",
      "Für weitere Informationen besuchen Sie:\n",
      "- https://www.fh-swf.de/media/neu_np/hv_2/prfungsundnderungsordnungen/fbtbw_1/FPO_2018_WiIng_WiInf_IBE_IBI.pdf\n",
      "- https://www.fh-swf.de/media/neu_np/hv_2/dateien_sg_2_4/verlaufsplaene_modulhandbuecher_1/hagen/tbw_neu/Modulhandbuch_Winf_FPO_2018_Stand_09.2024.pdf\n"
     ]
    }
   ],
   "source": [
    "for frage in FRAGEN.items():\n",
    "    frage_id, frage_text = frage\n",
    "    print(f\"Frage {frage_id}: {frage_text}\")\n",
    "    frage_filter = FILTERS[frage_id]\n",
    "    retrieved_documents = retrieve_with_score_with_filters(client=best_client,\n",
    "                                                           max_documents=MAX_DOCUMENTS,\n",
    "                                                           filters=FILTERS[frage_id],\n",
    "                                                           query=frage_text)\n",
    "    documents_only = [doc for doc, _ in retrieved_documents]\n",
    "    context, links = prepare_context(documents_only)\n",
    "    prompt = rag_prompt_template.invoke({\"context\": context, \"query\": frage_text})\n",
    "    response = LLAMA_LLM.invoke(prompt)\n",
    "    answer = response.content\n",
    "    input_tokens = response.usage_metadata[\"input_tokens\"]\n",
    "    print(f\"Input Tokens: {input_tokens}\")\n",
    "    print(f\"Antwort: {answer}\\n{'-' * 50}\")\n",
    "    print(\"Für weitere Informationen besuchen Sie:\")\n",
    "    for link in links[\n",
    "                :2]:  # Nur die ersten beiden Links anzeigen, da der MRR=0.911 ist, ist davon auszugehen, dass die relevanten Links in den ersten Positionen sind\n",
    "        print(f\"- {link}\")\n",
    "\n",
    "    clean_question_text = re.sub(r'[^\\w\\s-]', '', frage_text)\n",
    "    filename = f\"{frage_id}_{clean_question_text}.txt\"\n",
    "    filepath = os.path.join(LLAMA_ANSWERS_DIR, filename)\n",
    "\n",
    "    with open(filepath, \"w\", encoding=\"utf-8\") as file:\n",
    "        file.write(f\"Frage {frage_id}: {frage_text}\\n\\n\")\n",
    "        file.write(f\"Antwort:\\n{answer}\\n\\n\")"
   ]
  }
 ],
 "metadata": {
  "kernelspec": {
   "display_name": "Python 3",
   "language": "python",
   "name": "python3"
  },
  "language_info": {
   "codemirror_mode": {
    "name": "ipython",
    "version": 2
   },
   "file_extension": ".py",
   "mimetype": "text/x-python",
   "name": "python",
   "nbconvert_exporter": "python",
   "pygments_lexer": "ipython2",
   "version": "2.7.6"
  }
 },
 "nbformat": 4,
 "nbformat_minor": 5
}
