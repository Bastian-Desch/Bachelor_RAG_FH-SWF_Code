{
 "cells": [
  {
   "cell_type": "code",
   "execution_count": null,
   "id": "initial_id",
   "metadata": {
    "collapsed": true
   },
   "outputs": [],
   "source": [
    ""
   ]
  },
  {
   "metadata": {
    "ExecuteTime": {
     "end_time": "2025-03-18T07:43:48.995179Z",
     "start_time": "2025-03-18T07:43:44.841751Z"
    }
   },
   "cell_type": "code",
   "source": [
    "from enums import CollectionNames, EmbeddingModels\n",
    "from qdrant_client.models import Filter, FieldCondition, MatchValue\n",
    "\n",
    "from retrieval_util import (\n",
    "    get_qdrant_client,\n",
    "    get_embeddings_function,\n",
    "    retrieve_run_dict_with_documents_with_scores,\n",
    "    create_llm_for_self_query_retriever\n",
    ")\n",
    "\n",
    "import os\n",
    "import json\n",
    "import logging\n",
    "from ranx import Qrels, Run, evaluate, compare\n",
    "\n",
    "os.environ[\n",
    "    \"TOKENIZERS_PARALLELISM\"] = \"false\"  # Verhindert Fehler beim Erzeugen von Embeddings (Tritt sporadisch auf, konnte ich nicht gezielt reproduzieren)\n",
    "logging.basicConfig(level=logging.INFO)"
   ],
   "id": "ab270110cc3a059",
   "outputs": [],
   "execution_count": 1
  },
  {
   "metadata": {},
   "cell_type": "markdown",
   "source": [
    "**use_original_query=False** gesetzt? -> In retrieval_util.py setzen! Siehe kommentar im unteren Feld\n",
    "\n",
    "Nach Änderung muss der Jupyter Server neu gestartet werden, damit die Änderungen wirksam werden."
   ],
   "id": "3cc4eed27d926497"
  },
  {
   "metadata": {
    "ExecuteTime": {
     "end_time": "2025-03-18T07:43:51.805821Z",
     "start_time": "2025-03-18T07:43:51.801956Z"
    }
   },
   "cell_type": "code",
   "source": [
    "# in der retrieval_util.py muss der Parameter use_original_query=False gesetzt werden (in der funktion für den SelfQueryRetriever)\n",
    "# Behilfslösung, da ich nicht die Signatur der Funktion umschreiben will, sonst muss das beim Aufruf in den vorherigen Evaluationen auch wieder angepasst werden\n",
    "SELF_QUERY_RETRIEVER_FRAGEN = {\n",
    "    1: \"Wann kann ich mich für den Master in Elektrotechnik in Meschede einschreiben?\",\n",
    "    2: \"Welche Literatur ist relevant für das Modul Mathematik im Bachelorstudiengang Elektrotechnik in Soest?\",\n",
    "    3: \"Welche Fachgebiete sind an der FH vertreten?\",\n",
    "    4: \"Ist eine Beurlaubung während des Studiums möglich?\",\n",
    "    5: \"Welche Studienmodelle werden angeboten?\",\n",
    "    6: \"Wie viele Seiten muss ich in meiner Bachelorarbeit in Wirtschaftsinformatik in Hagen schreiben?\",\n",
    "    7: \"Wie sind Portfolioprüfungen im Bachelorstudiengang Elektrotechnik in Soest aufgebaut?\",\n",
    "    8: \"Was muss ich beachten, wenn ich bei einer Prüfung krank bin?\",\n",
    "    9: \"Was sind die Inhalte im Modul IT-Sicherheit im Bachelorstudiengang Elektrotechnik in Hagen?\",\n",
    "    10: \"Wie lange dauern die Klausuren im Bachelorstudiengang Wirtschaftsinformatik in Hagen?\"\n",
    "}\n",
    "'''\n",
    "Richtig vergleichbar ist dieser Ansatz nicht, da die Fragen nicht identisch sind.\n",
    "Ebenso werden die vereinfachten Fragen nicht mit den selbst formulierten übereinstimmen, da sie durch das LLM generiert werden.\n",
    "\n",
    "Hiermit soll dennoch gezeigt werden, wie dieser Ansatz performt.\n",
    "Für ein reales System eignet sich der SelfQueryRetriever potenziell nicht.\n",
    "Wenn in einem erweiterten System weitere Felder für das Filtern (z. B. Studienmodelle) hinzugefügt werden,\n",
    "müssten auch diese in der Fragestellung eingebunden werden. Die Fragen würden immer länger und komplexer werden.\n",
    "Das ist aber ein Aspekt der Gebrauchstauglichkeit und nicht der Funktionsweise/Performance des Systems.\n",
    "\n",
    "Daher wird der Ansatz zwar mit evaluiert, in der Arbeit schließe ich diesen jedoch aufgrund der genannten Aspekte aus.\n",
    "'''"
   ],
   "id": "f347540d823bf8e3",
   "outputs": [
    {
     "data": {
      "text/plain": [
       "'\\nRichtig vergleichbar ist dieser Ansatz nicht, da die Fragen nicht identisch sind.\\nEbenso werden die vereinfachten Fragen nicht mit den selbst formulierten übereinstimmen, da sie durch das LLM generiert werden.\\n\\nHiermit soll dennoch gezeigt werden, wie dieser Ansatz performt.\\nFür ein reales System eignet sich der SelfQueryRetriever potenziell nicht.\\nWenn in einem erweiterten System weitere Felder für das Filtern (z. B. Studienmodelle) hinzugefügt werden,\\nmüssten auch diese in der Fragestellung eingebunden werden. Die Fragen würden immer länger und komplexer werden.\\nDas ist aber ein Aspekt der Gebrauchstauglichkeit und nicht der Funktionsweise/Performance des Systems.\\n\\nDaher wird der Ansatz zwar mit evaluiert, in der Arbeit schließe ich diesen jedoch aufgrund der genannten Aspekte aus.\\n'"
      ]
     },
     "execution_count": 2,
     "metadata": {},
     "output_type": "execute_result"
    }
   ],
   "execution_count": 2
  },
  {
   "metadata": {},
   "cell_type": "markdown",
   "source": [
    "Um die Kennzahlen @10 und @5 zu berechnen, muss die Konstante MAX_DOCUMENTS auf den entsprechenden Wert gesetzt werden.\n",
    "\n",
    "Außerdem muss der BASE_PATH angepasst werden, um die Ergebnisse zu speichern.\n",
    "\n",
    "Zuletzt muss bei den Metriken @5 oder @10 gesetzt werden."
   ],
   "id": "ec9c01f38da1ac0a"
  },
  {
   "metadata": {
    "ExecuteTime": {
     "end_time": "2025-03-18T07:43:54.491482Z",
     "start_time": "2025-03-18T07:43:54.451369Z"
    }
   },
   "cell_type": "code",
   "source": [
    "# Konstanten\n",
    "MAX_DOCUMENTS = 10\n",
    "BASE_PATH = \"./mixedbread_retrieval_results_AT_10\"\n",
    "QDRANT_URL = \"http://localhost:6333\"\n",
    "LLM = create_llm_for_self_query_retriever()\n",
    "FRAGEN = {\n",
    "    1: \"Wann kann ich mich einschreiben?\",\n",
    "    2: \"Welche Literatur ist relevant für das Modul Mathematik?\",\n",
    "    3: \"Welche Fachgebiete sind an der FH vertreten?\",\n",
    "    4: \"Ist eine Beurlaubung während des Studiums möglich?\",\n",
    "    5: \"Welche Studienmodelle werden angeboten?\",\n",
    "    6: \"Wie viele Seiten muss ich in meiner Bachelorarbeit schreiben?\",\n",
    "    7: \"Wie sind Portfolioprüfungen aufgebaut?\",\n",
    "    8: \"Was muss ich beachten, wenn ich bei einer Prüfung krank bin?\",\n",
    "    9: \"Was sind die Inhalte im Modul IT-Sicherheit?\",\n",
    "    10: \"Wie lange dauern die Klausuren?\"\n",
    "}\n",
    "METRICS = [\"ndcg@10\", \"mrr@10\", \"map@10\", \"precision@10\", \"recall@10\", \"hits@10\", \"hit_rate@10\"]\n",
    "\n",
    "\n",
    "# Alle relevanten Filter für die Fragen\n",
    "def create_field_condition(field, value):\n",
    "    return FieldCondition(\n",
    "        key=f\"metadata.{field}\",\n",
    "        match=MatchValue(value=value)\n",
    "    )\n",
    "\n",
    "\n",
    "FILTERS = {\n",
    "    1: Filter(must=[\n",
    "        create_field_condition(\"studiengang\", \"Elektrotechnik\"),\n",
    "        create_field_condition(\"standort\", \"Meschede\"),\n",
    "        create_field_condition(\"abschluss\", \"Master\")\n",
    "    ]),\n",
    "    2: Filter(must=[\n",
    "        create_field_condition(\"standort\", \"Soest\"),\n",
    "        create_field_condition(\"studiengang\", \"Elektrotechnik\"),\n",
    "        create_field_condition(\"abschluss\", \"Bachelor\")\n",
    "    ]),\n",
    "    3: Filter(must=[\n",
    "        create_field_condition(\"studiengang\", \"Alle\"),\n",
    "        create_field_condition(\"standort\", \"Alle\"),\n",
    "        create_field_condition(\"abschluss\", \"Alle\")\n",
    "    ]),\n",
    "    4: Filter(must=[\n",
    "        create_field_condition(\"studiengang\", \"Alle\"),\n",
    "        create_field_condition(\"standort\", \"Alle\"),\n",
    "        create_field_condition(\"abschluss\", \"Alle\")\n",
    "    ]),\n",
    "    5: Filter(must=[\n",
    "        create_field_condition(\"studiengang\", \"Alle\"),\n",
    "        create_field_condition(\"standort\", \"Alle\"),\n",
    "        create_field_condition(\"abschluss\", \"Alle\")\n",
    "    ]),\n",
    "    6: Filter(must=[\n",
    "        create_field_condition(\"studiengang\", \"Wirtschaftsinformatik\"),\n",
    "        create_field_condition(\"standort\", \"Hagen\"),\n",
    "        create_field_condition(\"abschluss\", \"Bachelor\")\n",
    "    ]),\n",
    "    7: Filter(must=[\n",
    "        create_field_condition(\"studiengang\", \"Elektrotechnik\"),\n",
    "        create_field_condition(\"standort\", \"Soest\"),\n",
    "        create_field_condition(\"abschluss\", \"Bachelor\")\n",
    "    ]),\n",
    "    8: Filter(must=[\n",
    "        create_field_condition(\"studiengang\", \"Alle\"),\n",
    "        create_field_condition(\"standort\", \"Alle\"),\n",
    "        create_field_condition(\"abschluss\", \"Alle\")\n",
    "    ]),\n",
    "    9: Filter(must=[\n",
    "        create_field_condition(\"studiengang\", \"Elektrotechnik\"),\n",
    "        create_field_condition(\"standort\", \"Hagen\"),\n",
    "        create_field_condition(\"abschluss\", \"Bachelor\")\n",
    "    ]),\n",
    "    10: Filter(must=[\n",
    "        create_field_condition(\"studiengang\", \"Wirtschaftsinformatik\"),\n",
    "        create_field_condition(\"standort\", \"Hagen\"),\n",
    "        create_field_condition(\"abschluss\", \"Bachelor\")\n",
    "    ]),\n",
    "}"
   ],
   "id": "b7d36c6886ca14da",
   "outputs": [],
   "execution_count": 3
  },
  {
   "metadata": {
    "ExecuteTime": {
     "end_time": "2025-03-18T07:44:41.513137Z",
     "start_time": "2025-03-18T07:44:35.196796Z"
    }
   },
   "cell_type": "code",
   "source": "embeddings = get_embeddings_function(model_name=EmbeddingModels.MIXEDBREAD.value)\n",
   "id": "b68deb9bf3c36e03",
   "outputs": [
    {
     "name": "stderr",
     "output_type": "stream",
     "text": [
      "2025-03-18 08:44:35,199 [INFO] Use pytorch device_name: mps\n",
      "2025-03-18 08:44:35,199 [INFO] Load pretrained SentenceTransformer: mixedbread-ai/deepset-mxbai-embed-de-large-v1\n"
     ]
    }
   ],
   "execution_count": 5
  },
  {
   "metadata": {
    "ExecuteTime": {
     "end_time": "2025-03-18T07:44:44.753110Z",
     "start_time": "2025-03-18T07:44:44.325663Z"
    }
   },
   "cell_type": "code",
   "source": [
    "token_based_client = get_qdrant_client(embeddings=embeddings,\n",
    "                                       collection_name=CollectionNames.MIXEDBREAD_TOKEN_BASED.value,\n",
    "                                       qdrant_url=QDRANT_URL)\n",
    "\n",
    "recursive_client = get_qdrant_client(embeddings=embeddings, collection_name=CollectionNames.MIXEDBREAD_RECURSIVE.value,\n",
    "                                     qdrant_url=QDRANT_URL)"
   ],
   "id": "81f64e65b4865e58",
   "outputs": [
    {
     "name": "stderr",
     "output_type": "stream",
     "text": [
      "2025-03-18 08:44:44,378 [INFO] HTTP Request: GET http://localhost:6333 \"HTTP/1.1 200 OK\"\n",
      "2025-03-18 08:44:44,386 [INFO] HTTP Request: GET http://localhost:6333/collections/mixedbread-ai_deepset-mxbai-embed-de-large-v1_token_based_chunks \"HTTP/1.1 200 OK\"\n",
      "2025-03-18 08:44:44,712 [INFO] HTTP Request: GET http://localhost:6333 \"HTTP/1.1 200 OK\"\n",
      "2025-03-18 08:44:44,718 [INFO] HTTP Request: GET http://localhost:6333/collections/mixedbread-ai_deepset-mxbai-embed-de-large-v1_recursive_chunks \"HTTP/1.1 200 OK\"\n"
     ]
    }
   ],
   "execution_count": 6
  },
  {
   "metadata": {
    "ExecuteTime": {
     "end_time": "2025-03-18T07:47:11.813716Z",
     "start_time": "2025-03-18T07:47:11.019982Z"
    }
   },
   "cell_type": "code",
   "source": "result = token_based_client.similarity_search(query=FRAGEN[1], k=10, filter=FILTERS[1])",
   "id": "26330e1e8307f461",
   "outputs": [
    {
     "name": "stderr",
     "output_type": "stream",
     "text": [
      "2025-03-18 08:47:11,811 [INFO] HTTP Request: POST http://localhost:6333/collections/mixedbread-ai_deepset-mxbai-embed-de-large-v1_token_based_chunks/points/query \"HTTP/1.1 200 OK\"\n"
     ]
    }
   ],
   "execution_count": 10
  },
  {
   "metadata": {
    "ExecuteTime": {
     "end_time": "2025-03-18T07:48:40.632993Z",
     "start_time": "2025-03-18T07:48:39.212289Z"
    }
   },
   "cell_type": "code",
   "source": [
    "for fragen_id, frage in FRAGEN.items():\n",
    "    print(f\"{fragen_id}: {frage}\")\n",
    "    result = token_based_client.similarity_search(query=frage, k=MAX_DOCUMENTS, filter=FILTERS[fragen_id])\n",
    "\n",
    "    for r in result:\n",
    "        print(r.metadata[\"id\"])"
   ],
   "id": "b35ae242c49f91ad",
   "outputs": [
    {
     "name": "stdout",
     "output_type": "stream",
     "text": [
      "1: Wann kann ich mich einschreiben?\n"
     ]
    },
    {
     "name": "stderr",
     "output_type": "stream",
     "text": [
      "2025-03-18 08:48:39,982 [INFO] HTTP Request: POST http://localhost:6333/collections/mixedbread-ai_deepset-mxbai-embed-de-large-v1_token_based_chunks/points/query \"HTTP/1.1 200 OK\"\n",
      "2025-03-18 08:48:40,097 [INFO] HTTP Request: POST http://localhost:6333/collections/mixedbread-ai_deepset-mxbai-embed-de-large-v1_token_based_chunks/points/query \"HTTP/1.1 200 OK\"\n"
     ]
    },
    {
     "name": "stdout",
     "output_type": "stream",
     "text": [
      "1021\n",
      "1025\n",
      "1047\n",
      "1020\n",
      "1033\n",
      "1028\n",
      "1041\n",
      "1026\n",
      "1027\n",
      "1022\n",
      "2: Welche Literatur ist relevant für das Modul Mathematik?\n",
      "1264\n",
      "1394\n",
      "1382\n",
      "1283\n",
      "1262\n",
      "1293\n",
      "1472\n",
      "1297\n",
      "1416\n",
      "1320\n",
      "3: Welche Fachgebiete sind an der FH vertreten?\n"
     ]
    },
    {
     "name": "stderr",
     "output_type": "stream",
     "text": [
      "2025-03-18 08:48:40,207 [INFO] HTTP Request: POST http://localhost:6333/collections/mixedbread-ai_deepset-mxbai-embed-de-large-v1_token_based_chunks/points/query \"HTTP/1.1 200 OK\"\n",
      "2025-03-18 08:48:40,249 [INFO] HTTP Request: POST http://localhost:6333/collections/mixedbread-ai_deepset-mxbai-embed-de-large-v1_token_based_chunks/points/query \"HTTP/1.1 200 OK\"\n",
      "2025-03-18 08:48:40,294 [INFO] HTTP Request: POST http://localhost:6333/collections/mixedbread-ai_deepset-mxbai-embed-de-large-v1_token_based_chunks/points/query \"HTTP/1.1 200 OK\"\n",
      "2025-03-18 08:48:40,345 [INFO] HTTP Request: POST http://localhost:6333/collections/mixedbread-ai_deepset-mxbai-embed-de-large-v1_token_based_chunks/points/query \"HTTP/1.1 200 OK\"\n",
      "2025-03-18 08:48:40,391 [INFO] HTTP Request: POST http://localhost:6333/collections/mixedbread-ai_deepset-mxbai-embed-de-large-v1_token_based_chunks/points/query \"HTTP/1.1 200 OK\"\n"
     ]
    },
    {
     "name": "stdout",
     "output_type": "stream",
     "text": [
      "1481\n",
      "1486\n",
      "1479\n",
      "1476\n",
      "1478\n",
      "1489\n",
      "1480\n",
      "1544\n",
      "1487\n",
      "1503\n",
      "4: Ist eine Beurlaubung während des Studiums möglich?\n",
      "1499\n",
      "1500\n",
      "1554\n",
      "1555\n",
      "1521\n",
      "1502\n",
      "1553\n",
      "1482\n",
      "1498\n",
      "1543\n",
      "5: Welche Studienmodelle werden angeboten?\n",
      "1482\n",
      "1486\n",
      "1483\n",
      "1480\n",
      "1484\n",
      "1479\n",
      "1485\n",
      "1543\n",
      "1494\n",
      "1505\n",
      "6: Wie viele Seiten muss ich in meiner Bachelorarbeit schreiben?\n",
      "193\n",
      "19\n",
      "122\n",
      "192\n",
      "15\n",
      "16\n",
      "18\n",
      "76\n",
      "191\n",
      "194\n",
      "7: Wie sind Portfolioprüfungen aufgebaut?\n",
      "1192\n",
      "1464\n",
      "1193\n",
      "1405\n",
      "1191\n",
      "1378\n",
      "1269\n",
      "1414\n",
      "1189\n",
      "1402\n",
      "8: Was muss ich beachten, wenn ich bei einer Prüfung krank bin?\n"
     ]
    },
    {
     "name": "stderr",
     "output_type": "stream",
     "text": [
      "2025-03-18 08:48:40,492 [INFO] HTTP Request: POST http://localhost:6333/collections/mixedbread-ai_deepset-mxbai-embed-de-large-v1_token_based_chunks/points/query \"HTTP/1.1 200 OK\"\n",
      "2025-03-18 08:48:40,586 [INFO] HTTP Request: POST http://localhost:6333/collections/mixedbread-ai_deepset-mxbai-embed-de-large-v1_token_based_chunks/points/query \"HTTP/1.1 200 OK\"\n",
      "2025-03-18 08:48:40,631 [INFO] HTTP Request: POST http://localhost:6333/collections/mixedbread-ai_deepset-mxbai-embed-de-large-v1_token_based_chunks/points/query \"HTTP/1.1 200 OK\"\n"
     ]
    },
    {
     "name": "stdout",
     "output_type": "stream",
     "text": [
      "1555\n",
      "1554\n",
      "1553\n",
      "1530\n",
      "1535\n",
      "1499\n",
      "1534\n",
      "1521\n",
      "1539\n",
      "1543\n",
      "9: Was sind die Inhalte im Modul IT-Sicherheit?\n",
      "704\n",
      "705\n",
      "675\n",
      "747\n",
      "563\n",
      "703\n",
      "690\n",
      "573\n",
      "558\n",
      "650\n",
      "10: Wie lange dauern die Klausuren?\n",
      "14\n",
      "15\n",
      "152\n",
      "145\n",
      "77\n",
      "106\n",
      "217\n",
      "82\n",
      "96\n",
      "133\n"
     ]
    }
   ],
   "execution_count": 12
  },
  {
   "metadata": {},
   "cell_type": "markdown",
   "source": "Zeigt, dass die Reihenfolge dieselbe ist, wie mit score.",
   "id": "5b9631f79dfb1dd8"
  }
 ],
 "metadata": {
  "kernelspec": {
   "display_name": "Python 3",
   "language": "python",
   "name": "python3"
  },
  "language_info": {
   "codemirror_mode": {
    "name": "ipython",
    "version": 2
   },
   "file_extension": ".py",
   "mimetype": "text/x-python",
   "name": "python",
   "nbconvert_exporter": "python",
   "pygments_lexer": "ipython2",
   "version": "2.7.6"
  }
 },
 "nbformat": 4,
 "nbformat_minor": 5
}
