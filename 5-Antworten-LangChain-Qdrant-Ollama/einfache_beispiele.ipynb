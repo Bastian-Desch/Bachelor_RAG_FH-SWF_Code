{
 "cells": [
  {
   "cell_type": "markdown",
   "id": "2a5d7234a3dd015e",
   "metadata": {},
   "source": [
    "# Hier wird geprüft, wie Antworten mit dem abgerufenen Kontext erzeugt werden können:\n",
    "\n",
    "Als Prompt nutze ich diesen selbsterstellten String:\n",
    "\n",
    "<|begin_of_text|>\n",
    "<|start_header_id|>system<|end_header_id|>\n",
    "Du bist der Assistent der Fachhochschule Südwestfalen (FH-SWF).\n",
    "Du beantwortest Fragen von Studieninteressierten und Studierenden.\n",
    "\n",
    "Nutze den bereitgestellten Kontext, um die Frage zu beantworten.\n",
    "Wenn du die Frage nicht aus dem Kontext beantworten kannst, antworte mit \"Das weiß ich leider nicht.\".\n",
    "Erfinde niemals etwas, was nicht aus dem Kontext hervorgeht.\n",
    "\n",
    "<|start_header_id|>user<|end_header_id|>\n",
    "Kontext: {context}\n",
    "Frage: {query}\n",
    "\n",
    "<|start_header_id|>assistant<|end_header_id|>\n",
    "\n",
    "\n",
    "Der Prompt berücksichtigt die Special Tokens, welche von Meta zu den llama3.1 Modellen veröffentlicht wurden. Dies steht hier: https://www.llama.com/docs/model-cards-and-prompt-formats/llama3_1/\n",
    "\n",
    "Hier wurden noch die umformulierten Fragen genutzt, da es lediglich um die ersten Versuche ging, wie Antworten generiert werden können.\n",
    "\n",
    "Das vollständige Notebook diente lediglich als Test, wie Antworten generiert werden, damit dies in der Evaluation mit den ursprünglichen Fragen durchgeführt werden konnte."
   ]
  },
  {
   "cell_type": "code",
   "execution_count": 1,
   "id": "d0a9957bf935ec7d",
   "metadata": {
    "ExecuteTime": {
     "end_time": "2025-03-10T10:19:19.287050Z",
     "start_time": "2025-03-10T10:19:19.284937Z"
    }
   },
   "outputs": [],
   "source": [
    "fh_prompt = \"\"\"\n",
    "<|begin_of_text|>\n",
    "<|start_header_id|>system<|end_header_id|>\n",
    "Du bist der Assistent der Fachhochschule Südwestfalen (FH-SWF).\n",
    "Du beantwortest Fragen von Studieninteressierten und Studierenden.\n",
    "\n",
    "Nutze den bereitgestellten Kontext, um die Frage konkret zu beantworten.\n",
    "Wenn du die Frage nicht aus dem Kontext beantworten kannst, antworte mit \"Das weiß ich leider nicht.\", sonst nichts.\n",
    "Erfinde niemals etwas, was nicht aus dem Kontext hervorgeht.\n",
    "\n",
    "<|start_header_id|>user<|end_header_id|>\n",
    "Kontext: {context}\n",
    "Frage: {query}\n",
    "\n",
    "<|start_header_id|>assistant<|end_header_id|>\n",
    "\"\"\""
   ]
  },
  {
   "cell_type": "code",
   "execution_count": 2,
   "id": "a00b994309999f4c",
   "metadata": {
    "ExecuteTime": {
     "end_time": "2025-03-10T10:19:22.317453Z",
     "start_time": "2025-03-10T10:19:21.139878Z"
    }
   },
   "outputs": [],
   "source": [
    "from langchain.chains.combine_documents import create_stuff_documents_chain\n",
    "from langchain_core.messages import HumanMessage, AIMessage\n",
    "from langchain_core.output_parsers import StrOutputParser\n",
    "from langchain_core.prompts import ChatPromptTemplate, MessagesPlaceholder\n",
    "from langchain_core.runnables import Runnable, RunnablePassthrough\n",
    "from langchain_core.vectorstores import VectorStoreRetriever\n",
    "from langchain_qdrant import QdrantVectorStore, RetrievalMode\n",
    "from langchain_huggingface import HuggingFaceEmbeddings\n",
    "from langchain_ollama import ChatOllama\n",
    "from qdrant_client.models import Filter, FieldCondition, MatchValue\n",
    "from langchain.chains.query_constructor.schema import AttributeInfo\n",
    "from langchain.retrievers.self_query.base import SelfQueryRetriever\n",
    "from langchain_core.documents import Document"
   ]
  },
  {
   "cell_type": "code",
   "execution_count": 3,
   "id": "b68d2df756e12e0f",
   "metadata": {
    "ExecuteTime": {
     "end_time": "2025-03-10T10:19:23.472025Z",
     "start_time": "2025-03-10T10:19:23.470253Z"
    }
   },
   "outputs": [],
   "source": [
    "encode_kwargs = {\"prompt\": \"query: \"}"
   ]
  },
  {
   "cell_type": "code",
   "execution_count": 4,
   "id": "f25b858fe62170b5",
   "metadata": {
    "ExecuteTime": {
     "end_time": "2025-03-10T10:19:34.138129Z",
     "start_time": "2025-03-10T10:19:25.633326Z"
    }
   },
   "outputs": [
    {
     "name": "stderr",
     "output_type": "stream",
     "text": [
      "/Users/bastian/Desktop/BachelorProjektAbgabe/.venv/lib/python3.12/site-packages/tqdm/auto.py:21: TqdmWarning: IProgress not found. Please update jupyter and ipywidgets. See https://ipywidgets.readthedocs.io/en/stable/user_install.html\n",
      "  from .autonotebook import tqdm as notebook_tqdm\n"
     ]
    }
   ],
   "source": [
    "embeddings = HuggingFaceEmbeddings(model_name=\"intfloat/multilingual-e5-large\", encode_kwargs=encode_kwargs)"
   ]
  },
  {
   "cell_type": "code",
   "execution_count": 5,
   "id": "3f1e0021835970e8",
   "metadata": {
    "ExecuteTime": {
     "end_time": "2025-03-10T10:19:36.565250Z",
     "start_time": "2025-03-10T10:19:36.035297Z"
    }
   },
   "outputs": [],
   "source": [
    "# Client für Qdrant erstellen\n",
    "token_collection = \"intfloat_multilingual-e5-large_token_based_chunks\"\n",
    "qdrant_url = \"http://localhost:6333\"\n",
    "token_client = QdrantVectorStore.from_existing_collection(\n",
    "    embedding=embeddings,\n",
    "    retrieval_mode=RetrievalMode.DENSE,\n",
    "    prefer_grpc=False,\n",
    "    collection_name=token_collection,\n",
    "    url=qdrant_url,\n",
    ")"
   ]
  },
  {
   "cell_type": "code",
   "execution_count": 6,
   "id": "f73a163a44ba15a3",
   "metadata": {
    "ExecuteTime": {
     "end_time": "2025-03-10T10:19:40.142770Z",
     "start_time": "2025-03-10T10:19:40.140919Z"
    }
   },
   "outputs": [],
   "source": [
    "# 10 Fragen:\n",
    "fragen = {\n",
    "    1: \"Wann kann ich mich für den Master in Elektrotechnik in Meschede einschreiben?\",\n",
    "    2: \"Welche Literatur ist relevant für das Modul Mathematik im Bachelorstudiengang Elektrotechnik in Soest?\",\n",
    "    3: \"Welche Fachgebiete sind an der FH vertreten?\",\n",
    "    4: \"Ist eine Beurlaubung während des Studiums möglich?\",\n",
    "    5: \"Welche Studienmodelle werden angeboten?\",\n",
    "    6: \"Wie viele Seiten muss ich in meiner Bachelorarbeit in Wirtschaftsinformatik in Hagen schreiben?\",\n",
    "    7: \"Wie sind Portfolioprüfungen im Bachelorstudiengang Elektrotechnik in Soest aufgebaut?\",\n",
    "    8: \"Was muss ich beachten, wenn ich bei einer Prüfung krank bin?\",\n",
    "    9: \"Was sind die Inhalte im Modul IT-Sicherheit im Bachelorstudiengang Elektrotechnik in Hagen?\",\n",
    "    10: \"Wie lange dauern die Klausuren im Bachelorstudiengang Wirtschaftsinformatik in Hagen?\"\n",
    "}"
   ]
  },
  {
   "cell_type": "code",
   "execution_count": 7,
   "id": "991c62e1bb998aab",
   "metadata": {
    "ExecuteTime": {
     "end_time": "2025-03-10T10:19:44.375243Z",
     "start_time": "2025-03-10T10:19:44.371735Z"
    }
   },
   "outputs": [],
   "source": [
    "# Filter für die Suche\n",
    "def create_field_condition(field, value):\n",
    "    return FieldCondition(\n",
    "        key=f\"metadata.{field}\",\n",
    "        match=MatchValue(value=value)\n",
    "    )\n",
    "\n",
    "filters = {\n",
    "    1: Filter(must=[\n",
    "        create_field_condition(\"studiengang\", \"Elektrotechnik\"),\n",
    "        create_field_condition(\"standort\", \"Meschede\"),\n",
    "        create_field_condition(\"abschluss\", \"Master\")\n",
    "    ]),\n",
    "    2: Filter(must=[\n",
    "        create_field_condition(\"standort\", \"Soest\"),\n",
    "        create_field_condition(\"studiengang\", \"Elektrotechnik\"),\n",
    "        create_field_condition(\"abschluss\", \"Bachelor\")\n",
    "    ]),\n",
    "    3: Filter(must=[\n",
    "        create_field_condition(\"studiengang\", \"Alle\"),\n",
    "        create_field_condition(\"standort\", \"Alle\"),\n",
    "        create_field_condition(\"abschluss\", \"Alle\")\n",
    "    ]),\n",
    "    4: Filter(must=[\n",
    "        create_field_condition(\"studiengang\", \"Alle\"),\n",
    "        create_field_condition(\"standort\", \"Alle\"),\n",
    "        create_field_condition(\"abschluss\", \"Alle\")\n",
    "    ]),\n",
    "    5: Filter(must=[\n",
    "        create_field_condition(\"studiengang\", \"Alle\"),\n",
    "        create_field_condition(\"standort\", \"Alle\"),\n",
    "        create_field_condition(\"abschluss\", \"Alle\")\n",
    "    ]),\n",
    "    6: Filter(must=[\n",
    "        create_field_condition(\"studiengang\", \"Wirtschaftsinformatik\"),\n",
    "        create_field_condition(\"standort\", \"Hagen\"),\n",
    "        create_field_condition(\"abschluss\", \"Bachelor\")\n",
    "    ]),\n",
    "    7: Filter(must=[\n",
    "        create_field_condition(\"studiengang\", \"Elektrotechnik\"),\n",
    "        create_field_condition(\"standort\", \"Soest\"),\n",
    "        create_field_condition(\"abschluss\", \"Bachelor\")\n",
    "    ]),\n",
    "    8: Filter(must=[\n",
    "        create_field_condition(\"studiengang\", \"Alle\"),\n",
    "        create_field_condition(\"standort\", \"Alle\"),\n",
    "        create_field_condition(\"abschluss\", \"Alle\")\n",
    "    ]),\n",
    "    9: Filter(must=[\n",
    "        create_field_condition(\"studiengang\", \"Elektrotechnik\"),\n",
    "        create_field_condition(\"standort\", \"Hagen\"),\n",
    "        create_field_condition(\"abschluss\", \"Bachelor\")\n",
    "    ]),\n",
    "    10: Filter(must=[\n",
    "        create_field_condition(\"studiengang\", \"Wirtschaftsinformatik\"),\n",
    "        create_field_condition(\"standort\", \"Hagen\"),\n",
    "        create_field_condition(\"abschluss\", \"Bachelor\")\n",
    "    ]),\n",
    "}"
   ]
  },
  {
   "cell_type": "code",
   "execution_count": 8,
   "id": "86b9875705a783a8",
   "metadata": {
    "ExecuteTime": {
     "end_time": "2025-03-10T10:19:50.416586Z",
     "start_time": "2025-03-10T10:19:50.414941Z"
    }
   },
   "outputs": [],
   "source": [
    "# infos hier: https://python.langchain.com/api_reference/qdrant/qdrant/langchain_qdrant.qdrant.QdrantVectorStore.html#langchain_qdrant.qdrant.QdrantVectorStore.as_retriever\n",
    "search_kwargs = {\"k\": 10, \"filter\": filters[1]} # so kann man dem retriever dann auch noch einen Filter mitgeben\n",
    "basic_token_based_retriever = token_client.as_retriever(search_kwargs=search_kwargs)"
   ]
  },
  {
   "cell_type": "code",
   "execution_count": 9,
   "id": "494eefb9ec1b881b",
   "metadata": {
    "ExecuteTime": {
     "end_time": "2025-03-10T10:19:54.003251Z",
     "start_time": "2025-03-10T10:19:53.837319Z"
    }
   },
   "outputs": [
    {
     "data": {
      "text/plain": [
       "[Document(metadata={'id': 1021, 'studiengang': 'Elektrotechnik', 'abschluss': 'Master', 'standort': 'Meschede', 'link': 'https://www.fh-swf.de/de/studienangebot/studiengaenge/elektrotechnik_m_eng_/index.php', 'hash': '23d5055fb6686b7f964ad1114b3e41d5d939a5dfe2428fa974f4bd6af87e72a5', '_id': '579aeac7-499f-4213-b1ea-0e9425bb6c64', '_collection_name': 'intfloat_multilingual-e5-large_token_based_chunks'}, page_content='Jahre abhängig von den Studienvoraussetzungen) ### Studienort Meschede ### Beiträge und Gebühren ### Hauptunterrichtssprache Deutsch (für internationale Bewerbende: Level DSH3 / TestDaf5 / C2) ## Vor Beginn des Elektrotechnik Master-Studiums – Voraussetzungen &amp; Bewerbungsverfahren ### Voraussetzungen ##### Für den viersemestrigen Masterstudiengang - Abschluss eines sechssemestrigen Studiums mit mind. 180 Credits in einem der unten aufgeführten Studiengänge mit einer Gesamtnote von mindestens 2,7 (oder mit einer Gesamtnote von mindestens 3,0 und einer Bachelorarbeit mit einer besseren Note als 2,3) ##### Für den dreisemestrigen Masterstudiengang - Abschluss eines siebensemestrigen Studiums mit einem Umfang von mind. 210 Credits in einem der unten auf geführten Studiengänge mit einer Gesamtnote von mindestens 2,7 (oder mit einer Gesamtnote von mindestens 3,0 und einer Bachelorarbeit mit einer besseren Note als 2,3) ##### Anerkannte Bachelor- oder Diplomstudiengänge - Elektrotechnik - Wirtschaftsingenieurwesen-Elektrotechnik - Maschinenbau - Mechatronik - Wirtschaftsinformatik - der ein anderes gleichwertiges Studium mit vergleichbaren Inhalten und einem Umfang von mindestens 180 bzw. 210 Credits Es müssen mindestens 30 Credits in den Bereichen der Elektrotechnik, der Informations- und Kommunikationstechnik, der Informatik, der Automatisierungstechnik oder der Mechatronik erworben worden sein. ### Bewerbung und Einschreibung Für Deutsche und Deutschen gleichgestellte Bewerber*innen - Wintersemester: i.d.R. Mitte Mai bis bis Ende August jeden Jahres - Sommersemester: i.d.R. Anfang Dezember bis Ende Februar jeden Jahres - Bewerbung über das Bewerbungsportal (Achtung: Bewerbungen sind nur innerhalb des jeweiligen Bewerbungszeitraums möglich!) - Hier finden Sie mehr Informationen zum Bewerbungsverfahren Für Bewerber*innen aus Nicht-EU-Ländern - Wintersemester: i.d.R. Anfang März bis 15. Juli jeden Jahres - Sommersemester: i.d.R. Anfang November bis zum 15. Januar jeden Jahres - Bewerbung je nach Voraussetzung über uni-assist oder unser Bewerbungsportal (Achtung: Bewerbungen sind nur innerhalb des jeweiligen Bewerbungszeitraums möglich!) - Hier finden Sie mehr Informationen zur Bewerbung mit internationalem Abschluss Hier finden Sie Fristen für weitere Bewerbungsgruppen'),\n",
       " Document(metadata={'id': 1020, 'studiengang': 'Elektrotechnik', 'abschluss': 'Master', 'standort': 'Meschede', 'link': 'https://www.fh-swf.de/de/studienangebot/studiengaenge/elektrotechnik_m_eng_/index.php', 'hash': '23d5055fb6686b7f964ad1114b3e41d5d939a5dfe2428fa974f4bd6af87e72a5', '_id': '42db7fb2-efcf-4100-b473-76c79702cf70', '_collection_name': 'intfloat_multilingual-e5-large_token_based_chunks'}, page_content='# Elektrotechnik M.Eng. ## Meschede 1. Studienangebot 2. Studiengänge 3. Meschede 4. Elektrotechnik M.Eng. ## Master-Studiengang Elektrotechnik ### Industrie 4.0, Smart Grids, autonomes Fahren oder Telemedizin: Bei der Gestaltung moderner vernetzter Produktions- und Dienstleistungsprozesse ist ein Zusammenspiel von IT-Systemen, Kommunikationstechnik sowie der Automatisierungssysteme und Mechatronik äußerst relevant. Der anwendungsorientierte Master Elektrotechnik bietet die Möglichkeit, sich in einem dieser drei Bereiche zu vertiefen, auch berufsbegleitend. Auf einen Blick Was? Anwendungsbezogener Studiengang mit Vertiefungmöglichkeiten Für wen? Absolvent*innen der Bachelorstudiengänge Elektrotechnik, Wirtschaftsingenieurwesen-Elektrotechnik, Maschinenbau, Mechatronik, Wirtschaftsinformatik Warum? Weil das Zusammenspiel der Disziplinen aus den Bereichen der IT-Systeme, der Kommunikationstechnik sowie der Automatisierungssysteme und Mechatronik relevant ist Du hast diesen Studiengang bereits gespeichert! Der Studiengang wurde erfolgreich gemerkt! Vergleichen Sie Studiengänge, vereinbaren Sie einen Beratungstermin oder abonnieren Sie unseren Newsletter. Bewerbungsfristen &amp; Studienstart-Termine - Interessiert? Hier finden Sie die Bewerbungsfristen. - Neugierig? Besuchen Sie unsere Infoveranstaltungen - Für einen gelungenen Start ins Studium sorgen die Erstsemesterbegrüßung und Vorbereitungskurse ## Auf dieser Seite - Der Studiengang MA ET im Überblick - Studienvoraussetzungen - Infos zum Bewerbungsverfahren - Für wen ist dieser Studiengang? - Berufliche Perspektiven - Studi-Stimmen - Studienaufbau / Verlaufsplan - Infoveranstaltungen / Veranstaltungen zum Studienstart - Weitere Infos / Prüfungsordnungen, Modulhandbücher - Kontakt ### Zulassung ### Studienabschluss Master of Engineering (M.Eng.) 90 - 120 ECTS ### Studienmodell - Vollzeitstudium - Berufsverträglich ### Studienbeginn / -dauer - Beginn: Zum Sommer- und Wintersemester - Dauer: 3 - 4 Semester (1,5 oder 2 Jahre abhängig von den Studienvoraussetzungen) ### Studienort Meschede ### Beiträge und Gebühren ### Hauptunterrichtssprache Deutsch (für internationale Bewerbende: Level DSH3 / TestDaf5 / C'),\n",
       " Document(metadata={'id': 1024, 'studiengang': 'Elektrotechnik', 'abschluss': 'Master', 'standort': 'Meschede', 'link': 'https://www.fh-swf.de/de/studienangebot/studiengaenge/elektrotechnik_m_eng_/index.php', 'hash': '23d5055fb6686b7f964ad1114b3e41d5d939a5dfe2428fa974f4bd6af87e72a5', '_id': '96608704-476b-454e-b594-995831abc68b', '_collection_name': 'intfloat_multilingual-e5-large_token_based_chunks'}, page_content='Videokonferenzsystem zur Übertragung der Lehrveranstaltungen eingesetzt, die großteils am späten Nachmittag bzw. frühen Abend angeboten werden. ## Studienverlaufsplan Elektrotechnik M.Eng. | | | | | |-------------|-------------------------------------------|-----------------------------------------------------------|----------------------------| | 1. Semester | Seminar Modellierung und Simulation 1 + 2 | 1 oder 2 Kernmodule | 2 oder 3 Wahlpflichtmodule | | 2. Semester | Seminar Modellierung und Simulation 1 + 2 | 1 oder 2 Kernmodule | 2 oder 3 Wahlpflichtmodule | | 3. Semester | Praxisprojekt mit begleitendem Seminar | Hauptseminar Elektrotechnik (nur viersemestrige Variante) | | | 4. Semester | Masterarbeit | Kolloquium | | ### Legende zum Studienverlaufsplan #### Kernmodule (3 von 4) Aktorik und Mechatronik, IT-Systeme und IT-Projektmanagement, Leitungsgebundene Systeme für die Breitbandkommunikation, Vernetzte Automatisierung #### Wahlpflichtmodule z.B. Audiovisuelle Kommunikationssysteme, Digitale Bildverarbeitung, Funksysteme für die Breitband- und M2M-Kommunikation, Hochfrequenz-Schaltungen und Messsysteme, Digitale Produktion, Industriekommunikation, Sensorsysteme, Softwareentwicklung für Echtzeitsysteme, Spezialgebiete der IT, Systemtechnik elektronischer Medien, Rechtliche und Betriebswirtschaftliche Aspekte der IT und TK ## Infoveranstaltungen / Veranstaltungen zum Studienstart Für einen komfortablen und erfolgreichen Start ins Studium erwarten Sie verschiedene Orientierungsveranstaltungen und Unterstützungsangebote. ## Master-Studiengang Elektrotechnik: Weitere Informationen ### Prüfungsordnung, Modulhandbücher und Verlaufspläne für den Studiengang Elektrotechnik M.Eng. am Standort Meschede Zu den PDFs Prüfungsorganisation Hier finden Sie die Prüfungspläne für den Fachbereich IW in Meschede. Termine für Studieninteressierte Standort Meschede Fachgebiet FAQs ## Fragen zum Studiengang oder zur Studienwahl? Das Team der Allgemeinen Studienberatung hilft Ihnen gerne weiter. - Per Mail studienberatung@fh-swf.de - Per Telefon 02371 566 538 - Nach Absprache per Video'),\n",
       " Document(metadata={'id': 1023, 'studiengang': 'Elektrotechnik', 'abschluss': 'Master', 'standort': 'Meschede', 'link': 'https://www.fh-swf.de/de/studienangebot/studiengaenge/elektrotechnik_m_eng_/index.php', 'hash': '23d5055fb6686b7f964ad1114b3e41d5d939a5dfe2428fa974f4bd6af87e72a5', '_id': '8888026a-9f1a-4c01-afbb-3bd76182cbaa', '_collection_name': 'intfloat_multilingual-e5-large_token_based_chunks'}, page_content='ich hier berufsbegleitend,was wunderbar funktioniert.\" Sebastian Henke „Weil ich hier die Ruhe bekommen habe, ein erfolgreiches Studium zu absolvieren. Ich habe vorher zwei Semester an der Uni Duisburg studiert, das war mir zu groß. Die kleine Hochschule in Meschede und die Nähe zu den Lehrenden verschafft mir einen großen Vorteil.\" Stefan Lach ## Wie ist das Master-Studium Elektrotechnik aufgebaut? Der Master-Studiengang Elektrotechnik wird in einer viersemestrigen und einer dreisemestrigen Variante angeboten. ### Inhalte des Studiums In den ersten zwei Semestern sind neben den zwei Pflichtmodulen zur Simulation und Modellierung und drei Kernmodulen vier Wahlpflichtmodule zu absolvieren. - IT-Systeme, - Kommunikationstechnik - Automatisierungssysteme und Mechatronik Die Wahlpflichtmodule sind gemäß der drei Schwerpunkte kategorisiert. Über die Wahlpflichtmodule erwerben die Studierenden vertiefte Fach- und Methodenkompetenzen und werden an den aktuellen Stand der Forschung in dem Schwerpunkt ihrer Wahl herangeführt. Zur Schwerpunktbildung trägt ebenfalls die Projektarbeit bei. Ferner erweitern sie ihre Soft Skills, beispielweise in Bezug auf rechtliche, betriebs- oder volkswirtschaftliche Fragestellungen. Durch Laborpraktika, Projektarbeiten und Kleinprojekte wird zudem die Teamarbeit gefördert. Das dritte Semester umfasst ein Hauptseminar sowie ein von der Hochschule begleitetes Praxisprojekt. Für Studierende, die die Voraussetzungen für den dreisemestrigen Masterstudiengang erfüllen, entfällt dieses Semester. Den Abschluss des Studiums bildet im vierten Semester eine praxisbezogene Masterarbeit und eine mündliche Prüfung, das Kolloquium. #### Berufsvertraglich Berufsverträgliches Studium Nicht nur in Präsenz / Vollzeit, sondern auch in Teilzeit: Die Hochschule unterstützt ein berufsverträgliches Studium. Die ersten beiden Semester mit Vorlesungen, Übungen, Laboren und Seminaren können in einer berufsverträglichen Variante auf vier Semester gestreckt werden. Um Studierenden außerhalb der unmittelbaren Region eine Teilnahme zu ermöglichen, wird ein professionelles Videokonferenzsystem zur Übertragung der Lehrveranstaltungen eingesetzt, die großteils am späten Nachmittag bzw. frühen Abend angeboten werden. ## Studienverlaufsplan Elektrotechnik M.Eng. | | | | |'),\n",
       " Document(metadata={'id': 1026, 'studiengang': 'Elektrotechnik', 'abschluss': 'Master', 'standort': 'Meschede', 'link': 'https://www.fh-swf.de/de/studienangebot/studiengaenge/elektrotechnik_m_eng_/pruefungsordnungen_78/index.php', 'hash': '4ff5af95596741f603f9e49c668fa1eb5d4f964f4cf9f67ac84427745b8e3806', '_id': '80562ee8-e086-4918-bbdf-f34b1a78f347', '_collection_name': 'intfloat_multilingual-e5-large_token_based_chunks'}, page_content='# Elektrotechnik M.Eng. ## Meschede 1. Studienangebot 2. Studiengänge 3. Meschede 4. Elektrotechnik M.Eng. 5. Prüfungsordnungen # Prüfungsordnungen ## Fachprüfungsordnung 2017 Fachprüfungsordnung Fachprüfungsordnung vom 30. Juni 2017 PDF FPO 2017: Ordnung zur Änderung der FPO (v. 27.08.2020) PDF ## ## ModulhandbuchModulhandbuch FPO 2017: Modulhandbuch PDF ## ## Verlaufspläne*Verlaufspläne FPO 2017: Studienverlaufsplan der dreisemestrigen Variante PDF FPO 2017: Studienverlaufsplan der viersemestrigen Variante PDF Auf dieser Seite - Prüfungsordnungen - Modulhandbücher - Verlaufspläne \\\\_\\\\_\\\\_\\\\_\\\\_\\\\_\\\\_\\\\_\\\\_\\\\_\\\\_\\\\_\\\\_\\\\_ *) Rechtlich verbindlich sind ausschließlich die Angaben der jeweils gültigen Prüfungsordnung. Bitte beachten Sie, dass eine Fachprüfungsordnung (FPO) zusammen mit der Rahmenprüfungsordnung (RPO) der Fachhochschule Südwestfalen in der jeweils aktuell gültigen Fassung gilt. - - - - - - ### Initiativen und Mitgliedschaften - Impressum - Datenschutz - Disclaimer - Barrierefreiheit - Sitemap - Kontakt - Cookie Einstellungen - 3810550'),\n",
       " Document(metadata={'id': 1055, 'studiengang': 'Elektrotechnik', 'abschluss': 'Master', 'standort': 'Meschede', 'link': 'https://www.fh-swf.de/media/neu_np/hv_2/dateien_sg_2_4/verlaufsplaene_modulhandbuecher_1/meschede_6/Modulhandbuch_ET_MA_2024_12.pdf', 'hash': '8a2df029d7feb6fbf55592a91fe3b52a34de06d833d27e2c176d92b9fcfdea88', '_id': '3380fa27-6c75-474a-b73b-7b9f844f5cf5', '_collection_name': 'intfloat_multilingual-e5-large_token_based_chunks'}, page_content='1 | | | | 4 6 | 1 | | | | | | | | | 11 | Hauptseminar Elektrotechnik | 2 | 6 | 1 | | | | | | 2 | 6 | 1 | | | | | | 12 | Praxisprojekt mit begleitendem Seminar 0 | | 24 | 0 | | | | | | 0 | 24 | 0 | | | | | | 13 | Masterarbeit | 0 | 25 | 1 | | | | | | | | 0 | 1 | 25 | | | | 14 | Kolloquium 0 Summe | 39 | 5 120 | 1 13 | 20 | 30 | 5 | 17 30 | 5 | 2 | 30 | 0 1 0 | 5 30 | 2 | 1 | | SWS = Semesterwochenstunden, C = Credits (ECTS-Punkte), P = Modulprüfungen, VL = Vorleistungen (*): Reihenfolge hängt vom Studienbeginn ab (WiSe oder SoSe) Modellierung und Simulation 1 (im WiSe) Modellierung und Simulation 2 (im SoSe), kann vor 1 gehört werden ## Kernmodule (3 aus 4) IT-Systeme und IT-Projektmanagement (im WiSe) Leitungsgebundene Systeme für die Breitbandkommunikation (im WiSe) Vernetzte Automatisierung (im SoSe) Aktorik und Mechatronik (im SoSe) 4 Fachhochschule Südwestfalen, Standort Meschede Fachbereich Ingenieur- und Wirtschaftswissenschaften ## Master-Studiengang Elektrotechnik mit dem Abschluss Master of Engineerung (M. Eng.) - 4-semstrige Variante Studienplan für Studienbeginn ab WS 17/18 | | Elemente des Studiums | Merkmale | Merkmale | Merkmale | 1. Sem.GLYPH&lt;10&gt; | 1. Sem.GLYPH&lt;10&gt; | 1. Sem.GLYPH&lt;10&gt; | 2.'),\n",
       " Document(metadata={'id': 1022, 'studiengang': 'Elektrotechnik', 'abschluss': 'Master', 'standort': 'Meschede', 'link': 'https://www.fh-swf.de/de/studienangebot/studiengaenge/elektrotechnik_m_eng_/index.php', 'hash': '23d5055fb6686b7f964ad1114b3e41d5d939a5dfe2428fa974f4bd6af87e72a5', '_id': '39f5ad7c-ed0a-4d03-b995-5b108bed0e5c', '_collection_name': 'intfloat_multilingual-e5-large_token_based_chunks'}, page_content='nach Voraussetzung über uni-assist oder unser Bewerbungsportal (Achtung: Bewerbungen sind nur innerhalb des jeweiligen Bewerbungszeitraums möglich!) - Hier finden Sie mehr Informationen zur Bewerbung mit internationalem Abschluss Hier finden Sie Fristen für weitere Bewerbungsgruppen. ## An wen richtet sich der Master-Studiengang Elektrotechnik? Das Master-Studium Elektrotechnik richtet sich an Absolvent*innen der folgenden Bachelor-Studiengänge, die sich für spannende Berufsfelder weiterqualifizieren möchten: - Elektrotechnik - Wirtschaftsingenieurwesen-Elektrotechnik - Maschinenbau - Mechatronik - Wirtschaftsinformatik. Gleich ob Industrie 4.0, Smart Grids, autonomes Fahren oder Telemedizin: Im Zuge der Gestaltung moderner vernetzter Produktions- und Dienstleistungsprozesse ist ein Zusammenspiel der Disziplinen aus den Bereichen der IT-Systeme, der Kommunikationstechnik sowie der Automatisierungssysteme und Mechatronik äußerst relevant. Wer sich dafür interessiert, sollte den Master-Studiengang Elektrotechnik in Meschede studieren. ### Ankerpunkt ### Welche Berufsaussichten bietet das Master-Studium der Elektrotechnik? - Ingenieurbüros (Planung, Betrieb von Netzen, IT-Infrastruktur oder Automatisierungssystemen) - IT-Abteilungen großer und mittelständischer Unternehmen - Telekommunikations-Anbieter und große Netzbetreiber - Systemanbieter für die Automatisierungstechnik und Mechatronik - TK-/IT-Anwendungsentwicklung, Anwendungsentwicklung für Automatisierungssysteme - Konzeption und Projektierung mechatronischer Systeme oder Produktionsanlagen - Öffentliche Verwaltung (z.B. Wirtschaftsförderung, kommunale Rechenzentren, Bundesnetzagentur) - Selbstständigkeit (z.B. Beratung, Planung) Der Masterabschluss eröffnet darüber hinaus den Zugang zum höheren Dienst und zur Promotion. „Ich habe mein Bachelorstudium dual bei der Firma Hella in Lippstadt absolviert und arbeite jetzt dort im Bereich Fahrzeugelektronik. Mein Masterstudium bringt mich in meinem speziellen Schwerpunkt weiter, einer Kombination aus Simulation, Softwareentwicklung und Hochfrequenztechnik. Zudem studiere ich hier berufsbegleitend,was wunderbar funktioniert.\" Sebastian Henke „Weil ich hier die Ruhe bekommen habe, ein erfolgreiches Studium zu absolvieren. Ich habe vorher zwei Semester an der Uni Duisburg studiert, das war mir'),\n",
       " Document(metadata={'id': 1028, 'studiengang': 'Elektrotechnik', 'abschluss': 'Master', 'standort': 'Meschede', 'link': 'https://www.fh-swf.de/media/neu_np/hv_2/downloads_der_studiengangsseiten/fb_iw_1/elektrotechnik_m_eng_/FPO_MA_ETM_2017.pdf', 'hash': '85c7b811820a4a3797a21175c07ac8753a8f77facee7c5b5b69af00c3349f9f1', '_id': '8a99329f-02a1-4ad7-a1c9-c14da1893a3f', '_collection_name': 'intfloat_multilingual-e5-large_token_based_chunks'}, page_content=\"fähige Bachelor-Module - Anlage 5: Nicht-technische Wahlpflichtmodule: Mastermodule - Anlage 6: Nicht-technische Wahlpflichtmodule: masterfähige Bachelormodule ## Teil 1 Allgemeines ## § 1 ## Geltungsbereich Diese Fachprüfungsordnung (FPO) für den Masterstudiengang Elektrotechnik im Fachbereich Ingenieur- und Wirtschaftswissenschaften in Meschede gilt zusammen mit der jeweils aktuell gültigen Fassung der Rahmenprüfungsordnung (RPO) der Fachhochschule Südwestfalen. ## § 2 Hochschulgrad Auf Grund der bestandenen Masterprüfung gemäß § 2 RPO verleiht die Fachhochschule Südwestfalen in dem Masterstudiengang Elektrotechnik den akademischen Grad 'Master of Engineering', Kurzform 'M.Eng.'. ## § 3 Spezielle Zugangsvoraussetzungen - (1) Neben den allgemeinen Zugangsvoraussetzungen gemäß § 3 RPO gelten folgende Regelungen: - a) Das Studium mit der viersemestrigen Regelstudienzeit kann begonnen werden, wenn einer der Bacheloroder Diplom-Studiengänge der Elektrotechnik, des Wirtschaftsingenieurwesens-Elektrotechnik, des Maschinenbaus, der Mechatronik oder der Wirtschaftsinformatik mit einer Gesamtnote von mindestens 2,7 oder mit einer Gesamtnote von mindestens 3,0 und einer Bachelorarbeit mit einer besseren Note als 2,3 abgeschlossen wurde und dabei mindestens 30 Credits in den Bereichen der Elektrotechnik, der Informations- und Kommunikationstechnik, der Informatik, der Automatisierungstechnik oder der Mechatronik erworben wurden. Das Studium kann auch begonnen werden, wenn ein anderes gleichwertiges Studium mit vergleichbaren Inhalten und einem Umfang von mindestens 180 Credits mit einer Gesamtnote von mindestens 2,7 oder mit einer Gesamtnote von mindestens 3,0 und einer Bachelorarbeit mit einer besseren Note als 2,3 abgeschlossen wurde. Über die Gleichwertigkeit des Studiums entscheidet der Prüfungsausschuss. - b) Das Studium mit der dreisemestrigen Regelstudienzeit kann begonnen werden, wenn die Bedingungen gemäß Buchstabe a) vorliegen mit der Maßgabe, dass ein Bachelorstudiengang mit einem Umfang von 210 ECTS-Punkten oder ein Diplomstudiengang absolviert wurde. - (2) Studienbewerberinnen und Studienbewerber, die den gemäß Absatz 1 geforderten Studienabschluss nicht in einem deutschsprachigen Studiengang erworben haben\"),\n",
       " Document(metadata={'id': 1038, 'studiengang': 'Elektrotechnik', 'abschluss': 'Master', 'standort': 'Meschede', 'link': 'https://www.fh-swf.de/media/neu_np/hv_2/downloads_der_studiengangsseiten/fb_iw_1/elektrotechnik_m_eng_/FPO_MA_ETM_2017.pdf', 'hash': '85c7b811820a4a3797a21175c07ac8753a8f77facee7c5b5b69af00c3349f9f1', '_id': 'c9639aae-cdcd-4cf1-a1cf-a20b7ccb6ee9', '_collection_name': 'intfloat_multilingual-e5-large_token_based_chunks'}, page_content='Elektrotechnischen Seminars. - (10) Durch das Bestehen des Hauptseminars Elektrotechnik werden sechs Credits erworben. ## Teil 3 Das Studium ## § 21 ## Masterarbeit - (1) Der Umfang der Masterarbeit gemäß § 28 Absatz 1 RPO beträgt in der Regel etwa 50 Seiten à etwa 50 Zeilen. Die Bearbeitungszeit (Zeitraum von der Ausgabe bis zur Abgabe der Masterarbeit) beträgt höchstens 20 Wochen, bei einem empirischen oder experimentellen Thema höchstens 23 Wochen. Das Thema und die Aufgabenstellung müssen so beschaffen sein, dass die Masterarbeit innerhalb der vorgegebenen Frist abgeschlossen werden kann. Auf einen vor Ablauf der Frist gestellten begründeten Antrag der Kandidatin oder des Kandidaten kann der Prüfungsausschuss ausnahmsweise eine Nachfrist der Bearbeitungszeit von bis zu vier Wochen gewähren. Die Betreuerin oder der Betreuer soll zu dem Antrag gehört werden. - (2) In Ergänzung zu § 28 Absatz 2 RPO gilt für die Betreuung der Masterarbeit, dass diese durch folgende Gruppen erfolgen kann: - a) Professorinnen und Professoren des Standorts Meschede, - b) Honorarprofessorinnen und Honorarprofessoren, Lehrkräfte für besondere Aufgaben sowie Lehrbeauftragte des Standorts Meschede, wenn feststeht, dass ein geeignetes Thema für eine Masterarbeit vorliegt. Dies bedarf der Zustimmung des Prüfungsausschusses, - c) andere Professorinnen und Professoren sowie Mitarbeiterinnen und Mitarbeiter von Forschungseinrichtungen außerhalb des Hochschulbereichs, wenn feststeht, dass ein geeignetes Thema für eine Masterarbeit vorliegt. Dies bedarf der Zustimmung des Prüfungsausschusses. ## § 22 Zulassung zur Masterarbeit Ergänzend zu § 29 Absatz 1 RPO kann zur Masterarbeit nur zugelassen werden, wer in den Modulprüfungen in den Pflicht- und Wahlpflichtmodulen des Studiums gemäß Anlage 1, 2, 3, 4, 5 und 6 mindestens 48 Credits erworben hat, wobei mindestens 36 Credits aus den Anlagen 1 und 2 stammen müssen, und in dem viersemestrigen Master-Studiengang die Praxisphase erfolgreich absolviert hat. ## § 23 ## Durchführung und Bewertung der Masterarbeit - (1) Die Rückgabe des Themas der Masterarbeit gemäß § 30 Absatz 2 RPO kann nur einmal und nur innerhalb der ersten vier Wochen des Bearbeitungszeitraums ohne Angaben von Gründen erfolgen. - (2 ) Abweichend von'),\n",
       " Document(metadata={'id': 1047, 'studiengang': 'Elektrotechnik', 'abschluss': 'Master', 'standort': 'Meschede', 'link': 'https://www.fh-swf.de/media/neu_np/hv_2/downloads_der_studiengangsseiten/fb_iw_1/elektrotechnik_m_eng_/1_AeO_FPO_MA_ETM_17.pdf', 'hash': 'e6a479b76de5bcb804bdd9e315915890f12fa46ce5ae3438e65abead2653aba6', '_id': '55032299-2fb0-4af4-8291-ff7129a830ef', '_collection_name': 'intfloat_multilingual-e5-large_token_based_chunks'}, page_content=\"## Ordnung ## zur Änderung der Fachprüfungsordnung für den Masterstudiengang Elektrotechnik an der Fachhochschule Südwestfalen, Standort Meschede vom 27. August 2020 Auf Grund des § 2 Absatz 4 und des § 64 Absatz 1 des Gesetzes über die Hochschulen des Landes Nordrhein-Westfalen (Hochschulgesetz - HG) vom 16. September 2014 (GV. NRW. S. 547), zuletzt geändert durch Gesetz vom 14. April 2020 (GV. NRW. S. 218b), und des § 1 Absatz 1 der Rahmenprüfungsordnung für Bachelor- und Masterstudiengänge an der Fachhochschule Südwestfalen, hat der Fachbereichsrat des Fachbereichs Ingenieur- und Wirtschaftswissenschaften der Fachhochschule Südwestfalen die folgende Ordnung erlassen: ## Artikel I Die Fachprüfungsordnung für den Masterstudiengang Elektrotechnik an der Fachhochschule Südwestfalen, Standort Meschede vom 30. Juni 2017 (Amtliche Bekanntmachung der Fachhochschule Südwestfalen - Verkündungsblatt der Fachhochschule Südwestfalen - vom 14.07.2017) wird wie folgt geändert: - 1. § 19 Absatz 2 erhält folgende Fassung: - '(2) Zur Praxisphase wird auf Antrag zugelassen, wer in den Modulprüfungen der Anlagen 1 und 2 18 Credits erworben hat. Im Antrag müssen Zeitraum, Unternehmen bzw. Institution, die zu bearbeitende Thematik und die betreuende Professorin oder der betreuende Professor des Fachbereichs Ingenieurund Wirtschaftswissenschaften der Fachhochschule Südwestfalen genannt werden. Über die Zulassung zum Praxisphase entscheidet der Prüfungsausschuss. Mit der Antragstellung erklärt die oder der Studierende verbindlich, dass sie oder er die Praxisphase absolvieren möchte.' - 2. § 20 Absatz 3 erhält folgende Fassung: - '(3) Zum Hauptseminar Elektrotechnik wird auf Antrag zugelassen, wer: - a) an der Fachhochschule Südwestfalen eingeschrieben oder als Zweithörerin oder als Zweithörer gemäß § 52 Absatz 2 HG zugelassen ist, - b) in den Modulprüfungen der Anlagen 1 und 2 18 Credits erworben hat.' - 3. § 22 erhält folgende Fassung: 'Ergänzend zu § 29 Absatz 1 RPO kann zur Masterarbeit nur zugelassen werden, wer in den Modulprüfungen in den Pflicht-\")]"
      ]
     },
     "execution_count": 9,
     "metadata": {},
     "output_type": "execute_result"
    }
   ],
   "source": [
    "basic_token_based_retriever.invoke(fragen[1])"
   ]
  },
  {
   "cell_type": "code",
   "execution_count": 10,
   "id": "e16f5f8563d4b0a2",
   "metadata": {
    "ExecuteTime": {
     "end_time": "2025-03-10T10:19:56.332667Z",
     "start_time": "2025-03-10T10:19:55.878450Z"
    }
   },
   "outputs": [
    {
     "data": {
      "text/plain": [
       "[Document(metadata={'id': 1043, 'studiengang': 'Elektrotechnik', 'abschluss': 'Master', 'standort': 'Meschede', 'link': 'https://www.fh-swf.de/media/neu_np/hv_2/downloads_der_studiengangsseiten/fb_iw_1/elektrotechnik_m_eng_/FPO_MA_ETM_2017.pdf', 'hash': '85c7b811820a4a3797a21175c07ac8753a8f77facee7c5b5b69af00c3349f9f1', '_id': '1f005ede-71ae-455c-ba98-66675baa78ae', '_collection_name': 'intfloat_multilingual-e5-large_token_based_chunks'}, page_content='| WS 17/18 | | Digitale Produktion | 6 | - | 1 | 1 | 1 | WS 17/18 | | Industriekommunikation | 6 | - | | 1 | 1 | WS 17/18 | | Sensorsysteme | 6 | - | 1 | | 1 | WS 17/18 | | Softwareentwicklung für Echtzeitsysteme | 6 | - | 1 | 1 | 1 | SS 18 | | Spezialgebiete der Aktorik und Mechatronik | 6 | - | | | 1 | WS 17/18 | | Spezialgebiete der Kommunikationstechnik | 6 | - | | 1 | | WS 17/18 | | Spezialgebiete der Business Intelligence | 6 | - | 1 | | | WS 17/18 | | Spezialgebiete der IT | 6 | - | 1 | | | WS 17/18 | | Systemtechnik elektronischer Medien | 6 | - | | 1 | | WS 17/18 | Anlage 4: Wahlpflichtmodule des Bereichs masterfähige Bachelor-Module ## I: Schwerpunkt IT-Systeme ## K: Schwerpunkt Kommunikationstechnik ## A: Schwerpunkt Automatisierungssysteme und Mechatronik | Modul | Credits | Prüfungs- vorleistung | I | K A | Erstmaliges Angebot | |---------------------------------------------|-----------|--------------------------|-----|--------|------------------------| | Analoge Schaltungstechnik | 6 | SL: Labor | | 1 1 | WS 17/18 | | Antennendesign und EM-Simulation | 6 | SL: Labor | | 1 | WS 17/18 | | Anwendungsprogrammierung | 6 | SL: Labor | 1 | 1 | WS 17/18 | | Automatisierung in der Fertigung 1 | 6 | - | | 1 | WS 17/18 | | Automatisierung in der Fertigung 2 | 6 |'),\n",
       " Document(metadata={'id': 1059, 'studiengang': 'Elektrotechnik', 'abschluss': 'Master', 'standort': 'Meschede', 'link': 'https://www.fh-swf.de/media/neu_np/hv_2/dateien_sg_2_4/verlaufsplaene_modulhandbuecher_1/meschede_6/Modulhandbuch_ET_MA_2024_12.pdf', 'hash': '8a2df029d7feb6fbf55592a91fe3b52a34de06d833d27e2c176d92b9fcfdea88', '_id': '0d5634a8-fbd4-4959-88ec-cec685b1bd46', '_collection_name': 'intfloat_multilingual-e5-large_token_based_chunks'}, page_content='36 | | Automatisierung in der Fertigung 2 | 38 | | Automatisierungstechnik 2 | 39 | | Datenbanksysteme 2 | 41 | | Datenkompression | 42 | | Digitale Bildverarbeitung | 43 | | Digitale Kommunikationstechnik | 45 | | Digitale Produktion | 47 | | | 49 | | E Learning - | | | Forensische Datenanalyse Funknetzplanung | 51 | | Funksysteme | 53 | | | 55 | | Funksysteme für die Breitband - und M2M Kommunikation - | 57 | | Hochfrequenz Schaltungen und Messsysteme - | 59 | | Hochfrequenztechnik | 61 | | Industriekommunikation | 63 | | Kommunikationsnetze 1 | 65 | | Kommunikationsnetze 2 | 67 | | Objektorientierte Programmierung | 71 | | Optimierungsalgorithmen | 72 | 6 | Radartechnik | 74 | |--------------------------------------------------------------|------| | Robotik | 76 | | Sensorsysteme | 78 | | Softwareentwicklung für Echtzeitsysteme | 80 | | Spezialgebiete der Aktorik und Mechatronik | 81 | | Spezialgebiete der Business Intelligence | 82 | | Spezialgebiete der IT | 84 | | Spezialgebiete der Kommunikationstechnik | 85 | | Systemtechnik elektronischer Medien | 86 | | Technik Umwelt Ökonomie - - | 88 | | Wahlpflichtmodule nichttechnisch | | | Beschaffungsmanagement | 91 | | Betriebswirtschaftliche und rechtliche Aspekte der IT und TK | 93 | | Betriebswirtschaftliches Grundseminar A | 95 | | Compliance und Forensik | 96 | | E Commerce - | 98 | | Führung internationaler Projekte | 99 | | Gewerbliche Schutzrechte | 100 | | Grundseminar Entrepreneurship | 102 | | Interkulturelles Management | 103'),\n",
       " Document(metadata={'id': 1025, 'studiengang': 'Elektrotechnik', 'abschluss': 'Master', 'standort': 'Meschede', 'link': 'https://www.fh-swf.de/de/studienangebot/studiengaenge/elektrotechnik_m_eng_/index.php', 'hash': '23d5055fb6686b7f964ad1114b3e41d5d939a5dfe2428fa974f4bd6af87e72a5', '_id': 'ac8815ac-3302-49b0-9e45-f2812ce675ac', '_collection_name': 'intfloat_multilingual-e5-large_token_based_chunks'}, page_content='Fragen zum Studiengang oder zur Studienwahl? Das Team der Allgemeinen Studienberatung hilft Ihnen gerne weiter. - Per Mail studienberatung@fh-swf.de - Per Telefon 02371 566 538 - Nach Absprache per Videokonferenz (Zoom) - Und natürlich persönlich: Zum Beratungsangebot der Allgemeinen Studienberatung Hier finden Sie weitere Ansprechpartner*innen. ### Infos zu Bewerbungsfristen? Abonnieren Sie unseren Newsletter! Sprechzeiten | Mo., Di., Do., Fr.: | 9.00 - 16.00 Uhr | |------------------------|---------------------| | Mittwochs: | 13.00 - 17.30 Uhr | - - - - - - ### Initiativen und Mitgliedschaften - Impressum - Datenschutz - Disclaimer - Barrierefreiheit - Sitemap - Kontakt - Cookie Einstellungen - 3810135'),\n",
       " Document(metadata={'id': 1045, 'studiengang': 'Elektrotechnik', 'abschluss': 'Master', 'standort': 'Meschede', 'link': 'https://www.fh-swf.de/media/neu_np/hv_2/downloads_der_studiengangsseiten/fb_iw_1/elektrotechnik_m_eng_/FPO_MA_ETM_2017.pdf', 'hash': '85c7b811820a4a3797a21175c07ac8753a8f77facee7c5b5b69af00c3349f9f1', '_id': '57f0ca2a-1cf8-41ce-b2b2-45ae90ac6902', '_collection_name': 'intfloat_multilingual-e5-large_token_based_chunks'}, page_content=': Labor | | 1 | | | Mechatronische Systeme und deren Simulation | 6 | SL: Labor | | 1 | WS 17/18 | | Robotik | 6 | - | | 1 | WS 17/18 | Anlage 5: Nicht-technische Wahlpflichtmodule: MastermoduleAnlage 6: Nicht-technische Wahlpflichtmodule: masterfähige Bachelormodule | Modul | Credits | Prüfungs- vorleistung | Erstmaliges Angebot | |---------------------------------------------------------------|-----------|--------------------------|------------------------| | Betriebswirtschaftliche und rechtliche Aspekte der IT und TK | 6 | - | WS 17/18 | | Compliance und Forensik | 6 | - | SS 18 | | Führung internationaler Projekte | 6 | - | WS 17/18 | | Interkulturelles Management | 6 | - | SS 18 | | Wirtschaftswissenschaftliches Hauptseminar | 6 | - | WS 17/18 | | Modul | Credits | Prüfungs- vorleistung | Erstmaliges Angebot | |-----------------------------------------|-----------|--------------------------|------------------------| | Volkswirtschaftslehre für Ingenieure | 6 | - | WS 17/18 | | Beschaffungsmanagement | 6 | - | WS 17/18 | | Betriebswirtschaftliches Grundseminar A | 6 | - | WS 17/18 | | E-Commerce | 6 | - | WS 17/18 | | Gewerbliche Schutzrechte | 6 | - | WS 17/18 | | Grundseminar Entrepreneurship | 6 | - | SS 18 | | Konfliktmanagement | 6 | - | SS 18 | | Qualitätsmanagement 1 | 6 | - | WS 17/18 | | Qualitätsmanagement 2 | 6 | - | SS 18 | Von den Modulen der Anlagen 2, 3, 4 (Kernmodule und technische Wahlpflichtfächer) und 5, 6 ('),\n",
       " Document(metadata={'id': 1021, 'studiengang': 'Elektrotechnik', 'abschluss': 'Master', 'standort': 'Meschede', 'link': 'https://www.fh-swf.de/de/studienangebot/studiengaenge/elektrotechnik_m_eng_/index.php', 'hash': '23d5055fb6686b7f964ad1114b3e41d5d939a5dfe2428fa974f4bd6af87e72a5', '_id': '579aeac7-499f-4213-b1ea-0e9425bb6c64', '_collection_name': 'intfloat_multilingual-e5-large_token_based_chunks'}, page_content='Jahre abhängig von den Studienvoraussetzungen) ### Studienort Meschede ### Beiträge und Gebühren ### Hauptunterrichtssprache Deutsch (für internationale Bewerbende: Level DSH3 / TestDaf5 / C2) ## Vor Beginn des Elektrotechnik Master-Studiums – Voraussetzungen &amp; Bewerbungsverfahren ### Voraussetzungen ##### Für den viersemestrigen Masterstudiengang - Abschluss eines sechssemestrigen Studiums mit mind. 180 Credits in einem der unten aufgeführten Studiengänge mit einer Gesamtnote von mindestens 2,7 (oder mit einer Gesamtnote von mindestens 3,0 und einer Bachelorarbeit mit einer besseren Note als 2,3) ##### Für den dreisemestrigen Masterstudiengang - Abschluss eines siebensemestrigen Studiums mit einem Umfang von mind. 210 Credits in einem der unten auf geführten Studiengänge mit einer Gesamtnote von mindestens 2,7 (oder mit einer Gesamtnote von mindestens 3,0 und einer Bachelorarbeit mit einer besseren Note als 2,3) ##### Anerkannte Bachelor- oder Diplomstudiengänge - Elektrotechnik - Wirtschaftsingenieurwesen-Elektrotechnik - Maschinenbau - Mechatronik - Wirtschaftsinformatik - der ein anderes gleichwertiges Studium mit vergleichbaren Inhalten und einem Umfang von mindestens 180 bzw. 210 Credits Es müssen mindestens 30 Credits in den Bereichen der Elektrotechnik, der Informations- und Kommunikationstechnik, der Informatik, der Automatisierungstechnik oder der Mechatronik erworben worden sein. ### Bewerbung und Einschreibung Für Deutsche und Deutschen gleichgestellte Bewerber*innen - Wintersemester: i.d.R. Mitte Mai bis bis Ende August jeden Jahres - Sommersemester: i.d.R. Anfang Dezember bis Ende Februar jeden Jahres - Bewerbung über das Bewerbungsportal (Achtung: Bewerbungen sind nur innerhalb des jeweiligen Bewerbungszeitraums möglich!) - Hier finden Sie mehr Informationen zum Bewerbungsverfahren Für Bewerber*innen aus Nicht-EU-Ländern - Wintersemester: i.d.R. Anfang März bis 15. Juli jeden Jahres - Sommersemester: i.d.R. Anfang November bis zum 15. Januar jeden Jahres - Bewerbung je nach Voraussetzung über uni-assist oder unser Bewerbungsportal (Achtung: Bewerbungen sind nur innerhalb des jeweiligen Bewerbungszeitraums möglich!) - Hier finden Sie mehr Informationen zur Bewerbung mit internationalem Abschluss Hier finden Sie Fristen für weitere Bewerbungsgruppen'),\n",
       " Document(metadata={'id': 1161, 'studiengang': 'Elektrotechnik', 'abschluss': 'Master', 'standort': 'Meschede', 'link': 'https://www.fh-swf.de/media/neu_np/hv_2/dateien_sg_2_4/verlaufsplaene_modulhandbuecher_1/meschede_6/Modulhandbuch_ET_MA_2024_12.pdf', 'hash': '8a2df029d7feb6fbf55592a91fe3b52a34de06d833d27e2c176d92b9fcfdea88', '_id': 'b4ab2062-747f-4f9e-9fd7-c64443fe2c2e', '_collection_name': 'intfloat_multilingual-e5-large_token_based_chunks'}, page_content='en und Kollegen sowie Fachvertretern qualifiziert zu diskutieren. Die Studierenden können somit wissenschaftliche Zusammenhänge anhand von Fachliteratur erarbeiten und Adressaten-gerecht präsentieren. ## Inhalte Dieses Grundseminar dient sowohl zur fachlichen Vertiefung als auch zur inhaltlichen Erweiterung der zugehörigen Pflichtveranstaltung des Bachelor-Studienprogramms. Für die Lehrveranstaltung kann kein bestimmter Modulinhalt angegeben werden, da sich die zu behandelnden Themenbereiche durch regelmäßige Aktualisierungen von Semester zu Semester ändern. Die konkreten Lehrinhalte des Grundseminars werden jeweils rechtzeitig vor Semesterbeginn bekannt gegeben und zeichnen sich im Vergleich zur Pflichtveranstaltung durch einen höheren fachlichen Anspruch sowie auch eine größere Komplexität aus. Bei der Auswahl der Themenbereiche werden gleichermaßen die jeweiligen Interessen der Studierenden, konkrete Problemstellungen aus der Wirtschaftspraxis sowie auch die aktuelle Diskussion in Fachzeitschriften berücksichtigt. ## Lehrformen Die Lehrveranstaltung findet als Seminar statt. Geeignete Themenbereiche und Fragestellungen werden in Kleingruppen ausgearbeitet, vorgetragen und anschließend im Plenum diskutiert. Ergänzend können Fallstudien zum Einsatz kommen. Sofern möglich, werden externe Referenten eingeladen, um ausgewählte Einzelaspekte inhaltlich zu vertiefen und den Praxisbezug des Grundseminars in besonderem Maße zu gewährleisten. ## Teilnahmevoraussetzungen Formal: gem. RPO/FPO Inhaltlich: Das zugehörige Pflichtmodul des Bachelor-Studienprogramms sollte erfolgreich absolviert sein. Im Modul kann die Lernplattform Moodle zum Einsatz kommen. Die Einschreibung in den entsprechenden Kurs auf der Lernplattform ist in diesen Fällen Voraussetzung für die Teilnahme. ## Prüfungsformen Portfolioprüfung Wird die Modulprüfung in Form einer Portfolioprüfung durchgeführt, können prüfungsrechtlich relevante Daten innerhalb des Kurses in Moodle erhoben werden. ## Prüfungsvorleistungen keine ## Voraussetzungen für die Vergabe von Kreditpunkten Bestandene Modulprüfung ## Stellenwert der Note für die Endnote Anteilig gem. RPO/FPO ## Verwendbarkeit des Moduls Verwendung in folgenden Studiengängen: Elektrotechnik, Elektrotechnik (M.Eng.), International Management, Wirtschaft, Wirtschaftsinformatik, Wirtschaftsingenieurwesen, Wirtschaftspsychologie ## Modulbeauftragter Prof. Dr. E. Mittelstädt ## Sonstige Informationen Literaturempfehlungen und Hintergrundmaterialien werden in der'),\n",
       " Document(metadata={'id': 1172, 'studiengang': 'Elektrotechnik', 'abschluss': 'Master', 'standort': 'Meschede', 'link': 'https://www.fh-swf.de/media/neu_np/hv_2/dateien_sg_2_4/verlaufsplaene_modulhandbuecher_1/meschede_6/Modulhandbuch_ET_MA_2024_12.pdf', 'hash': '8a2df029d7feb6fbf55592a91fe3b52a34de06d833d27e2c176d92b9fcfdea88', '_id': '14770cde-14be-4c11-8017-b0754b7116f3', '_collection_name': 'intfloat_multilingual-e5-large_token_based_chunks'}, page_content='formale) Synthese der beiden Zugangsweisen wird das IS-MP-Modell von Roemer vorgestellt und in einer erweiterten Fassung diskutiert. Die Funktionsweisen von Geld- und Kreditsystem werden angerissen. Den Abschluss dieses Moduls bilden aktuelle wirtschaftspolitische Kontroversen (wie z.B. die Mindestlohndebatte), wobei jeweils Meinung und Gegenmeinung skizziert werden, so dass sich die Studenten ein eigenes Urteil bilden können. ## Lehrformen Vorlesung mit integrierter Übung ## Teilnahmevoraussetzungen Formal: gem. RPO/FPO Inhaltlich: Empfohlen: Mathematik für Ingenieure Im Modul kann die Lernplattform Moodle zum Einsatz kommen. Die Einschreibung in den entsprechenden Kurs auf der Lernplattform ist in diesen Fällen Voraussetzung für die Teilnahme. ## Prüfungsformen Portfolioprüfung, Klausur Wird die Modulprüfung in Form einer Portfolioprüfung durchgeführt, können prüfungsrechtlich relevante Daten innerhalb des Kurses in Moodle erhoben werden. ## Prüfungsvorleistungen keine ## Voraussetzungen für die Vergabe von Kreditpunkten Bestandene Modulprüfung ## Stellenwert der Note für die Endnote 111 Anteilig gem. RPO/FPO ## Verwendbarkeit des Moduls Verwendung in folgenden Studiengängen: Elektrotechnik (M.Eng.) ## Modulbeauftragter Prof. Dr. Martin Ehret ## Sonstige Informationen Literatur (in der jeweils aktuellsten Auflage) - 1. Peter Bofinger: Grundzüge der Volkswirtschaftslehre, München - 2. Karl Betz: Volkswirtschaftslehre: Eine kritische Einführung, Meschede - 3. Robert H. Frank: Microeconomics and Behaviour, New York - 4. David Friedman: Hidden Order: The Economics of Everyday Life, Santa Clara - 5. Nicholas G. Mankiw: Grundzüge der Volkswirtschaftslehre, Stuttgart 112 Modulbezeichnung Wirtschaftswissenschaftliches Hauptseminar (Advanced Economics Seminar) (6 CP) | Prüfungs-Nr. | Workload | Credits | Studiensemester | Häufigkeit des Angebotes | Dauer | |---------------------|---------------------|-----------------------------------|-----------------------------------|----------------------------|-----------------------| | 1851 | 180 | 6 | W | Wintersemester | 1 | | Lehrveranstaltungen | Lehrveranstaltungen '),\n",
       " Document(metadata={'id': 1044, 'studiengang': 'Elektrotechnik', 'abschluss': 'Master', 'standort': 'Meschede', 'link': 'https://www.fh-swf.de/media/neu_np/hv_2/downloads_der_studiengangsseiten/fb_iw_1/elektrotechnik_m_eng_/FPO_MA_ETM_2017.pdf', 'hash': '85c7b811820a4a3797a21175c07ac8753a8f77facee7c5b5b69af00c3349f9f1', '_id': '23ac7717-76d9-4ad9-bb73-a5a9d78d95cc', '_collection_name': 'intfloat_multilingual-e5-large_token_based_chunks'}, page_content='WS 17/18 | | Automatisierung in der Fertigung 1 | 6 | - | | 1 | WS 17/18 | | Automatisierung in der Fertigung 2 | 6 | - | | 1 | WS 17/18 | | Datenbanksysteme 2 | 6 | SL: Labor | 1 | | WS 17/18 | | Datenkompression | 6 | SL: Labor | 1 | 1 | SS 18 | | Digitale Kommunikationstechnik | 6 | SL: Labor | | 1 | WS 17/18 | | E-Learning | 6 | SL: Labor | 1 | 1 | WS 17/18 | | Funknetzplanung | 6 | SL: Labor | | 1 | SS 18 | | Funksysteme | 6 | SL: Labor | 1 | 1 | WS 17/18 | | Hochfrequenztechnik | 6 | SL: Labor | | 1 1 | WS 17/18 | | Kommunikationsnetze 1 | 6 | SL: Labor | 1 | 1 | SS 18 | | Kommunikationsnetze 2 | 6 | - | 1 | 1 | WS 17/18 | | Objektorientierte Programmierung | 6 | SL: Labor | 1 | | WS 17/18 | | Optimierungsalgorithmen | 6 | - | 1 | 1 1 | SS 18 | | Radartechnik | 6 | SL: Labor | | 1 1 | WS 17/18 | | Technik - Umwelt - Ökonomie | 6 | - | 1 | 1 | WS 17/18 | | Aktorik | 6 | - | | 1 | WS 17/18 | | Automatisierungstechnik 2 | 6 | SL: Labor | | 1 | | | Mechatronische Systeme und deren Simulation | 6 | SL: Labor | | 1 | WS 17/18 | | Robotik |'),\n",
       " Document(metadata={'id': 1050, 'studiengang': 'Elektrotechnik', 'abschluss': 'Master', 'standort': 'Meschede', 'link': 'https://www.fh-swf.de/media/neu_np/hv_2/dateien_sg_2_4/verlaufsplaene_modulhandbuecher_1/meschede_6/Modulhandbuch_ET_MA_2024_12.pdf', 'hash': '8a2df029d7feb6fbf55592a91fe3b52a34de06d833d27e2c176d92b9fcfdea88', '_id': '6f4af058-7a6b-4011-a0c1-68e796699eb8', '_collection_name': 'intfloat_multilingual-e5-large_token_based_chunks'}, page_content='| 4 | 4 | 6 1 | 4 | 6 | 1 | | | | | Wahlpflichtfach 1 | | | 5 | 4 | 6 1 | 4 | 6 | 1 | | | | | Wahlpflichtfach 2 | | | 6 | 4 6 | 1 | | | | 4 6 | 1 | | | Modellierung und Simulation 2 (oder 1 (*) ) | | | 7 | 4 | 6 1 | | | 4 | 6 | 1 | | | Kernmodul 3 | | | 8 | 1 | 6 1 | | | 1 | 6 | 1 | | | Projektarbeit | | | 9 | 4 | 6 1 | | | | 4 6 | 1 | | | Wahlpflichtfach 3 | | | 10 | 4 | 6 1 | | | | 4 6 | 1 | | | Wahlpflichtfach 4 | | | 11 | 0 | 25 1 | | | | | | 0 | 25 | Masterarbeit 1 | | | 12 | 0 37 | 5 1 90 12 | 20 | 30 | 5 | 17 | 30 5 | 0 0 | 5 30 | Kolloquium 1 Summe 2 | | SWS = Semesterwochenstunden, C = Credits (ECTS-Punkte), P = Modulprüfungen, VL = Vorleistungen (*): Reihenfolge hängt vom Studienbeginn ab (WiSe oder SoSe) Modellierung und Simulation 1 (im WiSe) Modellierung und Simulation 2 (im SoSe), kann vor 1 gehört werden | Kernmodule (3 aus 4) | |--------------------------------------------------------------------| | IT-Systeme und IT-Projektmanagement (im WiSe) | | Leitungsgebundene Systeme für die Breitbandkommunikation (im WiSe) | | Vernetzte Automatisierung (im SoSe) | | Aktorik und'),\n",
       " Document(metadata={'id': 1022, 'studiengang': 'Elektrotechnik', 'abschluss': 'Master', 'standort': 'Meschede', 'link': 'https://www.fh-swf.de/de/studienangebot/studiengaenge/elektrotechnik_m_eng_/index.php', 'hash': '23d5055fb6686b7f964ad1114b3e41d5d939a5dfe2428fa974f4bd6af87e72a5', '_id': '39f5ad7c-ed0a-4d03-b995-5b108bed0e5c', '_collection_name': 'intfloat_multilingual-e5-large_token_based_chunks'}, page_content='nach Voraussetzung über uni-assist oder unser Bewerbungsportal (Achtung: Bewerbungen sind nur innerhalb des jeweiligen Bewerbungszeitraums möglich!) - Hier finden Sie mehr Informationen zur Bewerbung mit internationalem Abschluss Hier finden Sie Fristen für weitere Bewerbungsgruppen. ## An wen richtet sich der Master-Studiengang Elektrotechnik? Das Master-Studium Elektrotechnik richtet sich an Absolvent*innen der folgenden Bachelor-Studiengänge, die sich für spannende Berufsfelder weiterqualifizieren möchten: - Elektrotechnik - Wirtschaftsingenieurwesen-Elektrotechnik - Maschinenbau - Mechatronik - Wirtschaftsinformatik. Gleich ob Industrie 4.0, Smart Grids, autonomes Fahren oder Telemedizin: Im Zuge der Gestaltung moderner vernetzter Produktions- und Dienstleistungsprozesse ist ein Zusammenspiel der Disziplinen aus den Bereichen der IT-Systeme, der Kommunikationstechnik sowie der Automatisierungssysteme und Mechatronik äußerst relevant. Wer sich dafür interessiert, sollte den Master-Studiengang Elektrotechnik in Meschede studieren. ### Ankerpunkt ### Welche Berufsaussichten bietet das Master-Studium der Elektrotechnik? - Ingenieurbüros (Planung, Betrieb von Netzen, IT-Infrastruktur oder Automatisierungssystemen) - IT-Abteilungen großer und mittelständischer Unternehmen - Telekommunikations-Anbieter und große Netzbetreiber - Systemanbieter für die Automatisierungstechnik und Mechatronik - TK-/IT-Anwendungsentwicklung, Anwendungsentwicklung für Automatisierungssysteme - Konzeption und Projektierung mechatronischer Systeme oder Produktionsanlagen - Öffentliche Verwaltung (z.B. Wirtschaftsförderung, kommunale Rechenzentren, Bundesnetzagentur) - Selbstständigkeit (z.B. Beratung, Planung) Der Masterabschluss eröffnet darüber hinaus den Zugang zum höheren Dienst und zur Promotion. „Ich habe mein Bachelorstudium dual bei der Firma Hella in Lippstadt absolviert und arbeite jetzt dort im Bereich Fahrzeugelektronik. Mein Masterstudium bringt mich in meinem speziellen Schwerpunkt weiter, einer Kombination aus Simulation, Softwareentwicklung und Hochfrequenztechnik. Zudem studiere ich hier berufsbegleitend,was wunderbar funktioniert.\" Sebastian Henke „Weil ich hier die Ruhe bekommen habe, ein erfolgreiches Studium zu absolvieren. Ich habe vorher zwei Semester an der Uni Duisburg studiert, das war mir')]"
      ]
     },
     "execution_count": 10,
     "metadata": {},
     "output_type": "execute_result"
    }
   ],
   "source": [
    "basic_token_based_retriever.invoke(\"Wo kann ich Wirtschaftsinformatik studieren?\")"
   ]
  },
  {
   "cell_type": "code",
   "execution_count": 11,
   "id": "286c611b7f80c449",
   "metadata": {
    "ExecuteTime": {
     "end_time": "2025-03-10T10:19:58.467357Z",
     "start_time": "2025-03-10T10:19:58.465318Z"
    }
   },
   "outputs": [],
   "source": [
    "rag_prompt = ChatPromptTemplate.from_template(fh_prompt)"
   ]
  },
  {
   "cell_type": "code",
   "execution_count": 12,
   "id": "e49f3218e6786036",
   "metadata": {
    "ExecuteTime": {
     "end_time": "2025-03-10T10:20:01.471007Z",
     "start_time": "2025-03-10T10:20:01.436635Z"
    }
   },
   "outputs": [],
   "source": [
    "llm = ChatOllama(\n",
    "    model=\"llama3.1:8b\", # llama3-2:3b ist nicht ausreichend. Auch mit dem Modell hier kann es noch zu Problemen kommen, die durch leistungsstärkere LLMs gelöst werden könnten.\n",
    "    temperature=0, # Keine Zufälligkeit\n",
    "    num_ctx=32000 # Kontextfenster\n",
    ")"
   ]
  },
  {
   "cell_type": "code",
   "execution_count": 13,
   "id": "54d8ac1f024cac91",
   "metadata": {
    "ExecuteTime": {
     "end_time": "2025-03-10T10:20:04.272809Z",
     "start_time": "2025-03-10T10:20:04.166942Z"
    }
   },
   "outputs": [
    {
     "name": "stdout",
     "output_type": "stream",
     "text": [
      "[Document(metadata={'id': 1021, 'studiengang': 'Elektrotechnik', 'abschluss': 'Master', 'standort': 'Meschede', 'link': 'https://www.fh-swf.de/de/studienangebot/studiengaenge/elektrotechnik_m_eng_/index.php', 'hash': '23d5055fb6686b7f964ad1114b3e41d5d939a5dfe2428fa974f4bd6af87e72a5', '_id': '579aeac7-499f-4213-b1ea-0e9425bb6c64', '_collection_name': 'intfloat_multilingual-e5-large_token_based_chunks'}, page_content='Jahre abhängig von den Studienvoraussetzungen) ### Studienort Meschede ### Beiträge und Gebühren ### Hauptunterrichtssprache Deutsch (für internationale Bewerbende: Level DSH3 / TestDaf5 / C2) ## Vor Beginn des Elektrotechnik Master-Studiums – Voraussetzungen &amp; Bewerbungsverfahren ### Voraussetzungen ##### Für den viersemestrigen Masterstudiengang - Abschluss eines sechssemestrigen Studiums mit mind. 180 Credits in einem der unten aufgeführten Studiengänge mit einer Gesamtnote von mindestens 2,7 (oder mit einer Gesamtnote von mindestens 3,0 und einer Bachelorarbeit mit einer besseren Note als 2,3) ##### Für den dreisemestrigen Masterstudiengang - Abschluss eines siebensemestrigen Studiums mit einem Umfang von mind. 210 Credits in einem der unten auf geführten Studiengänge mit einer Gesamtnote von mindestens 2,7 (oder mit einer Gesamtnote von mindestens 3,0 und einer Bachelorarbeit mit einer besseren Note als 2,3) ##### Anerkannte Bachelor- oder Diplomstudiengänge - Elektrotechnik - Wirtschaftsingenieurwesen-Elektrotechnik - Maschinenbau - Mechatronik - Wirtschaftsinformatik - der ein anderes gleichwertiges Studium mit vergleichbaren Inhalten und einem Umfang von mindestens 180 bzw. 210 Credits Es müssen mindestens 30 Credits in den Bereichen der Elektrotechnik, der Informations- und Kommunikationstechnik, der Informatik, der Automatisierungstechnik oder der Mechatronik erworben worden sein. ### Bewerbung und Einschreibung Für Deutsche und Deutschen gleichgestellte Bewerber*innen - Wintersemester: i.d.R. Mitte Mai bis bis Ende August jeden Jahres - Sommersemester: i.d.R. Anfang Dezember bis Ende Februar jeden Jahres - Bewerbung über das Bewerbungsportal (Achtung: Bewerbungen sind nur innerhalb des jeweiligen Bewerbungszeitraums möglich!) - Hier finden Sie mehr Informationen zum Bewerbungsverfahren Für Bewerber*innen aus Nicht-EU-Ländern - Wintersemester: i.d.R. Anfang März bis 15. Juli jeden Jahres - Sommersemester: i.d.R. Anfang November bis zum 15. Januar jeden Jahres - Bewerbung je nach Voraussetzung über uni-assist oder unser Bewerbungsportal (Achtung: Bewerbungen sind nur innerhalb des jeweiligen Bewerbungszeitraums möglich!) - Hier finden Sie mehr Informationen zur Bewerbung mit internationalem Abschluss Hier finden Sie Fristen für weitere Bewerbungsgruppen'), Document(metadata={'id': 1020, 'studiengang': 'Elektrotechnik', 'abschluss': 'Master', 'standort': 'Meschede', 'link': 'https://www.fh-swf.de/de/studienangebot/studiengaenge/elektrotechnik_m_eng_/index.php', 'hash': '23d5055fb6686b7f964ad1114b3e41d5d939a5dfe2428fa974f4bd6af87e72a5', '_id': '42db7fb2-efcf-4100-b473-76c79702cf70', '_collection_name': 'intfloat_multilingual-e5-large_token_based_chunks'}, page_content='# Elektrotechnik M.Eng. ## Meschede 1. Studienangebot 2. Studiengänge 3. Meschede 4. Elektrotechnik M.Eng. ## Master-Studiengang Elektrotechnik ### Industrie 4.0, Smart Grids, autonomes Fahren oder Telemedizin: Bei der Gestaltung moderner vernetzter Produktions- und Dienstleistungsprozesse ist ein Zusammenspiel von IT-Systemen, Kommunikationstechnik sowie der Automatisierungssysteme und Mechatronik äußerst relevant. Der anwendungsorientierte Master Elektrotechnik bietet die Möglichkeit, sich in einem dieser drei Bereiche zu vertiefen, auch berufsbegleitend. Auf einen Blick Was? Anwendungsbezogener Studiengang mit Vertiefungmöglichkeiten Für wen? Absolvent*innen der Bachelorstudiengänge Elektrotechnik, Wirtschaftsingenieurwesen-Elektrotechnik, Maschinenbau, Mechatronik, Wirtschaftsinformatik Warum? Weil das Zusammenspiel der Disziplinen aus den Bereichen der IT-Systeme, der Kommunikationstechnik sowie der Automatisierungssysteme und Mechatronik relevant ist Du hast diesen Studiengang bereits gespeichert! Der Studiengang wurde erfolgreich gemerkt! Vergleichen Sie Studiengänge, vereinbaren Sie einen Beratungstermin oder abonnieren Sie unseren Newsletter. Bewerbungsfristen &amp; Studienstart-Termine - Interessiert? Hier finden Sie die Bewerbungsfristen. - Neugierig? Besuchen Sie unsere Infoveranstaltungen - Für einen gelungenen Start ins Studium sorgen die Erstsemesterbegrüßung und Vorbereitungskurse ## Auf dieser Seite - Der Studiengang MA ET im Überblick - Studienvoraussetzungen - Infos zum Bewerbungsverfahren - Für wen ist dieser Studiengang? - Berufliche Perspektiven - Studi-Stimmen - Studienaufbau / Verlaufsplan - Infoveranstaltungen / Veranstaltungen zum Studienstart - Weitere Infos / Prüfungsordnungen, Modulhandbücher - Kontakt ### Zulassung ### Studienabschluss Master of Engineering (M.Eng.) 90 - 120 ECTS ### Studienmodell - Vollzeitstudium - Berufsverträglich ### Studienbeginn / -dauer - Beginn: Zum Sommer- und Wintersemester - Dauer: 3 - 4 Semester (1,5 oder 2 Jahre abhängig von den Studienvoraussetzungen) ### Studienort Meschede ### Beiträge und Gebühren ### Hauptunterrichtssprache Deutsch (für internationale Bewerbende: Level DSH3 / TestDaf5 / C'), Document(metadata={'id': 1024, 'studiengang': 'Elektrotechnik', 'abschluss': 'Master', 'standort': 'Meschede', 'link': 'https://www.fh-swf.de/de/studienangebot/studiengaenge/elektrotechnik_m_eng_/index.php', 'hash': '23d5055fb6686b7f964ad1114b3e41d5d939a5dfe2428fa974f4bd6af87e72a5', '_id': '96608704-476b-454e-b594-995831abc68b', '_collection_name': 'intfloat_multilingual-e5-large_token_based_chunks'}, page_content='Videokonferenzsystem zur Übertragung der Lehrveranstaltungen eingesetzt, die großteils am späten Nachmittag bzw. frühen Abend angeboten werden. ## Studienverlaufsplan Elektrotechnik M.Eng. | | | | | |-------------|-------------------------------------------|-----------------------------------------------------------|----------------------------| | 1. Semester | Seminar Modellierung und Simulation 1 + 2 | 1 oder 2 Kernmodule | 2 oder 3 Wahlpflichtmodule | | 2. Semester | Seminar Modellierung und Simulation 1 + 2 | 1 oder 2 Kernmodule | 2 oder 3 Wahlpflichtmodule | | 3. Semester | Praxisprojekt mit begleitendem Seminar | Hauptseminar Elektrotechnik (nur viersemestrige Variante) | | | 4. Semester | Masterarbeit | Kolloquium | | ### Legende zum Studienverlaufsplan #### Kernmodule (3 von 4) Aktorik und Mechatronik, IT-Systeme und IT-Projektmanagement, Leitungsgebundene Systeme für die Breitbandkommunikation, Vernetzte Automatisierung #### Wahlpflichtmodule z.B. Audiovisuelle Kommunikationssysteme, Digitale Bildverarbeitung, Funksysteme für die Breitband- und M2M-Kommunikation, Hochfrequenz-Schaltungen und Messsysteme, Digitale Produktion, Industriekommunikation, Sensorsysteme, Softwareentwicklung für Echtzeitsysteme, Spezialgebiete der IT, Systemtechnik elektronischer Medien, Rechtliche und Betriebswirtschaftliche Aspekte der IT und TK ## Infoveranstaltungen / Veranstaltungen zum Studienstart Für einen komfortablen und erfolgreichen Start ins Studium erwarten Sie verschiedene Orientierungsveranstaltungen und Unterstützungsangebote. ## Master-Studiengang Elektrotechnik: Weitere Informationen ### Prüfungsordnung, Modulhandbücher und Verlaufspläne für den Studiengang Elektrotechnik M.Eng. am Standort Meschede Zu den PDFs Prüfungsorganisation Hier finden Sie die Prüfungspläne für den Fachbereich IW in Meschede. Termine für Studieninteressierte Standort Meschede Fachgebiet FAQs ## Fragen zum Studiengang oder zur Studienwahl? Das Team der Allgemeinen Studienberatung hilft Ihnen gerne weiter. - Per Mail studienberatung@fh-swf.de - Per Telefon 02371 566 538 - Nach Absprache per Video'), Document(metadata={'id': 1023, 'studiengang': 'Elektrotechnik', 'abschluss': 'Master', 'standort': 'Meschede', 'link': 'https://www.fh-swf.de/de/studienangebot/studiengaenge/elektrotechnik_m_eng_/index.php', 'hash': '23d5055fb6686b7f964ad1114b3e41d5d939a5dfe2428fa974f4bd6af87e72a5', '_id': '8888026a-9f1a-4c01-afbb-3bd76182cbaa', '_collection_name': 'intfloat_multilingual-e5-large_token_based_chunks'}, page_content='ich hier berufsbegleitend,was wunderbar funktioniert.\" Sebastian Henke „Weil ich hier die Ruhe bekommen habe, ein erfolgreiches Studium zu absolvieren. Ich habe vorher zwei Semester an der Uni Duisburg studiert, das war mir zu groß. Die kleine Hochschule in Meschede und die Nähe zu den Lehrenden verschafft mir einen großen Vorteil.\" Stefan Lach ## Wie ist das Master-Studium Elektrotechnik aufgebaut? Der Master-Studiengang Elektrotechnik wird in einer viersemestrigen und einer dreisemestrigen Variante angeboten. ### Inhalte des Studiums In den ersten zwei Semestern sind neben den zwei Pflichtmodulen zur Simulation und Modellierung und drei Kernmodulen vier Wahlpflichtmodule zu absolvieren. - IT-Systeme, - Kommunikationstechnik - Automatisierungssysteme und Mechatronik Die Wahlpflichtmodule sind gemäß der drei Schwerpunkte kategorisiert. Über die Wahlpflichtmodule erwerben die Studierenden vertiefte Fach- und Methodenkompetenzen und werden an den aktuellen Stand der Forschung in dem Schwerpunkt ihrer Wahl herangeführt. Zur Schwerpunktbildung trägt ebenfalls die Projektarbeit bei. Ferner erweitern sie ihre Soft Skills, beispielweise in Bezug auf rechtliche, betriebs- oder volkswirtschaftliche Fragestellungen. Durch Laborpraktika, Projektarbeiten und Kleinprojekte wird zudem die Teamarbeit gefördert. Das dritte Semester umfasst ein Hauptseminar sowie ein von der Hochschule begleitetes Praxisprojekt. Für Studierende, die die Voraussetzungen für den dreisemestrigen Masterstudiengang erfüllen, entfällt dieses Semester. Den Abschluss des Studiums bildet im vierten Semester eine praxisbezogene Masterarbeit und eine mündliche Prüfung, das Kolloquium. #### Berufsvertraglich Berufsverträgliches Studium Nicht nur in Präsenz / Vollzeit, sondern auch in Teilzeit: Die Hochschule unterstützt ein berufsverträgliches Studium. Die ersten beiden Semester mit Vorlesungen, Übungen, Laboren und Seminaren können in einer berufsverträglichen Variante auf vier Semester gestreckt werden. Um Studierenden außerhalb der unmittelbaren Region eine Teilnahme zu ermöglichen, wird ein professionelles Videokonferenzsystem zur Übertragung der Lehrveranstaltungen eingesetzt, die großteils am späten Nachmittag bzw. frühen Abend angeboten werden. ## Studienverlaufsplan Elektrotechnik M.Eng. | | | | |'), Document(metadata={'id': 1026, 'studiengang': 'Elektrotechnik', 'abschluss': 'Master', 'standort': 'Meschede', 'link': 'https://www.fh-swf.de/de/studienangebot/studiengaenge/elektrotechnik_m_eng_/pruefungsordnungen_78/index.php', 'hash': '4ff5af95596741f603f9e49c668fa1eb5d4f964f4cf9f67ac84427745b8e3806', '_id': '80562ee8-e086-4918-bbdf-f34b1a78f347', '_collection_name': 'intfloat_multilingual-e5-large_token_based_chunks'}, page_content='# Elektrotechnik M.Eng. ## Meschede 1. Studienangebot 2. Studiengänge 3. Meschede 4. Elektrotechnik M.Eng. 5. Prüfungsordnungen # Prüfungsordnungen ## Fachprüfungsordnung 2017 Fachprüfungsordnung Fachprüfungsordnung vom 30. Juni 2017 PDF FPO 2017: Ordnung zur Änderung der FPO (v. 27.08.2020) PDF ## ## ModulhandbuchModulhandbuch FPO 2017: Modulhandbuch PDF ## ## Verlaufspläne*Verlaufspläne FPO 2017: Studienverlaufsplan der dreisemestrigen Variante PDF FPO 2017: Studienverlaufsplan der viersemestrigen Variante PDF Auf dieser Seite - Prüfungsordnungen - Modulhandbücher - Verlaufspläne \\\\_\\\\_\\\\_\\\\_\\\\_\\\\_\\\\_\\\\_\\\\_\\\\_\\\\_\\\\_\\\\_\\\\_ *) Rechtlich verbindlich sind ausschließlich die Angaben der jeweils gültigen Prüfungsordnung. Bitte beachten Sie, dass eine Fachprüfungsordnung (FPO) zusammen mit der Rahmenprüfungsordnung (RPO) der Fachhochschule Südwestfalen in der jeweils aktuell gültigen Fassung gilt. - - - - - - ### Initiativen und Mitgliedschaften - Impressum - Datenschutz - Disclaimer - Barrierefreiheit - Sitemap - Kontakt - Cookie Einstellungen - 3810550'), Document(metadata={'id': 1055, 'studiengang': 'Elektrotechnik', 'abschluss': 'Master', 'standort': 'Meschede', 'link': 'https://www.fh-swf.de/media/neu_np/hv_2/dateien_sg_2_4/verlaufsplaene_modulhandbuecher_1/meschede_6/Modulhandbuch_ET_MA_2024_12.pdf', 'hash': '8a2df029d7feb6fbf55592a91fe3b52a34de06d833d27e2c176d92b9fcfdea88', '_id': '3380fa27-6c75-474a-b73b-7b9f844f5cf5', '_collection_name': 'intfloat_multilingual-e5-large_token_based_chunks'}, page_content='1 | | | | 4 6 | 1 | | | | | | | | | 11 | Hauptseminar Elektrotechnik | 2 | 6 | 1 | | | | | | 2 | 6 | 1 | | | | | | 12 | Praxisprojekt mit begleitendem Seminar 0 | | 24 | 0 | | | | | | 0 | 24 | 0 | | | | | | 13 | Masterarbeit | 0 | 25 | 1 | | | | | | | | 0 | 1 | 25 | | | | 14 | Kolloquium 0 Summe | 39 | 5 120 | 1 13 | 20 | 30 | 5 | 17 30 | 5 | 2 | 30 | 0 1 0 | 5 30 | 2 | 1 | | SWS = Semesterwochenstunden, C = Credits (ECTS-Punkte), P = Modulprüfungen, VL = Vorleistungen (*): Reihenfolge hängt vom Studienbeginn ab (WiSe oder SoSe) Modellierung und Simulation 1 (im WiSe) Modellierung und Simulation 2 (im SoSe), kann vor 1 gehört werden ## Kernmodule (3 aus 4) IT-Systeme und IT-Projektmanagement (im WiSe) Leitungsgebundene Systeme für die Breitbandkommunikation (im WiSe) Vernetzte Automatisierung (im SoSe) Aktorik und Mechatronik (im SoSe) 4 Fachhochschule Südwestfalen, Standort Meschede Fachbereich Ingenieur- und Wirtschaftswissenschaften ## Master-Studiengang Elektrotechnik mit dem Abschluss Master of Engineerung (M. Eng.) - 4-semstrige Variante Studienplan für Studienbeginn ab WS 17/18 | | Elemente des Studiums | Merkmale | Merkmale | Merkmale | 1. Sem.GLYPH&lt;10&gt; | 1. Sem.GLYPH&lt;10&gt; | 1. Sem.GLYPH&lt;10&gt; | 2.'), Document(metadata={'id': 1022, 'studiengang': 'Elektrotechnik', 'abschluss': 'Master', 'standort': 'Meschede', 'link': 'https://www.fh-swf.de/de/studienangebot/studiengaenge/elektrotechnik_m_eng_/index.php', 'hash': '23d5055fb6686b7f964ad1114b3e41d5d939a5dfe2428fa974f4bd6af87e72a5', '_id': '39f5ad7c-ed0a-4d03-b995-5b108bed0e5c', '_collection_name': 'intfloat_multilingual-e5-large_token_based_chunks'}, page_content='nach Voraussetzung über uni-assist oder unser Bewerbungsportal (Achtung: Bewerbungen sind nur innerhalb des jeweiligen Bewerbungszeitraums möglich!) - Hier finden Sie mehr Informationen zur Bewerbung mit internationalem Abschluss Hier finden Sie Fristen für weitere Bewerbungsgruppen. ## An wen richtet sich der Master-Studiengang Elektrotechnik? Das Master-Studium Elektrotechnik richtet sich an Absolvent*innen der folgenden Bachelor-Studiengänge, die sich für spannende Berufsfelder weiterqualifizieren möchten: - Elektrotechnik - Wirtschaftsingenieurwesen-Elektrotechnik - Maschinenbau - Mechatronik - Wirtschaftsinformatik. Gleich ob Industrie 4.0, Smart Grids, autonomes Fahren oder Telemedizin: Im Zuge der Gestaltung moderner vernetzter Produktions- und Dienstleistungsprozesse ist ein Zusammenspiel der Disziplinen aus den Bereichen der IT-Systeme, der Kommunikationstechnik sowie der Automatisierungssysteme und Mechatronik äußerst relevant. Wer sich dafür interessiert, sollte den Master-Studiengang Elektrotechnik in Meschede studieren. ### Ankerpunkt ### Welche Berufsaussichten bietet das Master-Studium der Elektrotechnik? - Ingenieurbüros (Planung, Betrieb von Netzen, IT-Infrastruktur oder Automatisierungssystemen) - IT-Abteilungen großer und mittelständischer Unternehmen - Telekommunikations-Anbieter und große Netzbetreiber - Systemanbieter für die Automatisierungstechnik und Mechatronik - TK-/IT-Anwendungsentwicklung, Anwendungsentwicklung für Automatisierungssysteme - Konzeption und Projektierung mechatronischer Systeme oder Produktionsanlagen - Öffentliche Verwaltung (z.B. Wirtschaftsförderung, kommunale Rechenzentren, Bundesnetzagentur) - Selbstständigkeit (z.B. Beratung, Planung) Der Masterabschluss eröffnet darüber hinaus den Zugang zum höheren Dienst und zur Promotion. „Ich habe mein Bachelorstudium dual bei der Firma Hella in Lippstadt absolviert und arbeite jetzt dort im Bereich Fahrzeugelektronik. Mein Masterstudium bringt mich in meinem speziellen Schwerpunkt weiter, einer Kombination aus Simulation, Softwareentwicklung und Hochfrequenztechnik. Zudem studiere ich hier berufsbegleitend,was wunderbar funktioniert.\" Sebastian Henke „Weil ich hier die Ruhe bekommen habe, ein erfolgreiches Studium zu absolvieren. Ich habe vorher zwei Semester an der Uni Duisburg studiert, das war mir'), Document(metadata={'id': 1028, 'studiengang': 'Elektrotechnik', 'abschluss': 'Master', 'standort': 'Meschede', 'link': 'https://www.fh-swf.de/media/neu_np/hv_2/downloads_der_studiengangsseiten/fb_iw_1/elektrotechnik_m_eng_/FPO_MA_ETM_2017.pdf', 'hash': '85c7b811820a4a3797a21175c07ac8753a8f77facee7c5b5b69af00c3349f9f1', '_id': '8a99329f-02a1-4ad7-a1c9-c14da1893a3f', '_collection_name': 'intfloat_multilingual-e5-large_token_based_chunks'}, page_content=\"fähige Bachelor-Module - Anlage 5: Nicht-technische Wahlpflichtmodule: Mastermodule - Anlage 6: Nicht-technische Wahlpflichtmodule: masterfähige Bachelormodule ## Teil 1 Allgemeines ## § 1 ## Geltungsbereich Diese Fachprüfungsordnung (FPO) für den Masterstudiengang Elektrotechnik im Fachbereich Ingenieur- und Wirtschaftswissenschaften in Meschede gilt zusammen mit der jeweils aktuell gültigen Fassung der Rahmenprüfungsordnung (RPO) der Fachhochschule Südwestfalen. ## § 2 Hochschulgrad Auf Grund der bestandenen Masterprüfung gemäß § 2 RPO verleiht die Fachhochschule Südwestfalen in dem Masterstudiengang Elektrotechnik den akademischen Grad 'Master of Engineering', Kurzform 'M.Eng.'. ## § 3 Spezielle Zugangsvoraussetzungen - (1) Neben den allgemeinen Zugangsvoraussetzungen gemäß § 3 RPO gelten folgende Regelungen: - a) Das Studium mit der viersemestrigen Regelstudienzeit kann begonnen werden, wenn einer der Bacheloroder Diplom-Studiengänge der Elektrotechnik, des Wirtschaftsingenieurwesens-Elektrotechnik, des Maschinenbaus, der Mechatronik oder der Wirtschaftsinformatik mit einer Gesamtnote von mindestens 2,7 oder mit einer Gesamtnote von mindestens 3,0 und einer Bachelorarbeit mit einer besseren Note als 2,3 abgeschlossen wurde und dabei mindestens 30 Credits in den Bereichen der Elektrotechnik, der Informations- und Kommunikationstechnik, der Informatik, der Automatisierungstechnik oder der Mechatronik erworben wurden. Das Studium kann auch begonnen werden, wenn ein anderes gleichwertiges Studium mit vergleichbaren Inhalten und einem Umfang von mindestens 180 Credits mit einer Gesamtnote von mindestens 2,7 oder mit einer Gesamtnote von mindestens 3,0 und einer Bachelorarbeit mit einer besseren Note als 2,3 abgeschlossen wurde. Über die Gleichwertigkeit des Studiums entscheidet der Prüfungsausschuss. - b) Das Studium mit der dreisemestrigen Regelstudienzeit kann begonnen werden, wenn die Bedingungen gemäß Buchstabe a) vorliegen mit der Maßgabe, dass ein Bachelorstudiengang mit einem Umfang von 210 ECTS-Punkten oder ein Diplomstudiengang absolviert wurde. - (2) Studienbewerberinnen und Studienbewerber, die den gemäß Absatz 1 geforderten Studienabschluss nicht in einem deutschsprachigen Studiengang erworben haben\"), Document(metadata={'id': 1038, 'studiengang': 'Elektrotechnik', 'abschluss': 'Master', 'standort': 'Meschede', 'link': 'https://www.fh-swf.de/media/neu_np/hv_2/downloads_der_studiengangsseiten/fb_iw_1/elektrotechnik_m_eng_/FPO_MA_ETM_2017.pdf', 'hash': '85c7b811820a4a3797a21175c07ac8753a8f77facee7c5b5b69af00c3349f9f1', '_id': 'c9639aae-cdcd-4cf1-a1cf-a20b7ccb6ee9', '_collection_name': 'intfloat_multilingual-e5-large_token_based_chunks'}, page_content='Elektrotechnischen Seminars. - (10) Durch das Bestehen des Hauptseminars Elektrotechnik werden sechs Credits erworben. ## Teil 3 Das Studium ## § 21 ## Masterarbeit - (1) Der Umfang der Masterarbeit gemäß § 28 Absatz 1 RPO beträgt in der Regel etwa 50 Seiten à etwa 50 Zeilen. Die Bearbeitungszeit (Zeitraum von der Ausgabe bis zur Abgabe der Masterarbeit) beträgt höchstens 20 Wochen, bei einem empirischen oder experimentellen Thema höchstens 23 Wochen. Das Thema und die Aufgabenstellung müssen so beschaffen sein, dass die Masterarbeit innerhalb der vorgegebenen Frist abgeschlossen werden kann. Auf einen vor Ablauf der Frist gestellten begründeten Antrag der Kandidatin oder des Kandidaten kann der Prüfungsausschuss ausnahmsweise eine Nachfrist der Bearbeitungszeit von bis zu vier Wochen gewähren. Die Betreuerin oder der Betreuer soll zu dem Antrag gehört werden. - (2) In Ergänzung zu § 28 Absatz 2 RPO gilt für die Betreuung der Masterarbeit, dass diese durch folgende Gruppen erfolgen kann: - a) Professorinnen und Professoren des Standorts Meschede, - b) Honorarprofessorinnen und Honorarprofessoren, Lehrkräfte für besondere Aufgaben sowie Lehrbeauftragte des Standorts Meschede, wenn feststeht, dass ein geeignetes Thema für eine Masterarbeit vorliegt. Dies bedarf der Zustimmung des Prüfungsausschusses, - c) andere Professorinnen und Professoren sowie Mitarbeiterinnen und Mitarbeiter von Forschungseinrichtungen außerhalb des Hochschulbereichs, wenn feststeht, dass ein geeignetes Thema für eine Masterarbeit vorliegt. Dies bedarf der Zustimmung des Prüfungsausschusses. ## § 22 Zulassung zur Masterarbeit Ergänzend zu § 29 Absatz 1 RPO kann zur Masterarbeit nur zugelassen werden, wer in den Modulprüfungen in den Pflicht- und Wahlpflichtmodulen des Studiums gemäß Anlage 1, 2, 3, 4, 5 und 6 mindestens 48 Credits erworben hat, wobei mindestens 36 Credits aus den Anlagen 1 und 2 stammen müssen, und in dem viersemestrigen Master-Studiengang die Praxisphase erfolgreich absolviert hat. ## § 23 ## Durchführung und Bewertung der Masterarbeit - (1) Die Rückgabe des Themas der Masterarbeit gemäß § 30 Absatz 2 RPO kann nur einmal und nur innerhalb der ersten vier Wochen des Bearbeitungszeitraums ohne Angaben von Gründen erfolgen. - (2 ) Abweichend von'), Document(metadata={'id': 1047, 'studiengang': 'Elektrotechnik', 'abschluss': 'Master', 'standort': 'Meschede', 'link': 'https://www.fh-swf.de/media/neu_np/hv_2/downloads_der_studiengangsseiten/fb_iw_1/elektrotechnik_m_eng_/1_AeO_FPO_MA_ETM_17.pdf', 'hash': 'e6a479b76de5bcb804bdd9e315915890f12fa46ce5ae3438e65abead2653aba6', '_id': '55032299-2fb0-4af4-8291-ff7129a830ef', '_collection_name': 'intfloat_multilingual-e5-large_token_based_chunks'}, page_content=\"## Ordnung ## zur Änderung der Fachprüfungsordnung für den Masterstudiengang Elektrotechnik an der Fachhochschule Südwestfalen, Standort Meschede vom 27. August 2020 Auf Grund des § 2 Absatz 4 und des § 64 Absatz 1 des Gesetzes über die Hochschulen des Landes Nordrhein-Westfalen (Hochschulgesetz - HG) vom 16. September 2014 (GV. NRW. S. 547), zuletzt geändert durch Gesetz vom 14. April 2020 (GV. NRW. S. 218b), und des § 1 Absatz 1 der Rahmenprüfungsordnung für Bachelor- und Masterstudiengänge an der Fachhochschule Südwestfalen, hat der Fachbereichsrat des Fachbereichs Ingenieur- und Wirtschaftswissenschaften der Fachhochschule Südwestfalen die folgende Ordnung erlassen: ## Artikel I Die Fachprüfungsordnung für den Masterstudiengang Elektrotechnik an der Fachhochschule Südwestfalen, Standort Meschede vom 30. Juni 2017 (Amtliche Bekanntmachung der Fachhochschule Südwestfalen - Verkündungsblatt der Fachhochschule Südwestfalen - vom 14.07.2017) wird wie folgt geändert: - 1. § 19 Absatz 2 erhält folgende Fassung: - '(2) Zur Praxisphase wird auf Antrag zugelassen, wer in den Modulprüfungen der Anlagen 1 und 2 18 Credits erworben hat. Im Antrag müssen Zeitraum, Unternehmen bzw. Institution, die zu bearbeitende Thematik und die betreuende Professorin oder der betreuende Professor des Fachbereichs Ingenieurund Wirtschaftswissenschaften der Fachhochschule Südwestfalen genannt werden. Über die Zulassung zum Praxisphase entscheidet der Prüfungsausschuss. Mit der Antragstellung erklärt die oder der Studierende verbindlich, dass sie oder er die Praxisphase absolvieren möchte.' - 2. § 20 Absatz 3 erhält folgende Fassung: - '(3) Zum Hauptseminar Elektrotechnik wird auf Antrag zugelassen, wer: - a) an der Fachhochschule Südwestfalen eingeschrieben oder als Zweithörerin oder als Zweithörer gemäß § 52 Absatz 2 HG zugelassen ist, - b) in den Modulprüfungen der Anlagen 1 und 2 18 Credits erworben hat.' - 3. § 22 erhält folgende Fassung: 'Ergänzend zu § 29 Absatz 1 RPO kann zur Masterarbeit nur zugelassen werden, wer in den Modulprüfungen in den Pflicht-\")]\n"
     ]
    }
   ],
   "source": [
    "# Kontext zu Frage abrufen\n",
    "first_question_context = basic_token_based_retriever.invoke(fragen[1])\n",
    "print(first_question_context)"
   ]
  },
  {
   "cell_type": "code",
   "execution_count": 14,
   "id": "4825401de3d305e5",
   "metadata": {
    "ExecuteTime": {
     "end_time": "2025-03-10T10:20:06.421361Z",
     "start_time": "2025-03-10T10:20:06.418800Z"
    }
   },
   "outputs": [],
   "source": [
    "from typing import List, Tuple\n",
    "# Kontexte formatieren vor der Übergabe an das LLM\n",
    "def keep_relevant_metadata(documents: list[Document]) -> Tuple[List[Document], List[str]]:\n",
    "    relevant_metadata = [\n",
    "        \"standort\",\n",
    "        \"studiengang\",\n",
    "        \"abschluss\"\n",
    "    ]\n",
    "    links = []\n",
    "    for doc in documents:\n",
    "        if doc.metadata['link'] not in links:\n",
    "            links.append(doc.metadata['link'])\n",
    "        doc.metadata = {key: doc.metadata[key] for key in relevant_metadata}\n",
    "    return documents, links\n",
    "\n",
    "def format_page_content(documents: list[Document]) -> str:\n",
    "    formatted_context = \"\"\n",
    "    for doc in documents:\n",
    "        formatted_context += (f\"Standort: {doc.metadata['standort']}, \"\n",
    "                              f\"Studiengang: {doc.metadata['studiengang']}, \"\n",
    "                              f\"Abschluss: {doc.metadata['abschluss']}\\n{doc.page_content}\\n\\n\")\n",
    "    return formatted_context"
   ]
  },
  {
   "cell_type": "code",
   "execution_count": 15,
   "id": "a14bbba14d30c194",
   "metadata": {
    "ExecuteTime": {
     "end_time": "2025-03-10T10:20:13.678601Z",
     "start_time": "2025-03-10T10:20:13.676376Z"
    }
   },
   "outputs": [
    {
     "name": "stdout",
     "output_type": "stream",
     "text": [
      "Standort: Meschede, Studiengang: Elektrotechnik, Abschluss: Master\n",
      "Jahre abhängig von den Studienvoraussetzungen) ### Studienort Meschede ### Beiträge und Gebühren ### Hauptunterrichtssprache Deutsch (für internationale Bewerbende: Level DSH3 / TestDaf5 / C2) ## Vor Beginn des Elektrotechnik Master-Studiums – Voraussetzungen &amp; Bewerbungsverfahren ### Voraussetzungen ##### Für den viersemestrigen Masterstudiengang - Abschluss eines sechssemestrigen Studiums mit mind. 180 Credits in einem der unten aufgeführten Studiengänge mit einer Gesamtnote von mindestens 2,7 (oder mit einer Gesamtnote von mindestens 3,0 und einer Bachelorarbeit mit einer besseren Note als 2,3) ##### Für den dreisemestrigen Masterstudiengang - Abschluss eines siebensemestrigen Studiums mit einem Umfang von mind. 210 Credits in einem der unten auf geführten Studiengänge mit einer Gesamtnote von mindestens 2,7 (oder mit einer Gesamtnote von mindestens 3,0 und einer Bachelorarbeit mit einer besseren Note als 2,3) ##### Anerkannte Bachelor- oder Diplomstudiengänge - Elektrotechnik - Wirtschaftsingenieurwesen-Elektrotechnik - Maschinenbau - Mechatronik - Wirtschaftsinformatik - der ein anderes gleichwertiges Studium mit vergleichbaren Inhalten und einem Umfang von mindestens 180 bzw. 210 Credits Es müssen mindestens 30 Credits in den Bereichen der Elektrotechnik, der Informations- und Kommunikationstechnik, der Informatik, der Automatisierungstechnik oder der Mechatronik erworben worden sein. ### Bewerbung und Einschreibung Für Deutsche und Deutschen gleichgestellte Bewerber*innen - Wintersemester: i.d.R. Mitte Mai bis bis Ende August jeden Jahres - Sommersemester: i.d.R. Anfang Dezember bis Ende Februar jeden Jahres - Bewerbung über das Bewerbungsportal (Achtung: Bewerbungen sind nur innerhalb des jeweiligen Bewerbungszeitraums möglich!) - Hier finden Sie mehr Informationen zum Bewerbungsverfahren Für Bewerber*innen aus Nicht-EU-Ländern - Wintersemester: i.d.R. Anfang März bis 15. Juli jeden Jahres - Sommersemester: i.d.R. Anfang November bis zum 15. Januar jeden Jahres - Bewerbung je nach Voraussetzung über uni-assist oder unser Bewerbungsportal (Achtung: Bewerbungen sind nur innerhalb des jeweiligen Bewerbungszeitraums möglich!) - Hier finden Sie mehr Informationen zur Bewerbung mit internationalem Abschluss Hier finden Sie Fristen für weitere Bewerbungsgruppen\n",
      "\n",
      "Standort: Meschede, Studiengang: Elektrotechnik, Abschluss: Master\n",
      "# Elektrotechnik M.Eng. ## Meschede 1. Studienangebot 2. Studiengänge 3. Meschede 4. Elektrotechnik M.Eng. ## Master-Studiengang Elektrotechnik ### Industrie 4.0, Smart Grids, autonomes Fahren oder Telemedizin: Bei der Gestaltung moderner vernetzter Produktions- und Dienstleistungsprozesse ist ein Zusammenspiel von IT-Systemen, Kommunikationstechnik sowie der Automatisierungssysteme und Mechatronik äußerst relevant. Der anwendungsorientierte Master Elektrotechnik bietet die Möglichkeit, sich in einem dieser drei Bereiche zu vertiefen, auch berufsbegleitend. Auf einen Blick Was? Anwendungsbezogener Studiengang mit Vertiefungmöglichkeiten Für wen? Absolvent*innen der Bachelorstudiengänge Elektrotechnik, Wirtschaftsingenieurwesen-Elektrotechnik, Maschinenbau, Mechatronik, Wirtschaftsinformatik Warum? Weil das Zusammenspiel der Disziplinen aus den Bereichen der IT-Systeme, der Kommunikationstechnik sowie der Automatisierungssysteme und Mechatronik relevant ist Du hast diesen Studiengang bereits gespeichert! Der Studiengang wurde erfolgreich gemerkt! Vergleichen Sie Studiengänge, vereinbaren Sie einen Beratungstermin oder abonnieren Sie unseren Newsletter. Bewerbungsfristen &amp; Studienstart-Termine - Interessiert? Hier finden Sie die Bewerbungsfristen. - Neugierig? Besuchen Sie unsere Infoveranstaltungen - Für einen gelungenen Start ins Studium sorgen die Erstsemesterbegrüßung und Vorbereitungskurse ## Auf dieser Seite - Der Studiengang MA ET im Überblick - Studienvoraussetzungen - Infos zum Bewerbungsverfahren - Für wen ist dieser Studiengang? - Berufliche Perspektiven - Studi-Stimmen - Studienaufbau / Verlaufsplan - Infoveranstaltungen / Veranstaltungen zum Studienstart - Weitere Infos / Prüfungsordnungen, Modulhandbücher - Kontakt ### Zulassung ### Studienabschluss Master of Engineering (M.Eng.) 90 - 120 ECTS ### Studienmodell - Vollzeitstudium - Berufsverträglich ### Studienbeginn / -dauer - Beginn: Zum Sommer- und Wintersemester - Dauer: 3 - 4 Semester (1,5 oder 2 Jahre abhängig von den Studienvoraussetzungen) ### Studienort Meschede ### Beiträge und Gebühren ### Hauptunterrichtssprache Deutsch (für internationale Bewerbende: Level DSH3 / TestDaf5 / C\n",
      "\n",
      "Standort: Meschede, Studiengang: Elektrotechnik, Abschluss: Master\n",
      "Videokonferenzsystem zur Übertragung der Lehrveranstaltungen eingesetzt, die großteils am späten Nachmittag bzw. frühen Abend angeboten werden. ## Studienverlaufsplan Elektrotechnik M.Eng. | | | | | |-------------|-------------------------------------------|-----------------------------------------------------------|----------------------------| | 1. Semester | Seminar Modellierung und Simulation 1 + 2 | 1 oder 2 Kernmodule | 2 oder 3 Wahlpflichtmodule | | 2. Semester | Seminar Modellierung und Simulation 1 + 2 | 1 oder 2 Kernmodule | 2 oder 3 Wahlpflichtmodule | | 3. Semester | Praxisprojekt mit begleitendem Seminar | Hauptseminar Elektrotechnik (nur viersemestrige Variante) | | | 4. Semester | Masterarbeit | Kolloquium | | ### Legende zum Studienverlaufsplan #### Kernmodule (3 von 4) Aktorik und Mechatronik, IT-Systeme und IT-Projektmanagement, Leitungsgebundene Systeme für die Breitbandkommunikation, Vernetzte Automatisierung #### Wahlpflichtmodule z.B. Audiovisuelle Kommunikationssysteme, Digitale Bildverarbeitung, Funksysteme für die Breitband- und M2M-Kommunikation, Hochfrequenz-Schaltungen und Messsysteme, Digitale Produktion, Industriekommunikation, Sensorsysteme, Softwareentwicklung für Echtzeitsysteme, Spezialgebiete der IT, Systemtechnik elektronischer Medien, Rechtliche und Betriebswirtschaftliche Aspekte der IT und TK ## Infoveranstaltungen / Veranstaltungen zum Studienstart Für einen komfortablen und erfolgreichen Start ins Studium erwarten Sie verschiedene Orientierungsveranstaltungen und Unterstützungsangebote. ## Master-Studiengang Elektrotechnik: Weitere Informationen ### Prüfungsordnung, Modulhandbücher und Verlaufspläne für den Studiengang Elektrotechnik M.Eng. am Standort Meschede Zu den PDFs Prüfungsorganisation Hier finden Sie die Prüfungspläne für den Fachbereich IW in Meschede. Termine für Studieninteressierte Standort Meschede Fachgebiet FAQs ## Fragen zum Studiengang oder zur Studienwahl? Das Team der Allgemeinen Studienberatung hilft Ihnen gerne weiter. - Per Mail studienberatung@fh-swf.de - Per Telefon 02371 566 538 - Nach Absprache per Video\n",
      "\n",
      "Standort: Meschede, Studiengang: Elektrotechnik, Abschluss: Master\n",
      "ich hier berufsbegleitend,was wunderbar funktioniert.\" Sebastian Henke „Weil ich hier die Ruhe bekommen habe, ein erfolgreiches Studium zu absolvieren. Ich habe vorher zwei Semester an der Uni Duisburg studiert, das war mir zu groß. Die kleine Hochschule in Meschede und die Nähe zu den Lehrenden verschafft mir einen großen Vorteil.\" Stefan Lach ## Wie ist das Master-Studium Elektrotechnik aufgebaut? Der Master-Studiengang Elektrotechnik wird in einer viersemestrigen und einer dreisemestrigen Variante angeboten. ### Inhalte des Studiums In den ersten zwei Semestern sind neben den zwei Pflichtmodulen zur Simulation und Modellierung und drei Kernmodulen vier Wahlpflichtmodule zu absolvieren. - IT-Systeme, - Kommunikationstechnik - Automatisierungssysteme und Mechatronik Die Wahlpflichtmodule sind gemäß der drei Schwerpunkte kategorisiert. Über die Wahlpflichtmodule erwerben die Studierenden vertiefte Fach- und Methodenkompetenzen und werden an den aktuellen Stand der Forschung in dem Schwerpunkt ihrer Wahl herangeführt. Zur Schwerpunktbildung trägt ebenfalls die Projektarbeit bei. Ferner erweitern sie ihre Soft Skills, beispielweise in Bezug auf rechtliche, betriebs- oder volkswirtschaftliche Fragestellungen. Durch Laborpraktika, Projektarbeiten und Kleinprojekte wird zudem die Teamarbeit gefördert. Das dritte Semester umfasst ein Hauptseminar sowie ein von der Hochschule begleitetes Praxisprojekt. Für Studierende, die die Voraussetzungen für den dreisemestrigen Masterstudiengang erfüllen, entfällt dieses Semester. Den Abschluss des Studiums bildet im vierten Semester eine praxisbezogene Masterarbeit und eine mündliche Prüfung, das Kolloquium. #### Berufsvertraglich Berufsverträgliches Studium Nicht nur in Präsenz / Vollzeit, sondern auch in Teilzeit: Die Hochschule unterstützt ein berufsverträgliches Studium. Die ersten beiden Semester mit Vorlesungen, Übungen, Laboren und Seminaren können in einer berufsverträglichen Variante auf vier Semester gestreckt werden. Um Studierenden außerhalb der unmittelbaren Region eine Teilnahme zu ermöglichen, wird ein professionelles Videokonferenzsystem zur Übertragung der Lehrveranstaltungen eingesetzt, die großteils am späten Nachmittag bzw. frühen Abend angeboten werden. ## Studienverlaufsplan Elektrotechnik M.Eng. | | | | |\n",
      "\n",
      "Standort: Meschede, Studiengang: Elektrotechnik, Abschluss: Master\n",
      "# Elektrotechnik M.Eng. ## Meschede 1. Studienangebot 2. Studiengänge 3. Meschede 4. Elektrotechnik M.Eng. 5. Prüfungsordnungen # Prüfungsordnungen ## Fachprüfungsordnung 2017 Fachprüfungsordnung Fachprüfungsordnung vom 30. Juni 2017 PDF FPO 2017: Ordnung zur Änderung der FPO (v. 27.08.2020) PDF ## ## ModulhandbuchModulhandbuch FPO 2017: Modulhandbuch PDF ## ## Verlaufspläne*Verlaufspläne FPO 2017: Studienverlaufsplan der dreisemestrigen Variante PDF FPO 2017: Studienverlaufsplan der viersemestrigen Variante PDF Auf dieser Seite - Prüfungsordnungen - Modulhandbücher - Verlaufspläne \\_\\_\\_\\_\\_\\_\\_\\_\\_\\_\\_\\_\\_\\_ *) Rechtlich verbindlich sind ausschließlich die Angaben der jeweils gültigen Prüfungsordnung. Bitte beachten Sie, dass eine Fachprüfungsordnung (FPO) zusammen mit der Rahmenprüfungsordnung (RPO) der Fachhochschule Südwestfalen in der jeweils aktuell gültigen Fassung gilt. - - - - - - ### Initiativen und Mitgliedschaften - Impressum - Datenschutz - Disclaimer - Barrierefreiheit - Sitemap - Kontakt - Cookie Einstellungen - 3810550\n",
      "\n",
      "Standort: Meschede, Studiengang: Elektrotechnik, Abschluss: Master\n",
      "1 | | | | 4 6 | 1 | | | | | | | | | 11 | Hauptseminar Elektrotechnik | 2 | 6 | 1 | | | | | | 2 | 6 | 1 | | | | | | 12 | Praxisprojekt mit begleitendem Seminar 0 | | 24 | 0 | | | | | | 0 | 24 | 0 | | | | | | 13 | Masterarbeit | 0 | 25 | 1 | | | | | | | | 0 | 1 | 25 | | | | 14 | Kolloquium 0 Summe | 39 | 5 120 | 1 13 | 20 | 30 | 5 | 17 30 | 5 | 2 | 30 | 0 1 0 | 5 30 | 2 | 1 | | SWS = Semesterwochenstunden, C = Credits (ECTS-Punkte), P = Modulprüfungen, VL = Vorleistungen (*): Reihenfolge hängt vom Studienbeginn ab (WiSe oder SoSe) Modellierung und Simulation 1 (im WiSe) Modellierung und Simulation 2 (im SoSe), kann vor 1 gehört werden ## Kernmodule (3 aus 4) IT-Systeme und IT-Projektmanagement (im WiSe) Leitungsgebundene Systeme für die Breitbandkommunikation (im WiSe) Vernetzte Automatisierung (im SoSe) Aktorik und Mechatronik (im SoSe) 4 Fachhochschule Südwestfalen, Standort Meschede Fachbereich Ingenieur- und Wirtschaftswissenschaften ## Master-Studiengang Elektrotechnik mit dem Abschluss Master of Engineerung (M. Eng.) - 4-semstrige Variante Studienplan für Studienbeginn ab WS 17/18 | | Elemente des Studiums | Merkmale | Merkmale | Merkmale | 1. Sem.GLYPH&lt;10&gt; | 1. Sem.GLYPH&lt;10&gt; | 1. Sem.GLYPH&lt;10&gt; | 2.\n",
      "\n",
      "Standort: Meschede, Studiengang: Elektrotechnik, Abschluss: Master\n",
      "nach Voraussetzung über uni-assist oder unser Bewerbungsportal (Achtung: Bewerbungen sind nur innerhalb des jeweiligen Bewerbungszeitraums möglich!) - Hier finden Sie mehr Informationen zur Bewerbung mit internationalem Abschluss Hier finden Sie Fristen für weitere Bewerbungsgruppen. ## An wen richtet sich der Master-Studiengang Elektrotechnik? Das Master-Studium Elektrotechnik richtet sich an Absolvent*innen der folgenden Bachelor-Studiengänge, die sich für spannende Berufsfelder weiterqualifizieren möchten: - Elektrotechnik - Wirtschaftsingenieurwesen-Elektrotechnik - Maschinenbau - Mechatronik - Wirtschaftsinformatik. Gleich ob Industrie 4.0, Smart Grids, autonomes Fahren oder Telemedizin: Im Zuge der Gestaltung moderner vernetzter Produktions- und Dienstleistungsprozesse ist ein Zusammenspiel der Disziplinen aus den Bereichen der IT-Systeme, der Kommunikationstechnik sowie der Automatisierungssysteme und Mechatronik äußerst relevant. Wer sich dafür interessiert, sollte den Master-Studiengang Elektrotechnik in Meschede studieren. ### Ankerpunkt ### Welche Berufsaussichten bietet das Master-Studium der Elektrotechnik? - Ingenieurbüros (Planung, Betrieb von Netzen, IT-Infrastruktur oder Automatisierungssystemen) - IT-Abteilungen großer und mittelständischer Unternehmen - Telekommunikations-Anbieter und große Netzbetreiber - Systemanbieter für die Automatisierungstechnik und Mechatronik - TK-/IT-Anwendungsentwicklung, Anwendungsentwicklung für Automatisierungssysteme - Konzeption und Projektierung mechatronischer Systeme oder Produktionsanlagen - Öffentliche Verwaltung (z.B. Wirtschaftsförderung, kommunale Rechenzentren, Bundesnetzagentur) - Selbstständigkeit (z.B. Beratung, Planung) Der Masterabschluss eröffnet darüber hinaus den Zugang zum höheren Dienst und zur Promotion. „Ich habe mein Bachelorstudium dual bei der Firma Hella in Lippstadt absolviert und arbeite jetzt dort im Bereich Fahrzeugelektronik. Mein Masterstudium bringt mich in meinem speziellen Schwerpunkt weiter, einer Kombination aus Simulation, Softwareentwicklung und Hochfrequenztechnik. Zudem studiere ich hier berufsbegleitend,was wunderbar funktioniert.\" Sebastian Henke „Weil ich hier die Ruhe bekommen habe, ein erfolgreiches Studium zu absolvieren. Ich habe vorher zwei Semester an der Uni Duisburg studiert, das war mir\n",
      "\n",
      "Standort: Meschede, Studiengang: Elektrotechnik, Abschluss: Master\n",
      "fähige Bachelor-Module - Anlage 5: Nicht-technische Wahlpflichtmodule: Mastermodule - Anlage 6: Nicht-technische Wahlpflichtmodule: masterfähige Bachelormodule ## Teil 1 Allgemeines ## § 1 ## Geltungsbereich Diese Fachprüfungsordnung (FPO) für den Masterstudiengang Elektrotechnik im Fachbereich Ingenieur- und Wirtschaftswissenschaften in Meschede gilt zusammen mit der jeweils aktuell gültigen Fassung der Rahmenprüfungsordnung (RPO) der Fachhochschule Südwestfalen. ## § 2 Hochschulgrad Auf Grund der bestandenen Masterprüfung gemäß § 2 RPO verleiht die Fachhochschule Südwestfalen in dem Masterstudiengang Elektrotechnik den akademischen Grad 'Master of Engineering', Kurzform 'M.Eng.'. ## § 3 Spezielle Zugangsvoraussetzungen - (1) Neben den allgemeinen Zugangsvoraussetzungen gemäß § 3 RPO gelten folgende Regelungen: - a) Das Studium mit der viersemestrigen Regelstudienzeit kann begonnen werden, wenn einer der Bacheloroder Diplom-Studiengänge der Elektrotechnik, des Wirtschaftsingenieurwesens-Elektrotechnik, des Maschinenbaus, der Mechatronik oder der Wirtschaftsinformatik mit einer Gesamtnote von mindestens 2,7 oder mit einer Gesamtnote von mindestens 3,0 und einer Bachelorarbeit mit einer besseren Note als 2,3 abgeschlossen wurde und dabei mindestens 30 Credits in den Bereichen der Elektrotechnik, der Informations- und Kommunikationstechnik, der Informatik, der Automatisierungstechnik oder der Mechatronik erworben wurden. Das Studium kann auch begonnen werden, wenn ein anderes gleichwertiges Studium mit vergleichbaren Inhalten und einem Umfang von mindestens 180 Credits mit einer Gesamtnote von mindestens 2,7 oder mit einer Gesamtnote von mindestens 3,0 und einer Bachelorarbeit mit einer besseren Note als 2,3 abgeschlossen wurde. Über die Gleichwertigkeit des Studiums entscheidet der Prüfungsausschuss. - b) Das Studium mit der dreisemestrigen Regelstudienzeit kann begonnen werden, wenn die Bedingungen gemäß Buchstabe a) vorliegen mit der Maßgabe, dass ein Bachelorstudiengang mit einem Umfang von 210 ECTS-Punkten oder ein Diplomstudiengang absolviert wurde. - (2) Studienbewerberinnen und Studienbewerber, die den gemäß Absatz 1 geforderten Studienabschluss nicht in einem deutschsprachigen Studiengang erworben haben\n",
      "\n",
      "Standort: Meschede, Studiengang: Elektrotechnik, Abschluss: Master\n",
      "Elektrotechnischen Seminars. - (10) Durch das Bestehen des Hauptseminars Elektrotechnik werden sechs Credits erworben. ## Teil 3 Das Studium ## § 21 ## Masterarbeit - (1) Der Umfang der Masterarbeit gemäß § 28 Absatz 1 RPO beträgt in der Regel etwa 50 Seiten à etwa 50 Zeilen. Die Bearbeitungszeit (Zeitraum von der Ausgabe bis zur Abgabe der Masterarbeit) beträgt höchstens 20 Wochen, bei einem empirischen oder experimentellen Thema höchstens 23 Wochen. Das Thema und die Aufgabenstellung müssen so beschaffen sein, dass die Masterarbeit innerhalb der vorgegebenen Frist abgeschlossen werden kann. Auf einen vor Ablauf der Frist gestellten begründeten Antrag der Kandidatin oder des Kandidaten kann der Prüfungsausschuss ausnahmsweise eine Nachfrist der Bearbeitungszeit von bis zu vier Wochen gewähren. Die Betreuerin oder der Betreuer soll zu dem Antrag gehört werden. - (2) In Ergänzung zu § 28 Absatz 2 RPO gilt für die Betreuung der Masterarbeit, dass diese durch folgende Gruppen erfolgen kann: - a) Professorinnen und Professoren des Standorts Meschede, - b) Honorarprofessorinnen und Honorarprofessoren, Lehrkräfte für besondere Aufgaben sowie Lehrbeauftragte des Standorts Meschede, wenn feststeht, dass ein geeignetes Thema für eine Masterarbeit vorliegt. Dies bedarf der Zustimmung des Prüfungsausschusses, - c) andere Professorinnen und Professoren sowie Mitarbeiterinnen und Mitarbeiter von Forschungseinrichtungen außerhalb des Hochschulbereichs, wenn feststeht, dass ein geeignetes Thema für eine Masterarbeit vorliegt. Dies bedarf der Zustimmung des Prüfungsausschusses. ## § 22 Zulassung zur Masterarbeit Ergänzend zu § 29 Absatz 1 RPO kann zur Masterarbeit nur zugelassen werden, wer in den Modulprüfungen in den Pflicht- und Wahlpflichtmodulen des Studiums gemäß Anlage 1, 2, 3, 4, 5 und 6 mindestens 48 Credits erworben hat, wobei mindestens 36 Credits aus den Anlagen 1 und 2 stammen müssen, und in dem viersemestrigen Master-Studiengang die Praxisphase erfolgreich absolviert hat. ## § 23 ## Durchführung und Bewertung der Masterarbeit - (1) Die Rückgabe des Themas der Masterarbeit gemäß § 30 Absatz 2 RPO kann nur einmal und nur innerhalb der ersten vier Wochen des Bearbeitungszeitraums ohne Angaben von Gründen erfolgen. - (2 ) Abweichend von\n",
      "\n",
      "Standort: Meschede, Studiengang: Elektrotechnik, Abschluss: Master\n",
      "## Ordnung ## zur Änderung der Fachprüfungsordnung für den Masterstudiengang Elektrotechnik an der Fachhochschule Südwestfalen, Standort Meschede vom 27. August 2020 Auf Grund des § 2 Absatz 4 und des § 64 Absatz 1 des Gesetzes über die Hochschulen des Landes Nordrhein-Westfalen (Hochschulgesetz - HG) vom 16. September 2014 (GV. NRW. S. 547), zuletzt geändert durch Gesetz vom 14. April 2020 (GV. NRW. S. 218b), und des § 1 Absatz 1 der Rahmenprüfungsordnung für Bachelor- und Masterstudiengänge an der Fachhochschule Südwestfalen, hat der Fachbereichsrat des Fachbereichs Ingenieur- und Wirtschaftswissenschaften der Fachhochschule Südwestfalen die folgende Ordnung erlassen: ## Artikel I Die Fachprüfungsordnung für den Masterstudiengang Elektrotechnik an der Fachhochschule Südwestfalen, Standort Meschede vom 30. Juni 2017 (Amtliche Bekanntmachung der Fachhochschule Südwestfalen - Verkündungsblatt der Fachhochschule Südwestfalen - vom 14.07.2017) wird wie folgt geändert: - 1. § 19 Absatz 2 erhält folgende Fassung: - '(2) Zur Praxisphase wird auf Antrag zugelassen, wer in den Modulprüfungen der Anlagen 1 und 2 18 Credits erworben hat. Im Antrag müssen Zeitraum, Unternehmen bzw. Institution, die zu bearbeitende Thematik und die betreuende Professorin oder der betreuende Professor des Fachbereichs Ingenieurund Wirtschaftswissenschaften der Fachhochschule Südwestfalen genannt werden. Über die Zulassung zum Praxisphase entscheidet der Prüfungsausschuss. Mit der Antragstellung erklärt die oder der Studierende verbindlich, dass sie oder er die Praxisphase absolvieren möchte.' - 2. § 20 Absatz 3 erhält folgende Fassung: - '(3) Zum Hauptseminar Elektrotechnik wird auf Antrag zugelassen, wer: - a) an der Fachhochschule Südwestfalen eingeschrieben oder als Zweithörerin oder als Zweithörer gemäß § 52 Absatz 2 HG zugelassen ist, - b) in den Modulprüfungen der Anlagen 1 und 2 18 Credits erworben hat.' - 3. § 22 erhält folgende Fassung: 'Ergänzend zu § 29 Absatz 1 RPO kann zur Masterarbeit nur zugelassen werden, wer in den Modulprüfungen in den Pflicht-\n",
      "\n",
      "\n",
      "https://www.fh-swf.de/de/studienangebot/studiengaenge/elektrotechnik_m_eng_/index.php\n",
      "https://www.fh-swf.de/de/studienangebot/studiengaenge/elektrotechnik_m_eng_/pruefungsordnungen_78/index.php\n",
      "https://www.fh-swf.de/media/neu_np/hv_2/dateien_sg_2_4/verlaufsplaene_modulhandbuecher_1/meschede_6/Modulhandbuch_ET_MA_2024_12.pdf\n",
      "https://www.fh-swf.de/media/neu_np/hv_2/downloads_der_studiengangsseiten/fb_iw_1/elektrotechnik_m_eng_/FPO_MA_ETM_2017.pdf\n",
      "https://www.fh-swf.de/media/neu_np/hv_2/downloads_der_studiengangsseiten/fb_iw_1/elektrotechnik_m_eng_/1_AeO_FPO_MA_ETM_17.pdf\n"
     ]
    }
   ],
   "source": [
    "first_question_context, links = keep_relevant_metadata(first_question_context)\n",
    "first_question_context = format_page_content(first_question_context)\n",
    "print(first_question_context)\n",
    "for link in links:\n",
    "    print(link)"
   ]
  },
  {
   "cell_type": "code",
   "execution_count": 16,
   "id": "2caa33ec0f0a1c24",
   "metadata": {
    "ExecuteTime": {
     "end_time": "2025-03-10T10:20:17.407016Z",
     "start_time": "2025-03-10T10:20:17.404719Z"
    }
   },
   "outputs": [],
   "source": [
    "# Kontext und Frage in Prompt einsetzen:\n",
    "prompt = rag_prompt.invoke({\"context\": first_question_context, \"query\": fragen[1]})"
   ]
  },
  {
   "cell_type": "code",
   "execution_count": 17,
   "id": "47dd5975b8870e47",
   "metadata": {
    "ExecuteTime": {
     "end_time": "2025-03-10T10:21:05.009940Z",
     "start_time": "2025-03-10T10:20:19.909387Z"
    }
   },
   "outputs": [],
   "source": [
    "# Antwort generieren\n",
    "answer = llm.invoke(prompt) # Answer ist eine AIMessage aus dem LangChain Framework"
   ]
  },
  {
   "cell_type": "code",
   "execution_count": 18,
   "id": "893d6d5d91f2a1e0",
   "metadata": {
    "ExecuteTime": {
     "end_time": "2025-03-10T10:21:08.580121Z",
     "start_time": "2025-03-10T10:21:08.571291Z"
    }
   },
   "outputs": [
    {
     "name": "stdout",
     "output_type": "stream",
     "text": [
      "content='Für Deutsche und Deutsche gleichgestellte Bewerber*innen können sich im Wintersemester von Mitte Mai bis Ende August und im Sommersemester von Anfang Dezember bis Ende Februar jedes Jahres für den Master-Studiengang in Meschede einschreiben. Für Bewerber*innen aus Nicht-EU-Ländern gelten andere Fristen: Im Wintersemester ist die Einschreibung von Anfang März bis 15. Juli und im Sommersemester von Anfang November bis zum 15. Januar jedes Jahres möglich.' additional_kwargs={} response_metadata={'model': 'llama3.1:8b', 'created_at': '2025-03-10T10:21:04.994246Z', 'done': True, 'done_reason': 'stop', 'total_duration': 45074852250, 'load_duration': 3112675042, 'prompt_eval_count': 6309, 'prompt_eval_duration': 33810000000, 'eval_count': 115, 'eval_duration': 8141000000, 'message': Message(role='assistant', content='', images=None, tool_calls=None)} id='run-8be8f717-bc7b-49c7-b724-5b32acef9489-0' usage_metadata={'input_tokens': 6309, 'output_tokens': 115, 'total_tokens': 6424}\n",
      "Für Deutsche und Deutsche gleichgestellte Bewerber*innen können sich im Wintersemester von Mitte Mai bis Ende August und im Sommersemester von Anfang Dezember bis Ende Februar jedes Jahres für den Master-Studiengang in Meschede einschreiben. Für Bewerber*innen aus Nicht-EU-Ländern gelten andere Fristen: Im Wintersemester ist die Einschreibung von Anfang März bis 15. Juli und im Sommersemester von Anfang November bis zum 15. Januar jedes Jahres möglich.\n"
     ]
    }
   ],
   "source": [
    "print(answer)\n",
    "print(answer.content)\n",
    "# Damit sieht man auch, wie viele Token genutzt werden. Das Kontextfenster des LLM für die Antworten kann auf ca. 10000 festgelegt werden. Maximal ca. 5000 Token + ein Paar für Metadaten + Anweisungen aus dem Prompt. Wenn alles auf dem Rechner läuft mit dem Frontend und der Datenbank muss das Kontextfenster eh kleiner dimensioniert sein, da die Speicherkapazität sonst nicht mehr reicht."
   ]
  },
  {
   "cell_type": "code",
   "execution_count": 30,
   "id": "5bde37956e2f7b2b",
   "metadata": {
    "ExecuteTime": {
     "end_time": "2025-03-10T10:29:17.197912Z",
     "start_time": "2025-03-10T10:29:17.191250Z"
    }
   },
   "outputs": [],
   "source": [
    "search_kwargs = {\"k\": 10}\n",
    "basic_token_based_retriever = token_client.as_retriever(search_kwargs=search_kwargs)"
   ]
  },
  {
   "cell_type": "markdown",
   "id": "92476bf57afbf3d",
   "metadata": {},
   "source": [
    "Durch den Ablauf hat man auch Zugriff auf die abgerufenen Dokumente.\n",
    "D. h. es können z. B. noch die Metadaten entfernt werden, statt sie mit an das LLM zu geben.\n",
    "Ggf. können nur die relevanten Metadaten (Standort, Studiengang, Abschluss) an das LLM gegeben werden.\n",
    "Das könnte hilfreich sein, wenn Fragen ohne Filter gestellt werden, da der Kontext eines jeweiligen Dokumentes dann zugeordnet werden kann.\n",
    "Werden z. B. Dokumente für zwei gleichnamige Bachelorstudiengänge abgerufen, kann anhand des Standortes in der Frage und in den Metadaten eine Zuordnung erfolgen.\n",
    "Bei dem Beispiel hier ist das noch möglich, bei 84 Studiengängen aber nicht mehr. Die Anzahl abgerufener Dokumente ist limitiert und das Kontextfenster des LLM auch.\n",
    "\n",
    "Für mich ist das der bessere Weg. Damit könnten auch die Links ausgegeben werden. Damit kann man auf potenziell relevante Dokumente verweisen."
   ]
  },
  {
   "cell_type": "code",
   "execution_count": 31,
   "id": "179731b07639fa47",
   "metadata": {
    "ExecuteTime": {
     "end_time": "2025-03-10T10:29:19.030659Z",
     "start_time": "2025-03-10T10:29:19.027283Z"
    }
   },
   "outputs": [],
   "source": [
    "qa_chain = (\n",
    "    {\n",
    "        \"context\": basic_token_based_retriever,\n",
    "        \"query\": RunnablePassthrough(),\n",
    "    }\n",
    "    | rag_prompt\n",
    "    | llm\n",
    "    | StrOutputParser()\n",
    ")"
   ]
  },
  {
   "cell_type": "markdown",
   "id": "5c5db0236118b8fa",
   "metadata": {},
   "source": [
    "Hier werden jetzt leider ganze Dokumente mit den Metadaten an das LLM gegeben. Das ist jedoch nicht mit allen Metadaten sinnvoll.\n",
    "\n",
    "D. h. es sollte nur der page_content übergeben werden bzw. unnötige Metadaten dürfen nicht mit in den Prompt."
   ]
  },
  {
   "cell_type": "code",
   "execution_count": 32,
   "id": "6c3a5a3d74fb064d",
   "metadata": {
    "ExecuteTime": {
     "end_time": "2025-03-10T10:30:20.335405Z",
     "start_time": "2025-03-10T10:29:21.637074Z"
    }
   },
   "outputs": [],
   "source": [
    "answer = qa_chain.invoke(\"Wann kann ich mich für den Master in Elektrotechnik in Meschede einschreiben?\")"
   ]
  },
  {
   "cell_type": "code",
   "execution_count": 35,
   "id": "7fd2a18d9fc31e9c",
   "metadata": {
    "ExecuteTime": {
     "end_time": "2025-03-10T10:31:06.981686Z",
     "start_time": "2025-03-10T10:31:06.968561Z"
    }
   },
   "outputs": [
    {
     "data": {
      "text/plain": [
       "'Für den Masterstudiengang Elektrotechnik an der Fachhochschule Südwestfalen in Meschede gibt es zwei Bewerbungszeiträume pro Jahr. Für Deutsche und Deutsche gleichgestellte Bewerber*innen ist die Einschreibung für das Wintersemester i.d.R. Mitte Mai bis Ende August jeden Jahres möglich, während für das Sommersemester i.d.R. Anfang Dezember bis Ende Februar jeden Jahres der Bewerbungszeitraum geöffnet ist.'"
      ]
     },
     "execution_count": 35,
     "metadata": {},
     "output_type": "execute_result"
    }
   ],
   "source": [
    "answer"
   ]
  },
  {
   "cell_type": "code",
   "execution_count": 36,
   "id": "6597c6c05b0213a",
   "metadata": {
    "ExecuteTime": {
     "end_time": "2025-03-10T10:31:44.815598Z",
     "start_time": "2025-03-10T10:31:07.043025Z"
    }
   },
   "outputs": [],
   "source": [
    "answer = qa_chain.invoke(\"Welche Literatur ist relevant für das Modul Mathematik im Bachelorstudiengang Elektrotechnik in Soest?\")"
   ]
  },
  {
   "cell_type": "code",
   "execution_count": 37,
   "id": "ba31fe9a889c421f",
   "metadata": {
    "ExecuteTime": {
     "end_time": "2025-03-10T10:31:44.991573Z",
     "start_time": "2025-03-10T10:31:44.986099Z"
    }
   },
   "outputs": [
    {
     "data": {
      "text/plain": [
       "'Die relevanten Lehrbücher für das Modul \"Mathematik\" im Bachelor-Studiengang Elektrotechnik in Soest sind:\\n\\n1. Bolte, Ekkehard: \"Elektrische Maschinen\", Springer, aktuelle Auflage\\n2. Hofmann, Wilfried: \"Elektrische Maschinen\", Pearson Studium, aktuelle Auflage\\n3. Müller, Germar / Ponick, Bernd: \"Grundlagen elektrischer Maschinen\", Wiley-VCH, aktuelle Auflage\\n4. Schröder, Dierk: \"Elektrische Antriebe - Regelung von Antriebssystemen\", Springer, aktuelle Auflage\\n\\nDiese Lehrbücher sind im Modulhandbuch für das Modul \"Mathematik\" im Bachelor-Studiengang Elektrotechnik in Soest aufgeführt.'"
      ]
     },
     "execution_count": 37,
     "metadata": {},
     "output_type": "execute_result"
    }
   ],
   "source": [
    "answer"
   ]
  },
  {
   "cell_type": "code",
   "execution_count": 38,
   "id": "f7925845ee316a5a",
   "metadata": {
    "ExecuteTime": {
     "end_time": "2025-03-10T10:32:34.432866Z",
     "start_time": "2025-03-10T10:31:45.175938Z"
    }
   },
   "outputs": [],
   "source": [
    "answer = qa_chain.invoke(\"Welche Fachgebiete sind an der FH vertreten?\")"
   ]
  },
  {
   "cell_type": "code",
   "execution_count": 39,
   "id": "82ad7bb5b84a814e",
   "metadata": {
    "ExecuteTime": {
     "end_time": "2025-03-10T10:32:34.612493Z",
     "start_time": "2025-03-10T10:32:34.596913Z"
    }
   },
   "outputs": [
    {
     "data": {
      "text/plain": [
       "'Die Fachhochschule Südwestfalen (FH-SWF) hat mehrere Fachgebiete. Dazu gehören:\\n\\n* Informatik und Naturwissenschaften\\n* Maschinenbau\\n* Technische Betriebswirtschaft\\n\\nDiese Fachgebiete sind an verschiedenen Standorten der FH-SWF vertreten, darunter Meschede, Hagen und Iserlohn.\\n\\nIn den genannten Dokumenten finden sich auch Belege für die folgenden Studiengänge:\\n\\n* Wirtschaftsinformatik\\n* Elektrotechnik\\n\\nEs ist jedoch nicht möglich, eine vollständige Liste aller an der FH-SWF vertretenen Fachgebiete oder Studiengänge aus dem bereitgestellten Kontext abzuleiten.'"
      ]
     },
     "execution_count": 39,
     "metadata": {},
     "output_type": "execute_result"
    }
   ],
   "source": [
    "answer"
   ]
  },
  {
   "cell_type": "code",
   "execution_count": 40,
   "id": "9ffa66b35a4c8744",
   "metadata": {
    "ExecuteTime": {
     "end_time": "2025-03-10T10:33:20.774354Z",
     "start_time": "2025-03-10T10:32:34.674244Z"
    }
   },
   "outputs": [],
   "source": [
    "answer = qa_chain.invoke(\"Ist eine Beurlaubung während des Studiums möglich?\")"
   ]
  },
  {
   "cell_type": "code",
   "execution_count": 41,
   "id": "dd85ce7c2349927f",
   "metadata": {
    "ExecuteTime": {
     "end_time": "2025-03-10T10:33:20.952753Z",
     "start_time": "2025-03-10T10:33:20.949007Z"
    }
   },
   "outputs": [
    {
     "data": {
      "text/plain": [
       "'Ja, eine Beurlaubung während des Studiums ist möglich. Nachweislich müssen jedoch wichtige Gründe vorliegen und die Beurlaubungsgründe müssen mindestens die Hälfte des Semesters andauern. Die Beurlaubung kann für ein Semester gewährt werden, beim Freiwilligendienst für zwei Semester.'"
      ]
     },
     "execution_count": 41,
     "metadata": {},
     "output_type": "execute_result"
    }
   ],
   "source": [
    "answer"
   ]
  },
  {
   "cell_type": "code",
   "execution_count": 42,
   "id": "fd660db267ed034e",
   "metadata": {
    "ExecuteTime": {
     "end_time": "2025-03-10T10:34:30.589772Z",
     "start_time": "2025-03-10T10:33:21.085045Z"
    }
   },
   "outputs": [],
   "source": [
    "answer = qa_chain.invoke(\"Welche Studienmodelle werden angeboten?\")"
   ]
  },
  {
   "cell_type": "code",
   "execution_count": 43,
   "id": "578e4ab75027ffbd",
   "metadata": {
    "ExecuteTime": {
     "end_time": "2025-03-10T10:34:30.885680Z",
     "start_time": "2025-03-10T10:34:30.881010Z"
    }
   },
   "outputs": [
    {
     "data": {
      "text/plain": [
       "'Die Fachhochschule Südwestfalen (FH-SWF) bietet verschiedene Studienmodelle an, darunter:\\n\\n1. Vollzeitstudium: Das Vollzeitstudium ist das meist verbreitete Studienmodell. Die Studenten studieren in der Regel in Präsenz am Standort ihres Studiengangs und legen einen durchschnittlichen Arbeitsaufwand von 40 Stunden pro Woche fest.\\n2. Teilzeitstudium: Das Teilzeitstudium bietet die Möglichkeit, neben dem Studium noch andere Verpflichtungen im Leben nachzukommen. Die Studenten studieren in der Regel in Präsenz am Standort ihres Studiengangs, jedoch mit einer reduzierten Modulanzahl pro Semester.\\n3. Kooperatives Studienmodell: Das kooperative Studienmodell ermöglicht es den Studenten, während des Studiums praktische Erfahrungen in Unternehmen zu sammeln. Dabei wird das Studium durch Praxisblöcke in der vorlesungsfreien Zeit im Unternehmen ergänzt.\\n4. Duales Studium: Das duale Studium ist ein Studienmodell, bei dem Theorie und Praxis eng miteinander verknüpft werden. Die Studenten lernen an der Hochschule und sammeln gleichzeitig praktische Erfahrungen in einem Unternehmen.\\n\\nDiese Informationen sind auf der Website der FH-SWF unter der Rubrik \"Studienmodelle\" zu finden.'"
      ]
     },
     "execution_count": 43,
     "metadata": {},
     "output_type": "execute_result"
    }
   ],
   "source": [
    "answer"
   ]
  },
  {
   "cell_type": "code",
   "execution_count": 44,
   "id": "e2ceebb5cabdc055",
   "metadata": {
    "ExecuteTime": {
     "end_time": "2025-03-10T10:35:27.974771Z",
     "start_time": "2025-03-10T10:34:31.107354Z"
    }
   },
   "outputs": [],
   "source": [
    "answer = qa_chain.invoke(\"Wie viele Seiten muss ich in meiner Bachelorarbeit in Wirtschaftsinformatik in Hagen schreiben?\")"
   ]
  },
  {
   "cell_type": "code",
   "execution_count": 45,
   "id": "67b32aa7215a4832",
   "metadata": {
    "ExecuteTime": {
     "end_time": "2025-03-10T10:35:28.118371Z",
     "start_time": "2025-03-10T10:35:28.112503Z"
    }
   },
   "outputs": [
    {
     "data": {
      "text/plain": [
       "'In den Dokumenten, die mir vorliegen, kann ich keine spezifische Anforderung an die Länge einer Bachelorarbeit in Wirtschaftsinformatik finden. Es wird jedoch erwähnt, dass es für das Studium der Wirtschaftsinformatik 180-210 ECTS Punkte gibt und dass ein Bachelor-Studiengang normalerweise 3 Jahre dauert.'"
      ]
     },
     "execution_count": 45,
     "metadata": {},
     "output_type": "execute_result"
    }
   ],
   "source": [
    "answer"
   ]
  },
  {
   "cell_type": "code",
   "execution_count": 46,
   "id": "58b5a0a02b13611f",
   "metadata": {
    "ExecuteTime": {
     "end_time": "2025-03-10T10:36:37.778233Z",
     "start_time": "2025-03-10T10:35:28.279506Z"
    }
   },
   "outputs": [],
   "source": [
    "answer = qa_chain.invoke(\"Wie sind Portfolioprüfungen im Bachelorstudiengang Elektrotechnik in Soest aufgebaut?\")"
   ]
  },
  {
   "cell_type": "code",
   "execution_count": 47,
   "id": "de342190eb0c0ff1",
   "metadata": {
    "ExecuteTime": {
     "end_time": "2025-03-10T10:36:37.954628Z",
     "start_time": "2025-03-10T10:36:37.948434Z"
    }
   },
   "outputs": [
    {
     "data": {
      "text/plain": [
       "'Portfolioprüfungen im Bachelorstudiengang Elektrotechnik in Soest sind laut den bereitgestellten Dokumenten keine explizite Prüfungsform. Es wird jedoch erwähnt, dass das Modul \"Portfolio\" als Wahlpflichtmodul angeboten wird und in der Fachprüfungsordnung (FPO) 2020 im Teil 2 als § 14 definiert ist.\\n\\nIn diesem Abschnitt heißt es: \"§ 14 Portfolio\\n\\n(1) Das Portfolio besteht aus einer Sammlung von Dokumenten, die die Leistungen des Studierenden während der gesamten Studiendauer dokumentieren. (2) Die Dokumente können in Form von Schriftdokumenten, Bildern oder Videos erstellt werden und müssen eine klare Struktur aufweisen.\"\\n\\nEs wird jedoch nicht spezifiziert, wie die Prüfung des Portfolios durchgeführt wird.'"
      ]
     },
     "execution_count": 47,
     "metadata": {},
     "output_type": "execute_result"
    }
   ],
   "source": [
    "answer"
   ]
  },
  {
   "cell_type": "code",
   "execution_count": 48,
   "id": "750017cf0a5e4804",
   "metadata": {
    "ExecuteTime": {
     "end_time": "2025-03-10T10:37:46.929325Z",
     "start_time": "2025-03-10T10:36:38.123932Z"
    }
   },
   "outputs": [],
   "source": [
    "answer = qa_chain.invoke(\"Was muss ich beachten, wenn ich bei einer Prüfung krank bin?\")"
   ]
  },
  {
   "cell_type": "code",
   "execution_count": 49,
   "id": "2fa989d733ef2241",
   "metadata": {
    "ExecuteTime": {
     "end_time": "2025-03-10T10:37:47.204453Z",
     "start_time": "2025-03-10T10:37:47.197927Z"
    }
   },
   "outputs": [
    {
     "data": {
      "text/plain": [
       "'Wenn Sie bei einer Prüfung krank sind, sollten Sie sich unverzüglich an einen Arzt wenden und ein ärztliches Attest ausstellen lassen. Dieses Attest muss spätestens innerhalb von drei Werktagen nach der Prüfung beim Studierenden-Servicebüro eingereicht werden.\\n\\nEs ist wichtig zu beachten, dass Sie sich nicht ohne ärztliche Bescheinigung von einer Prüfung zurückziehen sollten. Wenn Sie bereits an einer Prüfung teilgenommen haben und sich dann als krank erweisen, müssen Sie ein qualifiziertes Attest vorlegen, das besagt, dass Sie zum Zeitpunkt der Prüfung prüfungsunfähig waren.\\n\\nEs ist auch wichtig zu beachten, dass die Vorlage eines ärztlichen Attests nicht automatisch zur Genehmigung des Rücktritts führt. Der Prüfungsausschuss muss den Antrag auf Rücktritt noch genehmigen.\\n\\nWenn Sie sich entscheiden, von einer Prüfung zurückzutreten, sollten Sie dies so schnell wie möglich tun, da der Rücktritt bis 7 Tage vor der Prüfung ohne weitere Nachweise völlig unproblematisch ist.'"
      ]
     },
     "execution_count": 49,
     "metadata": {},
     "output_type": "execute_result"
    }
   ],
   "source": [
    "answer"
   ]
  },
  {
   "cell_type": "code",
   "execution_count": 50,
   "id": "c2f9a5d814111b93",
   "metadata": {
    "ExecuteTime": {
     "end_time": "2025-03-10T10:38:57.264905Z",
     "start_time": "2025-03-10T10:37:47.450207Z"
    }
   },
   "outputs": [],
   "source": [
    "answer = qa_chain.invoke(\"Was sind die Inhalte im Modul IT-Sicherheit im Bachelorstudiengang Elektrotechnik in Hagen?\")"
   ]
  },
  {
   "cell_type": "code",
   "execution_count": 51,
   "id": "23211a64e66bcfc",
   "metadata": {
    "ExecuteTime": {
     "end_time": "2025-03-10T10:38:57.637326Z",
     "start_time": "2025-03-10T10:38:57.631668Z"
    }
   },
   "outputs": [
    {
     "data": {
      "text/plain": [
       "'Das Modul IT-Sicherheit soll die Studierenden für die Gefahren sensibilisieren, die aus einer absichtlich oder unabsichtlich herbeigeführten Einwirkung resultieren. Ausgehend von der Definition der Grundwerte der IT-Sicherheit erfolgt zunächst eine Betrachtung der aus Malware resultierenden Gefährdungen. Anschließend geht das Modul auf die Gefahren bei der Internetkommunikation und die Gefährdungen von Webanwendungen ein. Zu den identifizierten Gefährdungen werden, dem aktuellem Stand der Technik entsprechend, mögliche Gegenmaßnahmen identifiziert, die zur Abwehr oder zumindest zur Milderung der Gefahren eingesetzt werden können. Hierbei wird besonders auf den Einsatz von kryptographischen Verfahren zur Absicherung der Authentizität, Vertraulichkeit und Integrität von Informationen eingegangen. Ergänzend hierzu wird auf weitere ausgewählte infrastrukturelle Maßnahmen eingegangen, die einen Einfluss auf die Sicherheit der Informationstechnologie haben.'"
      ]
     },
     "execution_count": 51,
     "metadata": {},
     "output_type": "execute_result"
    }
   ],
   "source": [
    "answer"
   ]
  },
  {
   "cell_type": "code",
   "execution_count": 52,
   "id": "4d6f998599d3abe6",
   "metadata": {
    "ExecuteTime": {
     "end_time": "2025-03-10T10:39:52.227557Z",
     "start_time": "2025-03-10T10:38:57.877950Z"
    }
   },
   "outputs": [],
   "source": [
    "answer = qa_chain.invoke(\"Wie lange dauern die Klausuren im Bachelorstudiengang Wirtschaftsinformatik in Hagen?\")"
   ]
  },
  {
   "cell_type": "code",
   "execution_count": 53,
   "id": "14542d36784c00cb",
   "metadata": {
    "ExecuteTime": {
     "end_time": "2025-03-10T10:39:52.368302Z",
     "start_time": "2025-03-10T10:39:52.362347Z"
    }
   },
   "outputs": [
    {
     "data": {
      "text/plain": [
       "'Die Klausuren im Bachelorstudiengang Wirtschaftsinformatik in Hagen dauern jeweils 45-60 Minuten.'"
      ]
     },
     "execution_count": 53,
     "metadata": {},
     "output_type": "execute_result"
    }
   ],
   "source": [
    "answer"
   ]
  },
  {
   "cell_type": "code",
   "execution_count": null,
   "id": "bf418e8ed423742b",
   "metadata": {
    "ExecuteTime": {
     "end_time": "2025-03-10T10:39:52.440882Z",
     "start_time": "2025-03-10T10:39:52.438937Z"
    }
   },
   "outputs": [],
   "source": []
  },
  {
   "cell_type": "markdown",
   "id": "fbb980aed9653e34",
   "metadata": {},
   "source": [
    "Grundsätzlich funktioniert damit der Abruf der Dokumente und das Generieren von Antworten."
   ]
  }
 ],
 "metadata": {
  "kernelspec": {
   "display_name": "Python 3",
   "language": "python",
   "name": "python3"
  },
  "language_info": {
   "codemirror_mode": {
    "name": "ipython",
    "version": 2
   },
   "file_extension": ".py",
   "mimetype": "text/x-python",
   "name": "python",
   "nbconvert_exporter": "python",
   "pygments_lexer": "ipython2",
   "version": "2.7.6"
  }
 },
 "nbformat": 4,
 "nbformat_minor": 5
}
