{
 "cells": [
  {
   "cell_type": "code",
   "id": "initial_id",
   "metadata": {
    "collapsed": true,
    "ExecuteTime": {
     "end_time": "2025-03-16T11:55:35.153161Z",
     "start_time": "2025-03-16T11:55:35.148767Z"
    }
   },
   "source": [
    "from enums import CollectionNames, EmbeddingModels\n",
    "from qdrant_client.models import Filter, FieldCondition, MatchValue\n",
    "\n",
    "from retrieval_util import (\n",
    "    get_qdrant_client,\n",
    "    get_embeddings_function,\n",
    "    retrieve_run_dict_with_documents_with_scores,\n",
    "    create_llm_for_self_query_retriever\n",
    ")\n",
    "\n",
    "import os\n",
    "import json\n",
    "import logging\n",
    "from ranx import Qrels, Run, evaluate, compare\n",
    "\n",
    "os.environ[\n",
    "    \"TOKENIZERS_PARALLELISM\"] = \"false\"  # Verhindert Fehler beim Erzeugen von Embeddings (Tritt sporadisch auf, konnte ich nicht gezielt reproduzieren)\n",
    "logging.basicConfig(level=logging.INFO)"
   ],
   "outputs": [],
   "execution_count": 2
  },
  {
   "metadata": {},
   "cell_type": "markdown",
   "source": [
    "# retrieval_util.py SelfQueryRetriever use_original_query=True bzw. False gesetzt?\n",
    "-> nach Änderung den Jupyter-Server neu starten, um neue Versionen der Dateien zu laden"
   ],
   "id": "20e1ed4612cd5da7"
  },
  {
   "metadata": {
    "ExecuteTime": {
     "end_time": "2025-03-16T11:55:35.205328Z",
     "start_time": "2025-03-16T11:55:35.165201Z"
    }
   },
   "cell_type": "code",
   "source": [
    "# Konstanten\n",
    "MAX_DOCUMENTS = 10\n",
    "BASE_PATH = \"./infloat_retrieval_results_AT_10\"\n",
    "LLM = create_llm_for_self_query_retriever()\n",
    "FRAGEN = {\n",
    "    1: \"Wann kann ich mich für den Master in Elektrotechnik in Meschede einschreiben?\",\n",
    "    2: \"Welche Literatur ist relevant für das Modul Mathematik im Bachelorstudiengang Elektrotechnik in Soest?\",\n",
    "    3: \"Welche Fachgebiete sind an der FH vertreten?\",\n",
    "    4: \"Ist eine Beurlaubung während des Studiums möglich?\",\n",
    "    5: \"Welche Studienmodelle werden angeboten?\",\n",
    "    6: \"Wie viele Seiten muss ich in meiner Bachelorarbeit in Wirtschaftsinformatik in Hagen schreiben?\",\n",
    "    7: \"Wie sind Portfolioprüfungen im Bachelorstudiengang Elektrotechnik in Soest aufgebaut?\",\n",
    "    8: \"Was muss ich beachten, wenn ich bei einer Prüfung krank bin?\",\n",
    "    9: \"Was sind die Inhalte im Modul IT-Sicherheit im Bachelorstudiengang Elektrotechnik in Hagen?\",\n",
    "    10: \"Wie lange dauern die Klausuren im Bachelorstudiengang Wirtschaftsinformatik in Hagen?\"\n",
    "}\n",
    "METRICS = [\"ndcg@10\", \"mrr@10\", \"map@10\", \"precision@10\", \"recall@10\", \"hits@10\", \"hit_rate@10\"]"
   ],
   "id": "27a41d653b549e01",
   "outputs": [],
   "execution_count": 3
  },
  {
   "metadata": {
    "ExecuteTime": {
     "end_time": "2025-03-16T11:55:35.213560Z",
     "start_time": "2025-03-16T11:55:35.210057Z"
    }
   },
   "cell_type": "code",
   "source": [
    "# Alle relevanten Filter für die Fragen\n",
    "def create_field_condition(field, value):\n",
    "    return FieldCondition(\n",
    "        key=f\"metadata.{field}\",\n",
    "        match=MatchValue(value=value)\n",
    "    )\n",
    "\n",
    "\n",
    "FILTERS = {\n",
    "    1: Filter(must=[\n",
    "        create_field_condition(\"studiengang\", \"Elektrotechnik\"),\n",
    "        create_field_condition(\"standort\", \"Meschede\"),\n",
    "        create_field_condition(\"abschluss\", \"Master\")\n",
    "    ]),\n",
    "    2: Filter(must=[\n",
    "        create_field_condition(\"standort\", \"Soest\"),\n",
    "        create_field_condition(\"studiengang\", \"Elektrotechnik\"),\n",
    "        create_field_condition(\"abschluss\", \"Bachelor\")\n",
    "    ]),\n",
    "    3: Filter(must=[\n",
    "        create_field_condition(\"studiengang\", \"Alle\"),\n",
    "        create_field_condition(\"standort\", \"Alle\"),\n",
    "        create_field_condition(\"abschluss\", \"Alle\")\n",
    "    ]),\n",
    "    4: Filter(must=[\n",
    "        create_field_condition(\"studiengang\", \"Alle\"),\n",
    "        create_field_condition(\"standort\", \"Alle\"),\n",
    "        create_field_condition(\"abschluss\", \"Alle\")\n",
    "    ]),\n",
    "    5: Filter(must=[\n",
    "        create_field_condition(\"studiengang\", \"Alle\"),\n",
    "        create_field_condition(\"standort\", \"Alle\"),\n",
    "        create_field_condition(\"abschluss\", \"Alle\")\n",
    "    ]),\n",
    "    6: Filter(must=[\n",
    "        create_field_condition(\"studiengang\", \"Wirtschaftsinformatik\"),\n",
    "        create_field_condition(\"standort\", \"Hagen\"),\n",
    "        create_field_condition(\"abschluss\", \"Bachelor\")\n",
    "    ]),\n",
    "    7: Filter(must=[\n",
    "        create_field_condition(\"studiengang\", \"Elektrotechnik\"),\n",
    "        create_field_condition(\"standort\", \"Soest\"),\n",
    "        create_field_condition(\"abschluss\", \"Bachelor\")\n",
    "    ]),\n",
    "    8: Filter(must=[\n",
    "        create_field_condition(\"studiengang\", \"Alle\"),\n",
    "        create_field_condition(\"standort\", \"Alle\"),\n",
    "        create_field_condition(\"abschluss\", \"Alle\")\n",
    "    ]),\n",
    "    9: Filter(must=[\n",
    "        create_field_condition(\"studiengang\", \"Elektrotechnik\"),\n",
    "        create_field_condition(\"standort\", \"Hagen\"),\n",
    "        create_field_condition(\"abschluss\", \"Bachelor\")\n",
    "    ]),\n",
    "    10: Filter(must=[\n",
    "        create_field_condition(\"studiengang\", \"Wirtschaftsinformatik\"),\n",
    "        create_field_condition(\"standort\", \"Hagen\"),\n",
    "        create_field_condition(\"abschluss\", \"Bachelor\")\n",
    "    ]),\n",
    "}"
   ],
   "id": "59bdb255c649837a",
   "outputs": [],
   "execution_count": 4
  },
  {
   "metadata": {
    "ExecuteTime": {
     "end_time": "2025-03-16T11:55:35.219773Z",
     "start_time": "2025-03-16T11:55:35.217832Z"
    }
   },
   "cell_type": "code",
   "source": [
    "def save_results_to_file(file_path, results_dict):\n",
    "    try:\n",
    "        with open(file_path, \"w\") as file:\n",
    "            json.dump(results_dict, file, indent=4)\n",
    "        print(f\"Ergebnisse wurden erfolgreich in {file_path} gespeichert.\")\n",
    "    except Exception as e:\n",
    "        print(f\"Fehler beim Speichern der Datei: {e}\")"
   ],
   "id": "58eb9b7d60dbf339",
   "outputs": [],
   "execution_count": 5
  },
  {
   "metadata": {
    "ExecuteTime": {
     "end_time": "2025-03-16T11:55:35.621541Z",
     "start_time": "2025-03-16T11:55:35.224195Z"
    }
   },
   "cell_type": "code",
   "source": [
    "token_based_qrels_dict = {\n",
    "    \"q_1\": {\n",
    "        \"d_1021\": 10,\n",
    "        \"d_1022\": 1\n",
    "    },\n",
    "    \"q_2\": {\n",
    "        \"d_1301\": 10\n",
    "    },\n",
    "    \"q_3\": {\n",
    "        \"d_1476\": 10,\n",
    "        \"d_1480\": 10,\n",
    "        \"d_1481\": 2\n",
    "    },\n",
    "    \"q_4\": {\n",
    "        \"d_1498\": 10,\n",
    "        \"d_1499\": 10,\n",
    "        \"d_1500\": 2\n",
    "    },\n",
    "    \"q_5\": {\n",
    "        \"d_1482\": 10,\n",
    "        \"d_1483\": 10,\n",
    "        \"d_1484\": 10,\n",
    "        \"d_1485\": 10\n",
    "    },\n",
    "    \"q_6\": {\n",
    "        \"d_18\": 10\n",
    "    },\n",
    "    \"q_7\": {\n",
    "        \"d_1192\": 10,\n",
    "        \"d_1193\": 8\n",
    "    },\n",
    "    \"q_8\": {\n",
    "        \"d_1530\": 10,\n",
    "        \"d_1553\": 10,\n",
    "        \"d_1554\": 10,\n",
    "        \"d_1555\": 10\n",
    "    },\n",
    "    \"q_9\": {\n",
    "        \"d_704\": 10\n",
    "    },\n",
    "    \"q_10\": {\n",
    "        \"d_14\": 10,\n",
    "        \"d_15\": 10\n",
    "    }\n",
    "}\n",
    "\n",
    "TOKEN_BASED_QRELS = Qrels(token_based_qrels_dict)"
   ],
   "id": "7ffa2a2d2541e0b9",
   "outputs": [],
   "execution_count": 6
  },
  {
   "metadata": {
    "ExecuteTime": {
     "end_time": "2025-03-16T11:55:36.972418Z",
     "start_time": "2025-03-16T11:55:36.969031Z"
    }
   },
   "cell_type": "code",
   "source": [
    "recursive_qrels_dict = {\n",
    "    \"q_1\": {\n",
    "        \"d_1371\": 10,\n",
    "        \"d_1370\": 1\n",
    "    },\n",
    "    \"q_2\": {\n",
    "        \"d_1866\": 10\n",
    "    },\n",
    "    \"q_3\": {\n",
    "        \"d_2292\": 10,\n",
    "        \"d_2293\": 2,\n",
    "        \"d_2286\": 10\n",
    "    },\n",
    "    \"q_4\": {\n",
    "        \"d_2313\": 10,\n",
    "        \"d_2314\": 10,\n",
    "        \"d_2315\": 2\n",
    "    },\n",
    "    \"q_5\": {\n",
    "        \"d_2290\": 4,\n",
    "        \"d_2295\": 10,\n",
    "        \"d_2296\": 10,\n",
    "        \"d_2297\": 10,\n",
    "        \"d_2298\": 10\n",
    "    },\n",
    "    \"q_6\": {\n",
    "        \"d_25\": 10\n",
    "    },\n",
    "    \"q_7\": {\n",
    "        \"d_1586\": 10\n",
    "    },\n",
    "    \"q_8\": {\n",
    "        \"d_2388\": 10,\n",
    "        \"d_2389\": 10,\n",
    "        \"d_2390\": 10,\n",
    "        \"d_2356\": 8,\n",
    "        \"d_2357\": 8\n",
    "    },\n",
    "    \"q_9\": {\n",
    "        \"d_946\": 10\n",
    "    },\n",
    "    \"q_10\": {\n",
    "        \"d_19\": 10\n",
    "    }\n",
    "}\n",
    "\n",
    "RECURSIVE_QRELS = Qrels(recursive_qrels_dict)"
   ],
   "id": "f2ac9d8bfc40c19e",
   "outputs": [],
   "execution_count": 7
  },
  {
   "metadata": {
    "ExecuteTime": {
     "end_time": "2025-03-16T11:55:44.890104Z",
     "start_time": "2025-03-16T11:55:36.982216Z"
    }
   },
   "cell_type": "code",
   "source": "embeddings = get_embeddings_function(model_name=EmbeddingModels.INFLOAT.value)",
   "id": "81f8d2c69018a872",
   "outputs": [
    {
     "name": "stderr",
     "output_type": "stream",
     "text": [
      "/Users/bastian/Desktop/BachelorProjektAbgabe/.venv/lib/python3.12/site-packages/tqdm/auto.py:21: TqdmWarning: IProgress not found. Please update jupyter and ipywidgets. See https://ipywidgets.readthedocs.io/en/stable/user_install.html\n",
      "  from .autonotebook import tqdm as notebook_tqdm\n",
      "2025-03-16 12:55:39,499 [INFO] PyTorch version 2.6.0 available.\n",
      "2025-03-16 12:55:39,737 [INFO] Use pytorch device_name: mps\n",
      "2025-03-16 12:55:39,738 [INFO] Load pretrained SentenceTransformer: intfloat/multilingual-e5-large\n"
     ]
    }
   ],
   "execution_count": 8
  },
  {
   "metadata": {
    "ExecuteTime": {
     "end_time": "2025-03-16T11:55:45.338757Z",
     "start_time": "2025-03-16T11:55:44.913230Z"
    }
   },
   "cell_type": "code",
   "source": [
    "qdrant_url = \"http://localhost:6333\"\n",
    "token_based_client = get_qdrant_client(embeddings=embeddings, collection_name=CollectionNames.INFLOAT_TOKEN_BASED.value,\n",
    "                                       qdrant_url=qdrant_url)\n",
    "recursive_client = get_qdrant_client(embeddings=embeddings, collection_name=CollectionNames.INFLOAT_RECURSIVE.value,\n",
    "                                     qdrant_url=qdrant_url)"
   ],
   "id": "e56a230f6a0dad4c",
   "outputs": [
    {
     "name": "stderr",
     "output_type": "stream",
     "text": [
      "2025-03-16 12:55:44,964 [INFO] HTTP Request: GET http://localhost:6333 \"HTTP/1.1 200 OK\"\n",
      "2025-03-16 12:55:44,972 [INFO] HTTP Request: GET http://localhost:6333/collections/intfloat_multilingual-e5-large_token_based_chunks \"HTTP/1.1 200 OK\"\n",
      "2025-03-16 12:55:45,291 [INFO] HTTP Request: GET http://localhost:6333 \"HTTP/1.1 200 OK\"\n",
      "2025-03-16 12:55:45,298 [INFO] HTTP Request: GET http://localhost:6333/collections/intfloat_multilingual-e5-large_recursive_chunks \"HTTP/1.1 200 OK\"\n"
     ]
    }
   ],
   "execution_count": 9
  },
  {
   "metadata": {},
   "cell_type": "markdown",
   "source": "# Token-Basierte Collections Retrieval Evaluation",
   "id": "1de915dd485fb3a0"
  },
  {
   "metadata": {
    "ExecuteTime": {
     "end_time": "2025-03-16T11:57:11.606515Z",
     "start_time": "2025-03-16T11:55:45.345657Z"
    }
   },
   "cell_type": "code",
   "source": [
    "# Run dicts ohne Filter, mit optimalen Filtern und mit Self-Query-Retriever erzeugen\n",
    "token_based_result_no_filters = retrieve_run_dict_with_documents_with_scores(client=token_based_client,\n",
    "                                                                             fragen_dict=FRAGEN, mode=\"no_filters\",\n",
    "                                                                             max_documents=MAX_DOCUMENTS)\n",
    "\n",
    "token_based_result_optimal_filters = retrieve_run_dict_with_documents_with_scores(client=token_based_client,\n",
    "                                                                                  fragen_dict=FRAGEN,\n",
    "                                                                                  mode=\"optimal_filters\",\n",
    "                                                                                  filter_dict=FILTERS,\n",
    "                                                                                  max_documents=MAX_DOCUMENTS)\n",
    "\n",
    "token_based_result_self_query_retriever = retrieve_run_dict_with_documents_with_scores(client=token_based_client,\n",
    "                                                                                       fragen_dict=FRAGEN,\n",
    "                                                                                       mode=\"self_query_retriever\",\n",
    "                                                                                       llm=LLM,\n",
    "                                                                                       search_kwargs={\n",
    "                                                                                           \"k\": MAX_DOCUMENTS})"
   ],
   "id": "688a0e1508832276",
   "outputs": [
    {
     "name": "stderr",
     "output_type": "stream",
     "text": [
      "2025-03-16 12:55:45,465 [INFO] HTTP Request: POST http://localhost:6333/collections/intfloat_multilingual-e5-large_token_based_chunks/points/query \"HTTP/1.1 200 OK\"\n",
      "2025-03-16 12:55:45,562 [INFO] HTTP Request: POST http://localhost:6333/collections/intfloat_multilingual-e5-large_token_based_chunks/points/query \"HTTP/1.1 200 OK\"\n",
      "2025-03-16 12:55:45,651 [INFO] HTTP Request: POST http://localhost:6333/collections/intfloat_multilingual-e5-large_token_based_chunks/points/query \"HTTP/1.1 200 OK\"\n",
      "2025-03-16 12:55:45,690 [INFO] HTTP Request: POST http://localhost:6333/collections/intfloat_multilingual-e5-large_token_based_chunks/points/query \"HTTP/1.1 200 OK\"\n",
      "2025-03-16 12:55:45,794 [INFO] HTTP Request: POST http://localhost:6333/collections/intfloat_multilingual-e5-large_token_based_chunks/points/query \"HTTP/1.1 200 OK\"\n",
      "2025-03-16 12:55:45,877 [INFO] HTTP Request: POST http://localhost:6333/collections/intfloat_multilingual-e5-large_token_based_chunks/points/query \"HTTP/1.1 200 OK\"\n",
      "2025-03-16 12:55:45,920 [INFO] HTTP Request: POST http://localhost:6333/collections/intfloat_multilingual-e5-large_token_based_chunks/points/query \"HTTP/1.1 200 OK\"\n",
      "2025-03-16 12:55:46,012 [INFO] HTTP Request: POST http://localhost:6333/collections/intfloat_multilingual-e5-large_token_based_chunks/points/query \"HTTP/1.1 200 OK\"\n",
      "2025-03-16 12:55:46,105 [INFO] HTTP Request: POST http://localhost:6333/collections/intfloat_multilingual-e5-large_token_based_chunks/points/query \"HTTP/1.1 200 OK\"\n",
      "2025-03-16 12:55:46,147 [INFO] HTTP Request: POST http://localhost:6333/collections/intfloat_multilingual-e5-large_token_based_chunks/points/query \"HTTP/1.1 200 OK\"\n",
      "2025-03-16 12:55:46,193 [INFO] HTTP Request: POST http://localhost:6333/collections/intfloat_multilingual-e5-large_token_based_chunks/points/query \"HTTP/1.1 200 OK\"\n",
      "2025-03-16 12:55:46,242 [INFO] HTTP Request: POST http://localhost:6333/collections/intfloat_multilingual-e5-large_token_based_chunks/points/query \"HTTP/1.1 200 OK\"\n",
      "2025-03-16 12:55:46,287 [INFO] HTTP Request: POST http://localhost:6333/collections/intfloat_multilingual-e5-large_token_based_chunks/points/query \"HTTP/1.1 200 OK\"\n",
      "2025-03-16 12:55:46,333 [INFO] HTTP Request: POST http://localhost:6333/collections/intfloat_multilingual-e5-large_token_based_chunks/points/query \"HTTP/1.1 200 OK\"\n",
      "2025-03-16 12:55:46,384 [INFO] HTTP Request: POST http://localhost:6333/collections/intfloat_multilingual-e5-large_token_based_chunks/points/query \"HTTP/1.1 200 OK\"\n",
      "2025-03-16 12:55:46,427 [INFO] HTTP Request: POST http://localhost:6333/collections/intfloat_multilingual-e5-large_token_based_chunks/points/query \"HTTP/1.1 200 OK\"\n",
      "2025-03-16 12:55:46,468 [INFO] HTTP Request: POST http://localhost:6333/collections/intfloat_multilingual-e5-large_token_based_chunks/points/query \"HTTP/1.1 200 OK\"\n",
      "2025-03-16 12:55:46,512 [INFO] HTTP Request: POST http://localhost:6333/collections/intfloat_multilingual-e5-large_token_based_chunks/points/query \"HTTP/1.1 200 OK\"\n",
      "2025-03-16 12:55:46,559 [INFO] HTTP Request: POST http://localhost:6333/collections/intfloat_multilingual-e5-large_token_based_chunks/points/query \"HTTP/1.1 200 OK\"\n",
      "2025-03-16 12:55:46,606 [INFO] HTTP Request: POST http://localhost:6333/collections/intfloat_multilingual-e5-large_token_based_chunks/points/query \"HTTP/1.1 200 OK\"\n",
      "2025-03-16 12:55:49,612 [INFO] HTTP Request: POST http://127.0.0.1:11434/api/chat \"HTTP/1.1 200 OK\"\n",
      "2025-03-16 12:55:59,131 [INFO] Generated Query: query='Master in Elektrotechnik' filter=Operation(operator=<Operator.AND: 'and'>, arguments=[Comparison(comparator=<Comparator.EQ: 'eq'>, attribute='studiengang', value='Elektrotechnik'), Comparison(comparator=<Comparator.EQ: 'eq'>, attribute='abschluss', value='Master'), Comparison(comparator=<Comparator.EQ: 'eq'>, attribute='standort', value='Meschede')]) limit=None\n",
      "2025-03-16 12:56:00,125 [INFO] HTTP Request: POST http://localhost:6333/collections/intfloat_multilingual-e5-large_token_based_chunks/points/query \"HTTP/1.1 200 OK\"\n",
      "2025-03-16 12:56:00,789 [INFO] HTTP Request: POST http://127.0.0.1:11434/api/chat \"HTTP/1.1 200 OK\"\n",
      "2025-03-16 12:56:10,573 [INFO] Generated Query: query='Mathematik im Bachelorstudiengang Elektrotechnik' filter=Operation(operator=<Operator.AND: 'and'>, arguments=[Comparison(comparator=<Comparator.EQ: 'eq'>, attribute='studiengang', value='Elektrotechnik'), Comparison(comparator=<Comparator.EQ: 'eq'>, attribute='abschluss', value='Bachelor'), Comparison(comparator=<Comparator.EQ: 'eq'>, attribute='standort', value='Soest')]) limit=None\n",
      "2025-03-16 12:56:11,506 [INFO] HTTP Request: POST http://localhost:6333/collections/intfloat_multilingual-e5-large_token_based_chunks/points/query \"HTTP/1.1 200 OK\"\n",
      "2025-03-16 12:56:11,807 [INFO] HTTP Request: POST http://127.0.0.1:11434/api/chat \"HTTP/1.1 200 OK\"\n",
      "2025-03-16 12:56:15,801 [INFO] Generated Query: query='Fachgebiete an der FH' filter=None limit=None\n",
      "2025-03-16 12:56:16,528 [INFO] HTTP Request: POST http://localhost:6333/collections/intfloat_multilingual-e5-large_token_based_chunks/points/query \"HTTP/1.1 200 OK\"\n",
      "2025-03-16 12:56:16,850 [INFO] HTTP Request: POST http://127.0.0.1:11434/api/chat \"HTTP/1.1 200 OK\"\n",
      "2025-03-16 12:56:20,713 [INFO] Generated Query: query='Beurlaubung während des Studiums' filter=None limit=None\n",
      "2025-03-16 12:56:21,612 [INFO] HTTP Request: POST http://localhost:6333/collections/intfloat_multilingual-e5-large_token_based_chunks/points/query \"HTTP/1.1 200 OK\"\n",
      "2025-03-16 12:56:21,959 [INFO] HTTP Request: POST http://127.0.0.1:11434/api/chat \"HTTP/1.1 200 OK\"\n",
      "2025-03-16 12:56:25,712 [INFO] Generated Query: query='Studienmodelle' filter=None limit=None\n",
      "2025-03-16 12:56:26,521 [INFO] HTTP Request: POST http://localhost:6333/collections/intfloat_multilingual-e5-large_token_based_chunks/points/query \"HTTP/1.1 200 OK\"\n",
      "2025-03-16 12:56:26,861 [INFO] HTTP Request: POST http://127.0.0.1:11434/api/chat \"HTTP/1.1 200 OK\"\n",
      "2025-03-16 12:56:33,499 [INFO] Generated Query: query='wie viele Seiten muss ich in meiner bachelorarbeit in wirtschaftsinformatik in hagen schreiben' filter=Operation(operator=<Operator.AND: 'and'>, arguments=[Comparison(comparator=<Comparator.EQ: 'eq'>, attribute='studiengang', value='Wirtschaftsinformatik'), Comparison(comparator=<Comparator.EQ: 'eq'>, attribute='abschluss', value='Bachelor'), Comparison(comparator=<Comparator.EQ: 'eq'>, attribute='standort', value='Hagen')]) limit=None\n",
      "2025-03-16 12:56:34,488 [INFO] HTTP Request: POST http://localhost:6333/collections/intfloat_multilingual-e5-large_token_based_chunks/points/query \"HTTP/1.1 200 OK\"\n",
      "2025-03-16 12:56:34,872 [INFO] HTTP Request: POST http://127.0.0.1:11434/api/chat \"HTTP/1.1 200 OK\"\n",
      "2025-03-16 12:56:44,163 [INFO] Generated Query: query='Bachelorstudiengang Elektrotechnik in Soest' filter=Operation(operator=<Operator.AND: 'and'>, arguments=[Comparison(comparator=<Comparator.EQ: 'eq'>, attribute='studiengang', value='Elektrotechnik'), Comparison(comparator=<Comparator.EQ: 'eq'>, attribute='abschluss', value='Bachelor'), Comparison(comparator=<Comparator.EQ: 'eq'>, attribute='standort', value='Soest')]) limit=None\n",
      "2025-03-16 12:56:45,088 [INFO] HTTP Request: POST http://localhost:6333/collections/intfloat_multilingual-e5-large_token_based_chunks/points/query \"HTTP/1.1 200 OK\"\n",
      "2025-03-16 12:56:45,471 [INFO] HTTP Request: POST http://127.0.0.1:11434/api/chat \"HTTP/1.1 200 OK\"\n",
      "2025-03-16 12:56:49,299 [INFO] Generated Query: query='krank bei Prüfung' filter=None limit=None\n",
      "2025-03-16 12:56:50,234 [INFO] HTTP Request: POST http://localhost:6333/collections/intfloat_multilingual-e5-large_token_based_chunks/points/query \"HTTP/1.1 200 OK\"\n",
      "2025-03-16 12:56:50,787 [INFO] HTTP Request: POST http://127.0.0.1:11434/api/chat \"HTTP/1.1 200 OK\"\n",
      "2025-03-16 12:57:00,235 [INFO] Generated Query: query='Modul IT-Sicherheit' filter=Operation(operator=<Operator.AND: 'and'>, arguments=[Comparison(comparator=<Comparator.EQ: 'eq'>, attribute='studiengang', value='Elektrotechnik'), Comparison(comparator=<Comparator.EQ: 'eq'>, attribute='abschluss', value='Bachelor'), Comparison(comparator=<Comparator.EQ: 'eq'>, attribute='standort', value='Hagen')]) limit=None\n",
      "2025-03-16 12:57:01,191 [INFO] HTTP Request: POST http://localhost:6333/collections/intfloat_multilingual-e5-large_token_based_chunks/points/query \"HTTP/1.1 200 OK\"\n",
      "2025-03-16 12:57:02,409 [INFO] HTTP Request: POST http://127.0.0.1:11434/api/chat \"HTTP/1.1 200 OK\"\n",
      "2025-03-16 12:57:10,651 [INFO] Generated Query: query='Bachelorstudiengang Wirtschaftsinformatik in Hagen' filter=Operation(operator=<Operator.AND: 'and'>, arguments=[Comparison(comparator=<Comparator.EQ: 'eq'>, attribute='abschluss', value='Bachelor'), Comparison(comparator=<Comparator.EQ: 'eq'>, attribute='studiengang', value='Wirtschaftsinformatik'), Comparison(comparator=<Comparator.EQ: 'eq'>, attribute='standort', value='Hagen')]) limit=None\n",
      "2025-03-16 12:57:11,597 [INFO] HTTP Request: POST http://localhost:6333/collections/intfloat_multilingual-e5-large_token_based_chunks/points/query \"HTTP/1.1 200 OK\"\n"
     ]
    }
   ],
   "execution_count": 10
  },
  {
   "metadata": {
    "ExecuteTime": {
     "end_time": "2025-03-16T11:57:11.751784Z",
     "start_time": "2025-03-16T11:57:11.746994Z"
    }
   },
   "cell_type": "code",
   "source": [
    "# Run dicts in Dateien schreiben, um sie einsehen zu können\n",
    "save_results_to_file(file_path=f\"{BASE_PATH}/token_based_result_no_filters.json\",\n",
    "                     results_dict=token_based_result_no_filters)\n",
    "save_results_to_file(file_path=f\"{BASE_PATH}/token_based_result_optimal_filters.json\",\n",
    "                     results_dict=token_based_result_optimal_filters)\n",
    "save_results_to_file(file_path=f\"{BASE_PATH}/token_based_result_self_query_retriever.json\",\n",
    "                     results_dict=token_based_result_self_query_retriever)"
   ],
   "id": "afa473e77dc5b7eb",
   "outputs": [
    {
     "name": "stdout",
     "output_type": "stream",
     "text": [
      "Ergebnisse wurden erfolgreich in ./infloat_retrieval_results_AT_5/token_based_result_no_filters.json gespeichert.\n",
      "Ergebnisse wurden erfolgreich in ./infloat_retrieval_results_AT_5/token_based_result_optimal_filters.json gespeichert.\n",
      "Ergebnisse wurden erfolgreich in ./infloat_retrieval_results_AT_5/token_based_result_self_query_retriever.json gespeichert.\n"
     ]
    }
   ],
   "execution_count": 11
  },
  {
   "metadata": {
    "ExecuteTime": {
     "end_time": "2025-03-16T11:57:12.082019Z",
     "start_time": "2025-03-16T11:57:11.831171Z"
    }
   },
   "cell_type": "code",
   "source": [
    "# Runs erzeugen\n",
    "run_token_based_result_no_filters = Run(token_based_result_no_filters, name=\"token_based_result_no_filters\")\n",
    "run_token_based_result_optimal_filters = Run(token_based_result_optimal_filters,\n",
    "                                             name=\"token_based_result_optimal_filters\")\n",
    "run_token_based_result_self_query_retriever = Run(token_based_result_self_query_retriever,\n",
    "                                                  name=\"token_based_result_self_query_retriever\")"
   ],
   "id": "5cafe523b20edc12",
   "outputs": [],
   "execution_count": 12
  },
  {
   "metadata": {
    "ExecuteTime": {
     "end_time": "2025-03-16T11:57:12.655746Z",
     "start_time": "2025-03-16T11:57:12.473484Z"
    }
   },
   "cell_type": "code",
   "source": [
    "# Evaluation durchführen\n",
    "token_based_scores_no_filters = evaluate(qrels=TOKEN_BASED_QRELS, run=run_token_based_result_no_filters,\n",
    "                                         metrics=METRICS)\n",
    "token_based_scores_optimal_filters = evaluate(qrels=TOKEN_BASED_QRELS, run=run_token_based_result_optimal_filters,\n",
    "                                              metrics=METRICS)\n",
    "token_based_scores_self_query_retriever = evaluate(qrels=TOKEN_BASED_QRELS,\n",
    "                                                   run=run_token_based_result_self_query_retriever, metrics=METRICS)"
   ],
   "id": "6aec0a4970a1fab3",
   "outputs": [],
   "execution_count": 13
  },
  {
   "metadata": {
    "ExecuteTime": {
     "end_time": "2025-03-16T11:57:12.673725Z",
     "start_time": "2025-03-16T11:57:12.670613Z"
    }
   },
   "cell_type": "code",
   "source": [
    "# Scores in Dateien schreiben, um sie einsehen zu können\n",
    "save_results_to_file(file_path=f\"{BASE_PATH}/token_based_scores_no_filters.json\",\n",
    "                     results_dict=token_based_scores_no_filters)\n",
    "save_results_to_file(file_path=f\"{BASE_PATH}/token_based_scores_optimal_filters.json\",\n",
    "                     results_dict=token_based_scores_optimal_filters)\n",
    "save_results_to_file(file_path=f\"{BASE_PATH}/token_based_scores_self_query_retriever.json\",\n",
    "                     results_dict=token_based_scores_self_query_retriever)"
   ],
   "id": "654908329daeedf0",
   "outputs": [
    {
     "name": "stdout",
     "output_type": "stream",
     "text": [
      "Ergebnisse wurden erfolgreich in ./infloat_retrieval_results_AT_5/token_based_scores_no_filters.json gespeichert.\n",
      "Ergebnisse wurden erfolgreich in ./infloat_retrieval_results_AT_5/token_based_scores_optimal_filters.json gespeichert.\n",
      "Ergebnisse wurden erfolgreich in ./infloat_retrieval_results_AT_5/token_based_scores_self_query_retriever.json gespeichert.\n"
     ]
    }
   ],
   "execution_count": 14
  },
  {
   "metadata": {
    "ExecuteTime": {
     "end_time": "2025-03-16T11:57:12.708875Z",
     "start_time": "2025-03-16T11:57:12.689289Z"
    }
   },
   "cell_type": "code",
   "source": [
    "report = compare(\n",
    "    qrels=TOKEN_BASED_QRELS,\n",
    "    runs=[run_token_based_result_no_filters, run_token_based_result_optimal_filters,\n",
    "          run_token_based_result_self_query_retriever],\n",
    "    metrics=METRICS\n",
    ")"
   ],
   "id": "44820a6b10f3f22",
   "outputs": [],
   "execution_count": 15
  },
  {
   "metadata": {
    "ExecuteTime": {
     "end_time": "2025-03-16T11:57:12.723020Z",
     "start_time": "2025-03-16T11:57:12.720533Z"
    }
   },
   "cell_type": "code",
   "source": "print(report)",
   "id": "2683b7f9338335a6",
   "outputs": [
    {
     "name": "stdout",
     "output_type": "stream",
     "text": [
      "#    Model                                      NDCG@5    MRR@5    MAP@5    P@5    Recall@5    Hits@5    Hit Rate@5\n",
      "---  ---------------------------------------  --------  -------  -------  -----  ----------  --------  ------------\n",
      "a    token_based_result_no_filters               0.321    0.433    0.265   0.2        0.3         1             0.5\n",
      "b    token_based_result_optimal_filters          0.385    0.5      0.341   0.24       0.367       1.2           0.5\n",
      "c    token_based_result_self_query_retriever     0.321    0.433    0.265   0.2        0.3         1             0.5\n"
     ]
    }
   ],
   "execution_count": 16
  },
  {
   "metadata": {
    "ExecuteTime": {
     "end_time": "2025-03-16T11:57:12.740374Z",
     "start_time": "2025-03-16T11:57:12.737750Z"
    }
   },
   "cell_type": "code",
   "source": [
    "with open(f\"{BASE_PATH}/token_report@{MAX_DOCUMENTS}.txt\", \"w\") as file:\n",
    "    file.write(str(report))"
   ],
   "id": "3379b07f5d42e4b4",
   "outputs": [],
   "execution_count": 17
  },
  {
   "metadata": {
    "ExecuteTime": {
     "end_time": "2025-03-16T11:57:12.749647Z",
     "start_time": "2025-03-16T11:57:12.748418Z"
    }
   },
   "cell_type": "code",
   "source": "",
   "id": "435113762f4853fe",
   "outputs": [],
   "execution_count": null
  },
  {
   "metadata": {},
   "cell_type": "markdown",
   "source": "# Recursive-Collections Retrieval Evaluation",
   "id": "81fbda0584db11ac"
  },
  {
   "metadata": {
    "ExecuteTime": {
     "end_time": "2025-03-16T11:58:40.366269Z",
     "start_time": "2025-03-16T11:57:12.763505Z"
    }
   },
   "cell_type": "code",
   "source": [
    "recursive_result_no_filters = retrieve_run_dict_with_documents_with_scores(client=recursive_client, fragen_dict=FRAGEN,\n",
    "                                                                           mode=\"no_filters\",\n",
    "                                                                           max_documents=MAX_DOCUMENTS)\n",
    "recursive_result_optimal_filters = retrieve_run_dict_with_documents_with_scores(client=recursive_client,\n",
    "                                                                                fragen_dict=FRAGEN,\n",
    "                                                                                mode=\"optimal_filters\",\n",
    "                                                                                filter_dict=FILTERS,\n",
    "                                                                                max_documents=MAX_DOCUMENTS)\n",
    "recursive_result_self_query_retriever = retrieve_run_dict_with_documents_with_scores(client=recursive_client,\n",
    "                                                                                     fragen_dict=FRAGEN,\n",
    "                                                                                     mode=\"self_query_retriever\",\n",
    "                                                                                     llm=LLM,\n",
    "                                                                                     search_kwargs={\"k\": MAX_DOCUMENTS})"
   ],
   "id": "4cfa0bbb23994137",
   "outputs": [
    {
     "name": "stderr",
     "output_type": "stream",
     "text": [
      "2025-03-16 12:57:12,891 [INFO] HTTP Request: POST http://localhost:6333/collections/intfloat_multilingual-e5-large_recursive_chunks/points/query \"HTTP/1.1 200 OK\"\n",
      "2025-03-16 12:57:12,937 [INFO] HTTP Request: POST http://localhost:6333/collections/intfloat_multilingual-e5-large_recursive_chunks/points/query \"HTTP/1.1 200 OK\"\n",
      "2025-03-16 12:57:12,975 [INFO] HTTP Request: POST http://localhost:6333/collections/intfloat_multilingual-e5-large_recursive_chunks/points/query \"HTTP/1.1 200 OK\"\n",
      "2025-03-16 12:57:13,015 [INFO] HTTP Request: POST http://localhost:6333/collections/intfloat_multilingual-e5-large_recursive_chunks/points/query \"HTTP/1.1 200 OK\"\n",
      "2025-03-16 12:57:13,080 [INFO] HTTP Request: POST http://localhost:6333/collections/intfloat_multilingual-e5-large_recursive_chunks/points/query \"HTTP/1.1 200 OK\"\n",
      "2025-03-16 12:57:13,129 [INFO] HTTP Request: POST http://localhost:6333/collections/intfloat_multilingual-e5-large_recursive_chunks/points/query \"HTTP/1.1 200 OK\"\n",
      "2025-03-16 12:57:13,178 [INFO] HTTP Request: POST http://localhost:6333/collections/intfloat_multilingual-e5-large_recursive_chunks/points/query \"HTTP/1.1 200 OK\"\n",
      "2025-03-16 12:57:13,236 [INFO] HTTP Request: POST http://localhost:6333/collections/intfloat_multilingual-e5-large_recursive_chunks/points/query \"HTTP/1.1 200 OK\"\n",
      "2025-03-16 12:57:13,281 [INFO] HTTP Request: POST http://localhost:6333/collections/intfloat_multilingual-e5-large_recursive_chunks/points/query \"HTTP/1.1 200 OK\"\n",
      "2025-03-16 12:57:13,324 [INFO] HTTP Request: POST http://localhost:6333/collections/intfloat_multilingual-e5-large_recursive_chunks/points/query \"HTTP/1.1 200 OK\"\n",
      "2025-03-16 12:57:13,373 [INFO] HTTP Request: POST http://localhost:6333/collections/intfloat_multilingual-e5-large_recursive_chunks/points/query \"HTTP/1.1 200 OK\"\n",
      "2025-03-16 12:57:13,422 [INFO] HTTP Request: POST http://localhost:6333/collections/intfloat_multilingual-e5-large_recursive_chunks/points/query \"HTTP/1.1 200 OK\"\n",
      "2025-03-16 12:57:13,469 [INFO] HTTP Request: POST http://localhost:6333/collections/intfloat_multilingual-e5-large_recursive_chunks/points/query \"HTTP/1.1 200 OK\"\n",
      "2025-03-16 12:57:13,519 [INFO] HTTP Request: POST http://localhost:6333/collections/intfloat_multilingual-e5-large_recursive_chunks/points/query \"HTTP/1.1 200 OK\"\n",
      "2025-03-16 12:57:13,574 [INFO] HTTP Request: POST http://localhost:6333/collections/intfloat_multilingual-e5-large_recursive_chunks/points/query \"HTTP/1.1 200 OK\"\n",
      "2025-03-16 12:57:13,620 [INFO] HTTP Request: POST http://localhost:6333/collections/intfloat_multilingual-e5-large_recursive_chunks/points/query \"HTTP/1.1 200 OK\"\n",
      "2025-03-16 12:57:13,664 [INFO] HTTP Request: POST http://localhost:6333/collections/intfloat_multilingual-e5-large_recursive_chunks/points/query \"HTTP/1.1 200 OK\"\n",
      "2025-03-16 12:57:13,713 [INFO] HTTP Request: POST http://localhost:6333/collections/intfloat_multilingual-e5-large_recursive_chunks/points/query \"HTTP/1.1 200 OK\"\n",
      "2025-03-16 12:57:13,775 [INFO] HTTP Request: POST http://localhost:6333/collections/intfloat_multilingual-e5-large_recursive_chunks/points/query \"HTTP/1.1 200 OK\"\n",
      "2025-03-16 12:57:13,820 [INFO] HTTP Request: POST http://localhost:6333/collections/intfloat_multilingual-e5-large_recursive_chunks/points/query \"HTTP/1.1 200 OK\"\n",
      "2025-03-16 12:57:14,874 [INFO] HTTP Request: POST http://127.0.0.1:11434/api/chat \"HTTP/1.1 200 OK\"\n",
      "2025-03-16 12:57:24,351 [INFO] Generated Query: query='Master in Elektrotechnik' filter=Operation(operator=<Operator.AND: 'and'>, arguments=[Comparison(comparator=<Comparator.EQ: 'eq'>, attribute='studiengang', value='Elektrotechnik'), Comparison(comparator=<Comparator.EQ: 'eq'>, attribute='abschluss', value='Master'), Comparison(comparator=<Comparator.EQ: 'eq'>, attribute='standort', value='Meschede')]) limit=None\n",
      "2025-03-16 12:57:25,365 [INFO] HTTP Request: POST http://localhost:6333/collections/intfloat_multilingual-e5-large_recursive_chunks/points/query \"HTTP/1.1 200 OK\"\n",
      "2025-03-16 12:57:25,994 [INFO] HTTP Request: POST http://127.0.0.1:11434/api/chat \"HTTP/1.1 200 OK\"\n",
      "2025-03-16 12:57:35,762 [INFO] Generated Query: query='Mathematik im Bachelorstudiengang Elektrotechnik' filter=Operation(operator=<Operator.AND: 'and'>, arguments=[Comparison(comparator=<Comparator.EQ: 'eq'>, attribute='studiengang', value='Elektrotechnik'), Comparison(comparator=<Comparator.EQ: 'eq'>, attribute='abschluss', value='Bachelor'), Comparison(comparator=<Comparator.EQ: 'eq'>, attribute='standort', value='Soest')]) limit=None\n",
      "2025-03-16 12:57:36,720 [INFO] HTTP Request: POST http://localhost:6333/collections/intfloat_multilingual-e5-large_recursive_chunks/points/query \"HTTP/1.1 200 OK\"\n",
      "2025-03-16 12:57:37,060 [INFO] HTTP Request: POST http://127.0.0.1:11434/api/chat \"HTTP/1.1 200 OK\"\n",
      "2025-03-16 12:57:41,159 [INFO] Generated Query: query='Fachgebiete an der FH' filter=None limit=None\n",
      "2025-03-16 12:57:42,603 [INFO] HTTP Request: POST http://localhost:6333/collections/intfloat_multilingual-e5-large_recursive_chunks/points/query \"HTTP/1.1 200 OK\"\n",
      "2025-03-16 12:57:44,248 [INFO] HTTP Request: POST http://127.0.0.1:11434/api/chat \"HTTP/1.1 200 OK\"\n",
      "2025-03-16 12:57:48,102 [INFO] Generated Query: query='Beurlaubung während des Studiums' filter=None limit=None\n",
      "2025-03-16 12:57:49,307 [INFO] HTTP Request: POST http://localhost:6333/collections/intfloat_multilingual-e5-large_recursive_chunks/points/query \"HTTP/1.1 200 OK\"\n",
      "2025-03-16 12:57:50,276 [INFO] HTTP Request: POST http://127.0.0.1:11434/api/chat \"HTTP/1.1 200 OK\"\n",
      "2025-03-16 12:57:54,050 [INFO] Generated Query: query='Studienmodelle' filter=None limit=None\n",
      "2025-03-16 12:57:55,154 [INFO] HTTP Request: POST http://localhost:6333/collections/intfloat_multilingual-e5-large_recursive_chunks/points/query \"HTTP/1.1 200 OK\"\n",
      "2025-03-16 12:57:55,792 [INFO] HTTP Request: POST http://127.0.0.1:11434/api/chat \"HTTP/1.1 200 OK\"\n",
      "2025-03-16 12:58:02,449 [INFO] Generated Query: query='wie viele Seiten muss ich in meiner bachelorarbeit in wirtschaftsinformatik in hagen schreiben' filter=Operation(operator=<Operator.AND: 'and'>, arguments=[Comparison(comparator=<Comparator.EQ: 'eq'>, attribute='studiengang', value='Wirtschaftsinformatik'), Comparison(comparator=<Comparator.EQ: 'eq'>, attribute='abschluss', value='Bachelor'), Comparison(comparator=<Comparator.EQ: 'eq'>, attribute='standort', value='Hagen')]) limit=None\n",
      "2025-03-16 12:58:03,667 [INFO] HTTP Request: POST http://localhost:6333/collections/intfloat_multilingual-e5-large_recursive_chunks/points/query \"HTTP/1.1 200 OK\"\n",
      "2025-03-16 12:58:04,179 [INFO] HTTP Request: POST http://127.0.0.1:11434/api/chat \"HTTP/1.1 200 OK\"\n",
      "2025-03-16 12:58:13,488 [INFO] Generated Query: query='Bachelorstudiengang Elektrotechnik in Soest' filter=Operation(operator=<Operator.AND: 'and'>, arguments=[Comparison(comparator=<Comparator.EQ: 'eq'>, attribute='studiengang', value='Elektrotechnik'), Comparison(comparator=<Comparator.EQ: 'eq'>, attribute='abschluss', value='Bachelor'), Comparison(comparator=<Comparator.EQ: 'eq'>, attribute='standort', value='Soest')]) limit=None\n",
      "2025-03-16 12:58:14,530 [INFO] HTTP Request: POST http://localhost:6333/collections/intfloat_multilingual-e5-large_recursive_chunks/points/query \"HTTP/1.1 200 OK\"\n",
      "2025-03-16 12:58:15,114 [INFO] HTTP Request: POST http://127.0.0.1:11434/api/chat \"HTTP/1.1 200 OK\"\n",
      "2025-03-16 12:58:18,944 [INFO] Generated Query: query='krank bei Prüfung' filter=None limit=None\n",
      "2025-03-16 12:58:19,955 [INFO] HTTP Request: POST http://localhost:6333/collections/intfloat_multilingual-e5-large_recursive_chunks/points/query \"HTTP/1.1 200 OK\"\n",
      "2025-03-16 12:58:20,389 [INFO] HTTP Request: POST http://127.0.0.1:11434/api/chat \"HTTP/1.1 200 OK\"\n",
      "2025-03-16 12:58:29,838 [INFO] Generated Query: query='Modul IT-Sicherheit' filter=Operation(operator=<Operator.AND: 'and'>, arguments=[Comparison(comparator=<Comparator.EQ: 'eq'>, attribute='studiengang', value='Elektrotechnik'), Comparison(comparator=<Comparator.EQ: 'eq'>, attribute='abschluss', value='Bachelor'), Comparison(comparator=<Comparator.EQ: 'eq'>, attribute='standort', value='Hagen')]) limit=None\n",
      "2025-03-16 12:58:30,731 [INFO] HTTP Request: POST http://localhost:6333/collections/intfloat_multilingual-e5-large_recursive_chunks/points/query \"HTTP/1.1 200 OK\"\n",
      "2025-03-16 12:58:31,065 [INFO] HTTP Request: POST http://127.0.0.1:11434/api/chat \"HTTP/1.1 200 OK\"\n",
      "2025-03-16 12:58:39,307 [INFO] Generated Query: query='Bachelorstudiengang Wirtschaftsinformatik in Hagen' filter=Operation(operator=<Operator.AND: 'and'>, arguments=[Comparison(comparator=<Comparator.EQ: 'eq'>, attribute='abschluss', value='Bachelor'), Comparison(comparator=<Comparator.EQ: 'eq'>, attribute='studiengang', value='Wirtschaftsinformatik'), Comparison(comparator=<Comparator.EQ: 'eq'>, attribute='standort', value='Hagen')]) limit=None\n",
      "2025-03-16 12:58:40,351 [INFO] HTTP Request: POST http://localhost:6333/collections/intfloat_multilingual-e5-large_recursive_chunks/points/query \"HTTP/1.1 200 OK\"\n"
     ]
    }
   ],
   "execution_count": 18
  },
  {
   "metadata": {
    "ExecuteTime": {
     "end_time": "2025-03-16T11:58:40.477099Z",
     "start_time": "2025-03-16T11:58:40.471674Z"
    }
   },
   "cell_type": "code",
   "source": [
    "save_results_to_file(file_path=f\"{BASE_PATH}/recursive_result_no_filters.json\",\n",
    "                     results_dict=recursive_result_no_filters)\n",
    "save_results_to_file(file_path=f\"{BASE_PATH}/recursive_result_optimal_filters.json\",\n",
    "                     results_dict=recursive_result_optimal_filters)\n",
    "save_results_to_file(file_path=f\"{BASE_PATH}/recursive_result_self_query_retriever.json\",\n",
    "                     results_dict=recursive_result_self_query_retriever)"
   ],
   "id": "369a002b9a598d9a",
   "outputs": [
    {
     "name": "stdout",
     "output_type": "stream",
     "text": [
      "Ergebnisse wurden erfolgreich in ./infloat_retrieval_results_AT_5/recursive_result_no_filters.json gespeichert.\n",
      "Ergebnisse wurden erfolgreich in ./infloat_retrieval_results_AT_5/recursive_result_optimal_filters.json gespeichert.\n",
      "Ergebnisse wurden erfolgreich in ./infloat_retrieval_results_AT_5/recursive_result_self_query_retriever.json gespeichert.\n"
     ]
    }
   ],
   "execution_count": 19
  },
  {
   "metadata": {
    "ExecuteTime": {
     "end_time": "2025-03-16T11:58:40.546744Z",
     "start_time": "2025-03-16T11:58:40.532283Z"
    }
   },
   "cell_type": "code",
   "source": [
    "run_recursive_result_no_filters = Run(recursive_result_no_filters, name=\"recursive_result_no_filters\")\n",
    "run_recursive_result_optimal_filters = Run(recursive_result_optimal_filters, name=\"recursive_result_optimal_filters\")\n",
    "run_recursive_result_self_query_retriever = Run(recursive_result_self_query_retriever,\n",
    "                                                name=\"recursive_result_self_query_retriever\")"
   ],
   "id": "dfa716239f06ee95",
   "outputs": [],
   "execution_count": 20
  },
  {
   "metadata": {
    "ExecuteTime": {
     "end_time": "2025-03-16T11:58:40.579882Z",
     "start_time": "2025-03-16T11:58:40.564669Z"
    }
   },
   "cell_type": "code",
   "source": [
    "recursive_scores_no_filters = evaluate(qrels=RECURSIVE_QRELS, run=run_recursive_result_no_filters, metrics=METRICS)\n",
    "recursive_scores_optimal_filters = evaluate(qrels=RECURSIVE_QRELS, run=run_recursive_result_optimal_filters,\n",
    "                                            metrics=METRICS)\n",
    "recursive_scores_self_query_retriever = evaluate(qrels=RECURSIVE_QRELS, run=run_recursive_result_self_query_retriever,\n",
    "                                                 metrics=METRICS)"
   ],
   "id": "48d56dd89affb746",
   "outputs": [],
   "execution_count": 21
  },
  {
   "metadata": {
    "ExecuteTime": {
     "end_time": "2025-03-16T11:58:40.591671Z",
     "start_time": "2025-03-16T11:58:40.588924Z"
    }
   },
   "cell_type": "code",
   "source": [
    "save_results_to_file(file_path=f\"{BASE_PATH}/recursive_scores_no_filters.json\",\n",
    "                     results_dict=recursive_scores_no_filters)\n",
    "save_results_to_file(file_path=f\"{BASE_PATH}/recursive_scores_optimal_filters.json\",\n",
    "                     results_dict=recursive_scores_optimal_filters)\n",
    "save_results_to_file(file_path=f\"{BASE_PATH}/recursive_scores_self_query_retriever.json\",\n",
    "                     results_dict=recursive_scores_self_query_retriever)"
   ],
   "id": "116e440c47ca5042",
   "outputs": [
    {
     "name": "stdout",
     "output_type": "stream",
     "text": [
      "Ergebnisse wurden erfolgreich in ./infloat_retrieval_results_AT_5/recursive_scores_no_filters.json gespeichert.\n",
      "Ergebnisse wurden erfolgreich in ./infloat_retrieval_results_AT_5/recursive_scores_optimal_filters.json gespeichert.\n",
      "Ergebnisse wurden erfolgreich in ./infloat_retrieval_results_AT_5/recursive_scores_self_query_retriever.json gespeichert.\n"
     ]
    }
   ],
   "execution_count": 22
  },
  {
   "metadata": {
    "ExecuteTime": {
     "end_time": "2025-03-16T11:58:40.635885Z",
     "start_time": "2025-03-16T11:58:40.611829Z"
    }
   },
   "cell_type": "code",
   "source": [
    "report = compare(\n",
    "    qrels=RECURSIVE_QRELS,\n",
    "    runs=[run_recursive_result_no_filters, run_recursive_result_optimal_filters,\n",
    "          run_recursive_result_self_query_retriever],\n",
    "    metrics=METRICS\n",
    ")"
   ],
   "id": "371aca2880217d45",
   "outputs": [],
   "execution_count": 23
  },
  {
   "metadata": {
    "ExecuteTime": {
     "end_time": "2025-03-16T11:58:40.646951Z",
     "start_time": "2025-03-16T11:58:40.644033Z"
    }
   },
   "cell_type": "code",
   "source": "print(report)",
   "id": "51031ac52afeb071",
   "outputs": [
    {
     "name": "stdout",
     "output_type": "stream",
     "text": [
      "#    Model                                    NDCG@5    MRR@5    MAP@5    P@5    Recall@5    Hits@5    Hit Rate@5\n",
      "---  -------------------------------------  --------  -------  -------  -----  ----------  --------  ------------\n",
      "a    recursive_result_no_filters               0.404    0.467    0.377   0.3        0.507       1.5           0.6\n",
      "b    recursive_result_optimal_filters          0.447    0.533    0.44    0.32       0.54        1.6           0.6\n",
      "c    recursive_result_self_query_retriever     0.404    0.467    0.377   0.3        0.507       1.5           0.6\n"
     ]
    }
   ],
   "execution_count": 24
  },
  {
   "metadata": {
    "ExecuteTime": {
     "end_time": "2025-03-16T11:58:40.665303Z",
     "start_time": "2025-03-16T11:58:40.662055Z"
    }
   },
   "cell_type": "code",
   "source": [
    "with open(f\"{BASE_PATH}/recursive_report@{MAX_DOCUMENTS}.txt\", \"w\") as file:\n",
    "    file.write(str(report))"
   ],
   "id": "59809bd2ed944126",
   "outputs": [],
   "execution_count": 25
  },
  {
   "metadata": {},
   "cell_type": "markdown",
   "source": [
    "Anzumerken ist, dass bei der Nutzung des SelfQueryRetriever mit dem llama3.1:8b Modell für einige Fragen keine Filter erzeugt werden können, weil die Antwort des LLMs nicht richtig formatiert ist.<br>\n",
    "Zeitgleich werden die Filter für die in der Ausarbeitung genutzten 10 Fragen immer gleich erzeugt.<br>\n",
    "\n",
    "\n",
    "Bei der Prüfung der abgerufenen Dokumente für den SelfQueryRetriever stimmen diese im durchlauf aus dem Ordner 4-Retrieval-LnagChain-Qdrant mit den Ergebnissen aus Ordner 6-Evaluation-Retrieval überein.<br>\n",
    "Somit verhält er sich voraussichtlich immer gleich bei gleichen Fragen mit dem gleichen LLM für die Erzeugung der Filter.<br>\n",
    "\n",
    "Laut LangChain-Doku sollen die Probleme mit leistungsstärkeren Modellen nicht auftreten.<br>\n",
    "\n",
    "\n",
    "In der Datenbasis sind einige Dokumente, die ausschließlich den Standort als Filterkriterium haben.\n",
    "Diese wurden nicht weiter mit den Fragen abgedeckt, da der Umfang der Chunks dort zu klein ist, sodass immer alle relevanten Informationen abgerüfen würden, wenn der Filter optimal gesetzt ist.\n",
    "Um die Auswertungen der Abfragen nicht zu verfälschen und immer 10 Dokumente abrufen zu können, entfallen Fragen mit bezug auf diese Daten. Sie beziehen sich ausschließlich auf Informationen der Webseite zu den spezifischen Standorten.\n",
    "\n",
    "Dies ist erst in der Evaluation klar geworden. Um die Chunks nicht alle neu zu erzeugen und damit ggf. andere IDs bei den abrufen zu erhalten, wurden ein Ausschluss der Fragen zu diesen Daten bevorzugt."
   ],
   "id": "b2fef8d5e9e44630"
  },
  {
   "metadata": {
    "ExecuteTime": {
     "end_time": "2025-03-16T11:58:40.684439Z",
     "start_time": "2025-03-16T11:58:40.683217Z"
    }
   },
   "cell_type": "code",
   "source": "",
   "id": "1dafc9265a480972",
   "outputs": [],
   "execution_count": null
  }
 ],
 "metadata": {
  "kernelspec": {
   "display_name": "Python 3",
   "language": "python",
   "name": "python3"
  },
  "language_info": {
   "codemirror_mode": {
    "name": "ipython",
    "version": 2
   },
   "file_extension": ".py",
   "mimetype": "text/x-python",
   "name": "python",
   "nbconvert_exporter": "python",
   "pygments_lexer": "ipython2",
   "version": "2.7.6"
  }
 },
 "nbformat": 4,
 "nbformat_minor": 5
}
