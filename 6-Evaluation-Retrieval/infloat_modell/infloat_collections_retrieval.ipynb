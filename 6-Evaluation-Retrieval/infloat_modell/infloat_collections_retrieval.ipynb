{
 "cells": [
  {
   "cell_type": "code",
   "id": "initial_id",
   "metadata": {
    "collapsed": true,
    "ExecuteTime": {
     "end_time": "2025-03-09T11:50:49.269975Z",
     "start_time": "2025-03-09T11:50:46.563511Z"
    }
   },
   "source": [
    "from enums import CollectionNames, EmbeddingModels\n",
    "from qdrant_client.models import Filter, FieldCondition, MatchValue\n",
    "\n",
    "from retrieval_util import (\n",
    "    get_qdrant_client,\n",
    "    get_embeddings_function,\n",
    "    retrieve_with_score_without_filters,\n",
    "    retrieve_with_score_with_filters,\n",
    "    retrieve_with_score_with_self_query_retriever,\n",
    "    create_llm_for_self_query_retriever\n",
    ")\n",
    "\n",
    "import os\n",
    "import json\n",
    "import logging\n",
    "from ranx import Qrels, Run, evaluate, compare\n",
    "\n",
    "os.environ[\n",
    "    \"TOKENIZERS_PARALLELISM\"] = \"false\"  # Verhindert Fehler beim Erzeugen von Embeddings (Tritt sporadisch auf, konnte ich nicht gezielt reproduzieren)\n",
    "logging.basicConfig(level=logging.INFO)"
   ],
   "outputs": [],
   "execution_count": 1
  },
  {
   "metadata": {
    "ExecuteTime": {
     "end_time": "2025-03-09T11:50:50.718532Z",
     "start_time": "2025-03-09T11:50:50.716711Z"
    }
   },
   "cell_type": "code",
   "source": "qdrant_url = \"http://localhost:6333\"",
   "id": "21219f0fec760091",
   "outputs": [],
   "execution_count": 2
  },
  {
   "metadata": {
    "ExecuteTime": {
     "end_time": "2025-03-09T11:51:00.511455Z",
     "start_time": "2025-03-09T11:50:52.395081Z"
    }
   },
   "cell_type": "code",
   "source": [
    "# Infloat-Modell für die Embeddings der Fragen\n",
    "embeddings = get_embeddings_function(model_name=EmbeddingModels.INFLOAT.value)"
   ],
   "id": "1571c12db8d335e6",
   "outputs": [
    {
     "name": "stderr",
     "output_type": "stream",
     "text": [
      "/Users/bastian/Desktop/BachelorProjektAbgabe/.venv/lib/python3.12/site-packages/tqdm/auto.py:21: TqdmWarning: IProgress not found. Please update jupyter and ipywidgets. See https://ipywidgets.readthedocs.io/en/stable/user_install.html\n",
      "  from .autonotebook import tqdm as notebook_tqdm\n",
      "INFO:datasets:PyTorch version 2.6.0 available.\n",
      "INFO:sentence_transformers.SentenceTransformer:Use pytorch device_name: mps\n",
      "INFO:sentence_transformers.SentenceTransformer:Load pretrained SentenceTransformer: intfloat/multilingual-e5-large\n"
     ]
    }
   ],
   "execution_count": 3
  },
  {
   "metadata": {
    "ExecuteTime": {
     "end_time": "2025-03-09T11:51:22.712364Z",
     "start_time": "2025-03-09T11:51:22.299980Z"
    }
   },
   "cell_type": "code",
   "source": [
    "token_client = get_qdrant_client(embeddings=embeddings, collection_name=CollectionNames.INFLOAT_TOKEN_BASED.value,\n",
    "                                 qdrant_url=qdrant_url)"
   ],
   "id": "eaa77fe78456ed09",
   "outputs": [
    {
     "name": "stderr",
     "output_type": "stream",
     "text": [
      "INFO:httpx:HTTP Request: GET http://localhost:6333 \"HTTP/1.1 200 OK\"\n",
      "INFO:httpx:HTTP Request: GET http://localhost:6333/collections/intfloat_multilingual-e5-large_token_based_chunks \"HTTP/1.1 200 OK\"\n"
     ]
    }
   ],
   "execution_count": 4
  },
  {
   "metadata": {
    "ExecuteTime": {
     "end_time": "2025-03-09T11:51:23.595360Z",
     "start_time": "2025-03-09T11:51:23.504804Z"
    }
   },
   "cell_type": "code",
   "source": [
    "recursive_client = get_qdrant_client(embeddings=embeddings, collection_name=CollectionNames.INFLOAT_RECURSIVE.value,\n",
    "                                     qdrant_url=qdrant_url)"
   ],
   "id": "6bdd273cd9c4765c",
   "outputs": [
    {
     "name": "stderr",
     "output_type": "stream",
     "text": [
      "INFO:httpx:HTTP Request: GET http://localhost:6333 \"HTTP/1.1 200 OK\"\n",
      "INFO:httpx:HTTP Request: GET http://localhost:6333/collections/intfloat_multilingual-e5-large_recursive_chunks \"HTTP/1.1 200 OK\"\n"
     ]
    }
   ],
   "execution_count": 5
  },
  {
   "metadata": {
    "ExecuteTime": {
     "end_time": "2025-03-09T11:51:33.932805Z",
     "start_time": "2025-03-09T11:51:33.930819Z"
    }
   },
   "cell_type": "code",
   "source": [
    "fragen = {\n",
    "    1: \"Wann kann ich mich für den Master in Elektrotechnik in Meschede einschreiben?\",\n",
    "    2: \"Welche Literatur ist relevant für das Modul Mathematik im Bachelorstudiengang Elektrotechnik in Soest?\",\n",
    "    3: \"Welche Fachgebiete sind an der FH vertreten?\",\n",
    "    4: \"Ist eine Beurlaubung während des Studiums möglich?\",\n",
    "    5: \"Welche Studienmodelle werden angeboten?\",\n",
    "    6: \"Wie viele Seiten muss ich in meiner Bachelorarbeit in Wirtschaftsinformatik in Hagen schreiben?\",\n",
    "    7: \"Wie sind Portfolioprüfungen im Bachelorstudiengang Elektrotechnik in Soest aufgebaut?\",\n",
    "    8: \"Was muss ich beachten, wenn ich bei einer Prüfung krank bin?\",\n",
    "    9: \"Was sind die Inhalte im Modul IT-Sicherheit im Bachelorstudiengang Elektrotechnik in Hagen?\",\n",
    "    10: \"Wie lange dauern die Klausuren im Bachelorstudiengang Wirtschaftsinformatik in Hagen?\"\n",
    "}"
   ],
   "id": "6a6f87a8fd93c62d",
   "outputs": [],
   "execution_count": 6
  },
  {
   "metadata": {
    "ExecuteTime": {
     "end_time": "2025-03-09T11:51:36.838450Z",
     "start_time": "2025-03-09T11:51:36.836059Z"
    }
   },
   "cell_type": "code",
   "source": [
    "def save_results_to_file(file_path, results_dict):\n",
    "    try:\n",
    "        with open(file_path, \"w\") as file:\n",
    "            json.dump(results_dict, file, indent=4)\n",
    "        print(f\"Ergebnisse wurden erfolgreich in {file_path} gespeichert.\")\n",
    "    except Exception as e:\n",
    "        print(f\"Fehler beim Speichern der Datei: {e}\")"
   ],
   "id": "e779d433663dbfb1",
   "outputs": [],
   "execution_count": 7
  },
  {
   "metadata": {},
   "cell_type": "markdown",
   "source": [
    "# Abfragen der Dokumente ohne einen Filter zu nutzen\n",
    "\n",
    "Beginnt mit der Collection, welche mit dem infloat-Modell und dem SentenceTransformersTokenTextSplitter (Chunk-Größe=500Token, Overlap=50Token) erstellt wurde."
   ],
   "id": "e0a1cebe100038e7"
  },
  {
   "metadata": {
    "ExecuteTime": {
     "end_time": "2025-03-09T12:34:58.248138Z",
     "start_time": "2025-03-09T12:34:58.245909Z"
    }
   },
   "cell_type": "code",
   "source": [
    "def retrieve_all_scores_no_filters(client, fragen_dict):\n",
    "    ergebnisse = {}\n",
    "\n",
    "    for q_id, frage in fragen_dict.items():\n",
    "        docs = retrieve_with_score_without_filters(client=client, max_documents=10, query=frage)\n",
    "\n",
    "        # Dictionary für die Dokumente mit ihren Scores\n",
    "        doc_scores = {f\"d_{doc.metadata[\"id\"]}\": score for doc, score in docs}\n",
    "\n",
    "        # Speichern im Hauptdictionary unter q_x\n",
    "        ergebnisse[f\"q_{q_id}\"] = doc_scores\n",
    "\n",
    "    return ergebnisse"
   ],
   "id": "fbf1c513d671b34d",
   "outputs": [],
   "execution_count": 64
  },
  {
   "metadata": {
    "ExecuteTime": {
     "end_time": "2025-03-09T11:51:51.116307Z",
     "start_time": "2025-03-09T11:51:50.250619Z"
    }
   },
   "cell_type": "code",
   "source": "run_without_filters = retrieve_all_scores_no_filters(client=token_client, fragen_dict=fragen)",
   "id": "fa36d1d4f821cd79",
   "outputs": [
    {
     "name": "stderr",
     "output_type": "stream",
     "text": [
      "INFO:httpx:HTTP Request: POST http://localhost:6333/collections/intfloat_multilingual-e5-large_token_based_chunks/points/query \"HTTP/1.1 200 OK\"\n",
      "INFO:httpx:HTTP Request: POST http://localhost:6333/collections/intfloat_multilingual-e5-large_token_based_chunks/points/query \"HTTP/1.1 200 OK\"\n",
      "INFO:httpx:HTTP Request: POST http://localhost:6333/collections/intfloat_multilingual-e5-large_token_based_chunks/points/query \"HTTP/1.1 200 OK\"\n",
      "INFO:httpx:HTTP Request: POST http://localhost:6333/collections/intfloat_multilingual-e5-large_token_based_chunks/points/query \"HTTP/1.1 200 OK\"\n",
      "INFO:httpx:HTTP Request: POST http://localhost:6333/collections/intfloat_multilingual-e5-large_token_based_chunks/points/query \"HTTP/1.1 200 OK\"\n",
      "INFO:httpx:HTTP Request: POST http://localhost:6333/collections/intfloat_multilingual-e5-large_token_based_chunks/points/query \"HTTP/1.1 200 OK\"\n",
      "INFO:httpx:HTTP Request: POST http://localhost:6333/collections/intfloat_multilingual-e5-large_token_based_chunks/points/query \"HTTP/1.1 200 OK\"\n",
      "INFO:httpx:HTTP Request: POST http://localhost:6333/collections/intfloat_multilingual-e5-large_token_based_chunks/points/query \"HTTP/1.1 200 OK\"\n",
      "INFO:httpx:HTTP Request: POST http://localhost:6333/collections/intfloat_multilingual-e5-large_token_based_chunks/points/query \"HTTP/1.1 200 OK\"\n",
      "INFO:httpx:HTTP Request: POST http://localhost:6333/collections/intfloat_multilingual-e5-large_token_based_chunks/points/query \"HTTP/1.1 200 OK\"\n"
     ]
    }
   ],
   "execution_count": 9
  },
  {
   "metadata": {
    "ExecuteTime": {
     "end_time": "2025-03-09T12:07:27.960700Z",
     "start_time": "2025-03-09T12:07:27.957983Z"
    }
   },
   "cell_type": "code",
   "source": [
    "print(run_without_filters)\n",
    "print(json.dumps(run_without_filters, indent=4))\n",
    "run_without_filters_path = \"./token-based-chunks/run_no_filters.json\"\n",
    "save_results_to_file(run_without_filters_path, run_without_filters)"
   ],
   "id": "2e6ac987998a60e6",
   "outputs": [
    {
     "name": "stdout",
     "output_type": "stream",
     "text": [
      "{'q_1': {'d_1021': 0.8931459, 'd_1020': 0.8903258, 'd_787': 0.8899049, 'd_788': 0.88495636, 'd_1024': 0.8829783, 'd_793': 0.8752167, 'd_1023': 0.8701733, 'd_1026': 0.8666712, 'd_1055': 0.86644125, 'd_789': 0.86356777}, 'q_2': {'d_1557': 0.8314544, 'd_1487': 0.8202493, 'd_1556': 0.81963754, 'd_2': 0.80611885, 'd_1558': 0.80551267, 'd_540': 0.7993765, 'd_542': 0.7968593, 'd_6': 0.79636025, 'd_543': 0.7953263, 'd_539': 0.79418266}, 'q_3': {'d_240': 0.85005033, 'd_1025': 0.8214303, 'd_1481': 0.82099384, 'd_265': 0.8202428, 'd_1183': 0.8172393, 'd_793': 0.8165607, 'd_1561': 0.8115437, 'd_61': 0.8095254, 'd_563': 0.80919445, 'd_31': 0.80904526}, 'q_4': {'d_1499': 0.8608073, 'd_1500': 0.8334881, 'd_1555': 0.8237432, 'd_1183': 0.82201755, 'd_1554': 0.82075715, 'd_240': 0.81968564, 'd_1498': 0.8190165, 'd_1502': 0.8187066, 'd_1025': 0.81730103, 'd_1553': 0.8160151}, 'q_5': {'d_1482': 0.85370076, 'd_1486': 0.8361856, 'd_1480': 0.83425295, 'd_1483': 0.8339882, 'd_1431': 0.81845486, 'd_268': 0.8159599, 'd_1416': 0.81574863, 'd_1479': 0.81475514, 'd_1471': 0.81204873, 'd_1372': 0.8117936}, 'q_6': {'d_6': 0.8624326, 'd_1': 0.86073804, 'd_1496': 0.855683, 'd_44': 0.84854376, 'd_73': 0.84812206, 'd_10': 0.8463162, 'd_9': 0.846308, 'd_1495': 0.845302, 'd_122': 0.8420756, 'd_235': 0.8413982}, 'q_7': {'d_1178': 0.8734595, 'd_1176': 0.8732553, 'd_1184': 0.87265897, 'd_1185': 0.87090456, 'd_1175': 0.8699447, 'd_1254': 0.8673877, 'd_1186': 0.8661542, 'd_541': 0.85713184, 'd_1182': 0.8557511, 'd_861': 0.8550963}, 'q_8': {'d_1555': 0.88516814, 'd_1554': 0.8613523, 'd_1553': 0.8538147, 'd_1530': 0.8375912, 'd_796': 0.8313589, 'd_552': 0.8273058, 'd_1499': 0.8238957, 'd_1535': 0.8229655, 'd_1543': 0.82259935, 'd_1534': 0.82018965}, 'q_9': {'d_292': 0.8720825, 'd_930': 0.8643897, 'd_538': 0.8622564, 'd_542': 0.8621342, 'd_559': 0.8620355, 'd_790': 0.8615581, 'd_545': 0.8551102, 'd_293': 0.8524576, 'd_540': 0.8523452, 'd_543': 0.84975374}, 'q_10': {'d_1': 0.8700241, 'd_6': 0.869426, 'd_9': 0.85333216, 'd_73': 0.85327506, 'd_7': 0.85246223, 'd_44': 0.8524351, 'd_235': 0.84901, 'd_10': 0.84870726, 'd_2': 0.84634304, 'd_77': 0.8457073}}\n",
      "{\n",
      "    \"q_1\": {\n",
      "        \"d_1021\": 0.8931459,\n",
      "        \"d_1020\": 0.8903258,\n",
      "        \"d_787\": 0.8899049,\n",
      "        \"d_788\": 0.88495636,\n",
      "        \"d_1024\": 0.8829783,\n",
      "        \"d_793\": 0.8752167,\n",
      "        \"d_1023\": 0.8701733,\n",
      "        \"d_1026\": 0.8666712,\n",
      "        \"d_1055\": 0.86644125,\n",
      "        \"d_789\": 0.86356777\n",
      "    },\n",
      "    \"q_2\": {\n",
      "        \"d_1557\": 0.8314544,\n",
      "        \"d_1487\": 0.8202493,\n",
      "        \"d_1556\": 0.81963754,\n",
      "        \"d_2\": 0.80611885,\n",
      "        \"d_1558\": 0.80551267,\n",
      "        \"d_540\": 0.7993765,\n",
      "        \"d_542\": 0.7968593,\n",
      "        \"d_6\": 0.79636025,\n",
      "        \"d_543\": 0.7953263,\n",
      "        \"d_539\": 0.79418266\n",
      "    },\n",
      "    \"q_3\": {\n",
      "        \"d_240\": 0.85005033,\n",
      "        \"d_1025\": 0.8214303,\n",
      "        \"d_1481\": 0.82099384,\n",
      "        \"d_265\": 0.8202428,\n",
      "        \"d_1183\": 0.8172393,\n",
      "        \"d_793\": 0.8165607,\n",
      "        \"d_1561\": 0.8115437,\n",
      "        \"d_61\": 0.8095254,\n",
      "        \"d_563\": 0.80919445,\n",
      "        \"d_31\": 0.80904526\n",
      "    },\n",
      "    \"q_4\": {\n",
      "        \"d_1499\": 0.8608073,\n",
      "        \"d_1500\": 0.8334881,\n",
      "        \"d_1555\": 0.8237432,\n",
      "        \"d_1183\": 0.82201755,\n",
      "        \"d_1554\": 0.82075715,\n",
      "        \"d_240\": 0.81968564,\n",
      "        \"d_1498\": 0.8190165,\n",
      "        \"d_1502\": 0.8187066,\n",
      "        \"d_1025\": 0.81730103,\n",
      "        \"d_1553\": 0.8160151\n",
      "    },\n",
      "    \"q_5\": {\n",
      "        \"d_1482\": 0.85370076,\n",
      "        \"d_1486\": 0.8361856,\n",
      "        \"d_1480\": 0.83425295,\n",
      "        \"d_1483\": 0.8339882,\n",
      "        \"d_1431\": 0.81845486,\n",
      "        \"d_268\": 0.8159599,\n",
      "        \"d_1416\": 0.81574863,\n",
      "        \"d_1479\": 0.81475514,\n",
      "        \"d_1471\": 0.81204873,\n",
      "        \"d_1372\": 0.8117936\n",
      "    },\n",
      "    \"q_6\": {\n",
      "        \"d_6\": 0.8624326,\n",
      "        \"d_1\": 0.86073804,\n",
      "        \"d_1496\": 0.855683,\n",
      "        \"d_44\": 0.84854376,\n",
      "        \"d_73\": 0.84812206,\n",
      "        \"d_10\": 0.8463162,\n",
      "        \"d_9\": 0.846308,\n",
      "        \"d_1495\": 0.845302,\n",
      "        \"d_122\": 0.8420756,\n",
      "        \"d_235\": 0.8413982\n",
      "    },\n",
      "    \"q_7\": {\n",
      "        \"d_1178\": 0.8734595,\n",
      "        \"d_1176\": 0.8732553,\n",
      "        \"d_1184\": 0.87265897,\n",
      "        \"d_1185\": 0.87090456,\n",
      "        \"d_1175\": 0.8699447,\n",
      "        \"d_1254\": 0.8673877,\n",
      "        \"d_1186\": 0.8661542,\n",
      "        \"d_541\": 0.85713184,\n",
      "        \"d_1182\": 0.8557511,\n",
      "        \"d_861\": 0.8550963\n",
      "    },\n",
      "    \"q_8\": {\n",
      "        \"d_1555\": 0.88516814,\n",
      "        \"d_1554\": 0.8613523,\n",
      "        \"d_1553\": 0.8538147,\n",
      "        \"d_1530\": 0.8375912,\n",
      "        \"d_796\": 0.8313589,\n",
      "        \"d_552\": 0.8273058,\n",
      "        \"d_1499\": 0.8238957,\n",
      "        \"d_1535\": 0.8229655,\n",
      "        \"d_1543\": 0.82259935,\n",
      "        \"d_1534\": 0.82018965\n",
      "    },\n",
      "    \"q_9\": {\n",
      "        \"d_292\": 0.8720825,\n",
      "        \"d_930\": 0.8643897,\n",
      "        \"d_538\": 0.8622564,\n",
      "        \"d_542\": 0.8621342,\n",
      "        \"d_559\": 0.8620355,\n",
      "        \"d_790\": 0.8615581,\n",
      "        \"d_545\": 0.8551102,\n",
      "        \"d_293\": 0.8524576,\n",
      "        \"d_540\": 0.8523452,\n",
      "        \"d_543\": 0.84975374\n",
      "    },\n",
      "    \"q_10\": {\n",
      "        \"d_1\": 0.8700241,\n",
      "        \"d_6\": 0.869426,\n",
      "        \"d_9\": 0.85333216,\n",
      "        \"d_73\": 0.85327506,\n",
      "        \"d_7\": 0.85246223,\n",
      "        \"d_44\": 0.8524351,\n",
      "        \"d_235\": 0.84901,\n",
      "        \"d_10\": 0.84870726,\n",
      "        \"d_2\": 0.84634304,\n",
      "        \"d_77\": 0.8457073\n",
      "    }\n",
      "}\n",
      "Ergebnisse wurden erfolgreich in ./token-based-chunks/run_no_filters.json gespeichert.\n"
     ]
    }
   ],
   "execution_count": 41
  },
  {
   "metadata": {
    "ExecuteTime": {
     "end_time": "2025-03-09T11:51:59.909078Z",
     "start_time": "2025-03-09T11:51:59.906084Z"
    }
   },
   "cell_type": "code",
   "source": [
    "qrels_dict = {\n",
    "    \"q_1\": {\n",
    "        \"d_1021\": 10,\n",
    "        \"d_1022\": 1\n",
    "    },\n",
    "    \"q_2\": {\n",
    "        \"d_1301\": 10\n",
    "    },\n",
    "    \"q_3\": {\n",
    "        \"d_1480\": 10,\n",
    "        \"d_1481\": 10\n",
    "    },\n",
    "    \"q_4\": {\n",
    "        \"d_1498\": 10,\n",
    "        \"d_1499\": 10,\n",
    "        \"d_1500\": 1\n",
    "    },\n",
    "    \"q_5\": {\n",
    "        \"d_1482\": 10,\n",
    "        \"d_1483\": 10,\n",
    "        \"d_1484\": 10,\n",
    "        \"d_1485\": 10\n",
    "    },\n",
    "    \"q_6\": {\n",
    "        \"d_18\": 10\n",
    "    },\n",
    "    \"q_7\": {\n",
    "        \"d_1192\": 10,\n",
    "        \"d_1193\": 8\n",
    "    },\n",
    "    \"q_8\": {\n",
    "        \"d_1553\": 10,\n",
    "        \"d_1554\": 10,\n",
    "        \"d_1555\": 10\n",
    "    },\n",
    "    \"q_9\": {\n",
    "        \"d_704\": 10\n",
    "    },\n",
    "    \"q_10\": {\n",
    "        \"d_14\": 10,\n",
    "        \"d_15\": 10\n",
    "    }\n",
    "}"
   ],
   "id": "a8c2b5c301e57871",
   "outputs": [],
   "execution_count": 11
  },
  {
   "metadata": {
    "ExecuteTime": {
     "end_time": "2025-03-09T12:07:58.470191Z",
     "start_time": "2025-03-09T12:07:58.467639Z"
    }
   },
   "cell_type": "code",
   "source": [
    "qrels_path = \"./token-based-chunks/qrels.json\"\n",
    "save_results_to_file(qrels_path, qrels_dict)"
   ],
   "id": "69266fbe1c142707",
   "outputs": [
    {
     "name": "stdout",
     "output_type": "stream",
     "text": [
      "Ergebnisse wurden erfolgreich in ./token-based-chunks/qrels.json gespeichert.\n"
     ]
    }
   ],
   "execution_count": 42
  },
  {
   "metadata": {},
   "cell_type": "markdown",
   "source": [
    "Ich nutze die Metriken, die beim Retrieval im MTEB auch genutzt werden:\n",
    "1. nDCG@k\n",
    "2. MRR@k\n",
    "3. MAP@k,\n",
    "4. precision@k\n",
    "5. recall@k\n",
    "\n",
    "Hauptmetrik im MTEB war immer nDCG@10 für Evaluation der Retrieval-Fähigkeiten eines Embedding Modells\n",
    "\n",
    "Zusätzlich nehme ich die Hits@k und HitRate@k auf."
   ],
   "id": "949a5e8aabf0480e"
  },
  {
   "metadata": {
    "ExecuteTime": {
     "end_time": "2025-03-09T11:52:06.485765Z",
     "start_time": "2025-03-09T11:52:06.058415Z"
    }
   },
   "cell_type": "code",
   "source": "qrels = Qrels(qrels_dict)",
   "id": "db264d4b8e817aeb",
   "outputs": [],
   "execution_count": 13
  },
  {
   "metadata": {
    "ExecuteTime": {
     "end_time": "2025-03-09T11:52:11.042296Z",
     "start_time": "2025-03-09T11:52:10.941825Z"
    }
   },
   "cell_type": "code",
   "source": "run = Run(run_without_filters)",
   "id": "d42f3c7e05362084",
   "outputs": [],
   "execution_count": 14
  },
  {
   "metadata": {
    "ExecuteTime": {
     "end_time": "2025-03-09T11:52:14.442688Z",
     "start_time": "2025-03-09T11:52:14.329859Z"
    }
   },
   "cell_type": "code",
   "source": [
    "score_dict_10 = evaluate(qrels, run,\n",
    "                         [\"ndcg@10\", \"mrr@10\", \"map@10\", \"precision@10\", \"recall@10\", \"hits@10\", \"hit_rate@10\"])"
   ],
   "id": "77411818b992fc8b",
   "outputs": [],
   "execution_count": 15
  },
  {
   "metadata": {
    "ExecuteTime": {
     "end_time": "2025-03-09T12:08:10.892111Z",
     "start_time": "2025-03-09T12:08:10.889508Z"
    }
   },
   "cell_type": "code",
   "source": [
    "print(score_dict_10)\n",
    "scores_no_filters_path = \"./token-based-chunks/scores_no_filters.json\"\n",
    "save_results_to_file(scores_no_filters_path, score_dict_10)"
   ],
   "id": "c41df0de5bf8a946",
   "outputs": [
    {
     "name": "stdout",
     "output_type": "stream",
     "text": [
      "{'ndcg@10': np.float64(0.4597542719325121), 'mrr@10': np.float64(0.5333333333333333), 'map@10': np.float64(0.3801190476190476), 'precision@10': np.float64(0.14), 'recall@10': np.float64(0.45), 'hits@10': np.float64(1.4), 'hit_rate@10': np.float64(0.6)}\n",
      "Ergebnisse wurden erfolgreich in ./token-based-chunks/scores_no_filters.json gespeichert.\n"
     ]
    }
   ],
   "execution_count": 43
  },
  {
   "metadata": {},
   "cell_type": "markdown",
   "source": [
    "# Abfrage der Dokumente mit idealen Filtern (händisch angelegt in dem Wissen, wo relevante Informationen stehen)\n",
    "\n",
    "Beginnt mit der Collection, welche mit dem infloat-Modell und dem SentenceTransformersTokenTextSplitter (Chunk-Größe=500Token, Overlap=50Token) erstellt wurde."
   ],
   "id": "3144c6df045f763b"
  },
  {
   "metadata": {
    "ExecuteTime": {
     "end_time": "2025-03-09T11:53:19.452249Z",
     "start_time": "2025-03-09T11:53:19.448124Z"
    }
   },
   "cell_type": "code",
   "source": [
    "def create_field_condition(field, value):\n",
    "    return FieldCondition(\n",
    "        key=f\"metadata.{field}\",\n",
    "        match=MatchValue(value=value)\n",
    "    )\n",
    "\n",
    "\n",
    "filters = {\n",
    "    1: Filter(must=[\n",
    "        create_field_condition(\"studiengang\", \"Elektrotechnik\"),\n",
    "        create_field_condition(\"standort\", \"Meschede\"),\n",
    "        create_field_condition(\"abschluss\", \"Master\")\n",
    "    ]),\n",
    "    2: Filter(must=[\n",
    "        create_field_condition(\"standort\", \"Soest\"),\n",
    "        create_field_condition(\"studiengang\", \"Elektrotechnik\"),\n",
    "        create_field_condition(\"abschluss\", \"Soest\")\n",
    "    ]),\n",
    "    3: Filter(must=[\n",
    "        create_field_condition(\"studiengang\", \"Alle\"),\n",
    "        create_field_condition(\"standort\", \"Alle\"),\n",
    "        create_field_condition(\"abschluss\", \"Alle\")\n",
    "    ]),\n",
    "    4: Filter(must=[\n",
    "        create_field_condition(\"studiengang\", \"Alle\"),\n",
    "        create_field_condition(\"standort\", \"Alle\"),\n",
    "        create_field_condition(\"abschluss\", \"Alle\")\n",
    "    ]),\n",
    "    5: Filter(must=[\n",
    "        create_field_condition(\"studiengang\", \"Alle\"),\n",
    "        create_field_condition(\"standort\", \"Alle\"),\n",
    "        create_field_condition(\"abschluss\", \"Alle\")\n",
    "    ]),\n",
    "    6: Filter(must=[\n",
    "        create_field_condition(\"studiengang\", \"Wirtschaftsinformatik\"),\n",
    "        create_field_condition(\"standort\", \"Hagen\"),\n",
    "        create_field_condition(\"abschluss\", \"Bachelor\")\n",
    "    ]),\n",
    "    7: Filter(must=[\n",
    "        create_field_condition(\"studiengang\", \"Elektrotechnik\"),\n",
    "        create_field_condition(\"standort\", \"Soest\"),\n",
    "        create_field_condition(\"abschluss\", \"Bachelor\")\n",
    "    ]),\n",
    "    8: Filter(must=[\n",
    "        create_field_condition(\"studiengang\", \"Alle\"),\n",
    "        create_field_condition(\"standort\", \"Alle\"),\n",
    "        create_field_condition(\"abschluss\", \"Alle\")\n",
    "    ]),\n",
    "    9: Filter(must=[\n",
    "        create_field_condition(\"studiengang\", \"Elektrotechnik\"),\n",
    "        create_field_condition(\"standort\", \"Hagen\"),\n",
    "        create_field_condition(\"abschluss\", \"Bachelor\")\n",
    "    ]),\n",
    "    10: Filter(must=[\n",
    "        create_field_condition(\"studiengang\", \"Wirtschaftsinformatik\"),\n",
    "        create_field_condition(\"standort\", \"Hagen\"),\n",
    "        create_field_condition(\"abschluss\", \"Bachelor\")\n",
    "    ]),\n",
    "}"
   ],
   "id": "39282c14f25e092d",
   "outputs": [],
   "execution_count": 17
  },
  {
   "metadata": {
    "ExecuteTime": {
     "end_time": "2025-03-09T11:53:31.193815Z",
     "start_time": "2025-03-09T11:53:31.191724Z"
    }
   },
   "cell_type": "code",
   "source": [
    "def retrieve_all_scores_optimal_filters(client, fragen_dict, filter_dict):\n",
    "    ergebnisse = {}\n",
    "\n",
    "    for q_id, frage in fragen_dict.items():\n",
    "        docs = retrieve_with_score_with_filters(client=client, max_documents=10, filters=filter_dict[q_id], query=frage)\n",
    "\n",
    "        # Dictionary für die Dokumente mit ihren Scores\n",
    "        doc_scores = {f\"d_{doc.metadata[\"id\"]}\": score for doc, score in docs}\n",
    "\n",
    "        # Speichern im Hauptdictionary unter q_x\n",
    "        ergebnisse[f\"q_{q_id}\"] = doc_scores\n",
    "\n",
    "    return ergebnisse"
   ],
   "id": "5a8a3f2e69f861f6",
   "outputs": [],
   "execution_count": 18
  },
  {
   "metadata": {
    "ExecuteTime": {
     "end_time": "2025-03-09T11:53:38.507836Z",
     "start_time": "2025-03-09T11:53:37.947163Z"
    }
   },
   "cell_type": "code",
   "source": [
    "run_with_optimal_filters = retrieve_all_scores_optimal_filters(client=token_client, fragen_dict=fragen,\n",
    "                                                               filter_dict=filters)"
   ],
   "id": "4351b5dbdff9ce9",
   "outputs": [
    {
     "name": "stderr",
     "output_type": "stream",
     "text": [
      "INFO:httpx:HTTP Request: POST http://localhost:6333/collections/intfloat_multilingual-e5-large_token_based_chunks/points/query \"HTTP/1.1 200 OK\"\n",
      "INFO:httpx:HTTP Request: POST http://localhost:6333/collections/intfloat_multilingual-e5-large_token_based_chunks/points/query \"HTTP/1.1 200 OK\"\n",
      "INFO:httpx:HTTP Request: POST http://localhost:6333/collections/intfloat_multilingual-e5-large_token_based_chunks/points/query \"HTTP/1.1 200 OK\"\n",
      "INFO:httpx:HTTP Request: POST http://localhost:6333/collections/intfloat_multilingual-e5-large_token_based_chunks/points/query \"HTTP/1.1 200 OK\"\n",
      "INFO:httpx:HTTP Request: POST http://localhost:6333/collections/intfloat_multilingual-e5-large_token_based_chunks/points/query \"HTTP/1.1 200 OK\"\n",
      "INFO:httpx:HTTP Request: POST http://localhost:6333/collections/intfloat_multilingual-e5-large_token_based_chunks/points/query \"HTTP/1.1 200 OK\"\n",
      "INFO:httpx:HTTP Request: POST http://localhost:6333/collections/intfloat_multilingual-e5-large_token_based_chunks/points/query \"HTTP/1.1 200 OK\"\n",
      "INFO:httpx:HTTP Request: POST http://localhost:6333/collections/intfloat_multilingual-e5-large_token_based_chunks/points/query \"HTTP/1.1 200 OK\"\n",
      "INFO:httpx:HTTP Request: POST http://localhost:6333/collections/intfloat_multilingual-e5-large_token_based_chunks/points/query \"HTTP/1.1 200 OK\"\n",
      "INFO:httpx:HTTP Request: POST http://localhost:6333/collections/intfloat_multilingual-e5-large_token_based_chunks/points/query \"HTTP/1.1 200 OK\"\n"
     ]
    }
   ],
   "execution_count": 19
  },
  {
   "metadata": {
    "ExecuteTime": {
     "end_time": "2025-03-09T12:08:21.220852Z",
     "start_time": "2025-03-09T12:08:21.217829Z"
    }
   },
   "cell_type": "code",
   "source": [
    "run_with_filter = Run(run_with_optimal_filters)\n",
    "run_with_filter_path = \"./token-based-chunks/run_with_optimal_filters.json\"\n",
    "save_results_to_file(run_with_filter_path, run_with_optimal_filters)"
   ],
   "id": "dd55c063c62262f8",
   "outputs": [
    {
     "name": "stdout",
     "output_type": "stream",
     "text": [
      "Ergebnisse wurden erfolgreich in ./token-based-chunks/run_with_optimal_filters.json gespeichert.\n"
     ]
    }
   ],
   "execution_count": 44
  },
  {
   "metadata": {
    "ExecuteTime": {
     "end_time": "2025-03-09T11:57:58.265072Z",
     "start_time": "2025-03-09T11:57:58.260772Z"
    }
   },
   "cell_type": "code",
   "source": [
    "score_optimal_filters_dict_10 = evaluate(qrels, run_with_filter,\n",
    "                                         [\"ndcg@10\", \"mrr@10\", \"map@10\", \"precision@10\", \"recall@10\", \"hits@10\",\n",
    "                                          \"hit_rate@10\"])"
   ],
   "id": "13e00ec52b3a03a1",
   "outputs": [],
   "execution_count": 26
  },
  {
   "metadata": {
    "ExecuteTime": {
     "end_time": "2025-03-09T12:08:40.052957Z",
     "start_time": "2025-03-09T12:08:40.050289Z"
    }
   },
   "cell_type": "code",
   "source": [
    "score_with_optimal_filters_path = \"./token-based-chunks/scores_with_optimal_filters.json\"\n",
    "save_results_to_file(score_with_optimal_filters_path, score_optimal_filters_dict_10)"
   ],
   "id": "b0bbfed901aef104",
   "outputs": [
    {
     "name": "stdout",
     "output_type": "stream",
     "text": [
      "Ergebnisse wurden erfolgreich in ./token-based-chunks/scores_with_optimal_filters.json gespeichert.\n"
     ]
    }
   ],
   "execution_count": 45
  },
  {
   "metadata": {},
   "cell_type": "markdown",
   "source": [
    "# Abfrage der Dokumente mit dem SelfQueryRetriever aus LangChain\n",
    "\n",
    "Beginnt mit der Collection, welche mit dem infloat-Modell und dem SentenceTransformersTokenTextSplitter (Chunk-Größe=500Token, Overlap=50Token) erstellt wurde."
   ],
   "id": "bf4e44293d178ee1"
  },
  {
   "metadata": {
    "ExecuteTime": {
     "end_time": "2025-03-09T11:59:16.105154Z",
     "start_time": "2025-03-09T11:59:16.068941Z"
    }
   },
   "cell_type": "code",
   "source": "llm = create_llm_for_self_query_retriever()",
   "id": "d69d17805bdb7b01",
   "outputs": [],
   "execution_count": 29
  },
  {
   "metadata": {
    "ExecuteTime": {
     "end_time": "2025-03-09T11:59:17.489403Z",
     "start_time": "2025-03-09T11:59:17.487665Z"
    }
   },
   "cell_type": "code",
   "source": "search_kwargs = {\"k\": 10}",
   "id": "d0aff9de0c419c26",
   "outputs": [],
   "execution_count": 30
  },
  {
   "metadata": {
    "ExecuteTime": {
     "end_time": "2025-03-09T12:38:45.841925Z",
     "start_time": "2025-03-09T12:38:45.839539Z"
    }
   },
   "cell_type": "code",
   "source": [
    "def retrieve_all_scores_self_query_retriever(client, llm, search_kwargs, fragen_dict):\n",
    "    ergebnisse = {}\n",
    "\n",
    "    for q_id, frage in fragen_dict.items():\n",
    "        docs = retrieve_with_score_with_self_query_retriever(\n",
    "            client=client, llm=llm, search_kwargs=search_kwargs, query=frage\n",
    "        )\n",
    "\n",
    "        # Dictionary für die Dokumente mit ihren Scores\n",
    "        doc_scores = {f\"d_{doc.metadata[\"id\"]}\": score for doc, score in docs}\n",
    "\n",
    "        # Speichern im Hauptdictionary unter q_x\n",
    "        ergebnisse[f\"q_{q_id}\"] = doc_scores\n",
    "\n",
    "    return ergebnisse"
   ],
   "id": "cca03756739e3815",
   "outputs": [],
   "execution_count": 73
  },
  {
   "metadata": {
    "ExecuteTime": {
     "end_time": "2025-03-09T12:00:51.541770Z",
     "start_time": "2025-03-09T11:59:28.393971Z"
    }
   },
   "cell_type": "code",
   "source": [
    "run_with_self_query_retriever = retrieve_all_scores_self_query_retriever(client=token_client, llm=llm, search_kwargs=search_kwargs,\n",
    "                                                    fragen_dict=fragen)"
   ],
   "id": "de2dab235df8c1e3",
   "outputs": [
    {
     "name": "stderr",
     "output_type": "stream",
     "text": [
      "INFO:httpx:HTTP Request: POST http://127.0.0.1:11434/api/chat \"HTTP/1.1 200 OK\"\n",
      "INFO:langchain.retrievers.self_query.base:Generated Query: query='Master in Elektrotechnik' filter=Operation(operator=<Operator.AND: 'and'>, arguments=[Comparison(comparator=<Comparator.EQ: 'eq'>, attribute='studiengang', value='Elektrotechnik'), Comparison(comparator=<Comparator.EQ: 'eq'>, attribute='abschluss', value='Master'), Comparison(comparator=<Comparator.EQ: 'eq'>, attribute='standort', value='Meschede')]) limit=None\n",
      "INFO:httpx:HTTP Request: POST http://localhost:6333/collections/intfloat_multilingual-e5-large_token_based_chunks/points/query \"HTTP/1.1 200 OK\"\n",
      "INFO:httpx:HTTP Request: POST http://127.0.0.1:11434/api/chat \"HTTP/1.1 200 OK\"\n",
      "INFO:langchain.retrievers.self_query.base:Generated Query: query='Standort Hagen' filter=Comparison(comparator=<Comparator.EQ: 'eq'>, attribute='standort', value='Hagen') limit=None\n",
      "INFO:httpx:HTTP Request: POST http://localhost:6333/collections/intfloat_multilingual-e5-large_token_based_chunks/points/query \"HTTP/1.1 200 OK\"\n",
      "INFO:httpx:HTTP Request: POST http://127.0.0.1:11434/api/chat \"HTTP/1.1 200 OK\"\n",
      "INFO:langchain.retrievers.self_query.base:Generated Query: query='Fachgebiete an der FH' filter=None limit=None\n",
      "INFO:httpx:HTTP Request: POST http://localhost:6333/collections/intfloat_multilingual-e5-large_token_based_chunks/points/query \"HTTP/1.1 200 OK\"\n",
      "INFO:httpx:HTTP Request: POST http://127.0.0.1:11434/api/chat \"HTTP/1.1 200 OK\"\n",
      "INFO:langchain.retrievers.self_query.base:Generated Query: query='Beurlaubung während des Studiums' filter=None limit=None\n",
      "INFO:httpx:HTTP Request: POST http://localhost:6333/collections/intfloat_multilingual-e5-large_token_based_chunks/points/query \"HTTP/1.1 200 OK\"\n",
      "INFO:httpx:HTTP Request: POST http://127.0.0.1:11434/api/chat \"HTTP/1.1 200 OK\"\n",
      "INFO:langchain.retrievers.self_query.base:Generated Query: query='Studienmodelle' filter=None limit=None\n",
      "INFO:httpx:HTTP Request: POST http://localhost:6333/collections/intfloat_multilingual-e5-large_token_based_chunks/points/query \"HTTP/1.1 200 OK\"\n",
      "INFO:httpx:HTTP Request: POST http://127.0.0.1:11434/api/chat \"HTTP/1.1 200 OK\"\n",
      "INFO:langchain.retrievers.self_query.base:Generated Query: query='wie viele Seiten muss ich in meiner bachelorarbeit in wirtschaftsinformatik in hagen schreiben' filter=Operation(operator=<Operator.AND: 'and'>, arguments=[Comparison(comparator=<Comparator.EQ: 'eq'>, attribute='studiengang', value='Wirtschaftsinformatik'), Comparison(comparator=<Comparator.EQ: 'eq'>, attribute='abschluss', value='Bachelor'), Comparison(comparator=<Comparator.EQ: 'eq'>, attribute='standort', value='Hagen')]) limit=None\n",
      "INFO:httpx:HTTP Request: POST http://localhost:6333/collections/intfloat_multilingual-e5-large_token_based_chunks/points/query \"HTTP/1.1 200 OK\"\n",
      "INFO:httpx:HTTP Request: POST http://127.0.0.1:11434/api/chat \"HTTP/1.1 200 OK\"\n",
      "INFO:langchain.retrievers.self_query.base:Generated Query: query='Bachelorstudiengang Elektrotechnik in Soest' filter=Operation(operator=<Operator.AND: 'and'>, arguments=[Comparison(comparator=<Comparator.EQ: 'eq'>, attribute='studiengang', value='Elektrotechnik'), Comparison(comparator=<Comparator.EQ: 'eq'>, attribute='abschluss', value='Bachelor'), Comparison(comparator=<Comparator.EQ: 'eq'>, attribute='standort', value='Soest')]) limit=None\n",
      "INFO:httpx:HTTP Request: POST http://localhost:6333/collections/intfloat_multilingual-e5-large_token_based_chunks/points/query \"HTTP/1.1 200 OK\"\n",
      "INFO:httpx:HTTP Request: POST http://127.0.0.1:11434/api/chat \"HTTP/1.1 200 OK\"\n",
      "INFO:langchain.retrievers.self_query.base:Generated Query: query='krank bei Prüfung' filter=None limit=None\n",
      "INFO:httpx:HTTP Request: POST http://localhost:6333/collections/intfloat_multilingual-e5-large_token_based_chunks/points/query \"HTTP/1.1 200 OK\"\n",
      "INFO:httpx:HTTP Request: POST http://127.0.0.1:11434/api/chat \"HTTP/1.1 200 OK\"\n",
      "INFO:langchain.retrievers.self_query.base:Generated Query: query='Modul IT-Sicherheit' filter=Operation(operator=<Operator.AND: 'and'>, arguments=[Comparison(comparator=<Comparator.EQ: 'eq'>, attribute='studiengang', value='Elektrotechnik'), Comparison(comparator=<Comparator.EQ: 'eq'>, attribute='abschluss', value='Bachelor'), Comparison(comparator=<Comparator.EQ: 'eq'>, attribute='standort', value='Hagen')]) limit=None\n",
      "INFO:httpx:HTTP Request: POST http://localhost:6333/collections/intfloat_multilingual-e5-large_token_based_chunks/points/query \"HTTP/1.1 200 OK\"\n",
      "INFO:httpx:HTTP Request: POST http://127.0.0.1:11434/api/chat \"HTTP/1.1 200 OK\"\n",
      "INFO:langchain.retrievers.self_query.base:Generated Query: query='Bachelorstudiengang Wirtschaftsinformatik in Hagen' filter=Operation(operator=<Operator.AND: 'and'>, arguments=[Comparison(comparator=<Comparator.EQ: 'eq'>, attribute='abschluss', value='Bachelor'), Comparison(comparator=<Comparator.EQ: 'eq'>, attribute='studiengang', value='Wirtschaftsinformatik'), Comparison(comparator=<Comparator.EQ: 'eq'>, attribute='standort', value='Hagen')]) limit=None\n",
      "INFO:httpx:HTTP Request: POST http://localhost:6333/collections/intfloat_multilingual-e5-large_token_based_chunks/points/query \"HTTP/1.1 200 OK\"\n"
     ]
    }
   ],
   "execution_count": 32
  },
  {
   "metadata": {
    "ExecuteTime": {
     "end_time": "2025-03-09T12:08:51.739449Z",
     "start_time": "2025-03-09T12:08:51.736951Z"
    }
   },
   "cell_type": "code",
   "source": [
    "run_with_self_query_retriever_path = \"./token-based-chunks/run_with_self_query_retriever.json\"\n",
    "save_results_to_file(run_with_self_query_retriever_path, run_with_self_query_retriever)"
   ],
   "id": "14c5ec858c482640",
   "outputs": [
    {
     "name": "stdout",
     "output_type": "stream",
     "text": [
      "Ergebnisse wurden erfolgreich in ./token-based-chunks/run_with_self_query_retriever.json gespeichert.\n"
     ]
    }
   ],
   "execution_count": 46
  },
  {
   "metadata": {
    "ExecuteTime": {
     "end_time": "2025-03-09T12:01:40.376205Z",
     "start_time": "2025-03-09T12:01:40.365275Z"
    }
   },
   "cell_type": "code",
   "source": "run_self_query = Run(run_with_self_query_retriever)",
   "id": "e9692b0c7e3e4cff",
   "outputs": [],
   "execution_count": 34
  },
  {
   "metadata": {
    "ExecuteTime": {
     "end_time": "2025-03-09T12:01:41.767675Z",
     "start_time": "2025-03-09T12:01:41.755789Z"
    }
   },
   "cell_type": "code",
   "source": [
    "score_self_query_dict_10 = evaluate(qrels, run_self_query,\n",
    "                                    [\"ndcg@10\", \"mrr@10\", \"map@10\", \"precision@10\", \"recall@10\", \"hits@10\",\n",
    "                                     \"hit_rate@10\"])"
   ],
   "id": "ec2955378c94d4c1",
   "outputs": [],
   "execution_count": 35
  },
  {
   "metadata": {
    "ExecuteTime": {
     "end_time": "2025-03-09T12:09:06.398573Z",
     "start_time": "2025-03-09T12:09:06.395783Z"
    }
   },
   "cell_type": "code",
   "source": [
    "scores_with_self_query_retriever_path = \"./token-based-chunks/scores_with_self_query_retriever.json\"\n",
    "save_results_to_file(scores_with_self_query_retriever_path, score_self_query_dict_10)"
   ],
   "id": "7016924a6dbba87e",
   "outputs": [
    {
     "name": "stdout",
     "output_type": "stream",
     "text": [
      "Ergebnisse wurden erfolgreich in ./token-based-chunks/scores_with_self_query_retriever.json gespeichert.\n"
     ]
    }
   ],
   "execution_count": 47
  },
  {
   "metadata": {
    "ExecuteTime": {
     "end_time": "2025-03-09T12:05:36.497234Z",
     "start_time": "2025-03-09T12:05:36.460560Z"
    }
   },
   "cell_type": "code",
   "source": [
    "report = compare(\n",
    "    qrels=qrels,\n",
    "    runs=[run, run_with_filter, run_self_query],\n",
    "    metrics=[\"ndcg@10\", \"mrr@10\", \"map@10\", \"precision@10\", \"recall@10\", \"hits@10\", \"hit_rate@10\"],\n",
    "    max_p=0.01\n",
    ")"
   ],
   "id": "d233b9ebc5978a42",
   "outputs": [],
   "execution_count": 38
  },
  {
   "metadata": {
    "ExecuteTime": {
     "end_time": "2025-03-09T12:05:41.929012Z",
     "start_time": "2025-03-09T12:05:41.926068Z"
    }
   },
   "cell_type": "code",
   "source": "print(report)",
   "id": "883cad108d308f50",
   "outputs": [
    {
     "name": "stdout",
     "output_type": "stream",
     "text": [
      "#    Model      NDCG@10    MRR@10    MAP@10    P@10    Recall@10    Hits@10    Hit Rate@10\n",
      "---  -------  ---------  --------  --------  ------  -----------  ---------  -------------\n",
      "a    run_1        0.46      0.533     0.38     0.14        0.45         1.4            0.6\n",
      "b    run_2        0.53      0.6       0.455    0.17        0.575        1.7            0.6\n",
      "c    run_3        0.447     0.533     0.368    0.14        0.475        1.4            0.6\n"
     ]
    }
   ],
   "execution_count": 39
  },
  {
   "metadata": {},
   "cell_type": "markdown",
   "source": [
    "# Ab hier mit der Collection mit den Recursive-Chunks\n",
    "\n",
    "# Abfrage ohne Filter"
   ],
   "id": "20d03c577a245fc"
  },
  {
   "metadata": {
    "ExecuteTime": {
     "end_time": "2025-03-09T12:31:07.650594Z",
     "start_time": "2025-03-09T12:31:07.647826Z"
    }
   },
   "cell_type": "code",
   "source": [
    "qrels_dict = {\n",
    "    \"q_1\": {\n",
    "        \"d_1371\": 10,\n",
    "        \"d_1370\": 1\n",
    "    },\n",
    "    \"q_2\": {\n",
    "        \"d_1866\": 10\n",
    "    },\n",
    "    \"q_3\": {\n",
    "        \"d_2292\": 10,\n",
    "        \"d_2293\": 2\n",
    "    },\n",
    "    \"q_4\": {\n",
    "        \"d_2313\": 10,\n",
    "        \"d_2314\": 10,\n",
    "        \"d_2315\": 2\n",
    "    },\n",
    "    \"q_5\": {\n",
    "        \"d_2295\": 10,\n",
    "        \"d_2296\": 10,\n",
    "        \"d_2297\": 10,\n",
    "        \"d_2298\": 10\n",
    "    },\n",
    "    \"q_6\": {\n",
    "        \"d_25\": 10\n",
    "    },\n",
    "    \"q_7\": {\n",
    "        \"d_1586\": 10\n",
    "    },\n",
    "    \"q_8\": {\n",
    "        \"d_2388\": 10,\n",
    "        \"d_2389\": 10,\n",
    "        \"d_2390\": 10\n",
    "    },\n",
    "    \"q_9\": {\n",
    "        \"d_946\": 10\n",
    "    },\n",
    "    \"q_10\": {\n",
    "        \"d_19\": 10\n",
    "    }\n",
    "}"
   ],
   "id": "3fc9a9176c9cf42",
   "outputs": [],
   "execution_count": 57
  },
  {
   "metadata": {
    "ExecuteTime": {
     "end_time": "2025-03-09T12:31:22.064379Z",
     "start_time": "2025-03-09T12:31:22.061212Z"
    }
   },
   "cell_type": "code",
   "source": "qrels = Qrels(qrels_dict)",
   "id": "ed0d35c846533a85",
   "outputs": [],
   "execution_count": 59
  },
  {
   "metadata": {
    "ExecuteTime": {
     "end_time": "2025-03-09T12:31:23.150446Z",
     "start_time": "2025-03-09T12:31:23.148223Z"
    }
   },
   "cell_type": "code",
   "source": [
    "qrels_path = \"./recursive-chunks/qrels.json\"\n",
    "save_results_to_file(qrels_path, qrels_dict)"
   ],
   "id": "33c328c2f8ff1829",
   "outputs": [
    {
     "name": "stdout",
     "output_type": "stream",
     "text": [
      "Ergebnisse wurden erfolgreich in ./recursive-chunks/qrels.json gespeichert.\n"
     ]
    }
   ],
   "execution_count": 60
  },
  {
   "metadata": {
    "ExecuteTime": {
     "end_time": "2025-03-09T12:42:42.896542Z",
     "start_time": "2025-03-09T12:42:41.595507Z"
    }
   },
   "cell_type": "code",
   "source": [
    "query_without_filters_path = \"./recursive-chunks/run_no_filters.json\"\n",
    "query_no_filters = retrieve_all_scores_no_filters(client=recursive_client, fragen_dict=fragen)\n",
    "save_results_to_file(query_without_filters_path, query_no_filters)"
   ],
   "id": "6afacece5ba607b2",
   "outputs": [
    {
     "name": "stderr",
     "output_type": "stream",
     "text": [
      "INFO:httpx:HTTP Request: POST http://localhost:6333/collections/intfloat_multilingual-e5-large_recursive_chunks/points/query \"HTTP/1.1 200 OK\"\n",
      "INFO:httpx:HTTP Request: POST http://localhost:6333/collections/intfloat_multilingual-e5-large_recursive_chunks/points/query \"HTTP/1.1 200 OK\"\n",
      "INFO:httpx:HTTP Request: POST http://localhost:6333/collections/intfloat_multilingual-e5-large_recursive_chunks/points/query \"HTTP/1.1 200 OK\"\n",
      "INFO:httpx:HTTP Request: POST http://localhost:6333/collections/intfloat_multilingual-e5-large_recursive_chunks/points/query \"HTTP/1.1 200 OK\"\n",
      "INFO:httpx:HTTP Request: POST http://localhost:6333/collections/intfloat_multilingual-e5-large_recursive_chunks/points/query \"HTTP/1.1 200 OK\"\n",
      "INFO:httpx:HTTP Request: POST http://localhost:6333/collections/intfloat_multilingual-e5-large_recursive_chunks/points/query \"HTTP/1.1 200 OK\"\n",
      "INFO:httpx:HTTP Request: POST http://localhost:6333/collections/intfloat_multilingual-e5-large_recursive_chunks/points/query \"HTTP/1.1 200 OK\"\n",
      "INFO:httpx:HTTP Request: POST http://localhost:6333/collections/intfloat_multilingual-e5-large_recursive_chunks/points/query \"HTTP/1.1 200 OK\"\n",
      "INFO:httpx:HTTP Request: POST http://localhost:6333/collections/intfloat_multilingual-e5-large_recursive_chunks/points/query \"HTTP/1.1 200 OK\"\n",
      "INFO:httpx:HTTP Request: POST http://localhost:6333/collections/intfloat_multilingual-e5-large_recursive_chunks/points/query \"HTTP/1.1 200 OK\"\n"
     ]
    },
    {
     "name": "stdout",
     "output_type": "stream",
     "text": [
      "Ergebnisse wurden erfolgreich in ./recursive-chunks/run_no_filters.json gespeichert.\n"
     ]
    }
   ],
   "execution_count": 78
  },
  {
   "metadata": {
    "ExecuteTime": {
     "end_time": "2025-03-09T12:35:10.543695Z",
     "start_time": "2025-03-09T12:35:10.541333Z"
    }
   },
   "cell_type": "code",
   "source": "run = Run(query_no_filters)",
   "id": "256e624e5f0534aa",
   "outputs": [],
   "execution_count": 66
  },
  {
   "metadata": {
    "ExecuteTime": {
     "end_time": "2025-03-09T12:35:11.766202Z",
     "start_time": "2025-03-09T12:35:11.761044Z"
    }
   },
   "cell_type": "code",
   "source": [
    "scores_no_filters_path = \"./recursive-chunks/scores_no_filters.json\"\n",
    "score_dict_10 = evaluate(qrels, run,\n",
    "                         [\"ndcg@10\", \"mrr@10\", \"map@10\", \"precision@10\", \"recall@10\", \"hits@10\", \"hit_rate@10\"])\n",
    "save_results_to_file(scores_no_filters_path, score_dict_10)"
   ],
   "id": "53bbc2c23ddb8c7f",
   "outputs": [
    {
     "name": "stdout",
     "output_type": "stream",
     "text": [
      "Ergebnisse wurden erfolgreich in ./recursive-chunks/scores_no_filters.json gespeichert.\n"
     ]
    }
   ],
   "execution_count": 67
  },
  {
   "metadata": {
    "ExecuteTime": {
     "end_time": "2025-03-09T12:35:46.837836Z",
     "start_time": "2025-03-09T12:35:46.331295Z"
    }
   },
   "cell_type": "code",
   "source": [
    "query_with_optimal_filters_path = \"./recursive-chunks/run_with_optimal_filters.json\"\n",
    "query_optimal_filters = retrieve_all_scores_optimal_filters(client=recursive_client, fragen_dict=fragen, filter_dict=filters)\n",
    "save_results_to_file(query_with_optimal_filters_path, query_optimal_filters)"
   ],
   "id": "1204b2a84f1c25a6",
   "outputs": [
    {
     "name": "stderr",
     "output_type": "stream",
     "text": [
      "INFO:httpx:HTTP Request: POST http://localhost:6333/collections/intfloat_multilingual-e5-large_recursive_chunks/points/query \"HTTP/1.1 200 OK\"\n",
      "INFO:httpx:HTTP Request: POST http://localhost:6333/collections/intfloat_multilingual-e5-large_recursive_chunks/points/query \"HTTP/1.1 200 OK\"\n",
      "INFO:httpx:HTTP Request: POST http://localhost:6333/collections/intfloat_multilingual-e5-large_recursive_chunks/points/query \"HTTP/1.1 200 OK\"\n",
      "INFO:httpx:HTTP Request: POST http://localhost:6333/collections/intfloat_multilingual-e5-large_recursive_chunks/points/query \"HTTP/1.1 200 OK\"\n",
      "INFO:httpx:HTTP Request: POST http://localhost:6333/collections/intfloat_multilingual-e5-large_recursive_chunks/points/query \"HTTP/1.1 200 OK\"\n",
      "INFO:httpx:HTTP Request: POST http://localhost:6333/collections/intfloat_multilingual-e5-large_recursive_chunks/points/query \"HTTP/1.1 200 OK\"\n",
      "INFO:httpx:HTTP Request: POST http://localhost:6333/collections/intfloat_multilingual-e5-large_recursive_chunks/points/query \"HTTP/1.1 200 OK\"\n",
      "INFO:httpx:HTTP Request: POST http://localhost:6333/collections/intfloat_multilingual-e5-large_recursive_chunks/points/query \"HTTP/1.1 200 OK\"\n",
      "INFO:httpx:HTTP Request: POST http://localhost:6333/collections/intfloat_multilingual-e5-large_recursive_chunks/points/query \"HTTP/1.1 200 OK\"\n",
      "INFO:httpx:HTTP Request: POST http://localhost:6333/collections/intfloat_multilingual-e5-large_recursive_chunks/points/query \"HTTP/1.1 200 OK\"\n"
     ]
    },
    {
     "name": "stdout",
     "output_type": "stream",
     "text": [
      "Ergebnisse wurden erfolgreich in ./recursive-chunks/run_with_optimal_filters.json gespeichert.\n"
     ]
    }
   ],
   "execution_count": 68
  },
  {
   "metadata": {
    "ExecuteTime": {
     "end_time": "2025-03-09T12:36:22.042674Z",
     "start_time": "2025-03-09T12:36:22.040514Z"
    }
   },
   "cell_type": "code",
   "source": "run_optimal_filters = Run(query_optimal_filters)",
   "id": "f0b69a82ba7f275f",
   "outputs": [],
   "execution_count": 69
  },
  {
   "metadata": {
    "ExecuteTime": {
     "end_time": "2025-03-09T12:37:24.688368Z",
     "start_time": "2025-03-09T12:37:24.683604Z"
    }
   },
   "cell_type": "code",
   "source": [
    "scores_optimal_filters_path = \"./recursive-chunks/scores_with_optimal_filters.json\"\n",
    "scores_with_optimal_filters_dict = evaluate(qrels, run_optimal_filters, [\"ndcg@10\", \"mrr@10\", \"map@10\", \"precision@10\", \"recall@10\", \"hits@10\", \"hit_rate@10\"])\n",
    "save_results_to_file(scores_optimal_filters_path, scores_with_optimal_filters_dict)"
   ],
   "id": "db0809578cb08bab",
   "outputs": [
    {
     "name": "stdout",
     "output_type": "stream",
     "text": [
      "Ergebnisse wurden erfolgreich in ./recursive-chunks/scores_with_optimal_filters.json gespeichert.\n"
     ]
    }
   ],
   "execution_count": 70
  },
  {
   "metadata": {
    "ExecuteTime": {
     "end_time": "2025-03-09T12:40:15.578720Z",
     "start_time": "2025-03-09T12:38:50.944310Z"
    }
   },
   "cell_type": "code",
   "source": [
    "query_with_self_query_retriever_path = \"./recursive-chunks/run_with_self_query_retriever.json\"\n",
    "query_self_query_retriever = retrieve_all_scores_self_query_retriever(client=recursive_client, llm=llm, search_kwargs=search_kwargs, fragen_dict=fragen)\n",
    "save_results_to_file(query_with_self_query_retriever_path, query_self_query_retriever)"
   ],
   "id": "5914c7eca54d7dd8",
   "outputs": [
    {
     "name": "stderr",
     "output_type": "stream",
     "text": [
      "INFO:httpx:HTTP Request: POST http://127.0.0.1:11434/api/chat \"HTTP/1.1 200 OK\"\n",
      "INFO:langchain.retrievers.self_query.base:Generated Query: query='Master in Elektrotechnik' filter=Operation(operator=<Operator.AND: 'and'>, arguments=[Comparison(comparator=<Comparator.EQ: 'eq'>, attribute='studiengang', value='Elektrotechnik'), Comparison(comparator=<Comparator.EQ: 'eq'>, attribute='abschluss', value='Master'), Comparison(comparator=<Comparator.EQ: 'eq'>, attribute='standort', value='Meschede')]) limit=None\n",
      "INFO:httpx:HTTP Request: POST http://localhost:6333/collections/intfloat_multilingual-e5-large_recursive_chunks/points/query \"HTTP/1.1 200 OK\"\n",
      "INFO:httpx:HTTP Request: POST http://127.0.0.1:11434/api/chat \"HTTP/1.1 200 OK\"\n",
      "INFO:langchain.retrievers.self_query.base:Generated Query: query='Standort Hagen' filter=Comparison(comparator=<Comparator.EQ: 'eq'>, attribute='standort', value='Hagen') limit=None\n",
      "INFO:httpx:HTTP Request: POST http://localhost:6333/collections/intfloat_multilingual-e5-large_recursive_chunks/points/query \"HTTP/1.1 200 OK\"\n",
      "INFO:httpx:HTTP Request: POST http://127.0.0.1:11434/api/chat \"HTTP/1.1 200 OK\"\n",
      "INFO:langchain.retrievers.self_query.base:Generated Query: query='Fachgebiete an der FH' filter=None limit=None\n",
      "INFO:httpx:HTTP Request: POST http://localhost:6333/collections/intfloat_multilingual-e5-large_recursive_chunks/points/query \"HTTP/1.1 200 OK\"\n",
      "INFO:httpx:HTTP Request: POST http://127.0.0.1:11434/api/chat \"HTTP/1.1 200 OK\"\n",
      "INFO:langchain.retrievers.self_query.base:Generated Query: query='Beurlaubung während des Studiums' filter=None limit=None\n",
      "INFO:httpx:HTTP Request: POST http://localhost:6333/collections/intfloat_multilingual-e5-large_recursive_chunks/points/query \"HTTP/1.1 200 OK\"\n",
      "INFO:httpx:HTTP Request: POST http://127.0.0.1:11434/api/chat \"HTTP/1.1 200 OK\"\n",
      "INFO:langchain.retrievers.self_query.base:Generated Query: query='Studienmodelle' filter=None limit=None\n",
      "INFO:httpx:HTTP Request: POST http://localhost:6333/collections/intfloat_multilingual-e5-large_recursive_chunks/points/query \"HTTP/1.1 200 OK\"\n",
      "INFO:httpx:HTTP Request: POST http://127.0.0.1:11434/api/chat \"HTTP/1.1 200 OK\"\n",
      "INFO:langchain.retrievers.self_query.base:Generated Query: query='wie viele Seiten muss ich in meiner bachelorarbeit in wirtschaftsinformatik in hagen schreiben' filter=Operation(operator=<Operator.AND: 'and'>, arguments=[Comparison(comparator=<Comparator.EQ: 'eq'>, attribute='studiengang', value='Wirtschaftsinformatik'), Comparison(comparator=<Comparator.EQ: 'eq'>, attribute='abschluss', value='Bachelor'), Comparison(comparator=<Comparator.EQ: 'eq'>, attribute='standort', value='Hagen')]) limit=None\n",
      "INFO:httpx:HTTP Request: POST http://localhost:6333/collections/intfloat_multilingual-e5-large_recursive_chunks/points/query \"HTTP/1.1 200 OK\"\n",
      "INFO:httpx:HTTP Request: POST http://127.0.0.1:11434/api/chat \"HTTP/1.1 200 OK\"\n",
      "INFO:langchain.retrievers.self_query.base:Generated Query: query='Bachelorstudiengang Elektrotechnik in Soest' filter=Operation(operator=<Operator.AND: 'and'>, arguments=[Comparison(comparator=<Comparator.EQ: 'eq'>, attribute='studiengang', value='Elektrotechnik'), Comparison(comparator=<Comparator.EQ: 'eq'>, attribute='abschluss', value='Bachelor'), Comparison(comparator=<Comparator.EQ: 'eq'>, attribute='standort', value='Soest')]) limit=None\n",
      "INFO:httpx:HTTP Request: POST http://localhost:6333/collections/intfloat_multilingual-e5-large_recursive_chunks/points/query \"HTTP/1.1 200 OK\"\n",
      "INFO:httpx:HTTP Request: POST http://127.0.0.1:11434/api/chat \"HTTP/1.1 200 OK\"\n",
      "INFO:langchain.retrievers.self_query.base:Generated Query: query='krank bei Prüfung' filter=None limit=None\n",
      "INFO:httpx:HTTP Request: POST http://localhost:6333/collections/intfloat_multilingual-e5-large_recursive_chunks/points/query \"HTTP/1.1 200 OK\"\n",
      "INFO:httpx:HTTP Request: POST http://127.0.0.1:11434/api/chat \"HTTP/1.1 200 OK\"\n",
      "INFO:langchain.retrievers.self_query.base:Generated Query: query='Modul IT-Sicherheit' filter=Operation(operator=<Operator.AND: 'and'>, arguments=[Comparison(comparator=<Comparator.EQ: 'eq'>, attribute='studiengang', value='Elektrotechnik'), Comparison(comparator=<Comparator.EQ: 'eq'>, attribute='abschluss', value='Bachelor'), Comparison(comparator=<Comparator.EQ: 'eq'>, attribute='standort', value='Hagen')]) limit=None\n",
      "INFO:httpx:HTTP Request: POST http://localhost:6333/collections/intfloat_multilingual-e5-large_recursive_chunks/points/query \"HTTP/1.1 200 OK\"\n",
      "INFO:httpx:HTTP Request: POST http://127.0.0.1:11434/api/chat \"HTTP/1.1 200 OK\"\n",
      "INFO:langchain.retrievers.self_query.base:Generated Query: query='Bachelorstudiengang Wirtschaftsinformatik in Hagen' filter=Operation(operator=<Operator.AND: 'and'>, arguments=[Comparison(comparator=<Comparator.EQ: 'eq'>, attribute='abschluss', value='Bachelor'), Comparison(comparator=<Comparator.EQ: 'eq'>, attribute='studiengang', value='Wirtschaftsinformatik'), Comparison(comparator=<Comparator.EQ: 'eq'>, attribute='standort', value='Hagen')]) limit=None\n",
      "INFO:httpx:HTTP Request: POST http://localhost:6333/collections/intfloat_multilingual-e5-large_recursive_chunks/points/query \"HTTP/1.1 200 OK\"\n"
     ]
    },
    {
     "name": "stdout",
     "output_type": "stream",
     "text": [
      "Ergebnisse wurden erfolgreich in ./recursive-chunks/run_with_self_query_retriever.json gespeichert.\n"
     ]
    }
   ],
   "execution_count": 74
  },
  {
   "metadata": {
    "ExecuteTime": {
     "end_time": "2025-03-09T12:40:22.164829Z",
     "start_time": "2025-03-09T12:40:22.162455Z"
    }
   },
   "cell_type": "code",
   "source": "run_self_query_retriever = Run(query_self_query_retriever)",
   "id": "6e246477ed61e822",
   "outputs": [],
   "execution_count": 76
  },
  {
   "metadata": {
    "ExecuteTime": {
     "end_time": "2025-03-09T12:42:01.378532Z",
     "start_time": "2025-03-09T12:42:01.368377Z"
    }
   },
   "cell_type": "code",
   "source": [
    "scores_self_query_retriever_path = \"./recursive-chunks/scores_with_self_query_retriever.json\"\n",
    "scores_with_self_query_retriever_dict = evaluate(qrels, run_self_query_retriever, [\"ndcg@10\", \"mrr@10\", \"map@10\", \"precision@10\", \"recall@10\", \"hits@10\", \"hit_rate@10\"])\n",
    "save_results_to_file(scores_self_query_retriever_path, scores_with_self_query_retriever_dict)"
   ],
   "id": "f7f3ff5f8f94cfe4",
   "outputs": [
    {
     "name": "stdout",
     "output_type": "stream",
     "text": [
      "Ergebnisse wurden erfolgreich in ./recursive-chunks/scores_with_self_query_retriever.json gespeichert.\n"
     ]
    }
   ],
   "execution_count": 77
  },
  {
   "metadata": {},
   "cell_type": "code",
   "outputs": [],
   "execution_count": null,
   "source": "",
   "id": "e642a0a7e865ca61"
  }
 ],
 "metadata": {
  "kernelspec": {
   "display_name": "Python 3",
   "language": "python",
   "name": "python3"
  },
  "language_info": {
   "codemirror_mode": {
    "name": "ipython",
    "version": 2
   },
   "file_extension": ".py",
   "mimetype": "text/x-python",
   "name": "python",
   "nbconvert_exporter": "python",
   "pygments_lexer": "ipython2",
   "version": "2.7.6"
  }
 },
 "nbformat": 4,
 "nbformat_minor": 5
}
