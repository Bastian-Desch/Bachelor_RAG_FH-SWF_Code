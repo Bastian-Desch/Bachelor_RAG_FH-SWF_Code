{
 "cells": [
  {
   "cell_type": "code",
   "id": "initial_id",
   "metadata": {
    "collapsed": true,
    "ExecuteTime": {
     "end_time": "2025-03-16T12:15:10.741601Z",
     "start_time": "2025-03-16T12:15:10.738679Z"
    }
   },
   "source": [
    "from enums import CollectionNames, EmbeddingModels\n",
    "from qdrant_client.models import Filter, FieldCondition, MatchValue\n",
    "\n",
    "from retrieval_util import (\n",
    "    get_qdrant_client,\n",
    "    get_embeddings_function,\n",
    "    retrieve_run_dict_with_documents_with_scores,\n",
    "    create_llm_for_self_query_retriever\n",
    ")\n",
    "\n",
    "import os\n",
    "import json\n",
    "import logging\n",
    "from ranx import Qrels, Run, evaluate, compare\n",
    "\n",
    "os.environ[\n",
    "    \"TOKENIZERS_PARALLELISM\"] = \"false\"  # Verhindert Fehler beim Erzeugen von Embeddings (Tritt sporadisch auf, konnte ich nicht gezielt reproduzieren)\n",
    "logging.basicConfig(level=logging.INFO)"
   ],
   "outputs": [],
   "execution_count": 2
  },
  {
   "metadata": {
    "ExecuteTime": {
     "end_time": "2025-03-16T12:15:10.799491Z",
     "start_time": "2025-03-16T12:15:10.757892Z"
    }
   },
   "cell_type": "code",
   "source": [
    "# Konstanten\n",
    "MAX_DOCUMENTS = 10\n",
    "BASE_PATH = \"./mixedbread_retrieval_results_AT_10\"\n",
    "QDRANT_URL = \"http://localhost:6333\"\n",
    "LLM = create_llm_for_self_query_retriever()\n",
    "FRAGEN = {\n",
    "    1: \"Wann kann ich mich für den Master in Elektrotechnik in Meschede einschreiben?\",\n",
    "    2: \"Welche Literatur ist relevant für das Modul Mathematik im Bachelorstudiengang Elektrotechnik in Soest?\",\n",
    "    3: \"Welche Fachgebiete sind an der FH vertreten?\",\n",
    "    4: \"Ist eine Beurlaubung während des Studiums möglich?\",\n",
    "    5: \"Welche Studienmodelle werden angeboten?\",\n",
    "    6: \"Wie viele Seiten muss ich in meiner Bachelorarbeit in Wirtschaftsinformatik in Hagen schreiben?\",\n",
    "    7: \"Wie sind Portfolioprüfungen im Bachelorstudiengang Elektrotechnik in Soest aufgebaut?\",\n",
    "    8: \"Was muss ich beachten, wenn ich bei einer Prüfung krank bin?\",\n",
    "    9: \"Was sind die Inhalte im Modul IT-Sicherheit im Bachelorstudiengang Elektrotechnik in Hagen?\",\n",
    "    10: \"Wie lange dauern die Klausuren im Bachelorstudiengang Wirtschaftsinformatik in Hagen?\"\n",
    "}\n",
    "METRICS = [\"ndcg@10\", \"mrr@10\", \"map@10\", \"precision@10\", \"recall@10\", \"hits@10\", \"hit_rate@10\"]\n",
    "\n",
    "\n",
    "# Alle relevanten Filter für die Fragen\n",
    "def create_field_condition(field, value):\n",
    "    return FieldCondition(\n",
    "        key=f\"metadata.{field}\",\n",
    "        match=MatchValue(value=value)\n",
    "    )\n",
    "\n",
    "\n",
    "FILTERS = {\n",
    "    1: Filter(must=[\n",
    "        create_field_condition(\"studiengang\", \"Elektrotechnik\"),\n",
    "        create_field_condition(\"standort\", \"Meschede\"),\n",
    "        create_field_condition(\"abschluss\", \"Master\")\n",
    "    ]),\n",
    "    2: Filter(must=[\n",
    "        create_field_condition(\"standort\", \"Soest\"),\n",
    "        create_field_condition(\"studiengang\", \"Elektrotechnik\"),\n",
    "        create_field_condition(\"abschluss\", \"Bachelor\")\n",
    "    ]),\n",
    "    3: Filter(must=[\n",
    "        create_field_condition(\"studiengang\", \"Alle\"),\n",
    "        create_field_condition(\"standort\", \"Alle\"),\n",
    "        create_field_condition(\"abschluss\", \"Alle\")\n",
    "    ]),\n",
    "    4: Filter(must=[\n",
    "        create_field_condition(\"studiengang\", \"Alle\"),\n",
    "        create_field_condition(\"standort\", \"Alle\"),\n",
    "        create_field_condition(\"abschluss\", \"Alle\")\n",
    "    ]),\n",
    "    5: Filter(must=[\n",
    "        create_field_condition(\"studiengang\", \"Alle\"),\n",
    "        create_field_condition(\"standort\", \"Alle\"),\n",
    "        create_field_condition(\"abschluss\", \"Alle\")\n",
    "    ]),\n",
    "    6: Filter(must=[\n",
    "        create_field_condition(\"studiengang\", \"Wirtschaftsinformatik\"),\n",
    "        create_field_condition(\"standort\", \"Hagen\"),\n",
    "        create_field_condition(\"abschluss\", \"Bachelor\")\n",
    "    ]),\n",
    "    7: Filter(must=[\n",
    "        create_field_condition(\"studiengang\", \"Elektrotechnik\"),\n",
    "        create_field_condition(\"standort\", \"Soest\"),\n",
    "        create_field_condition(\"abschluss\", \"Bachelor\")\n",
    "    ]),\n",
    "    8: Filter(must=[\n",
    "        create_field_condition(\"studiengang\", \"Alle\"),\n",
    "        create_field_condition(\"standort\", \"Alle\"),\n",
    "        create_field_condition(\"abschluss\", \"Alle\")\n",
    "    ]),\n",
    "    9: Filter(must=[\n",
    "        create_field_condition(\"studiengang\", \"Elektrotechnik\"),\n",
    "        create_field_condition(\"standort\", \"Hagen\"),\n",
    "        create_field_condition(\"abschluss\", \"Bachelor\")\n",
    "    ]),\n",
    "    10: Filter(must=[\n",
    "        create_field_condition(\"studiengang\", \"Wirtschaftsinformatik\"),\n",
    "        create_field_condition(\"standort\", \"Hagen\"),\n",
    "        create_field_condition(\"abschluss\", \"Bachelor\")\n",
    "    ]),\n",
    "}"
   ],
   "id": "91b05ea671b3a0ea",
   "outputs": [],
   "execution_count": 3
  },
  {
   "metadata": {
    "ExecuteTime": {
     "end_time": "2025-03-16T12:15:11.216229Z",
     "start_time": "2025-03-16T12:15:10.804191Z"
    }
   },
   "cell_type": "code",
   "source": [
    "token_based_qrels_dict = {\n",
    "    \"q_1\": {\n",
    "        \"d_1021\": 10,\n",
    "        \"d_1022\": 1\n",
    "    },\n",
    "    \"q_2\": {\n",
    "        \"d_1301\": 10\n",
    "    },\n",
    "    \"q_3\": {\n",
    "        \"d_1476\": 10,\n",
    "        \"d_1480\": 10,\n",
    "        \"d_1481\": 2\n",
    "    },\n",
    "    \"q_4\": {\n",
    "        \"d_1498\": 10,\n",
    "        \"d_1499\": 10,\n",
    "        \"d_1500\": 2\n",
    "    },\n",
    "    \"q_5\": {\n",
    "        \"d_1482\": 10,\n",
    "        \"d_1483\": 10,\n",
    "        \"d_1484\": 10,\n",
    "        \"d_1485\": 10\n",
    "    },\n",
    "    \"q_6\": {\n",
    "        \"d_18\": 10\n",
    "    },\n",
    "    \"q_7\": {\n",
    "        \"d_1192\": 10,\n",
    "        \"d_1193\": 8\n",
    "    },\n",
    "    \"q_8\": {\n",
    "        \"d_1530\": 10,\n",
    "        \"d_1553\": 10,\n",
    "        \"d_1554\": 10,\n",
    "        \"d_1555\": 10\n",
    "    },\n",
    "    \"q_9\": {\n",
    "        \"d_704\": 10\n",
    "    },\n",
    "    \"q_10\": {\n",
    "        \"d_14\": 10,\n",
    "        \"d_15\": 10\n",
    "    }\n",
    "}\n",
    "\n",
    "TOKEN_BASED_QRELS = Qrels(token_based_qrels_dict)"
   ],
   "id": "98171093b7952d7d",
   "outputs": [],
   "execution_count": 4
  },
  {
   "metadata": {
    "ExecuteTime": {
     "end_time": "2025-03-16T12:15:12.533877Z",
     "start_time": "2025-03-16T12:15:12.531035Z"
    }
   },
   "cell_type": "code",
   "source": [
    "recursive_qrels_dict = {\n",
    "    \"q_1\": {\n",
    "        \"d_1371\": 10,\n",
    "        \"d_1370\": 1\n",
    "    },\n",
    "    \"q_2\": {\n",
    "        \"d_1866\": 10\n",
    "    },\n",
    "    \"q_3\": {\n",
    "        \"d_2292\": 10,\n",
    "        \"d_2293\": 2,\n",
    "        \"d_2286\": 10\n",
    "    },\n",
    "    \"q_4\": {\n",
    "        \"d_2313\": 10,\n",
    "        \"d_2314\": 10,\n",
    "        \"d_2315\": 2\n",
    "    },\n",
    "    \"q_5\": {\n",
    "        \"d_2290\": 4,\n",
    "        \"d_2295\": 10,\n",
    "        \"d_2296\": 10,\n",
    "        \"d_2297\": 10,\n",
    "        \"d_2298\": 10\n",
    "    },\n",
    "    \"q_6\": {\n",
    "        \"d_25\": 10\n",
    "    },\n",
    "    \"q_7\": {\n",
    "        \"d_1586\": 10\n",
    "    },\n",
    "    \"q_8\": {\n",
    "        \"d_2388\": 10,\n",
    "        \"d_2389\": 10,\n",
    "        \"d_2390\": 10,\n",
    "        \"d_2356\": 8,\n",
    "        \"d_2357\": 8\n",
    "    },\n",
    "    \"q_9\": {\n",
    "        \"d_946\": 10\n",
    "    },\n",
    "    \"q_10\": {\n",
    "        \"d_19\": 10\n",
    "    }\n",
    "}\n",
    "\n",
    "RECURSIVE_QRELS = Qrels(recursive_qrels_dict)"
   ],
   "id": "cdfdf9d5b1c0b2e1",
   "outputs": [],
   "execution_count": 5
  },
  {
   "metadata": {
    "ExecuteTime": {
     "end_time": "2025-03-16T12:15:12.541169Z",
     "start_time": "2025-03-16T12:15:12.539057Z"
    }
   },
   "cell_type": "code",
   "source": [
    "def save_results_to_file(file_path, results_dict):\n",
    "    try:\n",
    "        with open(file_path, \"w\") as file:\n",
    "            json.dump(results_dict, file, indent=4)\n",
    "        print(f\"Ergebnisse wurden erfolgreich in {file_path} gespeichert.\")\n",
    "    except Exception as e:\n",
    "        print(f\"Fehler beim Speichern der Datei: {e}\")"
   ],
   "id": "3a550b30af8f6861",
   "outputs": [],
   "execution_count": 6
  },
  {
   "metadata": {
    "ExecuteTime": {
     "end_time": "2025-03-16T12:15:19.714692Z",
     "start_time": "2025-03-16T12:15:12.545906Z"
    }
   },
   "cell_type": "code",
   "source": "embeddings = get_embeddings_function(model_name=EmbeddingModels.MIXEDBREAD.value)",
   "id": "dc7d6878440ce08e",
   "outputs": [
    {
     "name": "stderr",
     "output_type": "stream",
     "text": [
      "/Users/bastian/Desktop/BachelorProjektAbgabe/.venv/lib/python3.12/site-packages/tqdm/auto.py:21: TqdmWarning: IProgress not found. Please update jupyter and ipywidgets. See https://ipywidgets.readthedocs.io/en/stable/user_install.html\n",
      "  from .autonotebook import tqdm as notebook_tqdm\n",
      "2025-03-16 13:15:15,009 [INFO] PyTorch version 2.6.0 available.\n",
      "2025-03-16 13:15:15,248 [INFO] Use pytorch device_name: mps\n",
      "2025-03-16 13:15:15,249 [INFO] Load pretrained SentenceTransformer: mixedbread-ai/deepset-mxbai-embed-de-large-v1\n"
     ]
    }
   ],
   "execution_count": 7
  },
  {
   "metadata": {
    "ExecuteTime": {
     "end_time": "2025-03-16T12:15:20.127502Z",
     "start_time": "2025-03-16T12:15:19.732953Z"
    }
   },
   "cell_type": "code",
   "source": [
    "token_based_client = get_qdrant_client(embeddings=embeddings,\n",
    "                                       collection_name=CollectionNames.MIXEDBREAD_TOKEN_BASED.value,\n",
    "                                       qdrant_url=QDRANT_URL)\n",
    "\n",
    "recursive_client = get_qdrant_client(embeddings=embeddings, collection_name=CollectionNames.MIXEDBREAD_RECURSIVE.value,\n",
    "                                     qdrant_url=QDRANT_URL)"
   ],
   "id": "a2201b6fd7efa88b",
   "outputs": [
    {
     "name": "stderr",
     "output_type": "stream",
     "text": [
      "2025-03-16 13:15:19,778 [INFO] HTTP Request: GET http://localhost:6333 \"HTTP/1.1 200 OK\"\n",
      "2025-03-16 13:15:19,785 [INFO] HTTP Request: GET http://localhost:6333/collections/mixedbread-ai_deepset-mxbai-embed-de-large-v1_token_based_chunks \"HTTP/1.1 200 OK\"\n",
      "2025-03-16 13:15:20,082 [INFO] HTTP Request: GET http://localhost:6333 \"HTTP/1.1 200 OK\"\n",
      "2025-03-16 13:15:20,086 [INFO] HTTP Request: GET http://localhost:6333/collections/mixedbread-ai_deepset-mxbai-embed-de-large-v1_recursive_chunks \"HTTP/1.1 200 OK\"\n"
     ]
    }
   ],
   "execution_count": 8
  },
  {
   "metadata": {},
   "cell_type": "markdown",
   "source": "# Token-Basierte Collections Retrieval Evaluation",
   "id": "d7cfc6c550ffd680"
  },
  {
   "metadata": {
    "ExecuteTime": {
     "end_time": "2025-03-16T12:16:43.811893Z",
     "start_time": "2025-03-16T12:15:20.132847Z"
    }
   },
   "cell_type": "code",
   "source": [
    "token_based_result_no_filters = retrieve_run_dict_with_documents_with_scores(client=token_based_client,\n",
    "                                                                             fragen_dict=FRAGEN, mode=\"no_filters\",\n",
    "                                                                             max_documents=MAX_DOCUMENTS)\n",
    "\n",
    "token_based_result_optimal_filters = retrieve_run_dict_with_documents_with_scores(client=token_based_client,\n",
    "                                                                                  fragen_dict=FRAGEN,\n",
    "                                                                                  mode=\"optimal_filters\",\n",
    "                                                                                  filter_dict=FILTERS,\n",
    "                                                                                  max_documents=MAX_DOCUMENTS)\n",
    "\n",
    "token_based_result_self_query_retriever = retrieve_run_dict_with_documents_with_scores(client=token_based_client,\n",
    "                                                                                       fragen_dict=FRAGEN,\n",
    "                                                                                       mode=\"self_query_retriever\",\n",
    "                                                                                       llm=LLM,\n",
    "                                                                                       search_kwargs={\n",
    "                                                                                           \"k\": MAX_DOCUMENTS})"
   ],
   "id": "1aa1e875774a5b69",
   "outputs": [
    {
     "name": "stderr",
     "output_type": "stream",
     "text": [
      "2025-03-16 13:15:20,253 [INFO] HTTP Request: POST http://localhost:6333/collections/mixedbread-ai_deepset-mxbai-embed-de-large-v1_token_based_chunks/points/query \"HTTP/1.1 200 OK\"\n",
      "2025-03-16 13:15:20,355 [INFO] HTTP Request: POST http://localhost:6333/collections/mixedbread-ai_deepset-mxbai-embed-de-large-v1_token_based_chunks/points/query \"HTTP/1.1 200 OK\"\n",
      "2025-03-16 13:15:20,439 [INFO] HTTP Request: POST http://localhost:6333/collections/mixedbread-ai_deepset-mxbai-embed-de-large-v1_token_based_chunks/points/query \"HTTP/1.1 200 OK\"\n",
      "2025-03-16 13:15:20,489 [INFO] HTTP Request: POST http://localhost:6333/collections/mixedbread-ai_deepset-mxbai-embed-de-large-v1_token_based_chunks/points/query \"HTTP/1.1 200 OK\"\n",
      "2025-03-16 13:15:20,598 [INFO] HTTP Request: POST http://localhost:6333/collections/mixedbread-ai_deepset-mxbai-embed-de-large-v1_token_based_chunks/points/query \"HTTP/1.1 200 OK\"\n",
      "2025-03-16 13:15:20,677 [INFO] HTTP Request: POST http://localhost:6333/collections/mixedbread-ai_deepset-mxbai-embed-de-large-v1_token_based_chunks/points/query \"HTTP/1.1 200 OK\"\n",
      "2025-03-16 13:15:20,722 [INFO] HTTP Request: POST http://localhost:6333/collections/mixedbread-ai_deepset-mxbai-embed-de-large-v1_token_based_chunks/points/query \"HTTP/1.1 200 OK\"\n",
      "2025-03-16 13:15:20,817 [INFO] HTTP Request: POST http://localhost:6333/collections/mixedbread-ai_deepset-mxbai-embed-de-large-v1_token_based_chunks/points/query \"HTTP/1.1 200 OK\"\n",
      "2025-03-16 13:15:20,919 [INFO] HTTP Request: POST http://localhost:6333/collections/mixedbread-ai_deepset-mxbai-embed-de-large-v1_token_based_chunks/points/query \"HTTP/1.1 200 OK\"\n",
      "2025-03-16 13:15:20,960 [INFO] HTTP Request: POST http://localhost:6333/collections/mixedbread-ai_deepset-mxbai-embed-de-large-v1_token_based_chunks/points/query \"HTTP/1.1 200 OK\"\n",
      "2025-03-16 13:15:21,007 [INFO] HTTP Request: POST http://localhost:6333/collections/mixedbread-ai_deepset-mxbai-embed-de-large-v1_token_based_chunks/points/query \"HTTP/1.1 200 OK\"\n",
      "2025-03-16 13:15:21,054 [INFO] HTTP Request: POST http://localhost:6333/collections/mixedbread-ai_deepset-mxbai-embed-de-large-v1_token_based_chunks/points/query \"HTTP/1.1 200 OK\"\n",
      "2025-03-16 13:15:21,095 [INFO] HTTP Request: POST http://localhost:6333/collections/mixedbread-ai_deepset-mxbai-embed-de-large-v1_token_based_chunks/points/query \"HTTP/1.1 200 OK\"\n",
      "2025-03-16 13:15:21,143 [INFO] HTTP Request: POST http://localhost:6333/collections/mixedbread-ai_deepset-mxbai-embed-de-large-v1_token_based_chunks/points/query \"HTTP/1.1 200 OK\"\n",
      "2025-03-16 13:15:21,212 [INFO] HTTP Request: POST http://localhost:6333/collections/mixedbread-ai_deepset-mxbai-embed-de-large-v1_token_based_chunks/points/query \"HTTP/1.1 200 OK\"\n",
      "2025-03-16 13:15:21,257 [INFO] HTTP Request: POST http://localhost:6333/collections/mixedbread-ai_deepset-mxbai-embed-de-large-v1_token_based_chunks/points/query \"HTTP/1.1 200 OK\"\n",
      "2025-03-16 13:15:21,304 [INFO] HTTP Request: POST http://localhost:6333/collections/mixedbread-ai_deepset-mxbai-embed-de-large-v1_token_based_chunks/points/query \"HTTP/1.1 200 OK\"\n",
      "2025-03-16 13:15:21,351 [INFO] HTTP Request: POST http://localhost:6333/collections/mixedbread-ai_deepset-mxbai-embed-de-large-v1_token_based_chunks/points/query \"HTTP/1.1 200 OK\"\n",
      "2025-03-16 13:15:21,401 [INFO] HTTP Request: POST http://localhost:6333/collections/mixedbread-ai_deepset-mxbai-embed-de-large-v1_token_based_chunks/points/query \"HTTP/1.1 200 OK\"\n",
      "2025-03-16 13:15:21,446 [INFO] HTTP Request: POST http://localhost:6333/collections/mixedbread-ai_deepset-mxbai-embed-de-large-v1_token_based_chunks/points/query \"HTTP/1.1 200 OK\"\n",
      "2025-03-16 13:15:24,204 [INFO] HTTP Request: POST http://127.0.0.1:11434/api/chat \"HTTP/1.1 200 OK\"\n",
      "2025-03-16 13:15:33,681 [INFO] Generated Query: query='Master in Elektrotechnik' filter=Operation(operator=<Operator.AND: 'and'>, arguments=[Comparison(comparator=<Comparator.EQ: 'eq'>, attribute='studiengang', value='Elektrotechnik'), Comparison(comparator=<Comparator.EQ: 'eq'>, attribute='abschluss', value='Master'), Comparison(comparator=<Comparator.EQ: 'eq'>, attribute='standort', value='Meschede')]) limit=None\n",
      "2025-03-16 13:15:34,708 [INFO] HTTP Request: POST http://localhost:6333/collections/mixedbread-ai_deepset-mxbai-embed-de-large-v1_token_based_chunks/points/query \"HTTP/1.1 200 OK\"\n",
      "2025-03-16 13:15:35,134 [INFO] HTTP Request: POST http://127.0.0.1:11434/api/chat \"HTTP/1.1 200 OK\"\n",
      "2025-03-16 13:15:44,900 [INFO] Generated Query: query='Mathematik im Bachelorstudiengang Elektrotechnik' filter=Operation(operator=<Operator.AND: 'and'>, arguments=[Comparison(comparator=<Comparator.EQ: 'eq'>, attribute='studiengang', value='Elektrotechnik'), Comparison(comparator=<Comparator.EQ: 'eq'>, attribute='abschluss', value='Bachelor'), Comparison(comparator=<Comparator.EQ: 'eq'>, attribute='standort', value='Soest')]) limit=None\n",
      "2025-03-16 13:15:45,960 [INFO] HTTP Request: POST http://localhost:6333/collections/mixedbread-ai_deepset-mxbai-embed-de-large-v1_token_based_chunks/points/query \"HTTP/1.1 200 OK\"\n",
      "2025-03-16 13:15:46,431 [INFO] HTTP Request: POST http://127.0.0.1:11434/api/chat \"HTTP/1.1 200 OK\"\n",
      "2025-03-16 13:15:50,428 [INFO] Generated Query: query='Fachgebiete an der FH' filter=None limit=None\n",
      "2025-03-16 13:15:51,272 [INFO] HTTP Request: POST http://localhost:6333/collections/mixedbread-ai_deepset-mxbai-embed-de-large-v1_token_based_chunks/points/query \"HTTP/1.1 200 OK\"\n",
      "2025-03-16 13:15:51,519 [INFO] HTTP Request: POST http://127.0.0.1:11434/api/chat \"HTTP/1.1 200 OK\"\n",
      "2025-03-16 13:15:55,363 [INFO] Generated Query: query='Beurlaubung während des Studiums' filter=None limit=None\n",
      "2025-03-16 13:15:56,183 [INFO] HTTP Request: POST http://localhost:6333/collections/mixedbread-ai_deepset-mxbai-embed-de-large-v1_token_based_chunks/points/query \"HTTP/1.1 200 OK\"\n",
      "2025-03-16 13:15:56,438 [INFO] HTTP Request: POST http://127.0.0.1:11434/api/chat \"HTTP/1.1 200 OK\"\n",
      "2025-03-16 13:16:00,166 [INFO] Generated Query: query='Studienmodelle' filter=None limit=None\n",
      "2025-03-16 13:16:01,045 [INFO] HTTP Request: POST http://localhost:6333/collections/mixedbread-ai_deepset-mxbai-embed-de-large-v1_token_based_chunks/points/query \"HTTP/1.1 200 OK\"\n",
      "2025-03-16 13:16:01,304 [INFO] HTTP Request: POST http://127.0.0.1:11434/api/chat \"HTTP/1.1 200 OK\"\n",
      "2025-03-16 13:16:07,935 [INFO] Generated Query: query='wie viele Seiten muss ich in meiner bachelorarbeit in wirtschaftsinformatik in hagen schreiben' filter=Operation(operator=<Operator.AND: 'and'>, arguments=[Comparison(comparator=<Comparator.EQ: 'eq'>, attribute='studiengang', value='Wirtschaftsinformatik'), Comparison(comparator=<Comparator.EQ: 'eq'>, attribute='abschluss', value='Bachelor'), Comparison(comparator=<Comparator.EQ: 'eq'>, attribute='standort', value='Hagen')]) limit=None\n",
      "2025-03-16 13:16:08,711 [INFO] HTTP Request: POST http://localhost:6333/collections/mixedbread-ai_deepset-mxbai-embed-de-large-v1_token_based_chunks/points/query \"HTTP/1.1 200 OK\"\n",
      "2025-03-16 13:16:09,142 [INFO] HTTP Request: POST http://127.0.0.1:11434/api/chat \"HTTP/1.1 200 OK\"\n",
      "2025-03-16 13:16:18,411 [INFO] Generated Query: query='Bachelorstudiengang Elektrotechnik in Soest' filter=Operation(operator=<Operator.AND: 'and'>, arguments=[Comparison(comparator=<Comparator.EQ: 'eq'>, attribute='studiengang', value='Elektrotechnik'), Comparison(comparator=<Comparator.EQ: 'eq'>, attribute='abschluss', value='Bachelor'), Comparison(comparator=<Comparator.EQ: 'eq'>, attribute='standort', value='Soest')]) limit=None\n",
      "2025-03-16 13:16:19,281 [INFO] HTTP Request: POST http://localhost:6333/collections/mixedbread-ai_deepset-mxbai-embed-de-large-v1_token_based_chunks/points/query \"HTTP/1.1 200 OK\"\n",
      "2025-03-16 13:16:19,590 [INFO] HTTP Request: POST http://127.0.0.1:11434/api/chat \"HTTP/1.1 200 OK\"\n",
      "2025-03-16 13:16:23,404 [INFO] Generated Query: query='krank bei Prüfung' filter=None limit=None\n",
      "2025-03-16 13:16:23,826 [INFO] HTTP Request: POST http://localhost:6333/collections/mixedbread-ai_deepset-mxbai-embed-de-large-v1_token_based_chunks/points/query \"HTTP/1.1 200 OK\"\n",
      "2025-03-16 13:16:24,195 [INFO] HTTP Request: POST http://127.0.0.1:11434/api/chat \"HTTP/1.1 200 OK\"\n",
      "2025-03-16 13:16:33,626 [INFO] Generated Query: query='Modul IT-Sicherheit' filter=Operation(operator=<Operator.AND: 'and'>, arguments=[Comparison(comparator=<Comparator.EQ: 'eq'>, attribute='studiengang', value='Elektrotechnik'), Comparison(comparator=<Comparator.EQ: 'eq'>, attribute='abschluss', value='Bachelor'), Comparison(comparator=<Comparator.EQ: 'eq'>, attribute='standort', value='Hagen')]) limit=None\n",
      "2025-03-16 13:16:34,456 [INFO] HTTP Request: POST http://localhost:6333/collections/mixedbread-ai_deepset-mxbai-embed-de-large-v1_token_based_chunks/points/query \"HTTP/1.1 200 OK\"\n",
      "2025-03-16 13:16:34,705 [INFO] HTTP Request: POST http://127.0.0.1:11434/api/chat \"HTTP/1.1 200 OK\"\n",
      "2025-03-16 13:16:42,916 [INFO] Generated Query: query='Bachelorstudiengang Wirtschaftsinformatik in Hagen' filter=Operation(operator=<Operator.AND: 'and'>, arguments=[Comparison(comparator=<Comparator.EQ: 'eq'>, attribute='abschluss', value='Bachelor'), Comparison(comparator=<Comparator.EQ: 'eq'>, attribute='studiengang', value='Wirtschaftsinformatik'), Comparison(comparator=<Comparator.EQ: 'eq'>, attribute='standort', value='Hagen')]) limit=None\n",
      "2025-03-16 13:16:43,802 [INFO] HTTP Request: POST http://localhost:6333/collections/mixedbread-ai_deepset-mxbai-embed-de-large-v1_token_based_chunks/points/query \"HTTP/1.1 200 OK\"\n"
     ]
    }
   ],
   "execution_count": 9
  },
  {
   "metadata": {
    "ExecuteTime": {
     "end_time": "2025-03-16T12:16:43.920842Z",
     "start_time": "2025-03-16T12:16:43.916340Z"
    }
   },
   "cell_type": "code",
   "source": [
    "save_results_to_file(file_path=f\"{BASE_PATH}/token_based_result_no_filters.json\",\n",
    "                     results_dict=token_based_result_no_filters)\n",
    "save_results_to_file(file_path=f\"{BASE_PATH}/token_based_result_optimal_filters.json\",\n",
    "                     results_dict=token_based_result_optimal_filters)\n",
    "save_results_to_file(file_path=f\"{BASE_PATH}/token_based_result_self_query_retriever.json\",\n",
    "                     results_dict=token_based_result_self_query_retriever)"
   ],
   "id": "788a889ddf797ef8",
   "outputs": [
    {
     "name": "stdout",
     "output_type": "stream",
     "text": [
      "Ergebnisse wurden erfolgreich in ./mixedbread_retrieval_results_AT_10/token_based_result_no_filters.json gespeichert.\n",
      "Ergebnisse wurden erfolgreich in ./mixedbread_retrieval_results_AT_10/token_based_result_optimal_filters.json gespeichert.\n",
      "Ergebnisse wurden erfolgreich in ./mixedbread_retrieval_results_AT_10/token_based_result_self_query_retriever.json gespeichert.\n"
     ]
    }
   ],
   "execution_count": 10
  },
  {
   "metadata": {
    "ExecuteTime": {
     "end_time": "2025-03-16T12:16:44.229050Z",
     "start_time": "2025-03-16T12:16:43.975685Z"
    }
   },
   "cell_type": "code",
   "source": [
    "run_token_based_result_no_filters = Run(token_based_result_no_filters, name=\"token_based_result_no_filters\")\n",
    "run_token_based_result_optimal_filters = Run(token_based_result_optimal_filters,\n",
    "                                             name=\"token_based_result_optimal_filters\")\n",
    "run_token_based_result_self_query_retriever = Run(token_based_result_self_query_retriever,\n",
    "                                                  name=\"token_based_result_self_query_retriever\")"
   ],
   "id": "16844502150c3cf5",
   "outputs": [],
   "execution_count": 11
  },
  {
   "metadata": {
    "ExecuteTime": {
     "end_time": "2025-03-16T12:16:44.830804Z",
     "start_time": "2025-03-16T12:16:44.636271Z"
    }
   },
   "cell_type": "code",
   "source": [
    "token_based_scores_no_filters = evaluate(qrels=TOKEN_BASED_QRELS, run=run_token_based_result_no_filters,\n",
    "                                         metrics=METRICS)\n",
    "token_based_scores_optimal_filters = evaluate(qrels=TOKEN_BASED_QRELS, run=run_token_based_result_optimal_filters,\n",
    "                                              metrics=METRICS)\n",
    "token_based_scores_self_query_retriever = evaluate(qrels=TOKEN_BASED_QRELS,\n",
    "                                                   run=run_token_based_result_self_query_retriever, metrics=METRICS)"
   ],
   "id": "6592d77e51cd4960",
   "outputs": [],
   "execution_count": 12
  },
  {
   "metadata": {
    "ExecuteTime": {
     "end_time": "2025-03-16T12:16:44.842093Z",
     "start_time": "2025-03-16T12:16:44.838347Z"
    }
   },
   "cell_type": "code",
   "source": [
    "save_results_to_file(file_path=f\"{BASE_PATH}/token_based_scores_no_filters.json\",\n",
    "                     results_dict=token_based_scores_no_filters)\n",
    "save_results_to_file(file_path=f\"{BASE_PATH}/token_based_scores_optimal_filters.json\",\n",
    "                     results_dict=token_based_scores_optimal_filters)\n",
    "save_results_to_file(file_path=f\"{BASE_PATH}/token_based_scores_self_query_retriever.json\",\n",
    "                     results_dict=token_based_scores_self_query_retriever)"
   ],
   "id": "3f313c5022a5efa3",
   "outputs": [
    {
     "name": "stdout",
     "output_type": "stream",
     "text": [
      "Ergebnisse wurden erfolgreich in ./mixedbread_retrieval_results_AT_10/token_based_scores_no_filters.json gespeichert.\n",
      "Ergebnisse wurden erfolgreich in ./mixedbread_retrieval_results_AT_10/token_based_scores_optimal_filters.json gespeichert.\n",
      "Ergebnisse wurden erfolgreich in ./mixedbread_retrieval_results_AT_10/token_based_scores_self_query_retriever.json gespeichert.\n"
     ]
    }
   ],
   "execution_count": 13
  },
  {
   "metadata": {
    "ExecuteTime": {
     "end_time": "2025-03-16T12:16:44.876134Z",
     "start_time": "2025-03-16T12:16:44.857537Z"
    }
   },
   "cell_type": "code",
   "source": [
    "report = compare(\n",
    "    qrels=TOKEN_BASED_QRELS,\n",
    "    runs=[run_token_based_result_no_filters, run_token_based_result_optimal_filters,\n",
    "          run_token_based_result_self_query_retriever],\n",
    "    metrics=METRICS\n",
    ")"
   ],
   "id": "34c3c972fc1d5c66",
   "outputs": [],
   "execution_count": 14
  },
  {
   "metadata": {
    "ExecuteTime": {
     "end_time": "2025-03-16T12:16:44.903237Z",
     "start_time": "2025-03-16T12:16:44.899738Z"
    }
   },
   "cell_type": "code",
   "source": "print(report)",
   "id": "c9de6a526f71282e",
   "outputs": [
    {
     "name": "stdout",
     "output_type": "stream",
     "text": [
      "#    Model                                      NDCG@10    MRR@10    MAP@10    P@10    Recall@10    Hits@10    Hit Rate@10\n",
      "---  ---------------------------------------  ---------  --------  --------  ------  -----------  ---------  -------------\n",
      "a    token_based_result_no_filters                0.359     0.433     0.308    0.13        0.408        1.3            0.5\n",
      "b    token_based_result_optimal_filters           0.48      0.52      0.403    0.18        0.7          1.8            0.7\n",
      "c    token_based_result_self_query_retriever      0.417     0.453     0.336    0.15        0.608        1.5            0.7\n"
     ]
    }
   ],
   "execution_count": 15
  },
  {
   "metadata": {
    "ExecuteTime": {
     "end_time": "2025-03-16T12:16:44.927209Z",
     "start_time": "2025-03-16T12:16:44.924483Z"
    }
   },
   "cell_type": "code",
   "source": [
    "with open(f\"{BASE_PATH}/token_report@{MAX_DOCUMENTS}.txt\", \"w\") as file:\n",
    "    file.write(str(report))"
   ],
   "id": "53d1e29fd9793629",
   "outputs": [],
   "execution_count": 16
  },
  {
   "metadata": {
    "ExecuteTime": {
     "end_time": "2025-03-16T12:16:44.944465Z",
     "start_time": "2025-03-16T12:16:44.943087Z"
    }
   },
   "cell_type": "code",
   "source": "",
   "id": "9d07542bc5bfd0fa",
   "outputs": [],
   "execution_count": null
  },
  {
   "metadata": {},
   "cell_type": "markdown",
   "source": "# Recursive-Collections Retrieval Evaluation",
   "id": "9bf0a35abce9e3f9"
  },
  {
   "metadata": {
    "ExecuteTime": {
     "end_time": "2025-03-16T12:18:07.671154Z",
     "start_time": "2025-03-16T12:16:44.954570Z"
    }
   },
   "cell_type": "code",
   "source": [
    "recursive_result_no_filters = retrieve_run_dict_with_documents_with_scores(client=recursive_client, fragen_dict=FRAGEN, mode=\"no_filters\", max_documents=MAX_DOCUMENTS)\n",
    "recursive_result_optimal_filters = retrieve_run_dict_with_documents_with_scores(client=recursive_client, fragen_dict=FRAGEN, mode=\"optimal_filters\", filter_dict=FILTERS, max_documents=MAX_DOCUMENTS)\n",
    "recursive_result_self_query_retriever = retrieve_run_dict_with_documents_with_scores(client=recursive_client, fragen_dict=FRAGEN, mode=\"self_query_retriever\", llm=LLM, search_kwargs={\"k\": MAX_DOCUMENTS})"
   ],
   "id": "4844b7481e96cc4",
   "outputs": [
    {
     "name": "stderr",
     "output_type": "stream",
     "text": [
      "2025-03-16 13:16:45,238 [INFO] HTTP Request: POST http://localhost:6333/collections/mixedbread-ai_deepset-mxbai-embed-de-large-v1_recursive_chunks/points/query \"HTTP/1.1 200 OK\"\n",
      "2025-03-16 13:16:45,290 [INFO] HTTP Request: POST http://localhost:6333/collections/mixedbread-ai_deepset-mxbai-embed-de-large-v1_recursive_chunks/points/query \"HTTP/1.1 200 OK\"\n",
      "2025-03-16 13:16:45,334 [INFO] HTTP Request: POST http://localhost:6333/collections/mixedbread-ai_deepset-mxbai-embed-de-large-v1_recursive_chunks/points/query \"HTTP/1.1 200 OK\"\n",
      "2025-03-16 13:16:45,378 [INFO] HTTP Request: POST http://localhost:6333/collections/mixedbread-ai_deepset-mxbai-embed-de-large-v1_recursive_chunks/points/query \"HTTP/1.1 200 OK\"\n",
      "2025-03-16 13:16:45,439 [INFO] HTTP Request: POST http://localhost:6333/collections/mixedbread-ai_deepset-mxbai-embed-de-large-v1_recursive_chunks/points/query \"HTTP/1.1 200 OK\"\n",
      "2025-03-16 13:16:45,479 [INFO] HTTP Request: POST http://localhost:6333/collections/mixedbread-ai_deepset-mxbai-embed-de-large-v1_recursive_chunks/points/query \"HTTP/1.1 200 OK\"\n",
      "2025-03-16 13:16:45,519 [INFO] HTTP Request: POST http://localhost:6333/collections/mixedbread-ai_deepset-mxbai-embed-de-large-v1_recursive_chunks/points/query \"HTTP/1.1 200 OK\"\n",
      "2025-03-16 13:16:45,560 [INFO] HTTP Request: POST http://localhost:6333/collections/mixedbread-ai_deepset-mxbai-embed-de-large-v1_recursive_chunks/points/query \"HTTP/1.1 200 OK\"\n",
      "2025-03-16 13:16:45,602 [INFO] HTTP Request: POST http://localhost:6333/collections/mixedbread-ai_deepset-mxbai-embed-de-large-v1_recursive_chunks/points/query \"HTTP/1.1 200 OK\"\n",
      "2025-03-16 13:16:45,642 [INFO] HTTP Request: POST http://localhost:6333/collections/mixedbread-ai_deepset-mxbai-embed-de-large-v1_recursive_chunks/points/query \"HTTP/1.1 200 OK\"\n",
      "2025-03-16 13:16:45,695 [INFO] HTTP Request: POST http://localhost:6333/collections/mixedbread-ai_deepset-mxbai-embed-de-large-v1_recursive_chunks/points/query \"HTTP/1.1 200 OK\"\n",
      "2025-03-16 13:16:45,751 [INFO] HTTP Request: POST http://localhost:6333/collections/mixedbread-ai_deepset-mxbai-embed-de-large-v1_recursive_chunks/points/query \"HTTP/1.1 200 OK\"\n",
      "2025-03-16 13:16:45,793 [INFO] HTTP Request: POST http://localhost:6333/collections/mixedbread-ai_deepset-mxbai-embed-de-large-v1_recursive_chunks/points/query \"HTTP/1.1 200 OK\"\n",
      "2025-03-16 13:16:45,835 [INFO] HTTP Request: POST http://localhost:6333/collections/mixedbread-ai_deepset-mxbai-embed-de-large-v1_recursive_chunks/points/query \"HTTP/1.1 200 OK\"\n",
      "2025-03-16 13:16:45,909 [INFO] HTTP Request: POST http://localhost:6333/collections/mixedbread-ai_deepset-mxbai-embed-de-large-v1_recursive_chunks/points/query \"HTTP/1.1 200 OK\"\n",
      "2025-03-16 13:16:45,964 [INFO] HTTP Request: POST http://localhost:6333/collections/mixedbread-ai_deepset-mxbai-embed-de-large-v1_recursive_chunks/points/query \"HTTP/1.1 200 OK\"\n",
      "2025-03-16 13:16:46,021 [INFO] HTTP Request: POST http://localhost:6333/collections/mixedbread-ai_deepset-mxbai-embed-de-large-v1_recursive_chunks/points/query \"HTTP/1.1 200 OK\"\n",
      "2025-03-16 13:16:46,077 [INFO] HTTP Request: POST http://localhost:6333/collections/mixedbread-ai_deepset-mxbai-embed-de-large-v1_recursive_chunks/points/query \"HTTP/1.1 200 OK\"\n",
      "2025-03-16 13:16:46,133 [INFO] HTTP Request: POST http://localhost:6333/collections/mixedbread-ai_deepset-mxbai-embed-de-large-v1_recursive_chunks/points/query \"HTTP/1.1 200 OK\"\n",
      "2025-03-16 13:16:46,194 [INFO] HTTP Request: POST http://localhost:6333/collections/mixedbread-ai_deepset-mxbai-embed-de-large-v1_recursive_chunks/points/query \"HTTP/1.1 200 OK\"\n",
      "2025-03-16 13:16:46,786 [INFO] HTTP Request: POST http://127.0.0.1:11434/api/chat \"HTTP/1.1 200 OK\"\n",
      "2025-03-16 13:16:56,235 [INFO] Generated Query: query='Master in Elektrotechnik' filter=Operation(operator=<Operator.AND: 'and'>, arguments=[Comparison(comparator=<Comparator.EQ: 'eq'>, attribute='studiengang', value='Elektrotechnik'), Comparison(comparator=<Comparator.EQ: 'eq'>, attribute='abschluss', value='Master'), Comparison(comparator=<Comparator.EQ: 'eq'>, attribute='standort', value='Meschede')]) limit=None\n",
      "2025-03-16 13:16:57,383 [INFO] HTTP Request: POST http://localhost:6333/collections/mixedbread-ai_deepset-mxbai-embed-de-large-v1_recursive_chunks/points/query \"HTTP/1.1 200 OK\"\n",
      "2025-03-16 13:16:57,998 [INFO] HTTP Request: POST http://127.0.0.1:11434/api/chat \"HTTP/1.1 200 OK\"\n",
      "2025-03-16 13:17:07,785 [INFO] Generated Query: query='Mathematik im Bachelorstudiengang Elektrotechnik' filter=Operation(operator=<Operator.AND: 'and'>, arguments=[Comparison(comparator=<Comparator.EQ: 'eq'>, attribute='studiengang', value='Elektrotechnik'), Comparison(comparator=<Comparator.EQ: 'eq'>, attribute='abschluss', value='Bachelor'), Comparison(comparator=<Comparator.EQ: 'eq'>, attribute='standort', value='Soest')]) limit=None\n",
      "2025-03-16 13:17:08,672 [INFO] HTTP Request: POST http://localhost:6333/collections/mixedbread-ai_deepset-mxbai-embed-de-large-v1_recursive_chunks/points/query \"HTTP/1.1 200 OK\"\n",
      "2025-03-16 13:17:08,935 [INFO] HTTP Request: POST http://127.0.0.1:11434/api/chat \"HTTP/1.1 200 OK\"\n",
      "2025-03-16 13:17:12,917 [INFO] Generated Query: query='Fachgebiete an der FH' filter=None limit=None\n",
      "2025-03-16 13:17:13,788 [INFO] HTTP Request: POST http://localhost:6333/collections/mixedbread-ai_deepset-mxbai-embed-de-large-v1_recursive_chunks/points/query \"HTTP/1.1 200 OK\"\n",
      "2025-03-16 13:17:14,050 [INFO] HTTP Request: POST http://127.0.0.1:11434/api/chat \"HTTP/1.1 200 OK\"\n",
      "2025-03-16 13:17:17,982 [INFO] Generated Query: query='Beurlaubung während des Studiums' filter=None limit=None\n",
      "2025-03-16 13:17:18,998 [INFO] HTTP Request: POST http://localhost:6333/collections/mixedbread-ai_deepset-mxbai-embed-de-large-v1_recursive_chunks/points/query \"HTTP/1.1 200 OK\"\n",
      "2025-03-16 13:17:19,260 [INFO] HTTP Request: POST http://127.0.0.1:11434/api/chat \"HTTP/1.1 200 OK\"\n",
      "2025-03-16 13:17:23,001 [INFO] Generated Query: query='Studienmodelle' filter=None limit=None\n",
      "2025-03-16 13:17:23,789 [INFO] HTTP Request: POST http://localhost:6333/collections/mixedbread-ai_deepset-mxbai-embed-de-large-v1_recursive_chunks/points/query \"HTTP/1.1 200 OK\"\n",
      "2025-03-16 13:17:24,068 [INFO] HTTP Request: POST http://127.0.0.1:11434/api/chat \"HTTP/1.1 200 OK\"\n",
      "2025-03-16 13:17:30,711 [INFO] Generated Query: query='wie viele Seiten muss ich in meiner bachelorarbeit in wirtschaftsinformatik in hagen schreiben' filter=Operation(operator=<Operator.AND: 'and'>, arguments=[Comparison(comparator=<Comparator.EQ: 'eq'>, attribute='studiengang', value='Wirtschaftsinformatik'), Comparison(comparator=<Comparator.EQ: 'eq'>, attribute='abschluss', value='Bachelor'), Comparison(comparator=<Comparator.EQ: 'eq'>, attribute='standort', value='Hagen')]) limit=None\n",
      "2025-03-16 13:17:31,524 [INFO] HTTP Request: POST http://localhost:6333/collections/mixedbread-ai_deepset-mxbai-embed-de-large-v1_recursive_chunks/points/query \"HTTP/1.1 200 OK\"\n",
      "2025-03-16 13:17:31,821 [INFO] HTTP Request: POST http://127.0.0.1:11434/api/chat \"HTTP/1.1 200 OK\"\n",
      "2025-03-16 13:17:41,069 [INFO] Generated Query: query='Bachelorstudiengang Elektrotechnik in Soest' filter=Operation(operator=<Operator.AND: 'and'>, arguments=[Comparison(comparator=<Comparator.EQ: 'eq'>, attribute='studiengang', value='Elektrotechnik'), Comparison(comparator=<Comparator.EQ: 'eq'>, attribute='abschluss', value='Bachelor'), Comparison(comparator=<Comparator.EQ: 'eq'>, attribute='standort', value='Soest')]) limit=None\n",
      "2025-03-16 13:17:41,963 [INFO] HTTP Request: POST http://localhost:6333/collections/mixedbread-ai_deepset-mxbai-embed-de-large-v1_recursive_chunks/points/query \"HTTP/1.1 200 OK\"\n",
      "2025-03-16 13:17:42,220 [INFO] HTTP Request: POST http://127.0.0.1:11434/api/chat \"HTTP/1.1 200 OK\"\n",
      "2025-03-16 13:17:46,043 [INFO] Generated Query: query='krank bei Prüfung' filter=None limit=None\n",
      "2025-03-16 13:17:46,912 [INFO] HTTP Request: POST http://localhost:6333/collections/mixedbread-ai_deepset-mxbai-embed-de-large-v1_recursive_chunks/points/query \"HTTP/1.1 200 OK\"\n",
      "2025-03-16 13:17:47,297 [INFO] HTTP Request: POST http://127.0.0.1:11434/api/chat \"HTTP/1.1 200 OK\"\n",
      "2025-03-16 13:17:56,740 [INFO] Generated Query: query='Modul IT-Sicherheit' filter=Operation(operator=<Operator.AND: 'and'>, arguments=[Comparison(comparator=<Comparator.EQ: 'eq'>, attribute='studiengang', value='Elektrotechnik'), Comparison(comparator=<Comparator.EQ: 'eq'>, attribute='abschluss', value='Bachelor'), Comparison(comparator=<Comparator.EQ: 'eq'>, attribute='standort', value='Hagen')]) limit=None\n",
      "2025-03-16 13:17:57,669 [INFO] HTTP Request: POST http://localhost:6333/collections/mixedbread-ai_deepset-mxbai-embed-de-large-v1_recursive_chunks/points/query \"HTTP/1.1 200 OK\"\n",
      "2025-03-16 13:17:58,008 [INFO] HTTP Request: POST http://127.0.0.1:11434/api/chat \"HTTP/1.1 200 OK\"\n",
      "2025-03-16 13:18:06,574 [INFO] Generated Query: query='Bachelorstudiengang Wirtschaftsinformatik in Hagen' filter=Operation(operator=<Operator.AND: 'and'>, arguments=[Comparison(comparator=<Comparator.EQ: 'eq'>, attribute='abschluss', value='Bachelor'), Comparison(comparator=<Comparator.EQ: 'eq'>, attribute='studiengang', value='Wirtschaftsinformatik'), Comparison(comparator=<Comparator.EQ: 'eq'>, attribute='standort', value='Hagen')]) limit=None\n",
      "2025-03-16 13:18:07,647 [INFO] HTTP Request: POST http://localhost:6333/collections/mixedbread-ai_deepset-mxbai-embed-de-large-v1_recursive_chunks/points/query \"HTTP/1.1 200 OK\"\n"
     ]
    }
   ],
   "execution_count": 17
  },
  {
   "metadata": {
    "ExecuteTime": {
     "end_time": "2025-03-16T12:18:07.798094Z",
     "start_time": "2025-03-16T12:18:07.789980Z"
    }
   },
   "cell_type": "code",
   "source": [
    "save_results_to_file(file_path=f\"{BASE_PATH}/recursive_result_no_filters.json\", results_dict=recursive_result_no_filters)\n",
    "save_results_to_file(file_path=f\"{BASE_PATH}/recursive_result_optimal_filters.json\", results_dict=recursive_result_optimal_filters)\n",
    "save_results_to_file(file_path=f\"{BASE_PATH}/recursive_result_self_query_retriever.json\", results_dict=recursive_result_self_query_retriever)"
   ],
   "id": "b61b1700bb67622b",
   "outputs": [
    {
     "name": "stdout",
     "output_type": "stream",
     "text": [
      "Ergebnisse wurden erfolgreich in ./mixedbread_retrieval_results_AT_10/recursive_result_no_filters.json gespeichert.\n",
      "Ergebnisse wurden erfolgreich in ./mixedbread_retrieval_results_AT_10/recursive_result_optimal_filters.json gespeichert.\n",
      "Ergebnisse wurden erfolgreich in ./mixedbread_retrieval_results_AT_10/recursive_result_self_query_retriever.json gespeichert.\n"
     ]
    }
   ],
   "execution_count": 18
  },
  {
   "metadata": {
    "ExecuteTime": {
     "end_time": "2025-03-16T12:18:07.873184Z",
     "start_time": "2025-03-16T12:18:07.861447Z"
    }
   },
   "cell_type": "code",
   "source": [
    "run_recursive_result_no_filters = Run(recursive_result_no_filters, name=\"recursive_result_no_filters\")\n",
    "run_recursive_result_optimal_filters = Run(recursive_result_optimal_filters, name=\"recursive_result_optimal_filters\")\n",
    "run_recursive_result_self_query_retriever = Run(recursive_result_self_query_retriever, name=\"recursive_result_self_query_retriever\")"
   ],
   "id": "ef72ff233c380058",
   "outputs": [],
   "execution_count": 19
  },
  {
   "metadata": {
    "ExecuteTime": {
     "end_time": "2025-03-16T12:18:07.903400Z",
     "start_time": "2025-03-16T12:18:07.886207Z"
    }
   },
   "cell_type": "code",
   "source": [
    "recursive_scores_no_filters = evaluate(qrels=RECURSIVE_QRELS, run=run_recursive_result_no_filters, metrics=METRICS)\n",
    "recursive_scores_optimal_filters = evaluate(qrels=RECURSIVE_QRELS, run=run_recursive_result_optimal_filters, metrics=METRICS)\n",
    "recursive_scores_self_query_retriever = evaluate(qrels=RECURSIVE_QRELS, run=run_recursive_result_self_query_retriever, metrics=METRICS)"
   ],
   "id": "1eaf565c847c19df",
   "outputs": [],
   "execution_count": 20
  },
  {
   "metadata": {
    "ExecuteTime": {
     "end_time": "2025-03-16T12:18:07.917740Z",
     "start_time": "2025-03-16T12:18:07.913582Z"
    }
   },
   "cell_type": "code",
   "source": [
    "save_results_to_file(file_path=f\"{BASE_PATH}/recursive_scores_no_filters.json\", results_dict=recursive_scores_no_filters)\n",
    "save_results_to_file(file_path=f\"{BASE_PATH}/recursive_scores_optimal_filters.json\", results_dict=recursive_scores_optimal_filters)\n",
    "save_results_to_file(file_path=f\"{BASE_PATH}/recursive_scores_self_query_retriever.json\", results_dict=recursive_scores_self_query_retriever)"
   ],
   "id": "26c1f4932adb8d2e",
   "outputs": [
    {
     "name": "stdout",
     "output_type": "stream",
     "text": [
      "Ergebnisse wurden erfolgreich in ./mixedbread_retrieval_results_AT_10/recursive_scores_no_filters.json gespeichert.\n",
      "Ergebnisse wurden erfolgreich in ./mixedbread_retrieval_results_AT_10/recursive_scores_optimal_filters.json gespeichert.\n",
      "Ergebnisse wurden erfolgreich in ./mixedbread_retrieval_results_AT_10/recursive_scores_self_query_retriever.json gespeichert.\n"
     ]
    }
   ],
   "execution_count": 21
  },
  {
   "metadata": {
    "ExecuteTime": {
     "end_time": "2025-03-16T12:18:07.964749Z",
     "start_time": "2025-03-16T12:18:07.939365Z"
    }
   },
   "cell_type": "code",
   "source": [
    "report = compare(\n",
    "    qrels=RECURSIVE_QRELS,\n",
    "    runs=[run_recursive_result_no_filters, run_recursive_result_optimal_filters, run_recursive_result_self_query_retriever],\n",
    "    metrics=METRICS\n",
    ")"
   ],
   "id": "f08d6d0dde6914c4",
   "outputs": [],
   "execution_count": 22
  },
  {
   "metadata": {
    "ExecuteTime": {
     "end_time": "2025-03-16T12:18:07.977191Z",
     "start_time": "2025-03-16T12:18:07.974555Z"
    }
   },
   "cell_type": "code",
   "source": "print(report)",
   "id": "759874f76cf2b651",
   "outputs": [
    {
     "name": "stdout",
     "output_type": "stream",
     "text": [
      "#    Model                                    NDCG@10    MRR@10    MAP@10    P@10    Recall@10    Hits@10    Hit Rate@10\n",
      "---  -------------------------------------  ---------  --------  --------  ------  -----------  ---------  -------------\n",
      "a    recursive_result_no_filters                0.439     0.483     0.403    0.17        0.547        1.7            0.6\n",
      "b    recursive_result_optimal_filters           0.534     0.544     0.506    0.2         0.7          2              0.7\n",
      "c    recursive_result_self_query_retriever      0.469     0.494     0.414    0.18        0.647        1.8            0.7\n"
     ]
    }
   ],
   "execution_count": 23
  },
  {
   "metadata": {
    "ExecuteTime": {
     "end_time": "2025-03-16T12:18:07.989308Z",
     "start_time": "2025-03-16T12:18:07.986712Z"
    }
   },
   "cell_type": "code",
   "source": [
    "with open(f\"{BASE_PATH}/recursive_report@{MAX_DOCUMENTS}.txt\", \"w\") as file:\n",
    "    file.write(str(report))"
   ],
   "id": "339c4244707b2b23",
   "outputs": [],
   "execution_count": 24
  },
  {
   "metadata": {},
   "cell_type": "markdown",
   "source": [
    "Die Ergebnisse des mixedbread-Modells sind sowohl bei den Token-Basierten Chunks als auch bei den Rekursiven Chunks besser.\n",
    "\n",
    "Hier zeigt sich also, dass das auf die deutsche Sprache spezialisierte Modell besser mit der Datenbasis performt.<br/>\n",
    "\n",
    "Ein reiner Vergleich auf basis der Metriken zeigt nicht, wie diese Unterschiede zwischen den Modellen zustande kommen.<br/>\n",
    "Dafür müssen auch die Ergebnisse der Abrufe betrachtet werden. Dort sind teilweise andere Dokumente gefunden worden und die Scores unterscheiden sich.<br/>\n",
    "Aufgrund der unterschiedlichen Scores entstehen unterschiedliche Rankings, die sich auf die rang-basierte Metriken auswirken.<br/>\n",
    "\n",
    "Bei beiden Modellen sind die Metriken besser mit den rekursiven Chunks als mit den Token-Basierten Chunks.<br/>\n",
    "\n",
    "In allen Fällen schneidet der Ansatz mit den manuell und optimal gesetzten Filtern am besten ab.<br/>\n",
    "Der SelfQueryRetriever schneidet minimal besser als der Ansatz ohne Filter ab.<br/>\n",
    "Der Ansatz ohne Filter liefert die schlechtesten Ergebnisse.<br/>\n",
    "\n",
    "<br/>\n",
    "Aufgrund der mangelnden Vergleichbarkeit werden die Ergebnisse des SelfQueryRetrievers nicht weiter betrachtet.<br/>\n",
    "Grund sind die fehlenden Filter für Fragen zu Chunks, die in den Metadaten für die relevanten Felder den Wert \"Alle\" haben.<br/>\n",
    "Zudem sind die umformulierten Fragen nicht identisch mit den ursprünglichen Fragen (Hier als vereinfachte Fragen bezeichnet und in dem Orner 6-Evaluation-Retrieval-Vereinfachte-Fragen evaluiert).***<br/>"
   ],
   "id": "fec983d0433daf7c"
  },
  {
   "metadata": {
    "ExecuteTime": {
     "end_time": "2025-03-16T12:18:08.009778Z",
     "start_time": "2025-03-16T12:18:08.006990Z"
    }
   },
   "cell_type": "code",
   "source": [
    "frage_6_vereinfacht = \"Wie viele Seiten muss ich in meiner Bachelorarbeit schreiben?\"\n",
    "filter_6 = FILTERS[6]"
   ],
   "id": "a81de2a2b6b07e8b",
   "outputs": [],
   "execution_count": 25
  },
  {
   "metadata": {
    "ExecuteTime": {
     "end_time": "2025-03-16T12:18:08.141852Z",
     "start_time": "2025-03-16T12:18:08.018954Z"
    }
   },
   "cell_type": "code",
   "source": "docs = token_based_client.similarity_search_with_score(query=frage_6_vereinfacht, k=10)",
   "id": "a3e0791cf478fefc",
   "outputs": [
    {
     "name": "stderr",
     "output_type": "stream",
     "text": [
      "2025-03-16 13:18:08,139 [INFO] HTTP Request: POST http://localhost:6333/collections/mixedbread-ai_deepset-mxbai-embed-de-large-v1_token_based_chunks/points/query \"HTTP/1.1 200 OK\"\n"
     ]
    }
   ],
   "execution_count": 26
  },
  {
   "metadata": {
    "ExecuteTime": {
     "end_time": "2025-03-16T12:18:08.162964Z",
     "start_time": "2025-03-16T12:18:08.152141Z"
    }
   },
   "cell_type": "code",
   "source": "docs",
   "id": "bba893dab84acb6b",
   "outputs": [
    {
     "data": {
      "text/plain": [
       "[(Document(metadata={'id': 552, 'studiengang': 'Elektrotechnik', 'abschluss': 'Bachelor', 'standort': 'Hagen', 'link': 'https://www.fh-swf.de/media/neu_np/hv_2/prfungsundnderungsordnungen/fbeundi/FPO_BA_ELH_24.pdf', 'hash': '621298a5e40624ca5eddcbd61680aa4ab463ac15c2d5dd383956ba5cff90f6eb', '_id': 'b2c5ca10-4957-4d4e-b430-5ce324baa5f3', '_collection_name': 'mixedbread-ai_deepset-mxbai-embed-de-large-v1_token_based_chunks'}, page_content='en Kriterien, die eine eindeutige Abgrenzung ermöglichen, deutlich unterscheidbar und bewertbar ist und die Anforderungen nach Absatz 1 erfüllt. - (4) Die Bearbeitungszeit (Zeitraum von der Ausgabe bis zur Abgabe der Ausarbeitung) orientiert sich an der Modullänge und darf ein Semester nicht überschreiten. - (5) Die Beurteilung eines Portfolios erfolgt auf Grund der schriftlichen Ausarbeitungen und der mündlichen Prüfungen, sofern solche im Portfolio enthalten sind. Die Portfolioprüfung wird in der Regel von einer oder einem Prüfenden bewertet. Bei Klausurarbeitsanteilen findet § 9 Absatz 2 RPO entsprechende Anwendung. ## Teil 3 Das Studium ## § 16 Umfang der Bachelorarbeit - (1) Der Umfang der Bachelorarbeit gemäß § 28 Absatz 1 RPO beträgt in der Regel etwa 30 Seiten à etwa 50 Zeilen. Tabellen, Abbildungen und Verzeichnisse werden bei der Berechnung des Umfangs nicht mitgezählt. - (2) Die Bearbeitungszeit (Zeitraum von der Ausgabe bis zur Abgabe der Bachelorarbeit) beträgt höchstens neun Wochen. Auf einen vor Ablauf der Frist gestellten begründeten Antrag der Kandidatin oder des Kandidaten kann der Prüfungsausschuss bei Vorliegen eines triftigen Grundes, der die Fortsetzung der Bearbeitung verhindert, eine Nachfrist der Bearbeitungszeit gewähren. Im Falle der Erkrankung des oder der Studierenden ist dem Antrag ein ärztliches Attest beizufügen, aus dem die Prüfungsunfähigkeit und die voraussichtliche Dauer der Erkrankung hervorgehen. Die festgelegte Dauer der Verlängerung hat sich daran zu orientieren. Sofern die Erkrankung insgesamt länger als vier Wochen beträgt, ist die Prüferin oder der Prüfer der Bachelorarbeit zu dem Antrag zu hören, um den Prüfungsausschuss zu beraten, ob die Durchführung der Bachelorarbeit weiterhin sinnvoll ist oder nach der Erkrankung ein neues Thema vergeben werden soll. In dem Fall, dass es sich um einen anderen Grund als eine Erkrankung der oder des Studierenden handelt, kann eine Nachfrist von insgesamt höchstens drei Wochen, bei einer Erkrankung von insgesamt höchstens sechs Wochen, gesetzt werden. - (3) Die Durchführung der Bachelorarbeit in einer Einrichtung außerhalb der Hochschule bedarf der Zustimmung des Prüfungsausschusses. ## § 17 ## Zulassung zur Bachelorarbeit - (1) Ergänzend zu § 29 Absatz 1 RPO kann zur Bachelorarbeit nur zu'),\n",
       "  0.83472085),\n",
       " (Document(metadata={'id': 251, 'studiengang': 'Wirtschaftsinformatik', 'abschluss': 'Bachelor', 'standort': 'Meschede', 'link': 'https://www.fh-swf.de/media/neu_np/hv_2/downloads_der_studiengangsseiten/fb_iw_1/wirtschaftsinformatik_b_sc_/FPO_2019_Winfo.pdf', 'hash': 'e8542a19c47e5badc78ef2e9df1bd1a3874bd7ac83f709026c7b75294c21eb21', '_id': 'd5f6e165-2d55-46c6-b60f-f524cec3bdab', '_collection_name': 'mixedbread-ai_deepset-mxbai-embed-de-large-v1_token_based_chunks'}, page_content='Teil 3 Das Studium ## § 17 ## Umfang und Abschluss des Studiums - (1) Das Studium umfasst zusätzlich zu § 27 Absatz 1 RPO - a) gegebenenfalls eine Praxisphase (auf Antrag der oder des Studierenden) oder - b) gegebenenfalls ein optionales Fachsemester (auf Antrag der oder des Studierenden). - (2) Die Module des Studiums mit ihren Prüfungsvorleistungen sind in den Anlagen 1 bis 3 aufgeführt. ## § 18 Umfang der Bachelorarbeit - (1) Der Umfang der Bachelorarbeit gemäß § 28 Absatz 1 RPO beträgt in der Regel etwa 30 Seiten à etwa 32 Zeilen (11⁄2-zeilig). Die Bearbeitungszeit (Zeitraum von der Ausgabe bis zur Abgabe der Bachelorarbeit) beträgt zwei Monate. Bei einem empirischen, experimentellen oder mathematischen Thema kann der Prüfungsausschuss die Bearbeitungszeit bereits bei der Ausgabe um zwei Wochen erhöhen. Das Thema und die Aufgabenstellung müssen so beschaffen sein, dass die Bachelorarbeit innerhalb der vorgegebenen Frist abgeschlossen werden kann. Auf einen vor Ablauf der Frist gestellten begründeten Antrag der Kandidatin oder des Kandidaten kann der Prüfungsausschuss ausnahmsweise eine Nachfrist der Bearbeitungszeit von bis zu einem Monat gewähren. Die Prüferin oder der Prüfer soll zu dem Antrag gehört werden. Die Bachelorarbeit ist entweder eine eigenständige Untersuchung oder betrachtet ein bekanntes Thema unter neuen Aspekten. - (2) In Ergänzung zu § 28 Absatz 2 RPO gilt für die Betreuung der Bachelorarbeit, dass diese durch folgende Gruppen erfolgen kann: - a) Professorinnen und Professoren des Standorts Meschede. - b) Honorarprofessorinnen und Honorarprofessoren, Lehrkräfte für besondere Aufgaben sowie Lehrbeauftragte des Standorts Meschede, wenn feststeht, dass ein geeignetes Thema für eine Bachelorarbeit vorliegt. Dies bedarf der Zustimmung des Prüfungsausschusses. - c) Andere Professorinnen und Professoren sowie Mitarbeiterinnen und Mitarbeiter von Forschungseinrichtungen außerhalb des Hochschulbereichs, wenn feststeht, dass ein geeignetes Thema für eine Bachelorarbeit vorliegt. Dies bedarf der Zustimmung des Prüfungsausschusses. ## § 19 ## Zulassung zur Bachelorarbeit Ergänzend zu § 29 Absatz 1 RPO kann zur Bachelorarbeit nur zugelassen werden, wer in den Pflichtmodulen des ersten bis vierten Fachsemesters gemäß Anlage 1 102 Credits erworben hat. ## § 20'),\n",
       "  0.8335519),\n",
       " (Document(metadata={'id': 1196, 'studiengang': 'Elektrotechnik', 'abschluss': 'Bachelor', 'standort': 'Soest', 'link': 'https://www.fh-swf.de/media/neu_np/hv_2/dateien_sg_2_4/online_antraege_formulare_soest/Lesefassung_FPO_BA_ETS_20_03.2023.pdf', 'hash': 'c6df7616c2dc721fa3da589abd592a292c4c24fc0a7a93980c5b6801c234703d', '_id': '7eed8464-1722-46d8-bc80-5f235c880ab7', '_collection_name': 'mixedbread-ai_deepset-mxbai-embed-de-large-v1_token_based_chunks'}, page_content='einem Praktikumsbericht in Form einer Semesterarbeit. 11 ## Teil 3 Das Studium ## § 19 Umfang der Bachelorarbeit - (1) Der Umfang der Bachelorarbeit gemäß § 28 Absatz 1 RPO beträgt etwa 65 Seiten à 30 Zeilen (exklusive Abbildungen und Tabellen). - (2) Die Bearbeitungszeit (Zeitraum von der Ausgabe bis zur Abgabe der Bachelorarbeit) beträgt mindestens sechs und höchstens neun Wochen. Auf einen vor Ablauf der Frist gestellten Antrag der Kandidatin oder des Kandidaten kann der Prüfungsausschuss eine Nachfrist der Bearbeitungszeit von bis zu vier Wochen gewähren. Der Antrag muss schriftlich gestellt werden und eine Begründung enthalten. Die Betreuerin oder der Betreuer soll zu dem Antrag gehört werden. ## § 20 Zulassung zur Bachelorarbeit - (1) Ergänzend zu § 29 Absatz 1 RPO kann zur Bachelorarbeit nur zugelassen werden, wer - a) im Bachelorstudiengang Elektrotechnik in den Modulen des Grundlagenstudiums mindestens 90 Credits, - in den Modulen des anwendungsorientierten Vertiefungsstudiums mindestens 90 Credits und in der Praxisphase 15 Credits - b) im Bachelorstudiengang Elektrotechnik dual praxisintegrierend in den Modulen des Grundlagenstudiums mindestens 80 Credits, in den Modulen des anwendungsorientierten Vertiefungsstudiums mindestens 95 - Credits und in der Praxisphase 20 Credits - c) im Bachelorstudiengang Elektrotechnik dual ausbildungsintegrierend in den Modulen des Grundlagenstudiums mindestens 90 Credits, in den Modulen des anwendungsorientierten Vertiefungsstudiums mindestens 85 - Credits und in der Praxisphase 20 Credits erreicht hat. - (2) Dem Antrag auf Zulassung zur Bachelorarbeit sind in Ergänzung zu § 29 Absatz 2 RPO folgende weitere Unterlagen beizufügen: - a) eine Erklärung darüber, welche Module gemäß § 4 Absatz 3 als Wahlpflichtmodule festgelegt werden sobald mit einem Wahlpflichtmodul der Mindestwert (Anzahl der ( Credits) für die jeweilige Studienrichtung erreicht oder überschritten wurde, können keine weiteren Wahlpflichtmodule festgelegt werden), - b) eine Erklärung darüber, welche erfolgreich abgeschlossenen Zusatzmodule in das Abschlusszeugnis aufzunehmen sind und - c) eine Erklärung darüber, ob die Bachelorarbeit abweichend von § 30 Absatz 4 RPO in englischer Sprache verfasst wird. Die Zustimmung'),\n",
       "  0.8242175),\n",
       " (Document(metadata={'id': 252, 'studiengang': 'Wirtschaftsinformatik', 'abschluss': 'Bachelor', 'standort': 'Meschede', 'link': 'https://www.fh-swf.de/media/neu_np/hv_2/downloads_der_studiengangsseiten/fb_iw_1/wirtschaftsinformatik_b_sc_/FPO_2019_Winfo.pdf', 'hash': 'e8542a19c47e5badc78ef2e9df1bd1a3874bd7ac83f709026c7b75294c21eb21', '_id': '1d820fbb-78da-4dea-be3a-a61d40e9aa2b', '_collection_name': 'mixedbread-ai_deepset-mxbai-embed-de-large-v1_token_based_chunks'}, page_content='Bachelorarbeit Ergänzend zu § 29 Absatz 1 RPO kann zur Bachelorarbeit nur zugelassen werden, wer in den Pflichtmodulen des ersten bis vierten Fachsemesters gemäß Anlage 1 102 Credits erworben hat. ## § 20 ## Durchführung und Bewertung der Bachelorarbeit - (1) Die Rückgabe des Themas der Bachelorarbeit gemäß § 30 Absatz 2 RPO kann nur innerhalb der ersten zwei Wochen des Bearbeitungszeitraums ohne Angabe von Gründen erfolgen. - (2) Abweichend von § 30 Absatz 4 RPO kann die Bachelorarbeit nicht nur in deutscher Sprache, sondern auch in englischer Sprache verfasst werden. - (3) In Ergänzung zu § 30 Absatz 5 RPO müssen unter den Prüfenden eine Professorin oder ein Professor des Standorts Meschede der Fachhochschule Südwestfalen sein. Anstelle einer Professorin oder eines Professors kann auch eine Person treten, die gemäß § 6 Absatz 1 zu Prüfenden bestellt werden kann. - (4) Bezugnehmend auf § 30 Absatz 7 RPO werden durch das Bestehen der Bachelorarbeit zehn Credits erworben. ## § 21 Kolloquium - (1) Das Kolloquium wird gemäß § 31 Absatz 5 RPO als mündliche Prüfung mit einer Zeitdauer von mindestens 45 Minuten, maximal 60 Minuten durchgeführt. - (2) Bezugnehmend auf § 31 Absatz 6 RPO werden durch das Bestehen des Kolloquiums zwei Credits erworben. - (3) Das Kolloquium kann mit Zustimmung des oder der Prüfenden per Videokonferenz durchgeführt werden. Der Prüfer oder die Prüferin und der oder die Studierende müssen sich in einem Raum befinden, der oder die zweite Prüfende kann per Videokonferenz zugeschaltet werden. ## Teil 4 Ergebnis der Abschlussprüfung ## § 22 Zeugnis, Gesamtnote - (1) Nach Abschluss des Studiums beantragt die oder der Studierende die Ausstellung des Zeugnisses. Dem Antrag ist eine Erklärung beizufügen, welche Module der Anlagen 2 und 3 als Wahlpflichtmodule in das Zeugnis zu übernehmen sind. Falls darüber hinaus Credits in weiteren Modulen erworben worden sind, werden diese zu Zusatzmodulen gemäß §34 RPO. - (2) Bei der Bildung der Gesamtnote gemäß § 33 Absatz 2 RPO werden folgende Notengewichte zugrunde gelegt: - (3) Das Bachelorzeugnis wird zweisprachig in Deutsch und in Englisch ausgestellt. Noten der Modulprüfungen 80% Note der Bachelorarbeit 17% Note des Kolloquiums 3%.'),\n",
       "  0.8201795),\n",
       " (Document(metadata={'id': 576, 'studiengang': 'Elektrotechnik', 'abschluss': 'Bachelor', 'standort': 'Hagen', 'link': 'https://www.fh-swf.de/media/neu_np/hv_2/dateien_sg_2_4/verlaufsplaene_modulhandbuecher_1/hagen/e___i/Modulhandbuch_Elektrotechnik_2024_Juli_2024.pdf', 'hash': '58949f64732daf9a8d64554116f54322e46d8961a6d3b8fc9ef594b359b6d57a', '_id': 'c5542c85-192e-4a06-b722-49bede7117c1', '_collection_name': 'mixedbread-ai_deepset-mxbai-embed-de-large-v1_token_based_chunks'}, page_content='zielgruppengerecht. Inhalte | Bereich des gewählten Studiengangs weitgehend selbstständig. Sie setzen sich dabei kritisch mit wissenschaftlichen Ergebnissen auseinander und ordnen diese in den jeweiligen Erkenntnisstand ein. Sie wenden Grundlagen wissenschaftlicher Forschungsmethodik an, um eigenständige Projekte zu bearbeiten und überwachen und steuern dabei ihren eigenen Fortschritt. Sie präsentieren schriftlich komplexe fachbezogene Inhalte klar und zielgruppengerecht. Inhalte | Bereich des gewählten Studiengangs weitgehend selbstständig. Sie setzen sich dabei kritisch mit wissenschaftlichen Ergebnissen auseinander und ordnen diese in den jeweiligen Erkenntnisstand ein. Sie wenden Grundlagen wissenschaftlicher Forschungsmethodik an, um eigenständige Projekte zu bearbeiten und überwachen und steuern dabei ihren eigenen Fortschritt. Sie präsentieren schriftlich komplexe fachbezogene Inhalte klar und zielgruppengerecht. Inhalte | Bereich des gewählten Studiengangs weitgehend selbstständig. Sie setzen sich dabei kritisch mit wissenschaftlichen Ergebnissen auseinander und ordnen diese in den jeweiligen Erkenntnisstand ein. Sie wenden Grundlagen wissenschaftlicher Forschungsmethodik an, um eigenständige Projekte zu bearbeiten und überwachen und steuern dabei ihren eigenen Fortschritt. Sie präsentieren schriftlich komplexe fachbezogene Inhalte klar und zielgruppengerecht. Inhalte | Bereich des gewählten Studiengangs weitgehend selbstständig. Sie setzen sich dabei kritisch mit wissenschaftlichen Ergebnissen auseinander und ordnen diese in den jeweiligen Erkenntnisstand ein. Sie wenden Grundlagen wissenschaftlicher Forschungsmethodik an, um eigenständige Projekte zu bearbeiten und überwachen und steuern dabei ihren eigenen Fortschritt. Sie präsentieren schriftlich komplexe fachbezogene Inhalte klar und zielgruppengerecht. Inhalte | | | Die Bachelorarbeit ist üblicherweise eine anwendungsorientierte Arbeit, in der Wissen in praktische Lösungen umgesetzt werden soll. Sie kann aber auch eine theoretische Arbeit sein. Eine anwendungsorientierte Bachelorarbeit sollte folgende Teilelemente enthalten: * Einarbeitung in die Aufgabenstellung | Die Bachelorarbeit ist üblicherweise eine anwendungsorientierte Arbeit, in der Wissen in praktische Lösungen umgesetzt werden soll. Sie kann aber auch eine theoretische Arbeit sein. Eine anwendungsorientierte Bachelorarbeit sollte folgende Teilelemente enthalten: * Einarbeitung in die Aufgabenstellung | Die Bachelorarbeit ist üblicherweise eine anwendungsorientierte Arbeit, in der Wissen in praktische Lösungen umgesetzt werden'),\n",
       "  0.81759286),\n",
       " (Document(metadata={'id': 193, 'studiengang': 'Wirtschaftsinformatik', 'abschluss': 'Bachelor', 'standort': 'Hagen', 'link': 'https://www.fh-swf.de/media/neu_np/hv_2/dateien_sg_2_4/verlaufsplaene_modulhandbuecher_1/hagen/tbw_neu/Modulhandbuch_Winf_FPO_2018_Stand_09.2024.pdf', 'hash': '730e1accd674cb64b9e32e9f3448cd31b04ae7988376e704b94d6694b30ea799', '_id': 'a5cdcc56-7d73-4bae-b214-52d099ce01e3', '_collection_name': 'mixedbread-ai_deepset-mxbai-embed-de-large-v1_token_based_chunks'}, page_content='e Durchführung einer ingenieurwissenschaftlichen Arbeit unter Betreuung. Der Betreuungsaufwand ist unterschiedlich und abhängig vom Umfang und der Komplexität des Themas. Entsprechend ist der zeitliche Aufwand für die Betreuung pauschal mit 10% des Gesamtaufwandes angegeben worden. Die Bachelorthesis wird typisch als Einzelarbeit ausgegeben, kann aber auch eine Gruppenarbeit sein, wobei bei einer Gruppenarbeit jeder Teilnehmer eigenständig einen Teil der Aufgabenstellung bearbeiten muss. Die Arbeit kann in der Hochschule oder in einem Unternehmen durchgeführt werden. 95 ## Bachelorthesis 2 / 2 <unk> ## Teilnahmevoraussetzung Formal: Siehe gültige Prüfungsordnung. Inhaltlich: Die Bachelorthesis setzt die in den ersten sechs Semestern vermittelten Kenntnisse voraus. ## Lehrinhalte Die Bachelorthesis enthält komplexe Fragestellungen aus Technik, Informatik und/oder BWL mit Anforderungen an Fach- und Methodenkompetenz. Sie ist üblicherweise eine anwendungsorientierte Arbeit, in der Wissen in nutzbare Lösungen umgesetzt werden soll. Eine anwendungsorientierte Bachelorthesis sollte folgende Teilelemente enthalten: * Einarbeitung in die Aufgabenstellung * Literaturrecherche * Analyse und Lösungsansatz * bei entwicklungstechnischen Aufgabenstellungen Modellierung und Spezifikation * Umsetzungsstrategie und - Realisierung * Verifikation und Bewertung der Ergebnisse * Wissenschaftliche Dokumentation unter Berücksichtigung der o.a. Teilelemente. - - Einarbeitung in die Aufgabenstellung - - Literaturrecherche - - Analyse und Lösungsansatz - - Umsetzungsstrategie und Realisierung - - Verifikation und Bewertung der Ergebnisse - - Wissenschaftliche Dokumentation - - Verfassen eines wissenschaftlichen Artikels von zwei bis 4 Seiten über die Bachelorarbeit Bei der Themenfindung können in Absprache mit dem zuständigen Betreuer während der Praxisphase aufgeworfene Aufgabenstellungen berücksichtigt werden, sofern sie sich für eine Bachelorthesis eignen. ## Literaturhinweise &amp; ergänzende Information Entsprechend der Themenstellung. Hochschulkatalog durchstöbern 96 | <unk> | Kolloquium 1 / 2 | | |------------------------------------------------------------|----------------------------|----------------------------------------------------------------------| | Modul: Pflichtfach | Planmäßig im: 7 Semester. | Modulverfügbarkeit: 2 / Jahr | | Kreditpunkte: 3 | Dauer: 1'),\n",
       "  0.8170653),\n",
       " (Document(metadata={'id': 19, 'studiengang': 'Wirtschaftsinformatik', 'abschluss': 'Bachelor', 'standort': 'Hagen', 'link': 'https://www.fh-swf.de/media/neu_np/hv_2/prfungsundnderungsordnungen/fbtbw_1/FPO_2018_WiIng_WiInf_IBE_IBI.pdf', 'hash': 'ff861463683837be653a2ba75af2198508491056a31928a7d092453a1ab59a09', '_id': 'c931e006-4d7a-4509-b806-b0cf8904414c', '_collection_name': 'mixedbread-ai_deepset-mxbai-embed-de-large-v1_token_based_chunks'}, page_content='Bachelorarbeit) beträgt höchstens zehn Wochen. Auf einen vor Ablauf der Frist gestellten begründeten Antrag der Kandidatin oder des Kandidaten kann der Prüfungsausschuss ausnahmsweise eine Nachfrist der Bearbeitungszeit von bis zu drei Wochen gewähren. ## § 21 ## Zulassung zur Bachelorarbeit Ergänzend zu § 29 Absatz 1 RPO kann zur Bachelorarbeit nur zugelassen werden, wer die folgende Anzahl an Leistungspunkten erworben hat: - a) WiIng und WiInf: 170 Leistungspunkte aus den ersten sechs Studiensemestern laut Studienplan (Anlagen) und gegebenenfalls dem Auslandssemester, davon 95 Leistungspunkte aus den ersten drei Studiensemestern, - b) IBE und IBI: 170 Leistungspunkte aus den ersten vier Studiensemestern laut Studienplan (Anlagen) und dem Studienjahr im Ausland, davon 92 Leistungspunkte aus den ersten drei Studiensemestern. ## § 22 ## Durchführung und Bewertung der Bachelorarbeit - (1) Die Rückgabe des Themas der Bachelorarbeit gemäß § 30 Absatz 2 RPO kann nur einmal und nur innerhalb der ersten zwei Wochen des Bearbeitungszeitraums ohne Angabe von Gründen erfolgen. - (2) Im Falle der Studiengänge IBE und IBI muss abweichend von § 30 Absatz 4 RPO die Bachelorarbeit in englischer Sprache verfasst werden. - (3) In Ergänzung zu § 30 Absatz 5 RPO gilt hinsichtlich der Personen, die die Bachelorarbeit bewerten, dass die Betreuerin oder der Betreuer regelmäßig die erste Prüferin oder der erste Prüfer ist. - (4) Bezugnehmend auf § 30 Absatz 7 RPO werden durch das Bestehen der Bachelorarbeit zwölf Leistungspunkte erworben. ## § 23 Kolloquium - (1) Ergänzend zu den Regelungen in § 31 Absatz 2 RPO kann zum Kolloquium nur zugelassen werden, wer - a) in den Pflicht- und Wahlpflichtmodulen gemäß Anlage sowie gegebenenfalls im Auslandssemester oder Studienjahr im Ausland und in der Praxisphase 195 Leistungspunkte und - b) in der Bachelorarbeit zwölf Leistungspunkte erworben hat. - (2) Das Kolloquium wird gemäß § 31 Absatz 5 RPO als mündliche Prüfung mit einer Zeitdauer von mindestens 30 und maximal 45 Minuten durchgeführt. - (3) Bezugnehmend auf § 31 Absatz 6 RPO werden durch das Bestehen des Kolloquiums drei Leistungspunkte erworben. - (4)'),\n",
       "  0.8158505),\n",
       " (Document(metadata={'id': 550, 'studiengang': 'Elektrotechnik', 'abschluss': 'Bachelor', 'standort': 'Hagen', 'link': 'https://www.fh-swf.de/media/neu_np/hv_2/prfungsundnderungsordnungen/fbeundi/FPO_BA_ELH_24.pdf', 'hash': '621298a5e40624ca5eddcbd61680aa4ab463ac15c2d5dd383956ba5cff90f6eb', '_id': 'f1719c7b-9677-4e8b-9d5f-c9ac53bbd166', '_collection_name': 'mixedbread-ai_deepset-mxbai-embed-de-large-v1_token_based_chunks'}, page_content='§ 10 ## Klausurarbeiten im Antwortwahlverfahren Für Klausurarbeiten im Antwortwahlverfahren gilt § 9 entsprechend. ## § 11 Mündliche Prüfungen Eine mündliche Prüfung gemäß § 20 RPO dauert mindestens 20 Minuten, maximal 45 Minuten. ## § 12 ## Hausarbeiten - (1) Eine Hausarbeit nach § 21 RPO hat in der Regel einen Umfang von zwei bis fünf Seiten je Leistungspunkt. Tabellen, Abbildungen und Verzeichnisse werden bei der Berechnung des Umfangs nicht mitgezählt. - (2) Hausarbeiten können durch einen Fachvortrag von maximal 45 Minuten Dauer ergänzt werden. In welchen Modulen ein ergänzender Fachvortrag erforderlich ist, wird im Modulhandbuch geregelt. Die Festlegung der Gewichtung von Hausarbeit und Fachvortrag für die Berechnung der Note der Modulprüfung erfolgt in Textform durch die Dozentin oder den Dozenten zu Beginn der Lehrveranstaltung. - (3) Handelt es sich bei der Lehrveranstaltung um ein Seminar, wird die Hausarbeit grundsätzlich durch einen Fachvortrag von maximal 45 Minuten ergänzt. Seminare sind Lehrveranstaltungen, bei der die Kandidatin oder der Kandidat zeigen soll, dass sie oder er in der Lage ist, selbstständig ein vorgegebenes Thema inhaltlich zu erfassen, dieses zu strukturieren und aufzubereiten und einem Zuhörerkreis im Rahmen eines Fachvortrags verständlich zu präsentieren. Dem Vortrag folgt ein wissenschaftlicher Diskurs, in dem die Kandidatin oder der Kandidat eine Rückmeldung von den Zuhörern über den Vortrag erhält. Der Diskurs dient somit zur Erfolgskontrolle und zum Erlernen von Feedback-Methoden. Um das Ausbildungsziel erreichen zu können, ist die regelmäßige Teilnahme aller Teilnehmerinnen und Teilnehmer an den Vorträgen und den anschließenden Diskussionen erforderlich. ## § 13 Projektarbeiten - (1) Bezugnehmend auf § 23 Absatz 1 RPO haben Projektarbeiten in der Regel einen Umfang von 20 bis 25 Seiten. Tabellen, Abbildungen und Verzeichnisse werden bei der Berechnung des Umfangs nicht mitgezählt. - (2) Die Durchführung der Projektarbeit in einer Einrichtung außerhalb der Hochschule bedarf der Zustimmung des Prüfungsausschusses. - (3) Die gemäß § 23 Absatz 5 RPO von den Prüfenden festzusetzende Bearbeitungszeit der Projektarbeit kann höchstens acht Wochen betragen. Auf einen vor Ablauf der Frist gestellten begründeten Antrag der Kandidatin oder des Kandidat'),\n",
       "  0.80942756),\n",
       " (Document(metadata={'id': 247, 'studiengang': 'Wirtschaftsinformatik', 'abschluss': 'Bachelor', 'standort': 'Meschede', 'link': 'https://www.fh-swf.de/media/neu_np/hv_2/downloads_der_studiengangsseiten/fb_iw_1/wirtschaftsinformatik_b_sc_/FPO_2019_Winfo.pdf', 'hash': 'e8542a19c47e5badc78ef2e9df1bd1a3874bd7ac83f709026c7b75294c21eb21', '_id': 'cbe5b00f-e8e8-4a08-9ecb-75aedee521e8', '_collection_name': 'mixedbread-ai_deepset-mxbai-embed-de-large-v1_token_based_chunks'}, page_content='zt werden. In welchen Modulen ein ergänzender Fachvortrag erforderlich ist, wird im Modulhandbuch geregelt. ## § 13 ## Studienarbeiten - (1) Studienarbeiten sind Ausarbeitungen von in der Regel zehn bis 15 Seiten Umfang à etwa 32 Zeilen (11⁄2-zeilig), die entweder im Rahmen der Bearbeitung eines praxisbezogenen Projekts oder im Rahmen einer theoretischen Forschungsaufgabe erstellt werden. Sie können durch einen Fachvortrag von maximal 30 Minuten Dauer ergänzt werden. In welchen Modulen ein ergänzender Fachvortrag erforderlich ist, wird im Modulhandbuch geregelt. - (2) Studienarbeiten können von allen Personen, die gemäß § 6 Absatz 1 zu Prüfenden bestellt werden können, ausgegeben und betreut werden. - (3) Die Studienarbeit kann an der Hochschule oder auch außerhalb der Hochschule durchgeführt werden, wenn sie dort ausreichend betreut werden kann. Die Studierenden haben das Recht, Vorschläge für das Thema einer Studienarbeit zu machen. - (4) Eine Studienarbeit kann auch in Form einer Gruppenarbeit zugelassen werden, wenn der als Prüfungsleistung zu bewertende Beitrag der einzelnen Studierenden auf Grund der Angabe von Abschnitten, Seitenzahlen oder anderen objektiven Kriterien, die eine eindeutige Abgrenzung ermöglichen, deutlich unterscheidbar und bewertbar ist und die Anforderungen nach Absatz 1 erfüllt. - (5) Die Ausgabe einer Studienarbeit erfolgt über die Betreuerin oder den Betreuer. Als Zeitpunkt der Ausgabe gilt der Tag, an dem diese oder dieser der Kandidatin oder dem Kandidaten das zu bearbeitende Projekt bekannt gibt. Der Zeitpunkt ist aktenkundig zu machen. - (6) Die Bearbeitungszeit (Zeitraum von der Ausgabe bis zur Abgabe der Ausarbeitung) beträgt höchstens drei Monate. - (7) Die schriftliche Ausarbeitung zu einer Studienarbeit ist fristgemäß beim Betreuer oder der Betreuerin abzuliefern. Bei der Abgabe haben die Studierenden schriftlich zu versichern, dass sie ihre Arbeit -bei einer Gruppenarbeit ihren entsprechend gekennzeichneten Anteil der Arbeit - selbstständig angefertigt und keine anderen als die angegebenen und bei Zitaten kenntlich gemachten Quellen und Hilfsmittel benutzt haben. Zusätzlich ist immer ein Exemplar in elektronischer Form abzugeben, so dass Texte und Zitate entnommen werden können. Der Abgabezeitpunkt ist aktenkundig zu machen. Bei Zustellung der Arbeit durch die Post ist der Zeitpunkt der Einlieferung bei der'),\n",
       "  0.8093746),\n",
       " (Document(metadata={'id': 807, 'studiengang': 'Elektrotechnik', 'abschluss': 'Bachelor', 'standort': 'Meschede', 'link': 'https://www.fh-swf.de/media/neu_np/hv_2/downloads_der_studiengangsseiten/fb_iw_1/elektrotechnik_b_eng_/FPO_2019_ETM.pdf', 'hash': '8c2f504ed2e987f70e6dace06843c485bc2b27e36e5c323e0631dfb0acf12e20', '_id': 'ed051bc6-0091-4183-bfda-81c27ae41bc9', '_collection_name': 'mixedbread-ai_deepset-mxbai-embed-de-large-v1_token_based_chunks'}, page_content='durchgeführt wird, ist in der Regel das Vorliegen zwingender Gründe für eine Abweichung von dem Erfordernis der einschlägigen selbstständigen Lehrtätigkeit gemäß § 7 RPO anzunehmen. - (3) Die Bearbeitungszeit (Zeitraum von der Ausgabe bis zur Abgabe der Bachelorarbeit) beträgt zwei Monate. Bei einem empirischen, experimentellen oder mathematischen Thema kann der Prüfungsausschuss die Bearbeitungszeit bereits bei der Ausgabe um zwei Wochen erhöhen. Das Thema und die Aufgabenstellung müssen so beschaffen sein, dass die Bachelorarbeit innerhalb der vorgegebenen Frist abgeschlossen werden kann. Auf einen vor Ablauf der Frist gestellten begründeten Antrag der Kandidatin oder des Kandidaten kann der Prüfungsausschuss ausnahmsweise eine Nachfrist der Bearbeitungszeit von bis zu einem Monat gewähren. Die Betreuerin oder der Betreuer soll zu dem Antrag gehört werden. ## § 22 ## Zulassung zur Bachelorarbeit Ergänzend zu § 29 Absatz 1 RPO kann zur Bachelorarbeit nur zugelassen werden, wer: - a) 60 Credits in den Modulprüfungen des ersten und zweiten Fachsemesters gemäß Anlage 1, - b) Mindestens 42 Credits in den Modulprüfungen gemäß Anlage 2 und - c) Sechs Credits aus der bestandenen Projektarbeit erworben hat. ## § 23 ## Durchführung und Bewertung der Bachelorarbeit - (1) Die Rückgabe des Themas der Bachelorarbeit gemäß § 30 Absatz 2 RPO kann nur einmal und nur innerhalb der ersten zwei Wochen des Bearbeitungszeitraums ohne Angaben von Gründen erfolgen. - (2) Abweichend von § 30 Absatz 4 RPO kann die Bachelorarbeit nicht nur in deutscher Sprache, sondern auch in englischer Sprache verfasst werden. - (3) In Ergänzung zu § 30 Absatz 5 RPO ist die Bachelorarbeit von zwei Prüfenden zu bewerten, die vom Prüfungsausschuss bestimmt werden. Darunter müssen die Betreuerin oder der Betreuer sowie eine Professorin oder ein Professor des Standorts Meschede der Fachhochschule Südwestfalen sein. Anstelle einer Professorin oder eines Professors kann auch eine Lehrkraft für besondere Aufgaben die Bachelorarbeit bewerten, sofern diese im Fachbereich Ingenieur- und Wirtschaftswissenschaften am Standort Meschede lehrt. - (4) Bezugnehmend auf § 30 Absatz 7 RPO werden durch das Bestehen der Bachelorarbeit zwölf Credits erworben. ## § 24 ## Kolloqui'),\n",
       "  0.8025393)]"
      ]
     },
     "execution_count": 27,
     "metadata": {},
     "output_type": "execute_result"
    }
   ],
   "execution_count": 27
  }
 ],
 "metadata": {
  "kernelspec": {
   "display_name": "Python 3",
   "language": "python",
   "name": "python3"
  },
  "language_info": {
   "codemirror_mode": {
    "name": "ipython",
    "version": 2
   },
   "file_extension": ".py",
   "mimetype": "text/x-python",
   "name": "python",
   "nbconvert_exporter": "python",
   "pygments_lexer": "ipython2",
   "version": "2.7.6"
  }
 },
 "nbformat": 4,
 "nbformat_minor": 5
}
