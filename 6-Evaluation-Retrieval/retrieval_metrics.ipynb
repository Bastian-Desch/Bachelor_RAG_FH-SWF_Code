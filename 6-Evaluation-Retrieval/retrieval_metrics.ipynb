{
 "cells": [
  {
   "cell_type": "code",
   "id": "initial_id",
   "metadata": {
    "collapsed": true,
    "ExecuteTime": {
     "end_time": "2025-03-07T19:14:39.229141Z",
     "start_time": "2025-03-07T19:14:38.330172Z"
    }
   },
   "source": [
    "from langchain_huggingface import HuggingFaceEmbeddings\n",
    "from langchain_qdrant import RetrievalMode, QdrantVectorStore\n",
    "from qdrant_client.models import Filter, FieldCondition, MatchValue\n",
    "import os\n",
    "import re\n",
    "os.environ[\"TOKENIZERS_PARALLELISM\"] = \"false\" # Verhindert inkonsistenten Fehler beim Erzeugen von Embeddings\n",
    "import logging\n",
    "logging.basicConfig(level=logging.INFO)"
   ],
   "outputs": [],
   "execution_count": 2
  },
  {
   "metadata": {
    "ExecuteTime": {
     "end_time": "2025-03-07T19:14:39.939626Z",
     "start_time": "2025-03-07T19:14:39.937302Z"
    }
   },
   "cell_type": "code",
   "source": "encode_kwargs = {'prompt': 'query: '}",
   "id": "8ec780a2d4feb45f",
   "outputs": [],
   "execution_count": 3
  },
  {
   "metadata": {
    "ExecuteTime": {
     "end_time": "2025-03-07T19:14:49.120276Z",
     "start_time": "2025-03-07T19:14:40.930238Z"
    }
   },
   "cell_type": "code",
   "source": "embeddings = HuggingFaceEmbeddings(model_name='intfloat/multilingual-e5-large', encode_kwargs=encode_kwargs)",
   "id": "125634993c426528",
   "outputs": [
    {
     "name": "stderr",
     "output_type": "stream",
     "text": [
      "/Users/bastian/Desktop/BachelorProjektAbgabe/.venv/lib/python3.12/site-packages/tqdm/auto.py:21: TqdmWarning: IProgress not found. Please update jupyter and ipywidgets. See https://ipywidgets.readthedocs.io/en/stable/user_install.html\n",
      "  from .autonotebook import tqdm as notebook_tqdm\n",
      "INFO:datasets:PyTorch version 2.6.0 available.\n",
      "INFO:sentence_transformers.SentenceTransformer:Use pytorch device_name: mps\n",
      "INFO:sentence_transformers.SentenceTransformer:Load pretrained SentenceTransformer: intfloat/multilingual-e5-large\n"
     ]
    }
   ],
   "execution_count": 4
  },
  {
   "metadata": {
    "ExecuteTime": {
     "end_time": "2025-03-07T19:14:50.271541Z",
     "start_time": "2025-03-07T19:14:49.948275Z"
    }
   },
   "cell_type": "code",
   "source": [
    "token_collection = \"intfloat_multilingual-e5-large_token_based_chunks\"\n",
    "qdrant_url = \"http://localhost:6333\"\n",
    "token_client = QdrantVectorStore.from_existing_collection(\n",
    "    embedding=embeddings,\n",
    "    retrieval_mode=RetrievalMode.DENSE,\n",
    "    prefer_grpc=False,\n",
    "    collection_name=token_collection,\n",
    "    url=qdrant_url,\n",
    ")"
   ],
   "id": "470640285235c759",
   "outputs": [
    {
     "name": "stderr",
     "output_type": "stream",
     "text": [
      "INFO:httpx:HTTP Request: GET http://localhost:6333 \"HTTP/1.1 200 OK\"\n",
      "INFO:httpx:HTTP Request: GET http://localhost:6333/collections/intfloat_multilingual-e5-large_token_based_chunks \"HTTP/1.1 200 OK\"\n"
     ]
    }
   ],
   "execution_count": 5
  },
  {
   "metadata": {
    "ExecuteTime": {
     "end_time": "2025-03-07T19:14:52.159273Z",
     "start_time": "2025-03-07T19:14:52.002051Z"
    }
   },
   "cell_type": "code",
   "source": [
    "recursive_collection = \"intfloat_multilingual-e5-large_recursive_chunks\"\n",
    "recursive_client = QdrantVectorStore.from_existing_collection(\n",
    "    embedding=embeddings,\n",
    "    retrieval_mode=RetrievalMode.DENSE,\n",
    "    prefer_grpc=False,\n",
    "    collection_name=recursive_collection,\n",
    "    url=qdrant_url,\n",
    ")"
   ],
   "id": "464f4c6c44be02f5",
   "outputs": [
    {
     "name": "stderr",
     "output_type": "stream",
     "text": [
      "INFO:httpx:HTTP Request: GET http://localhost:6333 \"HTTP/1.1 200 OK\"\n",
      "INFO:httpx:HTTP Request: GET http://localhost:6333/collections/intfloat_multilingual-e5-large_recursive_chunks \"HTTP/1.1 200 OK\"\n"
     ]
    }
   ],
   "execution_count": 6
  },
  {
   "metadata": {
    "ExecuteTime": {
     "end_time": "2025-03-07T19:14:54.999355Z",
     "start_time": "2025-03-07T19:14:54.996578Z"
    }
   },
   "cell_type": "code",
   "source": [
    "fragen = {\n",
    "    1: \"Wann kann ich mich für den Master in Elektrotechnik in Meschede einschreiben?\",\n",
    "    2: \"Welche Literatur ist relevant für das Modul Mathematik im Bachelorstudiengang Elektrotechnik in Soest?\",\n",
    "    3: \"Welche Fachgebiete sind an der FH vertreten?\",\n",
    "    4: \"Ist eine Beurlaubung während des Studiums möglich?\",\n",
    "    5: \"Welche Studienmodelle werden angeboten?\",\n",
    "    6: \"Wie viele Seiten muss ich in meiner Bachelorarbeit in Wirtschaftsinformatik in Hagen schreiben?\",\n",
    "    7: \"Wie sind Portfolioprüfungen im Bachelorstudiengang Elektrotechnik in Soest aufgebaut?\",\n",
    "    8: \"Was muss ich beachten, wenn ich bei einer Prüfung krank bin?\",\n",
    "    9: \"Was sind die Inhalte im Modul IT-Sicherheit im Bachelorstudiengang Elektrotechnik in Hagen?\",\n",
    "    10: \"Wie lange dauern die Klausuren im Bachelorstudiengang Wirtschaftsinformatik in Hagen?\"\n",
    "}"
   ],
   "id": "4556c5047d38eb06",
   "outputs": [],
   "execution_count": 7
  },
  {
   "metadata": {
    "ExecuteTime": {
     "end_time": "2025-03-07T19:17:49.761810Z",
     "start_time": "2025-03-07T19:17:48.216299Z"
    }
   },
   "cell_type": "code",
   "source": "result = token_client.similarity_search_with_score(query=fragen[1], k=5)",
   "id": "27d6863b26f087ad",
   "outputs": [
    {
     "name": "stderr",
     "output_type": "stream",
     "text": [
      "INFO:httpx:HTTP Request: POST http://localhost:6333/collections/intfloat_multilingual-e5-large_token_based_chunks/points/query \"HTTP/1.1 200 OK\"\n"
     ]
    }
   ],
   "execution_count": 33
  },
  {
   "metadata": {
    "ExecuteTime": {
     "end_time": "2025-03-07T19:17:52.070131Z",
     "start_time": "2025-03-07T19:17:52.065880Z"
    }
   },
   "cell_type": "code",
   "source": "result[0]",
   "id": "1290fe6b7a778d2f",
   "outputs": [
    {
     "data": {
      "text/plain": [
       "(Document(metadata={'id': 1021, 'studiengang': 'Elektrotechnik', 'abschluss': 'Master', 'standort': 'Meschede', 'link': 'https://www.fh-swf.de/de/studienangebot/studiengaenge/elektrotechnik_m_eng_/index.php', 'hash': '23d5055fb6686b7f964ad1114b3e41d5d939a5dfe2428fa974f4bd6af87e72a5', '_id': '579aeac7-499f-4213-b1ea-0e9425bb6c64', '_collection_name': 'intfloat_multilingual-e5-large_token_based_chunks'}, page_content='Jahre abhängig von den Studienvoraussetzungen) ### Studienort Meschede ### Beiträge und Gebühren ### Hauptunterrichtssprache Deutsch (für internationale Bewerbende: Level DSH3 / TestDaf5 / C2) ## Vor Beginn des Elektrotechnik Master-Studiums – Voraussetzungen &amp; Bewerbungsverfahren ### Voraussetzungen ##### Für den viersemestrigen Masterstudiengang - Abschluss eines sechssemestrigen Studiums mit mind. 180 Credits in einem der unten aufgeführten Studiengänge mit einer Gesamtnote von mindestens 2,7 (oder mit einer Gesamtnote von mindestens 3,0 und einer Bachelorarbeit mit einer besseren Note als 2,3) ##### Für den dreisemestrigen Masterstudiengang - Abschluss eines siebensemestrigen Studiums mit einem Umfang von mind. 210 Credits in einem der unten auf geführten Studiengänge mit einer Gesamtnote von mindestens 2,7 (oder mit einer Gesamtnote von mindestens 3,0 und einer Bachelorarbeit mit einer besseren Note als 2,3) ##### Anerkannte Bachelor- oder Diplomstudiengänge - Elektrotechnik - Wirtschaftsingenieurwesen-Elektrotechnik - Maschinenbau - Mechatronik - Wirtschaftsinformatik - der ein anderes gleichwertiges Studium mit vergleichbaren Inhalten und einem Umfang von mindestens 180 bzw. 210 Credits Es müssen mindestens 30 Credits in den Bereichen der Elektrotechnik, der Informations- und Kommunikationstechnik, der Informatik, der Automatisierungstechnik oder der Mechatronik erworben worden sein. ### Bewerbung und Einschreibung Für Deutsche und Deutschen gleichgestellte Bewerber*innen - Wintersemester: i.d.R. Mitte Mai bis bis Ende August jeden Jahres - Sommersemester: i.d.R. Anfang Dezember bis Ende Februar jeden Jahres - Bewerbung über das Bewerbungsportal (Achtung: Bewerbungen sind nur innerhalb des jeweiligen Bewerbungszeitraums möglich!) - Hier finden Sie mehr Informationen zum Bewerbungsverfahren Für Bewerber*innen aus Nicht-EU-Ländern - Wintersemester: i.d.R. Anfang März bis 15. Juli jeden Jahres - Sommersemester: i.d.R. Anfang November bis zum 15. Januar jeden Jahres - Bewerbung je nach Voraussetzung über uni-assist oder unser Bewerbungsportal (Achtung: Bewerbungen sind nur innerhalb des jeweiligen Bewerbungszeitraums möglich!) - Hier finden Sie mehr Informationen zur Bewerbung mit internationalem Abschluss Hier finden Sie Fristen für weitere Bewerbungsgruppen'),\n",
       " 0.8931459)"
      ]
     },
     "execution_count": 34,
     "metadata": {},
     "output_type": "execute_result"
    }
   ],
   "execution_count": 34
  },
  {
   "metadata": {
    "ExecuteTime": {
     "end_time": "2025-03-07T19:17:55.710261Z",
     "start_time": "2025-03-07T19:17:55.707800Z"
    }
   },
   "cell_type": "code",
   "source": "first_page_content = result[0][0].page_content",
   "id": "b001d9cdcf1267c0",
   "outputs": [],
   "execution_count": 35
  },
  {
   "metadata": {
    "ExecuteTime": {
     "end_time": "2025-03-07T19:17:56.630465Z",
     "start_time": "2025-03-07T19:17:56.627548Z"
    }
   },
   "cell_type": "code",
   "source": "first_page_content",
   "id": "ff5e7827a1c82e4d",
   "outputs": [
    {
     "data": {
      "text/plain": [
       "'Jahre abhängig von den Studienvoraussetzungen) ### Studienort Meschede ### Beiträge und Gebühren ### Hauptunterrichtssprache Deutsch (für internationale Bewerbende: Level DSH3 / TestDaf5 / C2) ## Vor Beginn des Elektrotechnik Master-Studiums – Voraussetzungen &amp; Bewerbungsverfahren ### Voraussetzungen ##### Für den viersemestrigen Masterstudiengang - Abschluss eines sechssemestrigen Studiums mit mind. 180 Credits in einem der unten aufgeführten Studiengänge mit einer Gesamtnote von mindestens 2,7 (oder mit einer Gesamtnote von mindestens 3,0 und einer Bachelorarbeit mit einer besseren Note als 2,3) ##### Für den dreisemestrigen Masterstudiengang - Abschluss eines siebensemestrigen Studiums mit einem Umfang von mind. 210 Credits in einem der unten auf geführten Studiengänge mit einer Gesamtnote von mindestens 2,7 (oder mit einer Gesamtnote von mindestens 3,0 und einer Bachelorarbeit mit einer besseren Note als 2,3) ##### Anerkannte Bachelor- oder Diplomstudiengänge - Elektrotechnik - Wirtschaftsingenieurwesen-Elektrotechnik - Maschinenbau - Mechatronik - Wirtschaftsinformatik - der ein anderes gleichwertiges Studium mit vergleichbaren Inhalten und einem Umfang von mindestens 180 bzw. 210 Credits Es müssen mindestens 30 Credits in den Bereichen der Elektrotechnik, der Informations- und Kommunikationstechnik, der Informatik, der Automatisierungstechnik oder der Mechatronik erworben worden sein. ### Bewerbung und Einschreibung Für Deutsche und Deutschen gleichgestellte Bewerber*innen - Wintersemester: i.d.R. Mitte Mai bis bis Ende August jeden Jahres - Sommersemester: i.d.R. Anfang Dezember bis Ende Februar jeden Jahres - Bewerbung über das Bewerbungsportal (Achtung: Bewerbungen sind nur innerhalb des jeweiligen Bewerbungszeitraums möglich!) - Hier finden Sie mehr Informationen zum Bewerbungsverfahren Für Bewerber*innen aus Nicht-EU-Ländern - Wintersemester: i.d.R. Anfang März bis 15. Juli jeden Jahres - Sommersemester: i.d.R. Anfang November bis zum 15. Januar jeden Jahres - Bewerbung je nach Voraussetzung über uni-assist oder unser Bewerbungsportal (Achtung: Bewerbungen sind nur innerhalb des jeweiligen Bewerbungszeitraums möglich!) - Hier finden Sie mehr Informationen zur Bewerbung mit internationalem Abschluss Hier finden Sie Fristen für weitere Bewerbungsgruppen'"
      ]
     },
     "execution_count": 36,
     "metadata": {},
     "output_type": "execute_result"
    }
   ],
   "execution_count": 36
  },
  {
   "metadata": {
    "ExecuteTime": {
     "end_time": "2025-03-07T19:18:03.860373Z",
     "start_time": "2025-03-07T19:17:58.466017Z"
    }
   },
   "cell_type": "code",
   "source": [
    "from sentence_transformers import SentenceTransformer\n",
    "model = SentenceTransformer(model_name_or_path=\"intfloat/multilingual-e5-large\")"
   ],
   "id": "53d72952b123b155",
   "outputs": [
    {
     "name": "stderr",
     "output_type": "stream",
     "text": [
      "INFO:sentence_transformers.SentenceTransformer:Use pytorch device_name: mps\n",
      "INFO:sentence_transformers.SentenceTransformer:Load pretrained SentenceTransformer: intfloat/multilingual-e5-large\n"
     ]
    }
   ],
   "execution_count": 37
  },
  {
   "metadata": {
    "ExecuteTime": {
     "end_time": "2025-03-07T19:18:17.841162Z",
     "start_time": "2025-03-07T19:18:17.186756Z"
    }
   },
   "cell_type": "code",
   "source": [
    "# Embedding der Frage\n",
    "query_embedding = model.encode(f\"query: {fragen[1]}\")"
   ],
   "id": "b4032aff7482f274",
   "outputs": [
    {
     "name": "stderr",
     "output_type": "stream",
     "text": [
      "Batches: 100%|██████████| 1/1 [00:00<00:00,  1.55it/s]\n"
     ]
    }
   ],
   "execution_count": 38
  },
  {
   "metadata": {
    "ExecuteTime": {
     "end_time": "2025-03-07T19:18:19.180467Z",
     "start_time": "2025-03-07T19:18:18.946342Z"
    }
   },
   "cell_type": "code",
   "source": [
    "# Embedding des ersten Dokuments\n",
    "document_embedding = model.encode(f\"passage: {first_page_content}\")"
   ],
   "id": "fad1f79b2902b420",
   "outputs": [
    {
     "name": "stderr",
     "output_type": "stream",
     "text": [
      "Batches: 100%|██████████| 1/1 [00:00<00:00,  4.40it/s]\n"
     ]
    }
   ],
   "execution_count": 39
  },
  {
   "metadata": {
    "ExecuteTime": {
     "end_time": "2025-03-07T19:18:20.526153Z",
     "start_time": "2025-03-07T19:18:20.523053Z"
    }
   },
   "cell_type": "code",
   "source": "query_embedding",
   "id": "ff7757744c1dd529",
   "outputs": [
    {
     "data": {
      "text/plain": [
       "array([ 0.01067872,  0.00546123,  0.00756248, ..., -0.02824133,\n",
       "       -0.04448807,  0.01577423], dtype=float32)"
      ]
     },
     "execution_count": 40,
     "metadata": {},
     "output_type": "execute_result"
    }
   ],
   "execution_count": 40
  },
  {
   "metadata": {
    "ExecuteTime": {
     "end_time": "2025-03-07T19:18:22.300144Z",
     "start_time": "2025-03-07T19:18:22.297327Z"
    }
   },
   "cell_type": "code",
   "source": "document_embedding",
   "id": "229e6b9f6e9f6e02",
   "outputs": [
    {
     "data": {
      "text/plain": [
       "array([-0.00250476, -0.00498887,  0.00266136, ..., -0.02109128,\n",
       "       -0.04612838,  0.02727768], dtype=float32)"
      ]
     },
     "execution_count": 41,
     "metadata": {},
     "output_type": "execute_result"
    }
   ],
   "execution_count": 41
  },
  {
   "metadata": {
    "ExecuteTime": {
     "end_time": "2025-03-07T19:19:50.859942Z",
     "start_time": "2025-03-07T19:19:50.856761Z"
    }
   },
   "cell_type": "code",
   "source": [
    "from sentence_transformers.util import cos_sim, pairwise_cos_sim, dot_score, euclidean_sim,pytorch_cos_sim\n",
    "similarity = cos_sim(query_embedding, document_embedding)"
   ],
   "id": "5a59e6ba45667dda",
   "outputs": [],
   "execution_count": 48
  },
  {
   "metadata": {
    "ExecuteTime": {
     "end_time": "2025-03-07T19:18:25.853468Z",
     "start_time": "2025-03-07T19:18:25.849543Z"
    }
   },
   "cell_type": "code",
   "source": "similarity",
   "id": "7f5dae0bf8206aab",
   "outputs": [
    {
     "data": {
      "text/plain": [
       "tensor([[0.8931]])"
      ]
     },
     "execution_count": 43,
     "metadata": {},
     "output_type": "execute_result"
    }
   ],
   "execution_count": 43
  },
  {
   "metadata": {
    "ExecuteTime": {
     "end_time": "2025-03-07T19:18:27.837878Z",
     "start_time": "2025-03-07T19:18:27.833316Z"
    }
   },
   "cell_type": "code",
   "source": "dot_score(query_embedding, document_embedding)",
   "id": "b1cfba3c54707e0f",
   "outputs": [
    {
     "data": {
      "text/plain": [
       "tensor([[0.8931]])"
      ]
     },
     "execution_count": 44,
     "metadata": {},
     "output_type": "execute_result"
    }
   ],
   "execution_count": 44
  },
  {
   "metadata": {
    "ExecuteTime": {
     "end_time": "2025-03-07T19:19:02.344844Z",
     "start_time": "2025-03-07T19:19:02.335907Z"
    }
   },
   "cell_type": "code",
   "source": "euclidean_sim(query_embedding, document_embedding)",
   "id": "2de8ef7b7d314d81",
   "outputs": [
    {
     "data": {
      "text/plain": [
       "tensor([[-0.4623]])"
      ]
     },
     "execution_count": 47,
     "metadata": {},
     "output_type": "execute_result"
    }
   ],
   "execution_count": 47
  },
  {
   "metadata": {
    "ExecuteTime": {
     "end_time": "2025-03-07T19:19:58.923515Z",
     "start_time": "2025-03-07T19:19:58.920204Z"
    }
   },
   "cell_type": "code",
   "source": "pytorch_cos_sim(query_embedding, document_embedding)",
   "id": "8dfce147ba02a182",
   "outputs": [
    {
     "data": {
      "text/plain": [
       "tensor([[0.8931]])"
      ]
     },
     "execution_count": 49,
     "metadata": {},
     "output_type": "execute_result"
    }
   ],
   "execution_count": 49
  },
  {
   "metadata": {},
   "cell_type": "markdown",
   "source": [
    "With Score ist also die Kosinus-Ähnlichkeit, die dabei zurückgegeben wird.\n",
    "Dann kann so der Score auch ermittelt werden, wenn der SelfQueryRetriever keine Scores zurückgibt.\n",
    "\n",
    "Also Embeddings für die Fragen erstellen, Dokumente abrufen, page_content Embedding des jeweiligen Dokumentes erstellen und dann die Kosinus-Ähnlichkeit zwischen Frage und page_content berechnen und den Score speichern.\n",
    "\n",
    "Einfachere Möglichkeit ist:\n",
    "https://python.langchain.com/docs/how_to/add_scores_retriever/#selfqueryretriever\n",
    "\n",
    "Die Methode des SelfQueryRetriever kann überschrieben werden, um die Scores bei der Abfrage mit zurückzugeben.\n"
   ],
   "id": "84bbb7b0f93c0b94"
  },
  {
   "metadata": {
    "ExecuteTime": {
     "end_time": "2025-03-06T13:04:48.975815Z",
     "start_time": "2025-03-06T13:04:47.225610Z"
    }
   },
   "cell_type": "code",
   "source": "from ranx import Qrels, Run, evaluate, compare",
   "id": "267b54d9ce4509d1",
   "outputs": [],
   "execution_count": 2
  },
  {
   "metadata": {
    "ExecuteTime": {
     "end_time": "2025-03-06T13:26:47.904152Z",
     "start_time": "2025-03-06T13:26:47.900208Z"
    }
   },
   "cell_type": "code",
   "source": [
    "qrels_dict = {\n",
    "    \"q_1\": {\n",
    "        \"d_1021\": 1,\n",
    "        \"d_1020\": 0.2,\n",
    "    }\n",
    "}\n",
    "\n",
    "run_dict = {\n",
    "    \"q_1\": {\n",
    "        \"d_1021\": 0.94,\n",
    "        \"d_1020\": 0.94,\n",
    "        \"d_787\": 0.94,\n",
    "        \"d_788\": 0.94,\n",
    "        \"d_1024\": 0.94,\n",
    "    }\n",
    "}\n",
    "\n",
    "qrels = Qrels(qrels_dict)\n",
    "run = Run(run_dict)"
   ],
   "id": "a237d2578926491e",
   "outputs": [],
   "execution_count": 20
  },
  {
   "metadata": {
    "ExecuteTime": {
     "end_time": "2025-03-06T13:26:49.360055Z",
     "start_time": "2025-03-06T13:26:49.356228Z"
    }
   },
   "cell_type": "code",
   "source": [
    "score = evaluate(qrels, run, \"ndcg@5\")\n",
    "print(score)"
   ],
   "id": "79e4adc0b18f53b4",
   "outputs": [
    {
     "name": "stdout",
     "output_type": "stream",
     "text": [
      "0.6309297535714575\n"
     ]
    }
   ],
   "execution_count": 21
  },
  {
   "metadata": {
    "ExecuteTime": {
     "end_time": "2025-03-06T13:26:55.249147Z",
     "start_time": "2025-03-06T13:26:55.244178Z"
    }
   },
   "cell_type": "code",
   "source": [
    "score_dict = evaluate(qrels, run, [\"ndcg@3\", \"map@5\", \"mrr\",\"recall\"])\n",
    "print(score_dict)"
   ],
   "id": "39d960c359a05182",
   "outputs": [
    {
     "name": "stdout",
     "output_type": "stream",
     "text": [
      "{'ndcg@3': np.float64(0.6309297535714575), 'map@5': np.float64(0.5), 'mrr': np.float64(0.5), 'recall': np.float64(1.0)}\n"
     ]
    }
   ],
   "execution_count": 22
  },
  {
   "metadata": {},
   "cell_type": "code",
   "outputs": [],
   "execution_count": null,
   "source": "",
   "id": "adb13868ea2a5ae6"
  },
  {
   "metadata": {},
   "cell_type": "markdown",
   "source": [
    "Die Metriken sind allgemein nicht im Zusammenhang mit RAG erst entstanden.\n",
    "Sie gehören zum Bereich des Information Retrievals, eignen sich daher zur Evaluation des Retrievals, um die Performance zwischen den Embedding-Modellen und Collections zu vergleichen."
   ],
   "id": "3a4c13e140a93bd0"
  }
 ],
 "metadata": {
  "kernelspec": {
   "display_name": "Python 3",
   "language": "python",
   "name": "python3"
  },
  "language_info": {
   "codemirror_mode": {
    "name": "ipython",
    "version": 2
   },
   "file_extension": ".py",
   "mimetype": "text/x-python",
   "name": "python",
   "nbconvert_exporter": "python",
   "pygments_lexer": "ipython2",
   "version": "2.7.6"
  }
 },
 "nbformat": 4,
 "nbformat_minor": 5
}
