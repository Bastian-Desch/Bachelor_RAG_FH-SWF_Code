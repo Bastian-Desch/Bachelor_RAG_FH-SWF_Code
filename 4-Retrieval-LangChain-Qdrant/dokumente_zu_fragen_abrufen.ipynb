{
 "cells": [
  {
   "cell_type": "markdown",
   "id": "f5f98b23f4bba1ac",
   "metadata": {},
   "source": [
    "# 10 Fragen, die für die ersten Retrieval-Versuche eingesetzt werden:\n",
    "1. Wann kann ich mich für den Master in Elektrotechnik in Meschede einschreiben?\n",
    "2. Welche Literatur ist relevant für das Modul Mathematik im Bachelorstudiengang Elektrotechnik in Soest?\n",
    "3. Welche Fachgebiete sind an der FH vertreten?\n",
    "4. Ist eine Beurlaubung während des Studiums möglich?\n",
    "5. Welche Studienmodelle werden angeboten?\n",
    "6. Wie viele Seiten muss ich in meiner Bachelorarbeit in Wirtschaftsinformatik in Hagen schreiben?\n",
    "7. Wie sind Portfolioprüfungen im Bachelorstudiengang Elektrotechnik in Soest aufgebaut?\n",
    "8. Was muss ich beachten, wenn ich bei einer Prüfung krank bin?\n",
    "9. Was sind die Inhalte im Modul IT-Sicherheit im Bachelorstudiengang Elektrotechnik in Hagen?\n",
    "10. Wie lange dauern die Klausuren im Bachelorstudiengang Wirtschaftsinformatik in Hagen?"
   ]
  },
  {
   "cell_type": "markdown",
   "id": "5e5bf74ea9e9dee",
   "metadata": {},
   "source": [
    "Hier werden nun verschieden Möglichkeiten für den Abruf von Dokumenten zu den Fragen getestet:\n",
    "1. Abruf von Dokumenten über den Qdrant-Client mit einem Score für die Ähnlichkeit\n",
    "2. Abruf von Dokumenten über den Qdrant-Client mit einem Filter\n",
    "3. Abruf mit dem SelfQueryRetriever des LangChain Frameworks"
   ]
  },
  {
   "cell_type": "markdown",
   "id": "7cc2c8af",
   "metadata": {},
   "source": "Hier wurde mit den umformulierten Fragen gearbeitet, um genauer zu prüfen, ob der SelfQueryRetriever überhaupt in der Evaluation nutzbar ist."
  },
  {
   "cell_type": "markdown",
   "id": "895b89eb375840df",
   "metadata": {},
   "source": [
    "Der Code wurde für jedes Embedding Modell in separaten Jupyter-Notebooks erfasst, weil die Rückgaben je Modell variieren.\n",
    "(Vorher war der gesamte Code in diesem Notebook)\n",
    "\n",
    "Das Abspeichern in den Textdateien diente hier nur der Nachvollziehbarkeit, wie die Abrufe funktionieren.\n",
    "Die Dateien haben keine weitere Verwendung gefunden."
   ]
  }
 ],
 "metadata": {
  "kernelspec": {
   "display_name": "Python 3",
   "language": "python",
   "name": "python3"
  },
  "language_info": {
   "codemirror_mode": {
    "name": "ipython",
    "version": 2
   },
   "file_extension": ".py",
   "mimetype": "text/x-python",
   "name": "python",
   "nbconvert_exporter": "python",
   "pygments_lexer": "ipython2",
   "version": "2.7.6"
  }
 },
 "nbformat": 4,
 "nbformat_minor": 5
}
