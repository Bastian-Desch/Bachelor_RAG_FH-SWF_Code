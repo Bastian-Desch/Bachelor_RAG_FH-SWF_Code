{
 "cells": [
  {
   "cell_type": "code",
   "id": "initial_id",
   "metadata": {
    "collapsed": true,
    "ExecuteTime": {
     "end_time": "2025-03-10T10:14:16.557161Z",
     "start_time": "2025-03-10T10:14:15.586276Z"
    }
   },
   "source": [
    "from langchain_huggingface import HuggingFaceEmbeddings\n",
    "from langchain_qdrant import RetrievalMode, QdrantVectorStore\n",
    "from qdrant_client.models import Filter, FieldCondition, MatchValue\n",
    "import os\n",
    "import re\n",
    "os.environ[\"TOKENIZERS_PARALLELISM\"] = \"false\" # Verhindert inkonsistenten Fehler beim Erzeugen von Embeddings (sonst wurde versucht parallel auf die gleiche Ressource zuzugreifen)\n",
    "import logging\n",
    "logging.basicConfig(level=logging.INFO)"
   ],
   "outputs": [],
   "execution_count": 1
  },
  {
   "metadata": {
    "ExecuteTime": {
     "end_time": "2025-03-10T10:14:18.053437Z",
     "start_time": "2025-03-10T10:14:18.051674Z"
    }
   },
   "cell_type": "code",
   "source": [
    "# Query Präfix für Embeddings der Fragen\n",
    "encode_kwargs = {'prompt': 'query: '}"
   ],
   "id": "f42edeccec2f65b4",
   "outputs": [],
   "execution_count": 2
  },
  {
   "metadata": {
    "ExecuteTime": {
     "end_time": "2025-03-10T10:14:27.152163Z",
     "start_time": "2025-03-10T10:14:19.186878Z"
    }
   },
   "cell_type": "code",
   "source": "embeddings = HuggingFaceEmbeddings(model_name=\"mixedbread-ai/deepset-mxbai-embed-de-large-v1\", encode_kwargs=encode_kwargs)",
   "id": "5d5dc991bdba42e6",
   "outputs": [
    {
     "name": "stderr",
     "output_type": "stream",
     "text": [
      "/Users/bastian/Desktop/BachelorProjektAbgabe/.venv/lib/python3.12/site-packages/tqdm/auto.py:21: TqdmWarning: IProgress not found. Please update jupyter and ipywidgets. See https://ipywidgets.readthedocs.io/en/stable/user_install.html\n",
      "  from .autonotebook import tqdm as notebook_tqdm\n",
      "INFO:datasets:PyTorch version 2.6.0 available.\n",
      "INFO:sentence_transformers.SentenceTransformer:Use pytorch device_name: mps\n",
      "INFO:sentence_transformers.SentenceTransformer:Load pretrained SentenceTransformer: mixedbread-ai/deepset-mxbai-embed-de-large-v1\n"
     ]
    }
   ],
   "execution_count": 3
  },
  {
   "metadata": {
    "ExecuteTime": {
     "end_time": "2025-03-10T10:14:30.915921Z",
     "start_time": "2025-03-10T10:14:30.517191Z"
    }
   },
   "cell_type": "code",
   "source": [
    "# Qdrant-Client für Token-basierte-Collection\n",
    "token_collection = \"mixedbread-ai_deepset-mxbai-embed-de-large-v1_token_based_chunks\"\n",
    "qdrant_url = \"http://localhost:6333\"\n",
    "token_client = QdrantVectorStore.from_existing_collection(\n",
    "    embedding=embeddings,\n",
    "    retrieval_mode=RetrievalMode.DENSE,\n",
    "    prefer_grpc=False,\n",
    "    collection_name=token_collection,\n",
    "    url=qdrant_url,\n",
    ")"
   ],
   "id": "8e7913047e4a4c8d",
   "outputs": [
    {
     "name": "stderr",
     "output_type": "stream",
     "text": [
      "INFO:httpx:HTTP Request: GET http://localhost:6333 \"HTTP/1.1 200 OK\"\n",
      "INFO:httpx:HTTP Request: GET http://localhost:6333/collections/mixedbread-ai_deepset-mxbai-embed-de-large-v1_token_based_chunks \"HTTP/1.1 200 OK\"\n"
     ]
    }
   ],
   "execution_count": 4
  },
  {
   "metadata": {
    "ExecuteTime": {
     "end_time": "2025-03-10T10:14:41.105308Z",
     "start_time": "2025-03-10T10:14:40.959900Z"
    }
   },
   "cell_type": "code",
   "source": [
    "# Qdrant-Client für Recursive-Collection\n",
    "recursive_collection = \"mixedbread-ai_deepset-mxbai-embed-de-large-v1_recursive_chunks\"\n",
    "recursive_client = QdrantVectorStore.from_existing_collection(\n",
    "    embedding=embeddings,\n",
    "    retrieval_mode=RetrievalMode.DENSE,\n",
    "    prefer_grpc=False,\n",
    "    collection_name=recursive_collection,\n",
    "    url=qdrant_url,\n",
    ")"
   ],
   "id": "abd7fe531b16e9c3",
   "outputs": [
    {
     "name": "stderr",
     "output_type": "stream",
     "text": [
      "INFO:httpx:HTTP Request: GET http://localhost:6333 \"HTTP/1.1 200 OK\"\n",
      "INFO:httpx:HTTP Request: GET http://localhost:6333/collections/mixedbread-ai_deepset-mxbai-embed-de-large-v1_recursive_chunks \"HTTP/1.1 200 OK\"\n"
     ]
    }
   ],
   "execution_count": 5
  },
  {
   "metadata": {
    "ExecuteTime": {
     "end_time": "2025-03-10T10:14:45.639433Z",
     "start_time": "2025-03-10T10:14:45.637236Z"
    }
   },
   "cell_type": "code",
   "source": [
    "# 10 Fragen:\n",
    "fragen = {\n",
    "    1: \"Wann kann ich mich für den Master in Elektrotechnik in Meschede einschreiben?\",\n",
    "    2: \"Welche Literatur ist relevant für das Modul Mathematik im Bachelorstudiengang Elektrotechnik in Soest?\",\n",
    "    3: \"Welche Fachgebiete sind an der FH vertreten?\",\n",
    "    4: \"Ist eine Beurlaubung während des Studiums möglich?\",\n",
    "    5: \"Welche Studienmodelle werden angeboten?\",\n",
    "    6: \"Wie viele Seiten muss ich in meiner Bachelorarbeit in Wirtschaftsinformatik in Hagen schreiben?\",\n",
    "    7: \"Wie sind Portfolioprüfungen im Bachelorstudiengang Elektrotechnik in Soest aufgebaut?\",\n",
    "    8: \"Was muss ich beachten, wenn ich bei einer Prüfung krank bin?\",\n",
    "    9: \"Was sind die Inhalte im Modul IT-Sicherheit im Bachelorstudiengang Elektrotechnik in Hagen?\",\n",
    "    10: \"Wie lange dauern die Klausuren im Bachelorstudiengang Wirtschaftsinformatik in Hagen?\"\n",
    "}"
   ],
   "id": "a80db3c9ee370714",
   "outputs": [],
   "execution_count": 6
  },
  {
   "metadata": {
    "ExecuteTime": {
     "end_time": "2025-03-10T10:14:47.672440Z",
     "start_time": "2025-03-10T10:14:47.670362Z"
    }
   },
   "cell_type": "code",
   "source": [
    "def clean_filename(text: str) -> str:\n",
    "    text = re.sub(r'[<>:\"/\\\\|?*]', '', text)\n",
    "    return text.strip()"
   ],
   "id": "32ae4f05081a3604",
   "outputs": [],
   "execution_count": 7
  },
  {
   "metadata": {
    "ExecuteTime": {
     "end_time": "2025-03-10T10:14:48.860565Z",
     "start_time": "2025-03-10T10:14:48.857734Z"
    }
   },
   "cell_type": "code",
   "source": [
    "def save_questions_and_documents_with_relevance(output_dir: str, client: QdrantVectorStore, fragen: dict) -> None:\n",
    "    os.makedirs(output_dir, exist_ok=True)\n",
    "\n",
    "    for id, frage in fragen.items():\n",
    "        frage_filename = f\"{id}_{clean_filename(frage)}.txt\"  # Dateiname mit ID\n",
    "        filepath = os.path.join(output_dir, frage_filename)\n",
    "\n",
    "        found_docs = client.similarity_search_with_score(frage, k=10)\n",
    "\n",
    "        with open(filepath, \"w\", encoding=\"utf-8\") as file:\n",
    "            file.write(f\"ID: {id}\\n\")\n",
    "            file.write(f\"Frage: {frage}\\n\\n\")\n",
    "\n",
    "            for idx, (doc, score) in enumerate(found_docs, 1):\n",
    "                file.write(f\"Dokument {idx} (Score: {score:.8f}):\\n\")\n",
    "                file.write(\"Metadaten:\\n\")\n",
    "                for key, value in doc.metadata.items():\n",
    "                    file.write(f\"  - {key}: {value}\\n\")\n",
    "\n",
    "                file.write(\"\\nInhalt:\\n\")\n",
    "                file.write(f\"{doc.page_content}\\n\\n\")\n",
    "\n",
    "        print(f\"Gespeichert: {filepath}\")"
   ],
   "id": "f1e4b68922f5f154",
   "outputs": [],
   "execution_count": 8
  },
  {
   "metadata": {
    "ExecuteTime": {
     "end_time": "2025-03-10T10:14:51.811245Z",
     "start_time": "2025-03-10T10:14:50.996133Z"
    }
   },
   "cell_type": "code",
   "source": "save_questions_and_documents_with_relevance(\"1-mixedbread_token_based-Fragen_mit_Dokumenten_und_Relevanz\", token_client, fragen)",
   "id": "1d1da3b50c7bbc39",
   "outputs": [
    {
     "name": "stderr",
     "output_type": "stream",
     "text": [
      "INFO:httpx:HTTP Request: POST http://localhost:6333/collections/mixedbread-ai_deepset-mxbai-embed-de-large-v1_token_based_chunks/points/query \"HTTP/1.1 200 OK\"\n",
      "INFO:httpx:HTTP Request: POST http://localhost:6333/collections/mixedbread-ai_deepset-mxbai-embed-de-large-v1_token_based_chunks/points/query \"HTTP/1.1 200 OK\"\n",
      "INFO:httpx:HTTP Request: POST http://localhost:6333/collections/mixedbread-ai_deepset-mxbai-embed-de-large-v1_token_based_chunks/points/query \"HTTP/1.1 200 OK\"\n"
     ]
    },
    {
     "name": "stdout",
     "output_type": "stream",
     "text": [
      "Gespeichert: 1-mixedbread_token_based-Fragen_mit_Dokumenten_und_Relevanz/1_Wann kann ich mich für den Master in Elektrotechnik in Meschede einschreiben.txt\n",
      "Gespeichert: 1-mixedbread_token_based-Fragen_mit_Dokumenten_und_Relevanz/2_Welche Literatur ist relevant für das Modul Mathematik im Bachelorstudiengang Elektrotechnik in Soest.txt\n",
      "Gespeichert: 1-mixedbread_token_based-Fragen_mit_Dokumenten_und_Relevanz/3_Welche Fachgebiete sind an der FH vertreten.txt\n"
     ]
    },
    {
     "name": "stderr",
     "output_type": "stream",
     "text": [
      "INFO:httpx:HTTP Request: POST http://localhost:6333/collections/mixedbread-ai_deepset-mxbai-embed-de-large-v1_token_based_chunks/points/query \"HTTP/1.1 200 OK\"\n",
      "INFO:httpx:HTTP Request: POST http://localhost:6333/collections/mixedbread-ai_deepset-mxbai-embed-de-large-v1_token_based_chunks/points/query \"HTTP/1.1 200 OK\"\n",
      "INFO:httpx:HTTP Request: POST http://localhost:6333/collections/mixedbread-ai_deepset-mxbai-embed-de-large-v1_token_based_chunks/points/query \"HTTP/1.1 200 OK\"\n"
     ]
    },
    {
     "name": "stdout",
     "output_type": "stream",
     "text": [
      "Gespeichert: 1-mixedbread_token_based-Fragen_mit_Dokumenten_und_Relevanz/4_Ist eine Beurlaubung während des Studiums möglich.txt\n",
      "Gespeichert: 1-mixedbread_token_based-Fragen_mit_Dokumenten_und_Relevanz/5_Welche Studienmodelle werden angeboten.txt\n",
      "Gespeichert: 1-mixedbread_token_based-Fragen_mit_Dokumenten_und_Relevanz/6_Wie viele Seiten muss ich in meiner Bachelorarbeit in Wirtschaftsinformatik in Hagen schreiben.txt\n"
     ]
    },
    {
     "name": "stderr",
     "output_type": "stream",
     "text": [
      "INFO:httpx:HTTP Request: POST http://localhost:6333/collections/mixedbread-ai_deepset-mxbai-embed-de-large-v1_token_based_chunks/points/query \"HTTP/1.1 200 OK\"\n",
      "INFO:httpx:HTTP Request: POST http://localhost:6333/collections/mixedbread-ai_deepset-mxbai-embed-de-large-v1_token_based_chunks/points/query \"HTTP/1.1 200 OK\"\n",
      "INFO:httpx:HTTP Request: POST http://localhost:6333/collections/mixedbread-ai_deepset-mxbai-embed-de-large-v1_token_based_chunks/points/query \"HTTP/1.1 200 OK\"\n"
     ]
    },
    {
     "name": "stdout",
     "output_type": "stream",
     "text": [
      "Gespeichert: 1-mixedbread_token_based-Fragen_mit_Dokumenten_und_Relevanz/7_Wie sind Portfolioprüfungen im Bachelorstudiengang Elektrotechnik in Soest aufgebaut.txt\n",
      "Gespeichert: 1-mixedbread_token_based-Fragen_mit_Dokumenten_und_Relevanz/8_Was muss ich beachten, wenn ich bei einer Prüfung krank bin.txt\n",
      "Gespeichert: 1-mixedbread_token_based-Fragen_mit_Dokumenten_und_Relevanz/9_Was sind die Inhalte im Modul IT-Sicherheit im Bachelorstudiengang Elektrotechnik in Hagen.txt\n"
     ]
    },
    {
     "name": "stderr",
     "output_type": "stream",
     "text": [
      "INFO:httpx:HTTP Request: POST http://localhost:6333/collections/mixedbread-ai_deepset-mxbai-embed-de-large-v1_token_based_chunks/points/query \"HTTP/1.1 200 OK\"\n"
     ]
    },
    {
     "name": "stdout",
     "output_type": "stream",
     "text": [
      "Gespeichert: 1-mixedbread_token_based-Fragen_mit_Dokumenten_und_Relevanz/10_Wie lange dauern die Klausuren im Bachelorstudiengang Wirtschaftsinformatik in Hagen.txt\n"
     ]
    }
   ],
   "execution_count": 9
  },
  {
   "metadata": {
    "ExecuteTime": {
     "end_time": "2025-03-10T10:14:54.384996Z",
     "start_time": "2025-03-10T10:14:53.947606Z"
    }
   },
   "cell_type": "code",
   "source": "save_questions_and_documents_with_relevance(\"2-mixedbread_recursive-Fragen_mit_Dokumenten_und_Relevanz\", recursive_client, fragen)",
   "id": "961fbaa46293aaf4",
   "outputs": [
    {
     "name": "stderr",
     "output_type": "stream",
     "text": [
      "INFO:httpx:HTTP Request: POST http://localhost:6333/collections/mixedbread-ai_deepset-mxbai-embed-de-large-v1_recursive_chunks/points/query \"HTTP/1.1 200 OK\"\n",
      "INFO:httpx:HTTP Request: POST http://localhost:6333/collections/mixedbread-ai_deepset-mxbai-embed-de-large-v1_recursive_chunks/points/query \"HTTP/1.1 200 OK\"\n",
      "INFO:httpx:HTTP Request: POST http://localhost:6333/collections/mixedbread-ai_deepset-mxbai-embed-de-large-v1_recursive_chunks/points/query \"HTTP/1.1 200 OK\"\n",
      "INFO:httpx:HTTP Request: POST http://localhost:6333/collections/mixedbread-ai_deepset-mxbai-embed-de-large-v1_recursive_chunks/points/query \"HTTP/1.1 200 OK\"\n",
      "INFO:httpx:HTTP Request: POST http://localhost:6333/collections/mixedbread-ai_deepset-mxbai-embed-de-large-v1_recursive_chunks/points/query \"HTTP/1.1 200 OK\"\n",
      "INFO:httpx:HTTP Request: POST http://localhost:6333/collections/mixedbread-ai_deepset-mxbai-embed-de-large-v1_recursive_chunks/points/query \"HTTP/1.1 200 OK\"\n"
     ]
    },
    {
     "name": "stdout",
     "output_type": "stream",
     "text": [
      "Gespeichert: 2-mixedbread_recursive-Fragen_mit_Dokumenten_und_Relevanz/1_Wann kann ich mich für den Master in Elektrotechnik in Meschede einschreiben.txt\n",
      "Gespeichert: 2-mixedbread_recursive-Fragen_mit_Dokumenten_und_Relevanz/2_Welche Literatur ist relevant für das Modul Mathematik im Bachelorstudiengang Elektrotechnik in Soest.txt\n",
      "Gespeichert: 2-mixedbread_recursive-Fragen_mit_Dokumenten_und_Relevanz/3_Welche Fachgebiete sind an der FH vertreten.txt\n",
      "Gespeichert: 2-mixedbread_recursive-Fragen_mit_Dokumenten_und_Relevanz/4_Ist eine Beurlaubung während des Studiums möglich.txt\n",
      "Gespeichert: 2-mixedbread_recursive-Fragen_mit_Dokumenten_und_Relevanz/5_Welche Studienmodelle werden angeboten.txt\n",
      "Gespeichert: 2-mixedbread_recursive-Fragen_mit_Dokumenten_und_Relevanz/6_Wie viele Seiten muss ich in meiner Bachelorarbeit in Wirtschaftsinformatik in Hagen schreiben.txt\n"
     ]
    },
    {
     "name": "stderr",
     "output_type": "stream",
     "text": [
      "INFO:httpx:HTTP Request: POST http://localhost:6333/collections/mixedbread-ai_deepset-mxbai-embed-de-large-v1_recursive_chunks/points/query \"HTTP/1.1 200 OK\"\n",
      "INFO:httpx:HTTP Request: POST http://localhost:6333/collections/mixedbread-ai_deepset-mxbai-embed-de-large-v1_recursive_chunks/points/query \"HTTP/1.1 200 OK\"\n",
      "INFO:httpx:HTTP Request: POST http://localhost:6333/collections/mixedbread-ai_deepset-mxbai-embed-de-large-v1_recursive_chunks/points/query \"HTTP/1.1 200 OK\"\n",
      "INFO:httpx:HTTP Request: POST http://localhost:6333/collections/mixedbread-ai_deepset-mxbai-embed-de-large-v1_recursive_chunks/points/query \"HTTP/1.1 200 OK\"\n"
     ]
    },
    {
     "name": "stdout",
     "output_type": "stream",
     "text": [
      "Gespeichert: 2-mixedbread_recursive-Fragen_mit_Dokumenten_und_Relevanz/7_Wie sind Portfolioprüfungen im Bachelorstudiengang Elektrotechnik in Soest aufgebaut.txt\n",
      "Gespeichert: 2-mixedbread_recursive-Fragen_mit_Dokumenten_und_Relevanz/8_Was muss ich beachten, wenn ich bei einer Prüfung krank bin.txt\n",
      "Gespeichert: 2-mixedbread_recursive-Fragen_mit_Dokumenten_und_Relevanz/9_Was sind die Inhalte im Modul IT-Sicherheit im Bachelorstudiengang Elektrotechnik in Hagen.txt\n",
      "Gespeichert: 2-mixedbread_recursive-Fragen_mit_Dokumenten_und_Relevanz/10_Wie lange dauern die Klausuren im Bachelorstudiengang Wirtschaftsinformatik in Hagen.txt\n"
     ]
    }
   ],
   "execution_count": 10
  },
  {
   "metadata": {
    "ExecuteTime": {
     "end_time": "2025-03-10T10:14:58.213161Z",
     "start_time": "2025-03-10T10:14:58.209727Z"
    }
   },
   "cell_type": "code",
   "source": [
    "# Optimale Filter für die Fragen\n",
    "def create_field_condition(field, value):\n",
    "    return FieldCondition(\n",
    "        key=f\"metadata.{field}\",\n",
    "        match=MatchValue(value=value)\n",
    "    )\n",
    "\n",
    "filters = {\n",
    "    1: Filter(must=[\n",
    "        create_field_condition(\"studiengang\", \"Elektrotechnik\"),\n",
    "        create_field_condition(\"standort\", \"Meschede\"),\n",
    "        create_field_condition(\"abschluss\", \"Master\")\n",
    "    ]),\n",
    "    2: Filter(must=[\n",
    "        create_field_condition(\"standort\", \"Soest\"),\n",
    "        create_field_condition(\"studiengang\", \"Elektrotechnik\"),\n",
    "        create_field_condition(\"abschluss\", \"Bachelor\")\n",
    "    ]),\n",
    "    3: Filter(must=[\n",
    "        create_field_condition(\"studiengang\", \"Alle\"),\n",
    "        create_field_condition(\"standort\", \"Alle\"),\n",
    "        create_field_condition(\"abschluss\", \"Alle\")\n",
    "    ]),\n",
    "    4: Filter(must=[\n",
    "        create_field_condition(\"studiengang\", \"Alle\"),\n",
    "        create_field_condition(\"standort\", \"Alle\"),\n",
    "        create_field_condition(\"abschluss\", \"Alle\")\n",
    "    ]),\n",
    "    5: Filter(must=[\n",
    "        create_field_condition(\"studiengang\", \"Alle\"),\n",
    "        create_field_condition(\"standort\", \"Alle\"),\n",
    "        create_field_condition(\"abschluss\", \"Alle\")\n",
    "    ]),\n",
    "    6: Filter(must=[\n",
    "        create_field_condition(\"studiengang\", \"Wirtschaftsinformatik\"),\n",
    "        create_field_condition(\"standort\", \"Hagen\"),\n",
    "        create_field_condition(\"abschluss\", \"Bachelor\")\n",
    "    ]),\n",
    "    7: Filter(must=[\n",
    "        create_field_condition(\"studiengang\", \"Elektrotechnik\"),\n",
    "        create_field_condition(\"standort\", \"Soest\"),\n",
    "        create_field_condition(\"abschluss\", \"Bachelor\")\n",
    "    ]),\n",
    "    8: Filter(must=[\n",
    "        create_field_condition(\"studiengang\", \"Alle\"),\n",
    "        create_field_condition(\"standort\", \"Alle\"),\n",
    "        create_field_condition(\"abschluss\", \"Alle\")\n",
    "    ]),\n",
    "    9: Filter(must=[\n",
    "        create_field_condition(\"studiengang\", \"Elektrotechnik\"),\n",
    "        create_field_condition(\"standort\", \"Hagen\"),\n",
    "        create_field_condition(\"abschluss\", \"Bachelor\")\n",
    "    ]),\n",
    "    10: Filter(must=[\n",
    "        create_field_condition(\"studiengang\", \"Wirtschaftsinformatik\"),\n",
    "        create_field_condition(\"standort\", \"Hagen\"),\n",
    "        create_field_condition(\"abschluss\", \"Bachelor\")\n",
    "    ]),\n",
    "}"
   ],
   "id": "9b6611a8057d04e7",
   "outputs": [],
   "execution_count": 12
  },
  {
   "metadata": {
    "ExecuteTime": {
     "end_time": "2025-03-10T10:15:01.743365Z",
     "start_time": "2025-03-10T10:15:01.740393Z"
    }
   },
   "cell_type": "code",
   "source": [
    "def save_questions_and_documents_with_relevance_with_metadata_filtering(output_dir: str, client: QdrantVectorStore, fragen: dict, filters: dict) -> None:\n",
    "    os.makedirs(output_dir, exist_ok=True)\n",
    "\n",
    "    for id, frage in fragen.items():\n",
    "        frage_filename = f\"{id}_{clean_filename(frage)}.txt\"  # Dateiname mit ID\n",
    "        filepath = os.path.join(output_dir, frage_filename)\n",
    "\n",
    "        found_docs = client.similarity_search_with_score(frage, k=10, filter=filters[id])\n",
    "\n",
    "        with open(filepath, \"w\", encoding=\"utf-8\") as file:\n",
    "            file.write(f\"ID: {id}\\n\")\n",
    "            file.write(f\"Frage: {frage}\\n\\n\")\n",
    "\n",
    "            for idx, (doc, score) in enumerate(found_docs, 1):\n",
    "                file.write(f\"Dokument {idx} (Score: {score:.8f}):\\n\")\n",
    "                file.write(\"Metadaten:\\n\")\n",
    "                for key, value in doc.metadata.items():\n",
    "                    file.write(f\"  - {key}: {value}\\n\")\n",
    "\n",
    "                file.write(\"\\nInhalt:\\n\")\n",
    "                file.write(f\"{doc.page_content}\\n\\n\")\n",
    "\n",
    "        print(f\"Gespeichert: {filepath}\")"
   ],
   "id": "f0463fa43b4047aa",
   "outputs": [],
   "execution_count": 13
  },
  {
   "metadata": {
    "ExecuteTime": {
     "end_time": "2025-03-10T10:15:04.594819Z",
     "start_time": "2025-03-10T10:15:04.165025Z"
    }
   },
   "cell_type": "code",
   "source": "save_questions_and_documents_with_relevance_with_metadata_filtering(\"3-mixedbread_token_based-Fragen_mit_Filtern\", token_client, fragen, filters)",
   "id": "11c72391467787eb",
   "outputs": [
    {
     "name": "stderr",
     "output_type": "stream",
     "text": [
      "INFO:httpx:HTTP Request: POST http://localhost:6333/collections/mixedbread-ai_deepset-mxbai-embed-de-large-v1_token_based_chunks/points/query \"HTTP/1.1 200 OK\"\n",
      "INFO:httpx:HTTP Request: POST http://localhost:6333/collections/mixedbread-ai_deepset-mxbai-embed-de-large-v1_token_based_chunks/points/query \"HTTP/1.1 200 OK\"\n",
      "INFO:httpx:HTTP Request: POST http://localhost:6333/collections/mixedbread-ai_deepset-mxbai-embed-de-large-v1_token_based_chunks/points/query \"HTTP/1.1 200 OK\"\n",
      "INFO:httpx:HTTP Request: POST http://localhost:6333/collections/mixedbread-ai_deepset-mxbai-embed-de-large-v1_token_based_chunks/points/query \"HTTP/1.1 200 OK\"\n",
      "INFO:httpx:HTTP Request: POST http://localhost:6333/collections/mixedbread-ai_deepset-mxbai-embed-de-large-v1_token_based_chunks/points/query \"HTTP/1.1 200 OK\"\n",
      "INFO:httpx:HTTP Request: POST http://localhost:6333/collections/mixedbread-ai_deepset-mxbai-embed-de-large-v1_token_based_chunks/points/query \"HTTP/1.1 200 OK\"\n"
     ]
    },
    {
     "name": "stdout",
     "output_type": "stream",
     "text": [
      "Gespeichert: 3-mixedbread_token_based-Fragen_mit_Filtern/1_Wann kann ich mich für den Master in Elektrotechnik in Meschede einschreiben.txt\n",
      "Gespeichert: 3-mixedbread_token_based-Fragen_mit_Filtern/2_Welche Literatur ist relevant für das Modul Mathematik im Bachelorstudiengang Elektrotechnik in Soest.txt\n",
      "Gespeichert: 3-mixedbread_token_based-Fragen_mit_Filtern/3_Welche Fachgebiete sind an der FH vertreten.txt\n",
      "Gespeichert: 3-mixedbread_token_based-Fragen_mit_Filtern/4_Ist eine Beurlaubung während des Studiums möglich.txt\n",
      "Gespeichert: 3-mixedbread_token_based-Fragen_mit_Filtern/5_Welche Studienmodelle werden angeboten.txt\n",
      "Gespeichert: 3-mixedbread_token_based-Fragen_mit_Filtern/6_Wie viele Seiten muss ich in meiner Bachelorarbeit in Wirtschaftsinformatik in Hagen schreiben.txt\n"
     ]
    },
    {
     "name": "stderr",
     "output_type": "stream",
     "text": [
      "INFO:httpx:HTTP Request: POST http://localhost:6333/collections/mixedbread-ai_deepset-mxbai-embed-de-large-v1_token_based_chunks/points/query \"HTTP/1.1 200 OK\"\n",
      "INFO:httpx:HTTP Request: POST http://localhost:6333/collections/mixedbread-ai_deepset-mxbai-embed-de-large-v1_token_based_chunks/points/query \"HTTP/1.1 200 OK\"\n",
      "INFO:httpx:HTTP Request: POST http://localhost:6333/collections/mixedbread-ai_deepset-mxbai-embed-de-large-v1_token_based_chunks/points/query \"HTTP/1.1 200 OK\"\n",
      "INFO:httpx:HTTP Request: POST http://localhost:6333/collections/mixedbread-ai_deepset-mxbai-embed-de-large-v1_token_based_chunks/points/query \"HTTP/1.1 200 OK\"\n"
     ]
    },
    {
     "name": "stdout",
     "output_type": "stream",
     "text": [
      "Gespeichert: 3-mixedbread_token_based-Fragen_mit_Filtern/7_Wie sind Portfolioprüfungen im Bachelorstudiengang Elektrotechnik in Soest aufgebaut.txt\n",
      "Gespeichert: 3-mixedbread_token_based-Fragen_mit_Filtern/8_Was muss ich beachten, wenn ich bei einer Prüfung krank bin.txt\n",
      "Gespeichert: 3-mixedbread_token_based-Fragen_mit_Filtern/9_Was sind die Inhalte im Modul IT-Sicherheit im Bachelorstudiengang Elektrotechnik in Hagen.txt\n",
      "Gespeichert: 3-mixedbread_token_based-Fragen_mit_Filtern/10_Wie lange dauern die Klausuren im Bachelorstudiengang Wirtschaftsinformatik in Hagen.txt\n"
     ]
    }
   ],
   "execution_count": 14
  },
  {
   "metadata": {
    "ExecuteTime": {
     "end_time": "2025-03-10T10:15:07.169415Z",
     "start_time": "2025-03-10T10:15:06.730560Z"
    }
   },
   "cell_type": "code",
   "source": "save_questions_and_documents_with_relevance_with_metadata_filtering(\"4-mixedbread_recursive-Fragen_mit_Filtern\", recursive_client, fragen, filters)",
   "id": "8c4bc670f182921f",
   "outputs": [
    {
     "name": "stderr",
     "output_type": "stream",
     "text": [
      "INFO:httpx:HTTP Request: POST http://localhost:6333/collections/mixedbread-ai_deepset-mxbai-embed-de-large-v1_recursive_chunks/points/query \"HTTP/1.1 200 OK\"\n",
      "INFO:httpx:HTTP Request: POST http://localhost:6333/collections/mixedbread-ai_deepset-mxbai-embed-de-large-v1_recursive_chunks/points/query \"HTTP/1.1 200 OK\"\n",
      "INFO:httpx:HTTP Request: POST http://localhost:6333/collections/mixedbread-ai_deepset-mxbai-embed-de-large-v1_recursive_chunks/points/query \"HTTP/1.1 200 OK\"\n",
      "INFO:httpx:HTTP Request: POST http://localhost:6333/collections/mixedbread-ai_deepset-mxbai-embed-de-large-v1_recursive_chunks/points/query \"HTTP/1.1 200 OK\"\n",
      "INFO:httpx:HTTP Request: POST http://localhost:6333/collections/mixedbread-ai_deepset-mxbai-embed-de-large-v1_recursive_chunks/points/query \"HTTP/1.1 200 OK\"\n",
      "INFO:httpx:HTTP Request: POST http://localhost:6333/collections/mixedbread-ai_deepset-mxbai-embed-de-large-v1_recursive_chunks/points/query \"HTTP/1.1 200 OK\"\n"
     ]
    },
    {
     "name": "stdout",
     "output_type": "stream",
     "text": [
      "Gespeichert: 4-mixedbread_recursive-Fragen_mit_Filtern/1_Wann kann ich mich für den Master in Elektrotechnik in Meschede einschreiben.txt\n",
      "Gespeichert: 4-mixedbread_recursive-Fragen_mit_Filtern/2_Welche Literatur ist relevant für das Modul Mathematik im Bachelorstudiengang Elektrotechnik in Soest.txt\n",
      "Gespeichert: 4-mixedbread_recursive-Fragen_mit_Filtern/3_Welche Fachgebiete sind an der FH vertreten.txt\n",
      "Gespeichert: 4-mixedbread_recursive-Fragen_mit_Filtern/4_Ist eine Beurlaubung während des Studiums möglich.txt\n",
      "Gespeichert: 4-mixedbread_recursive-Fragen_mit_Filtern/5_Welche Studienmodelle werden angeboten.txt\n",
      "Gespeichert: 4-mixedbread_recursive-Fragen_mit_Filtern/6_Wie viele Seiten muss ich in meiner Bachelorarbeit in Wirtschaftsinformatik in Hagen schreiben.txt\n"
     ]
    },
    {
     "name": "stderr",
     "output_type": "stream",
     "text": [
      "INFO:httpx:HTTP Request: POST http://localhost:6333/collections/mixedbread-ai_deepset-mxbai-embed-de-large-v1_recursive_chunks/points/query \"HTTP/1.1 200 OK\"\n",
      "INFO:httpx:HTTP Request: POST http://localhost:6333/collections/mixedbread-ai_deepset-mxbai-embed-de-large-v1_recursive_chunks/points/query \"HTTP/1.1 200 OK\"\n",
      "INFO:httpx:HTTP Request: POST http://localhost:6333/collections/mixedbread-ai_deepset-mxbai-embed-de-large-v1_recursive_chunks/points/query \"HTTP/1.1 200 OK\"\n",
      "INFO:httpx:HTTP Request: POST http://localhost:6333/collections/mixedbread-ai_deepset-mxbai-embed-de-large-v1_recursive_chunks/points/query \"HTTP/1.1 200 OK\"\n"
     ]
    },
    {
     "name": "stdout",
     "output_type": "stream",
     "text": [
      "Gespeichert: 4-mixedbread_recursive-Fragen_mit_Filtern/7_Wie sind Portfolioprüfungen im Bachelorstudiengang Elektrotechnik in Soest aufgebaut.txt\n",
      "Gespeichert: 4-mixedbread_recursive-Fragen_mit_Filtern/8_Was muss ich beachten, wenn ich bei einer Prüfung krank bin.txt\n",
      "Gespeichert: 4-mixedbread_recursive-Fragen_mit_Filtern/9_Was sind die Inhalte im Modul IT-Sicherheit im Bachelorstudiengang Elektrotechnik in Hagen.txt\n",
      "Gespeichert: 4-mixedbread_recursive-Fragen_mit_Filtern/10_Wie lange dauern die Klausuren im Bachelorstudiengang Wirtschaftsinformatik in Hagen.txt\n"
     ]
    }
   ],
   "execution_count": 15
  },
  {
   "metadata": {
    "ExecuteTime": {
     "end_time": "2025-03-10T10:15:09.706352Z",
     "start_time": "2025-03-10T10:15:09.539479Z"
    }
   },
   "cell_type": "code",
   "source": [
    "# Importe für LLM und SelfQueryRetriever\n",
    "from langchain_ollama import ChatOllama\n",
    "from langchain.chains.query_constructor.schema import AttributeInfo\n",
    "from langchain.retrievers.self_query.base import SelfQueryRetriever"
   ],
   "id": "4805904e7a5d2d2b",
   "outputs": [],
   "execution_count": 16
  },
  {
   "metadata": {
    "ExecuteTime": {
     "end_time": "2025-03-10T10:15:19.912600Z",
     "start_time": "2025-03-10T10:15:19.873918Z"
    }
   },
   "cell_type": "code",
   "source": [
    "# LLM initialisieren mit ausreichendem Kontextfenster\n",
    "llm = ChatOllama(\n",
    "    model=\"llama3.1:8b\", # llama3-2:3b ist nicht ausreichend. Auch mit dem Modell hier kann es noch zu Problemen kommen, die durch leistungsstärkere LLMs gelöst werden könnten.\n",
    "    temperature=0, # Keine Zufälligkeit\n",
    "    num_ctx=16000 # Kontextfenster \n",
    ")"
   ],
   "id": "ccbd4dc102baa480",
   "outputs": [],
   "execution_count": 19
  },
  {
   "metadata": {
    "ExecuteTime": {
     "end_time": "2025-03-10T10:15:21.328302Z",
     "start_time": "2025-03-10T10:15:21.326092Z"
    }
   },
   "cell_type": "code",
   "source": [
    "docs_description = \"Informationen zum Studium an der Fachhochschule Südwestfalen, den Standorten und Studienmodellen.\"\n",
    "\n",
    "metadata_field_info = [\n",
    "    AttributeInfo(\n",
    "        name=\"standort\",\n",
    "        description=\"Standort des Studiengangs. Einer von ['Alle', 'Iserlohn', 'Hagen', 'Soest', 'Meschede', 'Lüdenscheid']\",\n",
    "        type=\"string\",\n",
    "    ),\n",
    "    AttributeInfo(\n",
    "        name=\"studiengang\",\n",
    "        description=\"Der Name des Studiengangs. Einer von ['Alle', 'Wirtschaftsinformatik', 'Elektrotechnik']\",\n",
    "        type=\"string\",\n",
    "    ),\n",
    "    AttributeInfo(\n",
    "        name=\"abschluss\",\n",
    "        description=\"Der akademische Grad. Einer von ['Alle', 'Bachelor', 'Master']\",\n",
    "        type=\"string\",\n",
    "    ),\n",
    "]"
   ],
   "id": "237684189a207ac6",
   "outputs": [],
   "execution_count": 20
  },
  {
   "metadata": {
    "ExecuteTime": {
     "end_time": "2025-03-10T10:15:23.250074Z",
     "start_time": "2025-03-10T10:15:23.026742Z"
    }
   },
   "cell_type": "code",
   "source": [
    "search_kwargs = {\"k\": 10}\n",
    "token_based_retriever = SelfQueryRetriever.from_llm(\n",
    "    llm=llm,\n",
    "    vectorstore=token_client,\n",
    "    document_contents=docs_description,\n",
    "    metadata_field_info=metadata_field_info,\n",
    "    use_original_query=True,\n",
    "    verbose=True,\n",
    "    search_kwargs=search_kwargs,\n",
    ")"
   ],
   "id": "36885206899d50e2",
   "outputs": [],
   "execution_count": 21
  },
  {
   "metadata": {
    "ExecuteTime": {
     "end_time": "2025-03-10T10:15:25.908322Z",
     "start_time": "2025-03-10T10:15:25.893554Z"
    }
   },
   "cell_type": "code",
   "source": [
    "recursive_retriever = SelfQueryRetriever.from_llm(\n",
    "    llm=llm,\n",
    "    vectorstore=recursive_client,\n",
    "    document_contents=docs_description,\n",
    "    metadata_field_info=metadata_field_info,\n",
    "    use_original_query=True,\n",
    "    verbose=True,\n",
    "    search_kwargs=search_kwargs,\n",
    ")"
   ],
   "id": "4f9a0da596e58086",
   "outputs": [],
   "execution_count": 22
  },
  {
   "metadata": {
    "ExecuteTime": {
     "end_time": "2025-03-10T10:15:29.579811Z",
     "start_time": "2025-03-10T10:15:29.576644Z"
    }
   },
   "cell_type": "code",
   "source": [
    "def save_questions_with_self_query_retriever(output_dir: str, retriever: SelfQueryRetriever, fragen: dict) -> None:\n",
    "    os.makedirs(output_dir, exist_ok=True)\n",
    "\n",
    "    for id, frage in fragen.items():\n",
    "        frage_filename = f\"{id}_{clean_filename(frage)}.txt\"\n",
    "        filepath = os.path.join(output_dir, frage_filename)\n",
    "\n",
    "        try:\n",
    "            found_docs = retriever.invoke(frage)  # SelfQueryRetriever-Aufruf\n",
    "\n",
    "            with open(filepath, \"w\", encoding=\"utf-8\") as file:\n",
    "                file.write(f\"ID: {id}\\n\")\n",
    "                file.write(f\"Frage: {frage}\\n\\n\")\n",
    "\n",
    "                for idx, doc in enumerate(found_docs, 1):\n",
    "                    file.write(f\"Dokument {idx}:\\n\")\n",
    "                    file.write(\"Metadaten:\\n\")\n",
    "                    for key, value in doc.metadata.items():\n",
    "                        file.write(f\"  - {key}: {value}\\n\")\n",
    "\n",
    "                    file.write(\"\\nInhalt:\\n\")\n",
    "                    file.write(f\"{doc.page_content}\\n\\n\")\n",
    "\n",
    "            print(f\"Gespeichert: {filepath}\")\n",
    "\n",
    "        except Exception as e:\n",
    "            print(f\"FEHLER: {e}\")\n",
    "            logging.error(f\"Fehler bei Frage {id}: {e}\")"
   ],
   "id": "cc9b6d6b535b4244",
   "outputs": [],
   "execution_count": 23
  },
  {
   "metadata": {
    "ExecuteTime": {
     "end_time": "2025-03-10T10:17:02.482196Z",
     "start_time": "2025-03-10T10:15:36.640587Z"
    }
   },
   "cell_type": "code",
   "source": "save_questions_with_self_query_retriever(\"5-mixedbread_token_based-Fragen_mit_SelfQueryRetriever\", token_based_retriever, fragen)",
   "id": "2a9f9219770cf5d2",
   "outputs": [
    {
     "name": "stderr",
     "output_type": "stream",
     "text": [
      "INFO:httpx:HTTP Request: POST http://127.0.0.1:11434/api/chat \"HTTP/1.1 200 OK\"\n",
      "INFO:langchain.retrievers.self_query.base:Generated Query: query='Master in Elektrotechnik' filter=Operation(operator=<Operator.AND: 'and'>, arguments=[Comparison(comparator=<Comparator.EQ: 'eq'>, attribute='studiengang', value='Elektrotechnik'), Comparison(comparator=<Comparator.EQ: 'eq'>, attribute='abschluss', value='Master'), Comparison(comparator=<Comparator.EQ: 'eq'>, attribute='standort', value='Meschede')]) limit=None\n",
      "INFO:httpx:HTTP Request: POST http://localhost:6333/collections/mixedbread-ai_deepset-mxbai-embed-de-large-v1_token_based_chunks/points/query \"HTTP/1.1 200 OK\"\n"
     ]
    },
    {
     "name": "stdout",
     "output_type": "stream",
     "text": [
      "Gespeichert: 5-mixedbread_token_based-Fragen_mit_SelfQueryRetriever/1_Wann kann ich mich für den Master in Elektrotechnik in Meschede einschreiben.txt\n"
     ]
    },
    {
     "name": "stderr",
     "output_type": "stream",
     "text": [
      "INFO:httpx:HTTP Request: POST http://127.0.0.1:11434/api/chat \"HTTP/1.1 200 OK\"\n",
      "INFO:langchain.retrievers.self_query.base:Generated Query: query='Mathematik im Bachelorstudiengang Elektrotechnik' filter=Operation(operator=<Operator.AND: 'and'>, arguments=[Comparison(comparator=<Comparator.EQ: 'eq'>, attribute='studiengang', value='Elektrotechnik'), Comparison(comparator=<Comparator.EQ: 'eq'>, attribute='abschluss', value='Bachelor'), Comparison(comparator=<Comparator.EQ: 'eq'>, attribute='standort', value='Soest')]) limit=None\n",
      "INFO:httpx:HTTP Request: POST http://localhost:6333/collections/mixedbread-ai_deepset-mxbai-embed-de-large-v1_token_based_chunks/points/query \"HTTP/1.1 200 OK\"\n"
     ]
    },
    {
     "name": "stdout",
     "output_type": "stream",
     "text": [
      "Gespeichert: 5-mixedbread_token_based-Fragen_mit_SelfQueryRetriever/2_Welche Literatur ist relevant für das Modul Mathematik im Bachelorstudiengang Elektrotechnik in Soest.txt\n"
     ]
    },
    {
     "name": "stderr",
     "output_type": "stream",
     "text": [
      "INFO:httpx:HTTP Request: POST http://127.0.0.1:11434/api/chat \"HTTP/1.1 200 OK\"\n",
      "INFO:langchain.retrievers.self_query.base:Generated Query: query='Fachgebiete an der FH' filter=None limit=None\n",
      "INFO:httpx:HTTP Request: POST http://localhost:6333/collections/mixedbread-ai_deepset-mxbai-embed-de-large-v1_token_based_chunks/points/query \"HTTP/1.1 200 OK\"\n"
     ]
    },
    {
     "name": "stdout",
     "output_type": "stream",
     "text": [
      "Gespeichert: 5-mixedbread_token_based-Fragen_mit_SelfQueryRetriever/3_Welche Fachgebiete sind an der FH vertreten.txt\n"
     ]
    },
    {
     "name": "stderr",
     "output_type": "stream",
     "text": [
      "INFO:httpx:HTTP Request: POST http://127.0.0.1:11434/api/chat \"HTTP/1.1 200 OK\"\n",
      "INFO:langchain.retrievers.self_query.base:Generated Query: query='Beurlaubung während des Studiums' filter=None limit=None\n",
      "INFO:httpx:HTTP Request: POST http://localhost:6333/collections/mixedbread-ai_deepset-mxbai-embed-de-large-v1_token_based_chunks/points/query \"HTTP/1.1 200 OK\"\n"
     ]
    },
    {
     "name": "stdout",
     "output_type": "stream",
     "text": [
      "Gespeichert: 5-mixedbread_token_based-Fragen_mit_SelfQueryRetriever/4_Ist eine Beurlaubung während des Studiums möglich.txt\n"
     ]
    },
    {
     "name": "stderr",
     "output_type": "stream",
     "text": [
      "INFO:httpx:HTTP Request: POST http://127.0.0.1:11434/api/chat \"HTTP/1.1 200 OK\"\n",
      "INFO:langchain.retrievers.self_query.base:Generated Query: query='Studienmodelle' filter=None limit=None\n",
      "INFO:httpx:HTTP Request: POST http://localhost:6333/collections/mixedbread-ai_deepset-mxbai-embed-de-large-v1_token_based_chunks/points/query \"HTTP/1.1 200 OK\"\n"
     ]
    },
    {
     "name": "stdout",
     "output_type": "stream",
     "text": [
      "Gespeichert: 5-mixedbread_token_based-Fragen_mit_SelfQueryRetriever/5_Welche Studienmodelle werden angeboten.txt\n"
     ]
    },
    {
     "name": "stderr",
     "output_type": "stream",
     "text": [
      "INFO:httpx:HTTP Request: POST http://127.0.0.1:11434/api/chat \"HTTP/1.1 200 OK\"\n",
      "INFO:langchain.retrievers.self_query.base:Generated Query: query='wie viele Seiten muss ich in meiner bachelorarbeit in wirtschaftsinformatik in hagen schreiben' filter=Operation(operator=<Operator.AND: 'and'>, arguments=[Comparison(comparator=<Comparator.EQ: 'eq'>, attribute='studiengang', value='Wirtschaftsinformatik'), Comparison(comparator=<Comparator.EQ: 'eq'>, attribute='abschluss', value='Bachelor'), Comparison(comparator=<Comparator.EQ: 'eq'>, attribute='standort', value='Hagen')]) limit=None\n",
      "INFO:httpx:HTTP Request: POST http://localhost:6333/collections/mixedbread-ai_deepset-mxbai-embed-de-large-v1_token_based_chunks/points/query \"HTTP/1.1 200 OK\"\n"
     ]
    },
    {
     "name": "stdout",
     "output_type": "stream",
     "text": [
      "Gespeichert: 5-mixedbread_token_based-Fragen_mit_SelfQueryRetriever/6_Wie viele Seiten muss ich in meiner Bachelorarbeit in Wirtschaftsinformatik in Hagen schreiben.txt\n"
     ]
    },
    {
     "name": "stderr",
     "output_type": "stream",
     "text": [
      "INFO:httpx:HTTP Request: POST http://127.0.0.1:11434/api/chat \"HTTP/1.1 200 OK\"\n",
      "INFO:langchain.retrievers.self_query.base:Generated Query: query='Bachelorstudiengang Elektrotechnik in Soest' filter=Operation(operator=<Operator.AND: 'and'>, arguments=[Comparison(comparator=<Comparator.EQ: 'eq'>, attribute='studiengang', value='Elektrotechnik'), Comparison(comparator=<Comparator.EQ: 'eq'>, attribute='abschluss', value='Bachelor'), Comparison(comparator=<Comparator.EQ: 'eq'>, attribute='standort', value='Soest')]) limit=None\n",
      "INFO:httpx:HTTP Request: POST http://localhost:6333/collections/mixedbread-ai_deepset-mxbai-embed-de-large-v1_token_based_chunks/points/query \"HTTP/1.1 200 OK\"\n"
     ]
    },
    {
     "name": "stdout",
     "output_type": "stream",
     "text": [
      "Gespeichert: 5-mixedbread_token_based-Fragen_mit_SelfQueryRetriever/7_Wie sind Portfolioprüfungen im Bachelorstudiengang Elektrotechnik in Soest aufgebaut.txt\n"
     ]
    },
    {
     "name": "stderr",
     "output_type": "stream",
     "text": [
      "INFO:httpx:HTTP Request: POST http://127.0.0.1:11434/api/chat \"HTTP/1.1 200 OK\"\n",
      "INFO:langchain.retrievers.self_query.base:Generated Query: query='krank bei Prüfung' filter=None limit=None\n",
      "INFO:httpx:HTTP Request: POST http://localhost:6333/collections/mixedbread-ai_deepset-mxbai-embed-de-large-v1_token_based_chunks/points/query \"HTTP/1.1 200 OK\"\n"
     ]
    },
    {
     "name": "stdout",
     "output_type": "stream",
     "text": [
      "Gespeichert: 5-mixedbread_token_based-Fragen_mit_SelfQueryRetriever/8_Was muss ich beachten, wenn ich bei einer Prüfung krank bin.txt\n"
     ]
    },
    {
     "name": "stderr",
     "output_type": "stream",
     "text": [
      "INFO:httpx:HTTP Request: POST http://127.0.0.1:11434/api/chat \"HTTP/1.1 200 OK\"\n",
      "INFO:langchain.retrievers.self_query.base:Generated Query: query='Modul IT-Sicherheit' filter=Operation(operator=<Operator.AND: 'and'>, arguments=[Comparison(comparator=<Comparator.EQ: 'eq'>, attribute='studiengang', value='Elektrotechnik'), Comparison(comparator=<Comparator.EQ: 'eq'>, attribute='abschluss', value='Bachelor'), Comparison(comparator=<Comparator.EQ: 'eq'>, attribute='standort', value='Hagen')]) limit=None\n",
      "INFO:httpx:HTTP Request: POST http://localhost:6333/collections/mixedbread-ai_deepset-mxbai-embed-de-large-v1_token_based_chunks/points/query \"HTTP/1.1 200 OK\"\n"
     ]
    },
    {
     "name": "stdout",
     "output_type": "stream",
     "text": [
      "Gespeichert: 5-mixedbread_token_based-Fragen_mit_SelfQueryRetriever/9_Was sind die Inhalte im Modul IT-Sicherheit im Bachelorstudiengang Elektrotechnik in Hagen.txt\n"
     ]
    },
    {
     "name": "stderr",
     "output_type": "stream",
     "text": [
      "INFO:httpx:HTTP Request: POST http://127.0.0.1:11434/api/chat \"HTTP/1.1 200 OK\"\n",
      "INFO:langchain.retrievers.self_query.base:Generated Query: query='Bachelorstudiengang Wirtschaftsinformatik in Hagen' filter=Operation(operator=<Operator.AND: 'and'>, arguments=[Comparison(comparator=<Comparator.EQ: 'eq'>, attribute='abschluss', value='Bachelor'), Comparison(comparator=<Comparator.EQ: 'eq'>, attribute='studiengang', value='Wirtschaftsinformatik'), Comparison(comparator=<Comparator.EQ: 'eq'>, attribute='standort', value='Hagen')]) limit=None\n",
      "INFO:httpx:HTTP Request: POST http://localhost:6333/collections/mixedbread-ai_deepset-mxbai-embed-de-large-v1_token_based_chunks/points/query \"HTTP/1.1 200 OK\"\n"
     ]
    },
    {
     "name": "stdout",
     "output_type": "stream",
     "text": [
      "Gespeichert: 5-mixedbread_token_based-Fragen_mit_SelfQueryRetriever/10_Wie lange dauern die Klausuren im Bachelorstudiengang Wirtschaftsinformatik in Hagen.txt\n"
     ]
    }
   ],
   "execution_count": 24
  },
  {
   "metadata": {
    "ExecuteTime": {
     "end_time": "2025-03-10T10:18:27.738350Z",
     "start_time": "2025-03-10T10:17:08.391811Z"
    }
   },
   "cell_type": "code",
   "source": "save_questions_with_self_query_retriever(\"6-mixedbread_recursive-Fragen_mit_SelfQueryRetriever\", recursive_retriever, fragen)",
   "id": "3e28c40c86f853f3",
   "outputs": [
    {
     "name": "stderr",
     "output_type": "stream",
     "text": [
      "INFO:httpx:HTTP Request: POST http://127.0.0.1:11434/api/chat \"HTTP/1.1 200 OK\"\n",
      "INFO:langchain.retrievers.self_query.base:Generated Query: query='Master in Elektrotechnik' filter=Operation(operator=<Operator.AND: 'and'>, arguments=[Comparison(comparator=<Comparator.EQ: 'eq'>, attribute='studiengang', value='Elektrotechnik'), Comparison(comparator=<Comparator.EQ: 'eq'>, attribute='abschluss', value='Master'), Comparison(comparator=<Comparator.EQ: 'eq'>, attribute='standort', value='Meschede')]) limit=None\n",
      "INFO:httpx:HTTP Request: POST http://localhost:6333/collections/mixedbread-ai_deepset-mxbai-embed-de-large-v1_recursive_chunks/points/query \"HTTP/1.1 200 OK\"\n"
     ]
    },
    {
     "name": "stdout",
     "output_type": "stream",
     "text": [
      "Gespeichert: 6-mixedbread_recursive-Fragen_mit_SelfQueryRetriever/1_Wann kann ich mich für den Master in Elektrotechnik in Meschede einschreiben.txt\n"
     ]
    },
    {
     "name": "stderr",
     "output_type": "stream",
     "text": [
      "INFO:httpx:HTTP Request: POST http://127.0.0.1:11434/api/chat \"HTTP/1.1 200 OK\"\n",
      "INFO:langchain.retrievers.self_query.base:Generated Query: query='Mathematik im Bachelorstudiengang Elektrotechnik' filter=Operation(operator=<Operator.AND: 'and'>, arguments=[Comparison(comparator=<Comparator.EQ: 'eq'>, attribute='studiengang', value='Elektrotechnik'), Comparison(comparator=<Comparator.EQ: 'eq'>, attribute='abschluss', value='Bachelor'), Comparison(comparator=<Comparator.EQ: 'eq'>, attribute='standort', value='Soest')]) limit=None\n",
      "INFO:httpx:HTTP Request: POST http://localhost:6333/collections/mixedbread-ai_deepset-mxbai-embed-de-large-v1_recursive_chunks/points/query \"HTTP/1.1 200 OK\"\n"
     ]
    },
    {
     "name": "stdout",
     "output_type": "stream",
     "text": [
      "Gespeichert: 6-mixedbread_recursive-Fragen_mit_SelfQueryRetriever/2_Welche Literatur ist relevant für das Modul Mathematik im Bachelorstudiengang Elektrotechnik in Soest.txt\n"
     ]
    },
    {
     "name": "stderr",
     "output_type": "stream",
     "text": [
      "INFO:httpx:HTTP Request: POST http://127.0.0.1:11434/api/chat \"HTTP/1.1 200 OK\"\n",
      "INFO:langchain.retrievers.self_query.base:Generated Query: query='Fachgebiete an der FH' filter=None limit=None\n",
      "INFO:httpx:HTTP Request: POST http://localhost:6333/collections/mixedbread-ai_deepset-mxbai-embed-de-large-v1_recursive_chunks/points/query \"HTTP/1.1 200 OK\"\n"
     ]
    },
    {
     "name": "stdout",
     "output_type": "stream",
     "text": [
      "Gespeichert: 6-mixedbread_recursive-Fragen_mit_SelfQueryRetriever/3_Welche Fachgebiete sind an der FH vertreten.txt\n"
     ]
    },
    {
     "name": "stderr",
     "output_type": "stream",
     "text": [
      "INFO:httpx:HTTP Request: POST http://127.0.0.1:11434/api/chat \"HTTP/1.1 200 OK\"\n",
      "INFO:langchain.retrievers.self_query.base:Generated Query: query='Beurlaubung während des Studiums' filter=None limit=None\n",
      "INFO:httpx:HTTP Request: POST http://localhost:6333/collections/mixedbread-ai_deepset-mxbai-embed-de-large-v1_recursive_chunks/points/query \"HTTP/1.1 200 OK\"\n"
     ]
    },
    {
     "name": "stdout",
     "output_type": "stream",
     "text": [
      "Gespeichert: 6-mixedbread_recursive-Fragen_mit_SelfQueryRetriever/4_Ist eine Beurlaubung während des Studiums möglich.txt\n"
     ]
    },
    {
     "name": "stderr",
     "output_type": "stream",
     "text": [
      "INFO:httpx:HTTP Request: POST http://127.0.0.1:11434/api/chat \"HTTP/1.1 200 OK\"\n",
      "INFO:langchain.retrievers.self_query.base:Generated Query: query='Studienmodelle' filter=None limit=None\n",
      "INFO:httpx:HTTP Request: POST http://localhost:6333/collections/mixedbread-ai_deepset-mxbai-embed-de-large-v1_recursive_chunks/points/query \"HTTP/1.1 200 OK\"\n"
     ]
    },
    {
     "name": "stdout",
     "output_type": "stream",
     "text": [
      "Gespeichert: 6-mixedbread_recursive-Fragen_mit_SelfQueryRetriever/5_Welche Studienmodelle werden angeboten.txt\n"
     ]
    },
    {
     "name": "stderr",
     "output_type": "stream",
     "text": [
      "INFO:httpx:HTTP Request: POST http://127.0.0.1:11434/api/chat \"HTTP/1.1 200 OK\"\n",
      "INFO:langchain.retrievers.self_query.base:Generated Query: query='wie viele Seiten muss ich in meiner bachelorarbeit in wirtschaftsinformatik in hagen schreiben' filter=Operation(operator=<Operator.AND: 'and'>, arguments=[Comparison(comparator=<Comparator.EQ: 'eq'>, attribute='studiengang', value='Wirtschaftsinformatik'), Comparison(comparator=<Comparator.EQ: 'eq'>, attribute='abschluss', value='Bachelor'), Comparison(comparator=<Comparator.EQ: 'eq'>, attribute='standort', value='Hagen')]) limit=None\n",
      "INFO:httpx:HTTP Request: POST http://localhost:6333/collections/mixedbread-ai_deepset-mxbai-embed-de-large-v1_recursive_chunks/points/query \"HTTP/1.1 200 OK\"\n"
     ]
    },
    {
     "name": "stdout",
     "output_type": "stream",
     "text": [
      "Gespeichert: 6-mixedbread_recursive-Fragen_mit_SelfQueryRetriever/6_Wie viele Seiten muss ich in meiner Bachelorarbeit in Wirtschaftsinformatik in Hagen schreiben.txt\n"
     ]
    },
    {
     "name": "stderr",
     "output_type": "stream",
     "text": [
      "INFO:httpx:HTTP Request: POST http://127.0.0.1:11434/api/chat \"HTTP/1.1 200 OK\"\n",
      "INFO:langchain.retrievers.self_query.base:Generated Query: query='Bachelorstudiengang Elektrotechnik in Soest' filter=Operation(operator=<Operator.AND: 'and'>, arguments=[Comparison(comparator=<Comparator.EQ: 'eq'>, attribute='studiengang', value='Elektrotechnik'), Comparison(comparator=<Comparator.EQ: 'eq'>, attribute='abschluss', value='Bachelor'), Comparison(comparator=<Comparator.EQ: 'eq'>, attribute='standort', value='Soest')]) limit=None\n",
      "INFO:httpx:HTTP Request: POST http://localhost:6333/collections/mixedbread-ai_deepset-mxbai-embed-de-large-v1_recursive_chunks/points/query \"HTTP/1.1 200 OK\"\n"
     ]
    },
    {
     "name": "stdout",
     "output_type": "stream",
     "text": [
      "Gespeichert: 6-mixedbread_recursive-Fragen_mit_SelfQueryRetriever/7_Wie sind Portfolioprüfungen im Bachelorstudiengang Elektrotechnik in Soest aufgebaut.txt\n"
     ]
    },
    {
     "name": "stderr",
     "output_type": "stream",
     "text": [
      "INFO:httpx:HTTP Request: POST http://127.0.0.1:11434/api/chat \"HTTP/1.1 200 OK\"\n",
      "INFO:langchain.retrievers.self_query.base:Generated Query: query='krank bei Prüfung' filter=None limit=None\n",
      "INFO:httpx:HTTP Request: POST http://localhost:6333/collections/mixedbread-ai_deepset-mxbai-embed-de-large-v1_recursive_chunks/points/query \"HTTP/1.1 200 OK\"\n"
     ]
    },
    {
     "name": "stdout",
     "output_type": "stream",
     "text": [
      "Gespeichert: 6-mixedbread_recursive-Fragen_mit_SelfQueryRetriever/8_Was muss ich beachten, wenn ich bei einer Prüfung krank bin.txt\n"
     ]
    },
    {
     "name": "stderr",
     "output_type": "stream",
     "text": [
      "INFO:httpx:HTTP Request: POST http://127.0.0.1:11434/api/chat \"HTTP/1.1 200 OK\"\n",
      "INFO:langchain.retrievers.self_query.base:Generated Query: query='Modul IT-Sicherheit' filter=Operation(operator=<Operator.AND: 'and'>, arguments=[Comparison(comparator=<Comparator.EQ: 'eq'>, attribute='studiengang', value='Elektrotechnik'), Comparison(comparator=<Comparator.EQ: 'eq'>, attribute='abschluss', value='Bachelor'), Comparison(comparator=<Comparator.EQ: 'eq'>, attribute='standort', value='Hagen')]) limit=None\n",
      "INFO:httpx:HTTP Request: POST http://localhost:6333/collections/mixedbread-ai_deepset-mxbai-embed-de-large-v1_recursive_chunks/points/query \"HTTP/1.1 200 OK\"\n"
     ]
    },
    {
     "name": "stdout",
     "output_type": "stream",
     "text": [
      "Gespeichert: 6-mixedbread_recursive-Fragen_mit_SelfQueryRetriever/9_Was sind die Inhalte im Modul IT-Sicherheit im Bachelorstudiengang Elektrotechnik in Hagen.txt\n"
     ]
    },
    {
     "name": "stderr",
     "output_type": "stream",
     "text": [
      "INFO:httpx:HTTP Request: POST http://127.0.0.1:11434/api/chat \"HTTP/1.1 200 OK\"\n",
      "INFO:langchain.retrievers.self_query.base:Generated Query: query='Bachelorstudiengang Wirtschaftsinformatik in Hagen' filter=Operation(operator=<Operator.AND: 'and'>, arguments=[Comparison(comparator=<Comparator.EQ: 'eq'>, attribute='abschluss', value='Bachelor'), Comparison(comparator=<Comparator.EQ: 'eq'>, attribute='studiengang', value='Wirtschaftsinformatik'), Comparison(comparator=<Comparator.EQ: 'eq'>, attribute='standort', value='Hagen')]) limit=None\n",
      "INFO:httpx:HTTP Request: POST http://localhost:6333/collections/mixedbread-ai_deepset-mxbai-embed-de-large-v1_recursive_chunks/points/query \"HTTP/1.1 200 OK\"\n"
     ]
    },
    {
     "name": "stdout",
     "output_type": "stream",
     "text": [
      "Gespeichert: 6-mixedbread_recursive-Fragen_mit_SelfQueryRetriever/10_Wie lange dauern die Klausuren im Bachelorstudiengang Wirtschaftsinformatik in Hagen.txt\n"
     ]
    }
   ],
   "execution_count": 25
  }
 ],
 "metadata": {
  "kernelspec": {
   "display_name": "Python 3",
   "language": "python",
   "name": "python3"
  },
  "language_info": {
   "codemirror_mode": {
    "name": "ipython",
    "version": 2
   },
   "file_extension": ".py",
   "mimetype": "text/x-python",
   "name": "python",
   "nbconvert_exporter": "python",
   "pygments_lexer": "ipython2",
   "version": "2.7.6"
  }
 },
 "nbformat": 4,
 "nbformat_minor": 5
}
