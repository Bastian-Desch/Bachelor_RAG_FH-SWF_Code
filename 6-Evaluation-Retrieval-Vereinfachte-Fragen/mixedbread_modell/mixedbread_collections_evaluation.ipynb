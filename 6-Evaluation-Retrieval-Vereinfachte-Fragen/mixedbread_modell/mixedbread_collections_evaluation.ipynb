{
 "cells": [
  {
   "cell_type": "code",
   "execution_count": 1,
   "id": "initial_id",
   "metadata": {
    "ExecuteTime": {
     "end_time": "2025-03-21T13:35:21.786278Z",
     "start_time": "2025-03-21T13:35:17.292657Z"
    },
    "collapsed": true
   },
   "outputs": [],
   "source": [
    "from enums import CollectionNames, EmbeddingModels\n",
    "from qdrant_client.models import Filter, FieldCondition, MatchValue, models\n",
    "\n",
    "from retrieval_util import (\n",
    "    get_qdrant_client,\n",
    "    get_embeddings_function,\n",
    "    retrieve_run_dict_with_documents_with_scores,\n",
    "    create_llm_for_self_query_retriever\n",
    ")\n",
    "\n",
    "import os\n",
    "import json\n",
    "import logging\n",
    "from ranx import Qrels, Run, evaluate, compare\n",
    "\n",
    "os.environ[\n",
    "    \"TOKENIZERS_PARALLELISM\"] = \"false\"  # Verhindert Fehler beim Erzeugen von Embeddings (Tritt sporadisch auf, konnte ich nicht gezielt reproduzieren)\n",
    "logging.basicConfig(level=logging.INFO)"
   ]
  },
  {
   "metadata": {},
   "cell_type": "markdown",
   "source": "**Dieses Notebook liefert die Ergebnisse, die auch in der Arbeit für das mixedbread-ai/deepset-mxbai-embed-de-large-v1 aufgegriffen und bewertet werden.**",
   "id": "874fbfb9bea52a24"
  },
  {
   "cell_type": "markdown",
   "id": "7d7fe7a28c4da9ef",
   "metadata": {},
   "source": [
    "**use_original_query=False** gesetzt? -> In retrieval_util.py setzen! Siehe kommentar im unteren Feld\n",
    "\n",
    "Nach Änderung muss der Jupyter Server neu gestartet werden, damit die Änderungen wirksam werden.\n",
    "\n",
    "**Ergebnisse wurden @5 und @10 bestimmt. Es werden nur Ergebnisse @10 betrachtet, da das der Maßstab im MTEB ist.**\n"
   ]
  },
  {
   "cell_type": "code",
   "execution_count": null,
   "id": "8b578b9a6dfb5565",
   "metadata": {
    "ExecuteTime": {
     "end_time": "2025-03-21T13:35:23.513047Z",
     "start_time": "2025-03-21T13:35:23.508767Z"
    }
   },
   "outputs": [
    {
     "data": {
      "text/plain": [
       "'\\nRichtig vergleichbar ist dieser Ansatz nicht, da die Fragen nicht identisch sind.\\nEbenso werden die vereinfachten Fragen nicht mit den selbst formulierten übereinstimmen, da sie durch das LLM generiert werden.\\n\\nHiermit soll dennoch gezeigt werden, wie dieser Ansatz performt.\\nFür ein reales System eignet sich der SelfQueryRetriever potenziell nicht.\\nWenn in einem erweiterten System weitere Felder für das Filtern (z. B. Studienmodelle) hinzugefügt werden,\\nmüssten auch diese in der Fragestellung eingebunden werden. Die Fragen würden immer länger und komplexer werden.\\nDas ist aber ein Aspekt der Gebrauchstauglichkeit und nicht der Funktionsweise/Performance des Systems.\\n\\nDaher wird der Ansatz zwar mit evaluiert, in der Arbeit schließe ich diesen jedoch aufgrund der genannten Aspekte aus.\\n'"
      ]
     },
     "execution_count": 2,
     "metadata": {},
     "output_type": "execute_result"
    }
   ],
   "source": [
    "# in der retrieval_util.py muss der Parameter use_original_query=False gesetzt werden (in der funktion für den SelfQueryRetriever)\n",
    "# Behilfslösung, da ich nicht die Signatur der Funktion umschreiben will, sonst muss das beim Aufruf in den vorherigen Evaluationen auch wieder angepasst werden\n",
    "SELF_QUERY_RETRIEVER_FRAGEN = {\n",
    "    1: \"Wann kann ich mich für den Master in Elektrotechnik in Meschede einschreiben?\",\n",
    "    2: \"Welche Literatur ist relevant für das Modul Mathematik im Bachelorstudiengang Elektrotechnik in Soest?\",\n",
    "    3: \"Welche Fachgebiete sind an der FH vertreten?\",\n",
    "    4: \"Ist eine Beurlaubung während des Studiums möglich?\",\n",
    "    5: \"Welche Studienmodelle werden angeboten?\",\n",
    "    6: \"Wie viele Seiten muss ich in meiner Bachelorarbeit in Wirtschaftsinformatik in Hagen schreiben?\",\n",
    "    7: \"Wie sind Portfolioprüfungen im Bachelorstudiengang Elektrotechnik in Soest aufgebaut?\",\n",
    "    8: \"Was muss ich beachten, wenn ich bei einer Prüfung krank bin?\",\n",
    "    9: \"Was sind die Inhalte im Modul IT-Sicherheit im Bachelorstudiengang Elektrotechnik in Hagen?\",\n",
    "    10: \"Wie lange dauern die Klausuren im Bachelorstudiengang Wirtschaftsinformatik in Hagen?\"\n",
    "}\n",
    "'''\n",
    "Richtig vergleichbar ist dieser Ansatz nicht, da die Fragen nicht identisch sind.\n",
    "Ebenso werden die vereinfachten Fragen nicht mit den selbst formulierten übereinstimmen, da sie durch das LLM generiert werden.\n",
    "\n",
    "Hiermit soll dennoch gezeigt werden, wie dieser Ansatz performt.\n",
    "Für ein reales System eignet sich der SelfQueryRetriever potenziell nicht.\n",
    "Wenn in einem erweiterten System weitere Felder für das Filtern (z. B. Studienmodelle) hinzugefügt werden,\n",
    "müssten auch diese in der Fragestellung eingebunden werden. Die Fragen würden immer länger und komplexer werden.\n",
    "Dieser Aspekt ist jedoch nicht Teil der Arbeit.\n",
    "\n",
    "Daher wird der Ansatz zwar mit evaluiert, in der Arbeit schließe ich diesen jedoch begründet aus.\n",
    "'''"
   ]
  },
  {
   "cell_type": "markdown",
   "id": "89ae4b5df768a233",
   "metadata": {},
   "source": [
    "Um die Kennzahlen @10 und @5 zu berechnen, muss die Konstante MAX_DOCUMENTS auf den entsprechenden Wert gesetzt werden.\n",
    "\n",
    "Außerdem muss der BASE_PATH angepasst werden, um die Ergebnisse zu speichern.\n",
    "\n",
    "Zuletzt muss bei den Metriken @5 oder @10 gesetzt werden."
   ]
  },
  {
   "cell_type": "code",
   "execution_count": 3,
   "id": "7b6a9223b10570aa",
   "metadata": {
    "ExecuteTime": {
     "end_time": "2025-03-21T13:35:26.771320Z",
     "start_time": "2025-03-21T13:35:26.733818Z"
    }
   },
   "outputs": [],
   "source": [
    "# Konstanten\n",
    "MAX_DOCUMENTS = 10\n",
    "BASE_PATH = \"./mixedbread_retrieval_results_AT_10\"\n",
    "QDRANT_URL = \"http://localhost:6333\"\n",
    "LLM = create_llm_for_self_query_retriever()\n",
    "FRAGEN = {\n",
    "    1: \"Wann kann ich mich einschreiben?\",\n",
    "    2: \"Welche Literatur ist relevant für das Modul Mathematik?\",\n",
    "    3: \"Welche Fachgebiete sind an der FH vertreten?\",\n",
    "    4: \"Ist eine Beurlaubung während des Studiums möglich?\",\n",
    "    5: \"Welche Studienmodelle werden angeboten?\",\n",
    "    6: \"Wie viele Seiten muss ich in meiner Bachelorarbeit schreiben?\",\n",
    "    7: \"Wie sind Portfolioprüfungen aufgebaut?\",\n",
    "    8: \"Was muss ich beachten, wenn ich bei einer Prüfung krank bin?\",\n",
    "    9: \"Was sind die Inhalte im Modul IT-Sicherheit?\",\n",
    "    10: \"Wie lange dauern die Klausuren?\"\n",
    "}\n",
    "METRICS = [\"ndcg@10\", \"mrr@10\", \"map@10\", \"precision@10\", \"recall@10\", \"hits@10\", \"hit_rate@10\"]\n",
    "\n",
    "\n",
    "# Alle relevanten Filter für die Fragen\n",
    "def create_field_condition(field, value):\n",
    "    return FieldCondition(\n",
    "        key=f\"metadata.{field}\",\n",
    "        match=MatchValue(value=value)\n",
    "    )\n",
    "\n",
    "\n",
    "FILTERS = {\n",
    "    1: Filter(must=[\n",
    "        create_field_condition(\"studiengang\", \"Elektrotechnik\"),\n",
    "        create_field_condition(\"standort\", \"Meschede\"),\n",
    "        create_field_condition(\"abschluss\", \"Master\")\n",
    "    ]),\n",
    "    2: Filter(must=[\n",
    "        create_field_condition(\"standort\", \"Soest\"),\n",
    "        create_field_condition(\"studiengang\", \"Elektrotechnik\"),\n",
    "        create_field_condition(\"abschluss\", \"Bachelor\")\n",
    "    ]),\n",
    "    3: Filter(must=[\n",
    "        create_field_condition(\"studiengang\", \"Alle\"),\n",
    "        create_field_condition(\"standort\", \"Alle\"),\n",
    "        create_field_condition(\"abschluss\", \"Alle\")\n",
    "    ]),\n",
    "    4: Filter(must=[\n",
    "        create_field_condition(\"studiengang\", \"Alle\"),\n",
    "        create_field_condition(\"standort\", \"Alle\"),\n",
    "        create_field_condition(\"abschluss\", \"Alle\")\n",
    "    ]),\n",
    "    5: Filter(must=[\n",
    "        create_field_condition(\"studiengang\", \"Alle\"),\n",
    "        create_field_condition(\"standort\", \"Alle\"),\n",
    "        create_field_condition(\"abschluss\", \"Alle\")\n",
    "    ]),\n",
    "    6: Filter(must=[\n",
    "        create_field_condition(\"studiengang\", \"Wirtschaftsinformatik\"),\n",
    "        create_field_condition(\"standort\", \"Hagen\"),\n",
    "        create_field_condition(\"abschluss\", \"Bachelor\")\n",
    "    ]),\n",
    "    7: Filter(must=[\n",
    "        create_field_condition(\"studiengang\", \"Elektrotechnik\"),\n",
    "        create_field_condition(\"standort\", \"Soest\"),\n",
    "        create_field_condition(\"abschluss\", \"Bachelor\")\n",
    "    ]),\n",
    "    8: Filter(must=[\n",
    "        create_field_condition(\"studiengang\", \"Alle\"),\n",
    "        create_field_condition(\"standort\", \"Alle\"),\n",
    "        create_field_condition(\"abschluss\", \"Alle\")\n",
    "    ]),\n",
    "    9: Filter(must=[\n",
    "        create_field_condition(\"studiengang\", \"Elektrotechnik\"),\n",
    "        create_field_condition(\"standort\", \"Hagen\"),\n",
    "        create_field_condition(\"abschluss\", \"Bachelor\")\n",
    "    ]),\n",
    "    10: Filter(must=[\n",
    "        create_field_condition(\"studiengang\", \"Wirtschaftsinformatik\"),\n",
    "        create_field_condition(\"standort\", \"Hagen\"),\n",
    "        create_field_condition(\"abschluss\", \"Bachelor\")\n",
    "    ]),\n",
    "}"
   ]
  },
  {
   "cell_type": "code",
   "execution_count": 4,
   "id": "9d33c83644d78d22",
   "metadata": {
    "ExecuteTime": {
     "end_time": "2025-03-21T13:35:31.055585Z",
     "start_time": "2025-03-21T13:35:31.053198Z"
    }
   },
   "outputs": [
    {
     "name": "stdout",
     "output_type": "stream",
     "text": [
      "{1: Filter(should=None, min_should=None, must=[FieldCondition(key='metadata.studiengang', match=MatchValue(value='Elektrotechnik'), range=None, geo_bounding_box=None, geo_radius=None, geo_polygon=None, values_count=None), FieldCondition(key='metadata.standort', match=MatchValue(value='Meschede'), range=None, geo_bounding_box=None, geo_radius=None, geo_polygon=None, values_count=None), FieldCondition(key='metadata.abschluss', match=MatchValue(value='Master'), range=None, geo_bounding_box=None, geo_radius=None, geo_polygon=None, values_count=None)], must_not=None), 2: Filter(should=None, min_should=None, must=[FieldCondition(key='metadata.standort', match=MatchValue(value='Soest'), range=None, geo_bounding_box=None, geo_radius=None, geo_polygon=None, values_count=None), FieldCondition(key='metadata.studiengang', match=MatchValue(value='Elektrotechnik'), range=None, geo_bounding_box=None, geo_radius=None, geo_polygon=None, values_count=None), FieldCondition(key='metadata.abschluss', match=MatchValue(value='Bachelor'), range=None, geo_bounding_box=None, geo_radius=None, geo_polygon=None, values_count=None)], must_not=None), 3: Filter(should=None, min_should=None, must=[FieldCondition(key='metadata.studiengang', match=MatchValue(value='Alle'), range=None, geo_bounding_box=None, geo_radius=None, geo_polygon=None, values_count=None), FieldCondition(key='metadata.standort', match=MatchValue(value='Alle'), range=None, geo_bounding_box=None, geo_radius=None, geo_polygon=None, values_count=None), FieldCondition(key='metadata.abschluss', match=MatchValue(value='Alle'), range=None, geo_bounding_box=None, geo_radius=None, geo_polygon=None, values_count=None)], must_not=None), 4: Filter(should=None, min_should=None, must=[FieldCondition(key='metadata.studiengang', match=MatchValue(value='Alle'), range=None, geo_bounding_box=None, geo_radius=None, geo_polygon=None, values_count=None), FieldCondition(key='metadata.standort', match=MatchValue(value='Alle'), range=None, geo_bounding_box=None, geo_radius=None, geo_polygon=None, values_count=None), FieldCondition(key='metadata.abschluss', match=MatchValue(value='Alle'), range=None, geo_bounding_box=None, geo_radius=None, geo_polygon=None, values_count=None)], must_not=None), 5: Filter(should=None, min_should=None, must=[FieldCondition(key='metadata.studiengang', match=MatchValue(value='Alle'), range=None, geo_bounding_box=None, geo_radius=None, geo_polygon=None, values_count=None), FieldCondition(key='metadata.standort', match=MatchValue(value='Alle'), range=None, geo_bounding_box=None, geo_radius=None, geo_polygon=None, values_count=None), FieldCondition(key='metadata.abschluss', match=MatchValue(value='Alle'), range=None, geo_bounding_box=None, geo_radius=None, geo_polygon=None, values_count=None)], must_not=None), 6: Filter(should=None, min_should=None, must=[FieldCondition(key='metadata.studiengang', match=MatchValue(value='Wirtschaftsinformatik'), range=None, geo_bounding_box=None, geo_radius=None, geo_polygon=None, values_count=None), FieldCondition(key='metadata.standort', match=MatchValue(value='Hagen'), range=None, geo_bounding_box=None, geo_radius=None, geo_polygon=None, values_count=None), FieldCondition(key='metadata.abschluss', match=MatchValue(value='Bachelor'), range=None, geo_bounding_box=None, geo_radius=None, geo_polygon=None, values_count=None)], must_not=None), 7: Filter(should=None, min_should=None, must=[FieldCondition(key='metadata.studiengang', match=MatchValue(value='Elektrotechnik'), range=None, geo_bounding_box=None, geo_radius=None, geo_polygon=None, values_count=None), FieldCondition(key='metadata.standort', match=MatchValue(value='Soest'), range=None, geo_bounding_box=None, geo_radius=None, geo_polygon=None, values_count=None), FieldCondition(key='metadata.abschluss', match=MatchValue(value='Bachelor'), range=None, geo_bounding_box=None, geo_radius=None, geo_polygon=None, values_count=None)], must_not=None), 8: Filter(should=None, min_should=None, must=[FieldCondition(key='metadata.studiengang', match=MatchValue(value='Alle'), range=None, geo_bounding_box=None, geo_radius=None, geo_polygon=None, values_count=None), FieldCondition(key='metadata.standort', match=MatchValue(value='Alle'), range=None, geo_bounding_box=None, geo_radius=None, geo_polygon=None, values_count=None), FieldCondition(key='metadata.abschluss', match=MatchValue(value='Alle'), range=None, geo_bounding_box=None, geo_radius=None, geo_polygon=None, values_count=None)], must_not=None), 9: Filter(should=None, min_should=None, must=[FieldCondition(key='metadata.studiengang', match=MatchValue(value='Elektrotechnik'), range=None, geo_bounding_box=None, geo_radius=None, geo_polygon=None, values_count=None), FieldCondition(key='metadata.standort', match=MatchValue(value='Hagen'), range=None, geo_bounding_box=None, geo_radius=None, geo_polygon=None, values_count=None), FieldCondition(key='metadata.abschluss', match=MatchValue(value='Bachelor'), range=None, geo_bounding_box=None, geo_radius=None, geo_polygon=None, values_count=None)], must_not=None), 10: Filter(should=None, min_should=None, must=[FieldCondition(key='metadata.studiengang', match=MatchValue(value='Wirtschaftsinformatik'), range=None, geo_bounding_box=None, geo_radius=None, geo_polygon=None, values_count=None), FieldCondition(key='metadata.standort', match=MatchValue(value='Hagen'), range=None, geo_bounding_box=None, geo_radius=None, geo_polygon=None, values_count=None), FieldCondition(key='metadata.abschluss', match=MatchValue(value='Bachelor'), range=None, geo_bounding_box=None, geo_radius=None, geo_polygon=None, values_count=None)], must_not=None)}\n"
     ]
    }
   ],
   "source": [
    "print(FILTERS)"
   ]
  },
  {
   "cell_type": "code",
   "execution_count": 5,
   "id": "ff057606a84df76f",
   "metadata": {
    "ExecuteTime": {
     "end_time": "2025-03-16T12:37:45.861897Z",
     "start_time": "2025-03-16T12:37:45.482411Z"
    }
   },
   "outputs": [],
   "source": [
    "token_based_qrels_dict = {\n",
    "    \"q_1\": {\n",
    "        \"d_1021\": 10,\n",
    "        \"d_1022\": 1\n",
    "    },\n",
    "    \"q_2\": {\n",
    "        \"d_1301\": 10\n",
    "    },\n",
    "    \"q_3\": {\n",
    "        \"d_1476\": 10,\n",
    "        \"d_1480\": 10,\n",
    "        \"d_1481\": 2\n",
    "    },\n",
    "    \"q_4\": {\n",
    "        \"d_1498\": 10,\n",
    "        \"d_1499\": 10,\n",
    "        \"d_1500\": 2\n",
    "    },\n",
    "    \"q_5\": {\n",
    "        \"d_1482\": 10,\n",
    "        \"d_1483\": 10,\n",
    "        \"d_1484\": 10,\n",
    "        \"d_1485\": 10\n",
    "    },\n",
    "    \"q_6\": {\n",
    "        \"d_18\": 10\n",
    "    },\n",
    "    \"q_7\": {\n",
    "        \"d_1192\": 10,\n",
    "        \"d_1193\": 8\n",
    "    },\n",
    "    \"q_8\": {\n",
    "        \"d_1530\": 10,\n",
    "        \"d_1553\": 10,\n",
    "        \"d_1554\": 10,\n",
    "        \"d_1555\": 10\n",
    "    },\n",
    "    \"q_9\": {\n",
    "        \"d_704\": 10\n",
    "    },\n",
    "    \"q_10\": {\n",
    "        \"d_14\": 10,\n",
    "        \"d_15\": 10\n",
    "    }\n",
    "}\n",
    "\n",
    "TOKEN_BASED_QRELS = Qrels(token_based_qrels_dict)"
   ]
  },
  {
   "cell_type": "code",
   "execution_count": 6,
   "id": "48dd64a930ac7698",
   "metadata": {
    "ExecuteTime": {
     "end_time": "2025-03-16T12:37:47.230005Z",
     "start_time": "2025-03-16T12:37:47.227445Z"
    }
   },
   "outputs": [],
   "source": [
    "recursive_qrels_dict = {\n",
    "    \"q_1\": {\n",
    "        \"d_1371\": 10,\n",
    "        \"d_1370\": 1\n",
    "    },\n",
    "    \"q_2\": {\n",
    "        \"d_1866\": 10\n",
    "    },\n",
    "    \"q_3\": {\n",
    "        \"d_2292\": 10,\n",
    "        \"d_2293\": 2,\n",
    "        \"d_2286\": 10\n",
    "    },\n",
    "    \"q_4\": {\n",
    "        \"d_2313\": 10,\n",
    "        \"d_2314\": 10,\n",
    "        \"d_2315\": 2\n",
    "    },\n",
    "    \"q_5\": {\n",
    "        \"d_2290\": 4,\n",
    "        \"d_2295\": 10,\n",
    "        \"d_2296\": 10,\n",
    "        \"d_2297\": 10,\n",
    "        \"d_2298\": 10\n",
    "    },\n",
    "    \"q_6\": {\n",
    "        \"d_25\": 10\n",
    "    },\n",
    "    \"q_7\": {\n",
    "        \"d_1586\": 10\n",
    "    },\n",
    "    \"q_8\": {\n",
    "        \"d_2388\": 10,\n",
    "        \"d_2389\": 10,\n",
    "        \"d_2390\": 10,\n",
    "        \"d_2356\": 8,\n",
    "        \"d_2357\": 8\n",
    "    },\n",
    "    \"q_9\": {\n",
    "        \"d_946\": 10\n",
    "    },\n",
    "    \"q_10\": {\n",
    "        \"d_19\": 10\n",
    "    }\n",
    "}\n",
    "\n",
    "RECURSIVE_QRELS = Qrels(recursive_qrels_dict)"
   ]
  },
  {
   "cell_type": "code",
   "execution_count": 7,
   "id": "193871687ee9ed35",
   "metadata": {
    "ExecuteTime": {
     "end_time": "2025-03-16T12:37:47.236505Z",
     "start_time": "2025-03-16T12:37:47.234541Z"
    }
   },
   "outputs": [],
   "source": [
    "def save_results_to_file(file_path, results_dict):\n",
    "    try:\n",
    "        with open(file_path, \"w\") as file:\n",
    "            json.dump(results_dict, file, indent=4)\n",
    "        print(f\"Ergebnisse wurden erfolgreich in {file_path} gespeichert.\")\n",
    "    except Exception as e:\n",
    "        print(f\"Fehler beim Speichern der Datei: {e}\")"
   ]
  },
  {
   "cell_type": "code",
   "execution_count": 8,
   "id": "9c0c9ee86b89e1d2",
   "metadata": {
    "ExecuteTime": {
     "end_time": "2025-03-16T12:37:54.284028Z",
     "start_time": "2025-03-16T12:37:47.242890Z"
    }
   },
   "outputs": [
    {
     "name": "stderr",
     "output_type": "stream",
     "text": [
      "/Users/bastian/Desktop/BachelorProjektAbgabe/.venv/lib/python3.12/site-packages/tqdm/auto.py:21: TqdmWarning: IProgress not found. Please update jupyter and ipywidgets. See https://ipywidgets.readthedocs.io/en/stable/user_install.html\n",
      "  from .autonotebook import tqdm as notebook_tqdm\n",
      "2025-03-16 13:37:49,733 [INFO] PyTorch version 2.6.0 available.\n",
      "2025-03-16 13:37:49,969 [INFO] Use pytorch device_name: mps\n",
      "2025-03-16 13:37:49,970 [INFO] Load pretrained SentenceTransformer: mixedbread-ai/deepset-mxbai-embed-de-large-v1\n"
     ]
    }
   ],
   "source": [
    "embeddings = get_embeddings_function(model_name=EmbeddingModels.MIXEDBREAD.value)"
   ]
  },
  {
   "cell_type": "code",
   "execution_count": 9,
   "id": "4f000a3470ef3d6a",
   "metadata": {
    "ExecuteTime": {
     "end_time": "2025-03-16T12:37:54.666468Z",
     "start_time": "2025-03-16T12:37:54.305264Z"
    }
   },
   "outputs": [
    {
     "name": "stderr",
     "output_type": "stream",
     "text": [
      "2025-03-16 13:37:54,350 [INFO] HTTP Request: GET http://localhost:6333 \"HTTP/1.1 200 OK\"\n",
      "2025-03-16 13:37:54,357 [INFO] HTTP Request: GET http://localhost:6333/collections/mixedbread-ai_deepset-mxbai-embed-de-large-v1_token_based_chunks \"HTTP/1.1 200 OK\"\n",
      "2025-03-16 13:37:54,629 [INFO] HTTP Request: GET http://localhost:6333 \"HTTP/1.1 200 OK\"\n",
      "2025-03-16 13:37:54,634 [INFO] HTTP Request: GET http://localhost:6333/collections/mixedbread-ai_deepset-mxbai-embed-de-large-v1_recursive_chunks \"HTTP/1.1 200 OK\"\n"
     ]
    }
   ],
   "source": [
    "token_based_client = get_qdrant_client(embeddings=embeddings,\n",
    "                                       collection_name=CollectionNames.MIXEDBREAD_TOKEN_BASED.value,\n",
    "                                       qdrant_url=QDRANT_URL)\n",
    "\n",
    "recursive_client = get_qdrant_client(embeddings=embeddings, collection_name=CollectionNames.MIXEDBREAD_RECURSIVE.value,\n",
    "                                     qdrant_url=QDRANT_URL)"
   ]
  },
  {
   "cell_type": "code",
   "execution_count": 10,
   "id": "4cc809e2986e340b",
   "metadata": {
    "ExecuteTime": {
     "end_time": "2025-03-16T12:39:18.436909Z",
     "start_time": "2025-03-16T12:37:54.670920Z"
    }
   },
   "outputs": [
    {
     "name": "stderr",
     "output_type": "stream",
     "text": [
      "2025-03-16 13:37:54,777 [INFO] HTTP Request: POST http://localhost:6333/collections/mixedbread-ai_deepset-mxbai-embed-de-large-v1_token_based_chunks/points/query \"HTTP/1.1 200 OK\"\n",
      "2025-03-16 13:37:54,892 [INFO] HTTP Request: POST http://localhost:6333/collections/mixedbread-ai_deepset-mxbai-embed-de-large-v1_token_based_chunks/points/query \"HTTP/1.1 200 OK\"\n",
      "2025-03-16 13:37:54,985 [INFO] HTTP Request: POST http://localhost:6333/collections/mixedbread-ai_deepset-mxbai-embed-de-large-v1_token_based_chunks/points/query \"HTTP/1.1 200 OK\"\n",
      "2025-03-16 13:37:55,023 [INFO] HTTP Request: POST http://localhost:6333/collections/mixedbread-ai_deepset-mxbai-embed-de-large-v1_token_based_chunks/points/query \"HTTP/1.1 200 OK\"\n",
      "2025-03-16 13:37:55,088 [INFO] HTTP Request: POST http://localhost:6333/collections/mixedbread-ai_deepset-mxbai-embed-de-large-v1_token_based_chunks/points/query \"HTTP/1.1 200 OK\"\n",
      "2025-03-16 13:37:55,128 [INFO] HTTP Request: POST http://localhost:6333/collections/mixedbread-ai_deepset-mxbai-embed-de-large-v1_token_based_chunks/points/query \"HTTP/1.1 200 OK\"\n",
      "2025-03-16 13:37:55,183 [INFO] HTTP Request: POST http://localhost:6333/collections/mixedbread-ai_deepset-mxbai-embed-de-large-v1_token_based_chunks/points/query \"HTTP/1.1 200 OK\"\n",
      "2025-03-16 13:37:55,286 [INFO] HTTP Request: POST http://localhost:6333/collections/mixedbread-ai_deepset-mxbai-embed-de-large-v1_token_based_chunks/points/query \"HTTP/1.1 200 OK\"\n",
      "2025-03-16 13:37:55,383 [INFO] HTTP Request: POST http://localhost:6333/collections/mixedbread-ai_deepset-mxbai-embed-de-large-v1_token_based_chunks/points/query \"HTTP/1.1 200 OK\"\n",
      "2025-03-16 13:37:55,425 [INFO] HTTP Request: POST http://localhost:6333/collections/mixedbread-ai_deepset-mxbai-embed-de-large-v1_token_based_chunks/points/query \"HTTP/1.1 200 OK\"\n",
      "2025-03-16 13:37:55,469 [INFO] HTTP Request: POST http://localhost:6333/collections/mixedbread-ai_deepset-mxbai-embed-de-large-v1_token_based_chunks/points/query \"HTTP/1.1 200 OK\"\n",
      "2025-03-16 13:37:55,518 [INFO] HTTP Request: POST http://localhost:6333/collections/mixedbread-ai_deepset-mxbai-embed-de-large-v1_token_based_chunks/points/query \"HTTP/1.1 200 OK\"\n",
      "2025-03-16 13:37:55,554 [INFO] HTTP Request: POST http://localhost:6333/collections/mixedbread-ai_deepset-mxbai-embed-de-large-v1_token_based_chunks/points/query \"HTTP/1.1 200 OK\"\n",
      "2025-03-16 13:37:55,591 [INFO] HTTP Request: POST http://localhost:6333/collections/mixedbread-ai_deepset-mxbai-embed-de-large-v1_token_based_chunks/points/query \"HTTP/1.1 200 OK\"\n",
      "2025-03-16 13:37:55,645 [INFO] HTTP Request: POST http://localhost:6333/collections/mixedbread-ai_deepset-mxbai-embed-de-large-v1_token_based_chunks/points/query \"HTTP/1.1 200 OK\"\n",
      "2025-03-16 13:37:55,686 [INFO] HTTP Request: POST http://localhost:6333/collections/mixedbread-ai_deepset-mxbai-embed-de-large-v1_token_based_chunks/points/query \"HTTP/1.1 200 OK\"\n",
      "2025-03-16 13:37:55,751 [INFO] HTTP Request: POST http://localhost:6333/collections/mixedbread-ai_deepset-mxbai-embed-de-large-v1_token_based_chunks/points/query \"HTTP/1.1 200 OK\"\n",
      "2025-03-16 13:37:55,793 [INFO] HTTP Request: POST http://localhost:6333/collections/mixedbread-ai_deepset-mxbai-embed-de-large-v1_token_based_chunks/points/query \"HTTP/1.1 200 OK\"\n",
      "2025-03-16 13:37:55,838 [INFO] HTTP Request: POST http://localhost:6333/collections/mixedbread-ai_deepset-mxbai-embed-de-large-v1_token_based_chunks/points/query \"HTTP/1.1 200 OK\"\n",
      "2025-03-16 13:37:55,897 [INFO] HTTP Request: POST http://localhost:6333/collections/mixedbread-ai_deepset-mxbai-embed-de-large-v1_token_based_chunks/points/query \"HTTP/1.1 200 OK\"\n",
      "2025-03-16 13:37:58,725 [INFO] HTTP Request: POST http://127.0.0.1:11434/api/chat \"HTTP/1.1 200 OK\"\n",
      "2025-03-16 13:38:08,198 [INFO] Generated Query: query='Master in Elektrotechnik' filter=Operation(operator=<Operator.AND: 'and'>, arguments=[Comparison(comparator=<Comparator.EQ: 'eq'>, attribute='studiengang', value='Elektrotechnik'), Comparison(comparator=<Comparator.EQ: 'eq'>, attribute='abschluss', value='Master'), Comparison(comparator=<Comparator.EQ: 'eq'>, attribute='standort', value='Meschede')]) limit=None\n",
      "2025-03-16 13:38:09,138 [INFO] HTTP Request: POST http://localhost:6333/collections/mixedbread-ai_deepset-mxbai-embed-de-large-v1_token_based_chunks/points/query \"HTTP/1.1 200 OK\"\n",
      "2025-03-16 13:38:09,538 [INFO] HTTP Request: POST http://127.0.0.1:11434/api/chat \"HTTP/1.1 200 OK\"\n",
      "2025-03-16 13:38:19,342 [INFO] Generated Query: query='Mathematik im Bachelorstudiengang Elektrotechnik' filter=Operation(operator=<Operator.AND: 'and'>, arguments=[Comparison(comparator=<Comparator.EQ: 'eq'>, attribute='studiengang', value='Elektrotechnik'), Comparison(comparator=<Comparator.EQ: 'eq'>, attribute='abschluss', value='Bachelor'), Comparison(comparator=<Comparator.EQ: 'eq'>, attribute='standort', value='Soest')]) limit=None\n",
      "2025-03-16 13:38:20,283 [INFO] HTTP Request: POST http://localhost:6333/collections/mixedbread-ai_deepset-mxbai-embed-de-large-v1_token_based_chunks/points/query \"HTTP/1.1 200 OK\"\n",
      "2025-03-16 13:38:21,206 [INFO] HTTP Request: POST http://127.0.0.1:11434/api/chat \"HTTP/1.1 200 OK\"\n",
      "2025-03-16 13:38:25,184 [INFO] Generated Query: query='Fachgebiete an der FH' filter=None limit=None\n",
      "2025-03-16 13:38:25,574 [INFO] HTTP Request: POST http://localhost:6333/collections/mixedbread-ai_deepset-mxbai-embed-de-large-v1_token_based_chunks/points/query \"HTTP/1.1 200 OK\"\n",
      "2025-03-16 13:38:25,821 [INFO] HTTP Request: POST http://127.0.0.1:11434/api/chat \"HTTP/1.1 200 OK\"\n",
      "2025-03-16 13:38:29,668 [INFO] Generated Query: query='Beurlaubung während des Studiums' filter=None limit=None\n",
      "2025-03-16 13:38:30,557 [INFO] HTTP Request: POST http://localhost:6333/collections/mixedbread-ai_deepset-mxbai-embed-de-large-v1_token_based_chunks/points/query \"HTTP/1.1 200 OK\"\n",
      "2025-03-16 13:38:30,849 [INFO] HTTP Request: POST http://127.0.0.1:11434/api/chat \"HTTP/1.1 200 OK\"\n",
      "2025-03-16 13:38:34,577 [INFO] Generated Query: query='Studienmodelle' filter=None limit=None\n",
      "2025-03-16 13:38:35,403 [INFO] HTTP Request: POST http://localhost:6333/collections/mixedbread-ai_deepset-mxbai-embed-de-large-v1_token_based_chunks/points/query \"HTTP/1.1 200 OK\"\n",
      "2025-03-16 13:38:35,692 [INFO] HTTP Request: POST http://127.0.0.1:11434/api/chat \"HTTP/1.1 200 OK\"\n",
      "2025-03-16 13:38:42,330 [INFO] Generated Query: query='wie viele Seiten muss ich in meiner bachelorarbeit in wirtschaftsinformatik in hagen schreiben' filter=Operation(operator=<Operator.AND: 'and'>, arguments=[Comparison(comparator=<Comparator.EQ: 'eq'>, attribute='studiengang', value='Wirtschaftsinformatik'), Comparison(comparator=<Comparator.EQ: 'eq'>, attribute='abschluss', value='Bachelor'), Comparison(comparator=<Comparator.EQ: 'eq'>, attribute='standort', value='Hagen')]) limit=None\n",
      "2025-03-16 13:38:43,251 [INFO] HTTP Request: POST http://localhost:6333/collections/mixedbread-ai_deepset-mxbai-embed-de-large-v1_token_based_chunks/points/query \"HTTP/1.1 200 OK\"\n",
      "2025-03-16 13:38:43,758 [INFO] HTTP Request: POST http://127.0.0.1:11434/api/chat \"HTTP/1.1 200 OK\"\n",
      "2025-03-16 13:38:53,030 [INFO] Generated Query: query='Bachelorstudiengang Elektrotechnik in Soest' filter=Operation(operator=<Operator.AND: 'and'>, arguments=[Comparison(comparator=<Comparator.EQ: 'eq'>, attribute='studiengang', value='Elektrotechnik'), Comparison(comparator=<Comparator.EQ: 'eq'>, attribute='abschluss', value='Bachelor'), Comparison(comparator=<Comparator.EQ: 'eq'>, attribute='standort', value='Soest')]) limit=None\n",
      "2025-03-16 13:38:53,474 [INFO] HTTP Request: POST http://localhost:6333/collections/mixedbread-ai_deepset-mxbai-embed-de-large-v1_token_based_chunks/points/query \"HTTP/1.1 200 OK\"\n",
      "2025-03-16 13:38:53,725 [INFO] HTTP Request: POST http://127.0.0.1:11434/api/chat \"HTTP/1.1 200 OK\"\n",
      "2025-03-16 13:38:57,532 [INFO] Generated Query: query='krank bei Prüfung' filter=None limit=None\n",
      "2025-03-16 13:38:58,371 [INFO] HTTP Request: POST http://localhost:6333/collections/mixedbread-ai_deepset-mxbai-embed-de-large-v1_token_based_chunks/points/query \"HTTP/1.1 200 OK\"\n",
      "2025-03-16 13:38:58,889 [INFO] HTTP Request: POST http://127.0.0.1:11434/api/chat \"HTTP/1.1 200 OK\"\n",
      "2025-03-16 13:39:08,333 [INFO] Generated Query: query='Modul IT-Sicherheit' filter=Operation(operator=<Operator.AND: 'and'>, arguments=[Comparison(comparator=<Comparator.EQ: 'eq'>, attribute='studiengang', value='Elektrotechnik'), Comparison(comparator=<Comparator.EQ: 'eq'>, attribute='abschluss', value='Bachelor'), Comparison(comparator=<Comparator.EQ: 'eq'>, attribute='standort', value='Hagen')]) limit=None\n",
      "2025-03-16 13:39:09,096 [INFO] HTTP Request: POST http://localhost:6333/collections/mixedbread-ai_deepset-mxbai-embed-de-large-v1_token_based_chunks/points/query \"HTTP/1.1 200 OK\"\n",
      "2025-03-16 13:39:09,351 [INFO] HTTP Request: POST http://127.0.0.1:11434/api/chat \"HTTP/1.1 200 OK\"\n",
      "2025-03-16 13:39:17,574 [INFO] Generated Query: query='Bachelorstudiengang Wirtschaftsinformatik in Hagen' filter=Operation(operator=<Operator.AND: 'and'>, arguments=[Comparison(comparator=<Comparator.EQ: 'eq'>, attribute='abschluss', value='Bachelor'), Comparison(comparator=<Comparator.EQ: 'eq'>, attribute='studiengang', value='Wirtschaftsinformatik'), Comparison(comparator=<Comparator.EQ: 'eq'>, attribute='standort', value='Hagen')]) limit=None\n",
      "2025-03-16 13:39:18,427 [INFO] HTTP Request: POST http://localhost:6333/collections/mixedbread-ai_deepset-mxbai-embed-de-large-v1_token_based_chunks/points/query \"HTTP/1.1 200 OK\"\n"
     ]
    }
   ],
   "source": [
    "token_based_result_no_filters = retrieve_run_dict_with_documents_with_scores(client=token_based_client,\n",
    "                                                                             fragen_dict=FRAGEN, mode=\"no_filters\",\n",
    "                                                                             max_documents=MAX_DOCUMENTS)\n",
    "\n",
    "token_based_result_optimal_filters = retrieve_run_dict_with_documents_with_scores(client=token_based_client,\n",
    "                                                                                  fragen_dict=FRAGEN,\n",
    "                                                                                  mode=\"optimal_filters\",\n",
    "                                                                                  filter_dict=FILTERS,\n",
    "                                                                                  max_documents=MAX_DOCUMENTS)\n",
    "\n",
    "token_based_result_self_query_retriever = retrieve_run_dict_with_documents_with_scores(client=token_based_client,\n",
    "                                                                                       fragen_dict=SELF_QUERY_RETRIEVER_FRAGEN,\n",
    "                                                                                       mode=\"self_query_retriever\",\n",
    "                                                                                       llm=LLM,\n",
    "                                                                                       search_kwargs={\n",
    "                                                                                           \"k\": MAX_DOCUMENTS})"
   ]
  },
  {
   "cell_type": "code",
   "execution_count": 11,
   "id": "b4aed6156a499471",
   "metadata": {
    "ExecuteTime": {
     "end_time": "2025-03-16T12:39:18.571041Z",
     "start_time": "2025-03-16T12:39:18.564838Z"
    }
   },
   "outputs": [
    {
     "name": "stdout",
     "output_type": "stream",
     "text": [
      "Ergebnisse wurden erfolgreich in ./mixedbread_retrieval_results_AT_10/token_based_result_no_filters.json gespeichert.\n",
      "Ergebnisse wurden erfolgreich in ./mixedbread_retrieval_results_AT_10/token_based_result_optimal_filters.json gespeichert.\n",
      "Ergebnisse wurden erfolgreich in ./mixedbread_retrieval_results_AT_10/token_based_result_self_query_retriever.json gespeichert.\n"
     ]
    }
   ],
   "source": [
    "save_results_to_file(file_path=f\"{BASE_PATH}/token_based_result_no_filters.json\",\n",
    "                     results_dict=token_based_result_no_filters)\n",
    "\n",
    "save_results_to_file(file_path=f\"{BASE_PATH}/token_based_result_optimal_filters.json\",\n",
    "                     results_dict=token_based_result_optimal_filters)\n",
    "\n",
    "save_results_to_file(file_path=f\"{BASE_PATH}/token_based_result_self_query_retriever.json\",\n",
    "                     results_dict=token_based_result_self_query_retriever)"
   ]
  },
  {
   "cell_type": "code",
   "execution_count": 12,
   "id": "56761b7faae82ab5",
   "metadata": {
    "ExecuteTime": {
     "end_time": "2025-03-16T12:39:18.883229Z",
     "start_time": "2025-03-16T12:39:18.636992Z"
    }
   },
   "outputs": [],
   "source": [
    "run_token_based_result_no_filters = Run(token_based_result_no_filters,\n",
    "                                        name=\"token_based_result_no_filters\")\n",
    "\n",
    "run_token_based_result_optimal_filters = Run(token_based_result_optimal_filters,\n",
    "                                             name=\"token_based_result_optimal_filters\")\n",
    "\n",
    "run_token_based_result_self_query_retriever = Run(token_based_result_self_query_retriever,\n",
    "                                                  name=\"token_based_result_self_query_retriever\")"
   ]
  },
  {
   "cell_type": "code",
   "execution_count": 13,
   "id": "c5d9ebd3fdeec08e",
   "metadata": {
    "ExecuteTime": {
     "end_time": "2025-03-16T12:39:19.436545Z",
     "start_time": "2025-03-16T12:39:19.269302Z"
    }
   },
   "outputs": [],
   "source": [
    "token_based_scores_no_filters = evaluate(qrels=TOKEN_BASED_QRELS,\n",
    "                                         run=run_token_based_result_no_filters,\n",
    "                                         metrics=METRICS)\n",
    "\n",
    "token_based_scores_optimal_filters = evaluate(qrels=TOKEN_BASED_QRELS,\n",
    "                                              run=run_token_based_result_optimal_filters,\n",
    "                                              metrics=METRICS)\n",
    "\n",
    "token_based_scores_self_query_retriever = evaluate(qrels=TOKEN_BASED_QRELS,\n",
    "                                                   run=run_token_based_result_self_query_retriever,\n",
    "                                                   metrics=METRICS)"
   ]
  },
  {
   "cell_type": "code",
   "execution_count": 14,
   "id": "71420a4e12ec4d0c",
   "metadata": {
    "ExecuteTime": {
     "end_time": "2025-03-16T12:39:19.446087Z",
     "start_time": "2025-03-16T12:39:19.443448Z"
    }
   },
   "outputs": [
    {
     "name": "stdout",
     "output_type": "stream",
     "text": [
      "Ergebnisse wurden erfolgreich in ./mixedbread_retrieval_results_AT_10/token_based_scores_no_filters.json gespeichert.\n",
      "Ergebnisse wurden erfolgreich in ./mixedbread_retrieval_results_AT_10/token_based_scores_optimal_filters.json gespeichert.\n",
      "Ergebnisse wurden erfolgreich in ./mixedbread_retrieval_results_AT_10/token_based_scores_self_query_retriever.json gespeichert.\n"
     ]
    }
   ],
   "source": [
    "save_results_to_file(file_path=f\"{BASE_PATH}/token_based_scores_no_filters.json\",\n",
    "                     results_dict=token_based_scores_no_filters)\n",
    "\n",
    "save_results_to_file(file_path=f\"{BASE_PATH}/token_based_scores_optimal_filters.json\",\n",
    "                     results_dict=token_based_scores_optimal_filters)\n",
    "\n",
    "save_results_to_file(file_path=f\"{BASE_PATH}/token_based_scores_self_query_retriever.json\",\n",
    "                     results_dict=token_based_scores_self_query_retriever)"
   ]
  },
  {
   "cell_type": "code",
   "execution_count": 15,
   "id": "3237d9f1bf6acce1",
   "metadata": {
    "ExecuteTime": {
     "end_time": "2025-03-16T12:39:19.485818Z",
     "start_time": "2025-03-16T12:39:19.463957Z"
    }
   },
   "outputs": [],
   "source": [
    "report = compare(\n",
    "    qrels=TOKEN_BASED_QRELS,\n",
    "    runs=[run_token_based_result_no_filters, run_token_based_result_optimal_filters, run_token_based_result_self_query_retriever],\n",
    "    metrics=METRICS\n",
    ")"
   ]
  },
  {
   "cell_type": "code",
   "execution_count": 16,
   "id": "c3355e2644a453e",
   "metadata": {
    "ExecuteTime": {
     "end_time": "2025-03-16T12:39:19.502528Z",
     "start_time": "2025-03-16T12:39:19.499193Z"
    }
   },
   "outputs": [
    {
     "name": "stdout",
     "output_type": "stream",
     "text": [
      "#    Model                                    NDCG@10      MRR@10  MAP@10      P@10    Recall@10    Hits@10    Hit Rate@10\n",
      "---  ---------------------------------------  ---------  --------  --------  ------  -----------  ---------  -------------\n",
      "a    token_based_result_no_filters            0.369         0.398  0.298       0.15        0.558        1.5            0.7\n",
      "b    token_based_result_optimal_filters       0.748ᵃ        0.814  0.671ᵃ      0.22        0.9          2.2            0.9\n",
      "c    token_based_result_self_query_retriever  0.386         0.453  0.357       0.13        0.533        1.3            0.7\n"
     ]
    }
   ],
   "source": [
    "print(report)"
   ]
  },
  {
   "cell_type": "code",
   "execution_count": 17,
   "id": "71f1e7bba5c3a87f",
   "metadata": {
    "ExecuteTime": {
     "end_time": "2025-03-16T12:39:19.511872Z",
     "start_time": "2025-03-16T12:39:19.509399Z"
    }
   },
   "outputs": [],
   "source": [
    "with open(f\"{BASE_PATH}/token_report@{MAX_DOCUMENTS}.txt\", \"w\") as file:\n",
    "    file.write(str(report))"
   ]
  },
  {
   "cell_type": "code",
   "execution_count": null,
   "id": "2d716c41ef56cbb7",
   "metadata": {
    "ExecuteTime": {
     "end_time": "2025-03-16T12:39:19.526925Z",
     "start_time": "2025-03-16T12:39:19.525512Z"
    }
   },
   "outputs": [],
   "source": []
  },
  {
   "cell_type": "markdown",
   "id": "30a1b093454f67ab",
   "metadata": {},
   "source": [
    "# Rekursive Collections"
   ]
  },
  {
   "cell_type": "code",
   "execution_count": 18,
   "id": "4688b2a06ff22643",
   "metadata": {
    "ExecuteTime": {
     "end_time": "2025-03-16T12:40:40.962398Z",
     "start_time": "2025-03-16T12:39:19.531339Z"
    }
   },
   "outputs": [
    {
     "name": "stderr",
     "output_type": "stream",
     "text": [
      "2025-03-16 13:39:19,631 [INFO] HTTP Request: POST http://localhost:6333/collections/mixedbread-ai_deepset-mxbai-embed-de-large-v1_recursive_chunks/points/query \"HTTP/1.1 200 OK\"\n",
      "2025-03-16 13:39:19,679 [INFO] HTTP Request: POST http://localhost:6333/collections/mixedbread-ai_deepset-mxbai-embed-de-large-v1_recursive_chunks/points/query \"HTTP/1.1 200 OK\"\n",
      "2025-03-16 13:39:19,724 [INFO] HTTP Request: POST http://localhost:6333/collections/mixedbread-ai_deepset-mxbai-embed-de-large-v1_recursive_chunks/points/query \"HTTP/1.1 200 OK\"\n",
      "2025-03-16 13:39:19,762 [INFO] HTTP Request: POST http://localhost:6333/collections/mixedbread-ai_deepset-mxbai-embed-de-large-v1_recursive_chunks/points/query \"HTTP/1.1 200 OK\"\n",
      "2025-03-16 13:39:19,811 [INFO] HTTP Request: POST http://localhost:6333/collections/mixedbread-ai_deepset-mxbai-embed-de-large-v1_recursive_chunks/points/query \"HTTP/1.1 200 OK\"\n",
      "2025-03-16 13:39:19,847 [INFO] HTTP Request: POST http://localhost:6333/collections/mixedbread-ai_deepset-mxbai-embed-de-large-v1_recursive_chunks/points/query \"HTTP/1.1 200 OK\"\n",
      "2025-03-16 13:39:19,903 [INFO] HTTP Request: POST http://localhost:6333/collections/mixedbread-ai_deepset-mxbai-embed-de-large-v1_recursive_chunks/points/query \"HTTP/1.1 200 OK\"\n",
      "2025-03-16 13:39:19,954 [INFO] HTTP Request: POST http://localhost:6333/collections/mixedbread-ai_deepset-mxbai-embed-de-large-v1_recursive_chunks/points/query \"HTTP/1.1 200 OK\"\n",
      "2025-03-16 13:39:20,015 [INFO] HTTP Request: POST http://localhost:6333/collections/mixedbread-ai_deepset-mxbai-embed-de-large-v1_recursive_chunks/points/query \"HTTP/1.1 200 OK\"\n",
      "2025-03-16 13:39:20,066 [INFO] HTTP Request: POST http://localhost:6333/collections/mixedbread-ai_deepset-mxbai-embed-de-large-v1_recursive_chunks/points/query \"HTTP/1.1 200 OK\"\n",
      "2025-03-16 13:39:20,120 [INFO] HTTP Request: POST http://localhost:6333/collections/mixedbread-ai_deepset-mxbai-embed-de-large-v1_recursive_chunks/points/query \"HTTP/1.1 200 OK\"\n",
      "2025-03-16 13:39:20,177 [INFO] HTTP Request: POST http://localhost:6333/collections/mixedbread-ai_deepset-mxbai-embed-de-large-v1_recursive_chunks/points/query \"HTTP/1.1 200 OK\"\n",
      "2025-03-16 13:39:20,217 [INFO] HTTP Request: POST http://localhost:6333/collections/mixedbread-ai_deepset-mxbai-embed-de-large-v1_recursive_chunks/points/query \"HTTP/1.1 200 OK\"\n",
      "2025-03-16 13:39:20,258 [INFO] HTTP Request: POST http://localhost:6333/collections/mixedbread-ai_deepset-mxbai-embed-de-large-v1_recursive_chunks/points/query \"HTTP/1.1 200 OK\"\n",
      "2025-03-16 13:39:20,319 [INFO] HTTP Request: POST http://localhost:6333/collections/mixedbread-ai_deepset-mxbai-embed-de-large-v1_recursive_chunks/points/query \"HTTP/1.1 200 OK\"\n",
      "2025-03-16 13:39:20,365 [INFO] HTTP Request: POST http://localhost:6333/collections/mixedbread-ai_deepset-mxbai-embed-de-large-v1_recursive_chunks/points/query \"HTTP/1.1 200 OK\"\n",
      "2025-03-16 13:39:20,440 [INFO] HTTP Request: POST http://localhost:6333/collections/mixedbread-ai_deepset-mxbai-embed-de-large-v1_recursive_chunks/points/query \"HTTP/1.1 200 OK\"\n",
      "2025-03-16 13:39:20,493 [INFO] HTTP Request: POST http://localhost:6333/collections/mixedbread-ai_deepset-mxbai-embed-de-large-v1_recursive_chunks/points/query \"HTTP/1.1 200 OK\"\n",
      "2025-03-16 13:39:20,551 [INFO] HTTP Request: POST http://localhost:6333/collections/mixedbread-ai_deepset-mxbai-embed-de-large-v1_recursive_chunks/points/query \"HTTP/1.1 200 OK\"\n",
      "2025-03-16 13:39:20,625 [INFO] HTTP Request: POST http://localhost:6333/collections/mixedbread-ai_deepset-mxbai-embed-de-large-v1_recursive_chunks/points/query \"HTTP/1.1 200 OK\"\n",
      "2025-03-16 13:39:21,225 [INFO] HTTP Request: POST http://127.0.0.1:11434/api/chat \"HTTP/1.1 200 OK\"\n",
      "2025-03-16 13:39:30,682 [INFO] Generated Query: query='Master in Elektrotechnik' filter=Operation(operator=<Operator.AND: 'and'>, arguments=[Comparison(comparator=<Comparator.EQ: 'eq'>, attribute='studiengang', value='Elektrotechnik'), Comparison(comparator=<Comparator.EQ: 'eq'>, attribute='abschluss', value='Master'), Comparison(comparator=<Comparator.EQ: 'eq'>, attribute='standort', value='Meschede')]) limit=None\n",
      "2025-03-16 13:39:31,291 [INFO] HTTP Request: POST http://localhost:6333/collections/mixedbread-ai_deepset-mxbai-embed-de-large-v1_recursive_chunks/points/query \"HTTP/1.1 200 OK\"\n",
      "2025-03-16 13:39:31,684 [INFO] HTTP Request: POST http://127.0.0.1:11434/api/chat \"HTTP/1.1 200 OK\"\n",
      "2025-03-16 13:39:41,464 [INFO] Generated Query: query='Mathematik im Bachelorstudiengang Elektrotechnik' filter=Operation(operator=<Operator.AND: 'and'>, arguments=[Comparison(comparator=<Comparator.EQ: 'eq'>, attribute='studiengang', value='Elektrotechnik'), Comparison(comparator=<Comparator.EQ: 'eq'>, attribute='abschluss', value='Bachelor'), Comparison(comparator=<Comparator.EQ: 'eq'>, attribute='standort', value='Soest')]) limit=None\n",
      "2025-03-16 13:39:42,153 [INFO] HTTP Request: POST http://localhost:6333/collections/mixedbread-ai_deepset-mxbai-embed-de-large-v1_recursive_chunks/points/query \"HTTP/1.1 200 OK\"\n",
      "2025-03-16 13:39:42,429 [INFO] HTTP Request: POST http://127.0.0.1:11434/api/chat \"HTTP/1.1 200 OK\"\n",
      "2025-03-16 13:39:46,457 [INFO] Generated Query: query='Fachgebiete an der FH' filter=None limit=None\n",
      "2025-03-16 13:39:47,510 [INFO] HTTP Request: POST http://localhost:6333/collections/mixedbread-ai_deepset-mxbai-embed-de-large-v1_recursive_chunks/points/query \"HTTP/1.1 200 OK\"\n",
      "2025-03-16 13:39:47,907 [INFO] HTTP Request: POST http://127.0.0.1:11434/api/chat \"HTTP/1.1 200 OK\"\n",
      "2025-03-16 13:39:51,781 [INFO] Generated Query: query='Beurlaubung während des Studiums' filter=None limit=None\n",
      "2025-03-16 13:39:52,676 [INFO] HTTP Request: POST http://localhost:6333/collections/mixedbread-ai_deepset-mxbai-embed-de-large-v1_recursive_chunks/points/query \"HTTP/1.1 200 OK\"\n",
      "2025-03-16 13:39:53,144 [INFO] HTTP Request: POST http://127.0.0.1:11434/api/chat \"HTTP/1.1 200 OK\"\n",
      "2025-03-16 13:39:56,874 [INFO] Generated Query: query='Studienmodelle' filter=None limit=None\n",
      "2025-03-16 13:39:57,664 [INFO] HTTP Request: POST http://localhost:6333/collections/mixedbread-ai_deepset-mxbai-embed-de-large-v1_recursive_chunks/points/query \"HTTP/1.1 200 OK\"\n",
      "2025-03-16 13:39:57,954 [INFO] HTTP Request: POST http://127.0.0.1:11434/api/chat \"HTTP/1.1 200 OK\"\n",
      "2025-03-16 13:40:04,625 [INFO] Generated Query: query='wie viele Seiten muss ich in meiner bachelorarbeit in wirtschaftsinformatik in hagen schreiben' filter=Operation(operator=<Operator.AND: 'and'>, arguments=[Comparison(comparator=<Comparator.EQ: 'eq'>, attribute='studiengang', value='Wirtschaftsinformatik'), Comparison(comparator=<Comparator.EQ: 'eq'>, attribute='abschluss', value='Bachelor'), Comparison(comparator=<Comparator.EQ: 'eq'>, attribute='standort', value='Hagen')]) limit=None\n",
      "2025-03-16 13:40:05,494 [INFO] HTTP Request: POST http://localhost:6333/collections/mixedbread-ai_deepset-mxbai-embed-de-large-v1_recursive_chunks/points/query \"HTTP/1.1 200 OK\"\n",
      "2025-03-16 13:40:05,871 [INFO] HTTP Request: POST http://127.0.0.1:11434/api/chat \"HTTP/1.1 200 OK\"\n",
      "2025-03-16 13:40:15,210 [INFO] Generated Query: query='Bachelorstudiengang Elektrotechnik in Soest' filter=Operation(operator=<Operator.AND: 'and'>, arguments=[Comparison(comparator=<Comparator.EQ: 'eq'>, attribute='studiengang', value='Elektrotechnik'), Comparison(comparator=<Comparator.EQ: 'eq'>, attribute='abschluss', value='Bachelor'), Comparison(comparator=<Comparator.EQ: 'eq'>, attribute='standort', value='Soest')]) limit=None\n",
      "2025-03-16 13:40:16,146 [INFO] HTTP Request: POST http://localhost:6333/collections/mixedbread-ai_deepset-mxbai-embed-de-large-v1_recursive_chunks/points/query \"HTTP/1.1 200 OK\"\n",
      "2025-03-16 13:40:16,403 [INFO] HTTP Request: POST http://127.0.0.1:11434/api/chat \"HTTP/1.1 200 OK\"\n",
      "2025-03-16 13:40:20,237 [INFO] Generated Query: query='krank bei Prüfung' filter=None limit=None\n",
      "2025-03-16 13:40:20,652 [INFO] HTTP Request: POST http://localhost:6333/collections/mixedbread-ai_deepset-mxbai-embed-de-large-v1_recursive_chunks/points/query \"HTTP/1.1 200 OK\"\n",
      "2025-03-16 13:40:21,050 [INFO] HTTP Request: POST http://127.0.0.1:11434/api/chat \"HTTP/1.1 200 OK\"\n",
      "2025-03-16 13:40:30,499 [INFO] Generated Query: query='Modul IT-Sicherheit' filter=Operation(operator=<Operator.AND: 'and'>, arguments=[Comparison(comparator=<Comparator.EQ: 'eq'>, attribute='studiengang', value='Elektrotechnik'), Comparison(comparator=<Comparator.EQ: 'eq'>, attribute='abschluss', value='Bachelor'), Comparison(comparator=<Comparator.EQ: 'eq'>, attribute='standort', value='Hagen')]) limit=None\n",
      "2025-03-16 13:40:31,465 [INFO] HTTP Request: POST http://localhost:6333/collections/mixedbread-ai_deepset-mxbai-embed-de-large-v1_recursive_chunks/points/query \"HTTP/1.1 200 OK\"\n",
      "2025-03-16 13:40:31,765 [INFO] HTTP Request: POST http://127.0.0.1:11434/api/chat \"HTTP/1.1 200 OK\"\n",
      "2025-03-16 13:40:39,990 [INFO] Generated Query: query='Bachelorstudiengang Wirtschaftsinformatik in Hagen' filter=Operation(operator=<Operator.AND: 'and'>, arguments=[Comparison(comparator=<Comparator.EQ: 'eq'>, attribute='abschluss', value='Bachelor'), Comparison(comparator=<Comparator.EQ: 'eq'>, attribute='studiengang', value='Wirtschaftsinformatik'), Comparison(comparator=<Comparator.EQ: 'eq'>, attribute='standort', value='Hagen')]) limit=None\n",
      "2025-03-16 13:40:40,952 [INFO] HTTP Request: POST http://localhost:6333/collections/mixedbread-ai_deepset-mxbai-embed-de-large-v1_recursive_chunks/points/query \"HTTP/1.1 200 OK\"\n"
     ]
    }
   ],
   "source": [
    "recursive_result_no_filters = retrieve_run_dict_with_documents_with_scores(client=recursive_client, fragen_dict=FRAGEN, mode=\"no_filters\", max_documents=MAX_DOCUMENTS)\n",
    "recursive_result_optimal_filters = retrieve_run_dict_with_documents_with_scores(client=recursive_client, fragen_dict=FRAGEN, mode=\"optimal_filters\", filter_dict=FILTERS, max_documents=MAX_DOCUMENTS)\n",
    "recursive_result_self_query_retriever = retrieve_run_dict_with_documents_with_scores(client=recursive_client, fragen_dict=SELF_QUERY_RETRIEVER_FRAGEN, mode=\"self_query_retriever\", llm=LLM, search_kwargs={\"k\": MAX_DOCUMENTS})"
   ]
  },
  {
   "cell_type": "code",
   "execution_count": 19,
   "id": "2ede4edf35c470f5",
   "metadata": {
    "ExecuteTime": {
     "end_time": "2025-03-16T12:40:41.032487Z",
     "start_time": "2025-03-16T12:40:41.026237Z"
    }
   },
   "outputs": [
    {
     "name": "stdout",
     "output_type": "stream",
     "text": [
      "Ergebnisse wurden erfolgreich in ./mixedbread_retrieval_results_AT_10/recursive_result_no_filters.json gespeichert.\n",
      "Ergebnisse wurden erfolgreich in ./mixedbread_retrieval_results_AT_10/recursive_result_optimal_filters.json gespeichert.\n",
      "Ergebnisse wurden erfolgreich in ./mixedbread_retrieval_results_AT_10/recursive_result_self_query_retriever.json gespeichert.\n"
     ]
    }
   ],
   "source": [
    "save_results_to_file(file_path=f\"{BASE_PATH}/recursive_result_no_filters.json\", results_dict=recursive_result_no_filters)\n",
    "save_results_to_file(file_path=f\"{BASE_PATH}/recursive_result_optimal_filters.json\", results_dict=recursive_result_optimal_filters)\n",
    "save_results_to_file(file_path=f\"{BASE_PATH}/recursive_result_self_query_retriever.json\", results_dict=recursive_result_self_query_retriever)"
   ]
  },
  {
   "cell_type": "code",
   "execution_count": 20,
   "id": "d3200292c959bbee",
   "metadata": {
    "ExecuteTime": {
     "end_time": "2025-03-16T12:40:41.125476Z",
     "start_time": "2025-03-16T12:40:41.115360Z"
    }
   },
   "outputs": [],
   "source": [
    "run_recursive_result_no_filters = Run(recursive_result_no_filters, name=\"recursive_result_no_filters\")\n",
    "run_recursive_result_optimal_filters = Run(recursive_result_optimal_filters, name=\"recursive_result_optimal_filters\")\n",
    "run_recursive_result_self_query_retriever = Run(recursive_result_self_query_retriever, name=\"recursive_result_self_query_retriever\")"
   ]
  },
  {
   "cell_type": "code",
   "execution_count": 21,
   "id": "32d40cd88be4797f",
   "metadata": {
    "ExecuteTime": {
     "end_time": "2025-03-16T12:40:41.186101Z",
     "start_time": "2025-03-16T12:40:41.168847Z"
    }
   },
   "outputs": [],
   "source": [
    "recursive_scores_no_filters = evaluate(qrels=RECURSIVE_QRELS, run=run_recursive_result_no_filters, metrics=METRICS)\n",
    "recursive_scores_optimal_filters = evaluate(qrels=RECURSIVE_QRELS, run=run_recursive_result_optimal_filters, metrics=METRICS)\n",
    "recursive_scores_self_query_retriever = evaluate(qrels=RECURSIVE_QRELS, run=run_recursive_result_self_query_retriever, metrics=METRICS)"
   ]
  },
  {
   "cell_type": "code",
   "execution_count": 22,
   "id": "f68063737bb6d764",
   "metadata": {
    "ExecuteTime": {
     "end_time": "2025-03-16T12:40:41.199658Z",
     "start_time": "2025-03-16T12:40:41.196156Z"
    }
   },
   "outputs": [
    {
     "name": "stdout",
     "output_type": "stream",
     "text": [
      "Ergebnisse wurden erfolgreich in ./mixedbread_retrieval_results_AT_10/recursive_scores_no_filters.json gespeichert.\n",
      "Ergebnisse wurden erfolgreich in ./mixedbread_retrieval_results_AT_10/recursive_scores_optimal_filters.json gespeichert.\n",
      "Ergebnisse wurden erfolgreich in ./mixedbread_retrieval_results_AT_10/recursive_scores_self_query_retriever.json gespeichert.\n"
     ]
    }
   ],
   "source": [
    "save_results_to_file(file_path=f\"{BASE_PATH}/recursive_scores_no_filters.json\", results_dict=recursive_scores_no_filters)\n",
    "save_results_to_file(file_path=f\"{BASE_PATH}/recursive_scores_optimal_filters.json\", results_dict=recursive_scores_optimal_filters)\n",
    "save_results_to_file(file_path=f\"{BASE_PATH}/recursive_scores_self_query_retriever.json\", results_dict=recursive_scores_self_query_retriever)"
   ]
  },
  {
   "cell_type": "code",
   "execution_count": 23,
   "id": "aceda745f6a2c5ff",
   "metadata": {
    "ExecuteTime": {
     "end_time": "2025-03-16T12:40:41.234644Z",
     "start_time": "2025-03-16T12:40:41.216152Z"
    }
   },
   "outputs": [],
   "source": [
    "report = compare(\n",
    "    qrels=RECURSIVE_QRELS,\n",
    "    runs=[run_recursive_result_no_filters, run_recursive_result_optimal_filters, run_recursive_result_self_query_retriever],\n",
    "    metrics=METRICS\n",
    ")"
   ]
  },
  {
   "cell_type": "code",
   "execution_count": 24,
   "id": "365c3f1d1ab12d47",
   "metadata": {
    "ExecuteTime": {
     "end_time": "2025-03-16T12:40:41.242653Z",
     "start_time": "2025-03-16T12:40:41.239839Z"
    }
   },
   "outputs": [
    {
     "name": "stdout",
     "output_type": "stream",
     "text": [
      "#    Model                                  NDCG@10    MRR@10    MAP@10      P@10    Recall@10    Hits@10    Hit Rate@10\n",
      "---  -------------------------------------  ---------  --------  --------  ------  -----------  ---------  -------------\n",
      "a    recursive_result_no_filters            0.494      0.495     0.390       0.18        0.697        1.8            0.8\n",
      "b    recursive_result_optimal_filters       0.881ᵃ     0.911ᵃ    0.835ᵃ      0.23        1            2.3            1\n",
      "c    recursive_result_self_query_retriever  0.507      0.583     0.474       0.16        0.607        1.6            0.7\n"
     ]
    }
   ],
   "source": [
    "print(report)"
   ]
  },
  {
   "cell_type": "code",
   "execution_count": 25,
   "id": "b6dad11df309c495",
   "metadata": {
    "ExecuteTime": {
     "end_time": "2025-03-16T12:40:41.256808Z",
     "start_time": "2025-03-16T12:40:41.252833Z"
    }
   },
   "outputs": [],
   "source": [
    "with open(f\"{BASE_PATH}/recursive_report@{MAX_DOCUMENTS}.txt\", \"w\") as file:\n",
    "    file.write(str(report))"
   ]
  },
  {
   "cell_type": "code",
   "execution_count": null,
   "id": "b19ab5bfe682c2e8",
   "metadata": {},
   "outputs": [],
   "source": [
    "from qdrant_client.models import FieldCondition, MatchValue, models\n",
    "\n",
    "filter_example = models.Filter(\n",
    "    must=[\n",
    "        models.FieldCondition(\n",
    "            key=\"metadata.studiengang\",\n",
    "            match=models.MatchValue(value=\"Wirtschaftsinformatik\")\n",
    "        ),\n",
    "        models.FieldCondition(\n",
    "            key=\"metadata.standort\",\n",
    "            match=models.MatchValue(value=\"Hagen\")\n",
    "        ),\n",
    "        models.FieldCondition(\n",
    "            key=\"metadata.abschluss\",\n",
    "            match=models.MatchValue(value=\"Bachelor\")\n",
    "        ),\n",
    "    ]\n",
    ")\n",
    "\n"
   ]
  }
 ],
 "metadata": {
  "kernelspec": {
   "display_name": "Python 3",
   "language": "python",
   "name": "python3"
  },
  "language_info": {
   "codemirror_mode": {
    "name": "ipython",
    "version": 2
   },
   "file_extension": ".py",
   "mimetype": "text/x-python",
   "name": "python",
   "nbconvert_exporter": "python",
   "pygments_lexer": "ipython2",
   "version": "2.7.6"
  }
 },
 "nbformat": 4,
 "nbformat_minor": 5
}
