{
 "cells": [
  {
   "metadata": {},
   "cell_type": "code",
   "outputs": [],
   "execution_count": null,
   "source": [
    "from enums import CollectionNames, EmbeddingModels\n",
    "from qdrant_client.models import Filter, FieldCondition, MatchValue\n",
    "\n",
    "from retrieval_util import (\n",
    "    get_qdrant_client,\n",
    "    get_embeddings_function,\n",
    "    retrieve_run_dict_with_documents_with_scores,\n",
    "    create_llm_for_self_query_retriever\n",
    ")\n",
    "\n",
    "import os\n",
    "import json\n",
    "import logging\n",
    "from ranx import Qrels, Run, evaluate, compare\n",
    "\n",
    "os.environ[\n",
    "    \"TOKENIZERS_PARALLELISM\"] = \"false\"  # Verhindert Fehler beim Erzeugen von Embeddings (Tritt sporadisch auf, konnte ich nicht gezielt reproduzieren)\n",
    "logging.basicConfig(level=logging.INFO)"
   ],
   "id": "d49134907fffdd00"
  },
  {
   "metadata": {},
   "cell_type": "markdown",
   "source": "**Dieses Notebook liefert die Ergebnisse, die auch in der Arbeit für das intfloat/multilingual-e5-large aufgegriffen und bewertet werden.**",
   "id": "6fbb19ddd8e2ee1a"
  },
  {
   "metadata": {},
   "cell_type": "markdown",
   "source": [
    "**use_original_query=False** gesetzt? -> In retrieval_util.py setzen! Siehe kommentar im unteren Feld\n",
    "\n",
    "Nach Änderung muss der Jupyter Server neu gestartet werden, damit die Änderungen wirksam werden.\n",
    "\n",
    "\n",
    "**Ergebnisse wurden @5 und @10 bestimmt. Es werden nur Ergebnisse @10 betrachtet, da das der Maßstab im MTEB ist.**"
   ],
   "id": "6578685476a8a86a"
  },
  {
   "metadata": {
    "ExecuteTime": {
     "end_time": "2025-03-16T12:27:36.492917Z",
     "start_time": "2025-03-16T12:27:36.488914Z"
    }
   },
   "cell_type": "code",
   "source": [
    "# in der retrieval_util.py muss der Parameter use_original_query=False gesetzt werden (in der funktion für den SelfQueryRetriever)\n",
    "# Behilfslösung, da ich nicht die Signatur der Funktion umschreiben will, sonst muss das beim Aufruf in den vorherigen Evaluationen auch wieder angepasst werden\n",
    "SELF_QUERY_RETRIEVER_FRAGEN = {\n",
    "    1: \"Wann kann ich mich für den Master in Elektrotechnik in Meschede einschreiben?\",\n",
    "    2: \"Welche Literatur ist relevant für das Modul Mathematik im Bachelorstudiengang Elektrotechnik in Soest?\",\n",
    "    3: \"Welche Fachgebiete sind an der FH vertreten?\",\n",
    "    4: \"Ist eine Beurlaubung während des Studiums möglich?\",\n",
    "    5: \"Welche Studienmodelle werden angeboten?\",\n",
    "    6: \"Wie viele Seiten muss ich in meiner Bachelorarbeit in Wirtschaftsinformatik in Hagen schreiben?\",\n",
    "    7: \"Wie sind Portfolioprüfungen im Bachelorstudiengang Elektrotechnik in Soest aufgebaut?\",\n",
    "    8: \"Was muss ich beachten, wenn ich bei einer Prüfung krank bin?\",\n",
    "    9: \"Was sind die Inhalte im Modul IT-Sicherheit im Bachelorstudiengang Elektrotechnik in Hagen?\",\n",
    "    10: \"Wie lange dauern die Klausuren im Bachelorstudiengang Wirtschaftsinformatik in Hagen?\"\n",
    "}\n",
    "'''\n",
    "Richtig vergleichbar ist dieser Ansatz nicht, da die Fragen nicht identisch sind.\n",
    "Ebenso werden die vereinfachten Fragen nicht mit den selbst formulierten übereinstimmen, da sie durch das LLM generiert werden.\n",
    "\n",
    "Hiermit soll dennoch gezeigt werden, wie dieser Ansatz performt.\n",
    "Für ein reales System eignet sich der SelfQueryRetriever potenziell nicht.\n",
    "Wenn in einem erweiterten System weitere Felder für das Filtern (z. B. Studienmodelle) hinzugefügt werden,\n",
    "müssten auch diese in der Fragestellung eingebunden werden. Die Fragen würden immer länger und komplexer werden.\n",
    "Dieser Aspekt ist jedoch nicht Teil der Arbeit.\n",
    "\n",
    "Daher wird der Ansatz zwar mit evaluiert, in der Arbeit schließe ich diesen jedoch begründet aus.\n",
    "'''"
   ],
   "id": "54bb8e69bb7a1742",
   "outputs": [
    {
     "data": {
      "text/plain": [
       "'\\nRichtig vergleichbar ist dieser Ansatz nicht, da die Fragen nicht identisch sind.\\nEbenso werden die vereinfachten Fragen nicht mit den selbst formulierten übereinstimmen, da sie durch das LLM generiert werden.\\n\\nHiermit soll dennoch gezeigt werden, wie dieser Ansatz performt.\\nFür ein reales System eignet sich der SelfQueryRetriever potenziell nicht.\\nWenn in einem erweiterten System weitere Felder für das Filtern (z. B. Studienmodelle) hinzugefügt werden,\\nmüssten auch diese in der Fragestellung eingebunden werden. Die Fragen würden immer länger und komplexer werden.\\nDas ist aber ein Aspekt der Gebrauchstauglichkeit und nicht der Funktionsweise/Performance des Systems.\\n\\nDaher wird der Ansatz zwar mit evaluiert, in der Arbeit schließe ich diesen jedoch aufgrund der genannten Aspekte aus.\\n'"
      ]
     },
     "execution_count": 3,
     "metadata": {},
     "output_type": "execute_result"
    }
   ],
   "execution_count": 3
  },
  {
   "metadata": {
    "ExecuteTime": {
     "end_time": "2025-03-16T12:27:36.542162Z",
     "start_time": "2025-03-16T12:27:36.509117Z"
    }
   },
   "cell_type": "code",
   "source": [
    "# Konstanten\n",
    "MAX_DOCUMENTS = 10\n",
    "BASE_PATH = \"./infloat_retrieval_results_AT_10\"\n",
    "LLM = create_llm_for_self_query_retriever()\n",
    "FRAGEN = {\n",
    "    1: \"Wann kann ich mich einschreiben?\",\n",
    "    2: \"Welche Literatur ist relevant für das Modul Mathematik?\",\n",
    "    3: \"Welche Fachgebiete sind an der FH vertreten?\",\n",
    "    4: \"Ist eine Beurlaubung während des Studiums möglich?\",\n",
    "    5: \"Welche Studienmodelle werden angeboten?\",\n",
    "    6: \"Wie viele Seiten muss ich in meiner Bachelorarbeit schreiben?\",\n",
    "    7: \"Wie sind Portfolioprüfungen aufgebaut?\",\n",
    "    8: \"Was muss ich beachten, wenn ich bei einer Prüfung krank bin?\",\n",
    "    9: \"Was sind die Inhalte im Modul IT-Sicherheit?\",\n",
    "    10: \"Wie lange dauern die Klausuren?\"\n",
    "}\n",
    "METRICS = [\"ndcg@10\", \"mrr@10\", \"map@10\", \"precision@10\", \"recall@10\", \"hits@10\", \"hit_rate@10\"]"
   ],
   "id": "9391a75610385e15",
   "outputs": [],
   "execution_count": 4
  },
  {
   "metadata": {
    "ExecuteTime": {
     "end_time": "2025-03-16T12:27:36.550254Z",
     "start_time": "2025-03-16T12:27:36.546803Z"
    }
   },
   "cell_type": "code",
   "source": [
    "# Alle relevanten Filter für die Fragen\n",
    "def create_field_condition(field, value):\n",
    "    return FieldCondition(\n",
    "        key=f\"metadata.{field}\",\n",
    "        match=MatchValue(value=value)\n",
    "    )\n",
    "\n",
    "\n",
    "FILTERS = {\n",
    "    1: Filter(must=[\n",
    "        create_field_condition(\"studiengang\", \"Elektrotechnik\"),\n",
    "        create_field_condition(\"standort\", \"Meschede\"),\n",
    "        create_field_condition(\"abschluss\", \"Master\")\n",
    "    ]),\n",
    "    2: Filter(must=[\n",
    "        create_field_condition(\"standort\", \"Soest\"),\n",
    "        create_field_condition(\"studiengang\", \"Elektrotechnik\"),\n",
    "        create_field_condition(\"abschluss\", \"Bachelor\")\n",
    "    ]),\n",
    "    3: Filter(must=[\n",
    "        create_field_condition(\"studiengang\", \"Alle\"),\n",
    "        create_field_condition(\"standort\", \"Alle\"),\n",
    "        create_field_condition(\"abschluss\", \"Alle\")\n",
    "    ]),\n",
    "    4: Filter(must=[\n",
    "        create_field_condition(\"studiengang\", \"Alle\"),\n",
    "        create_field_condition(\"standort\", \"Alle\"),\n",
    "        create_field_condition(\"abschluss\", \"Alle\")\n",
    "    ]),\n",
    "    5: Filter(must=[\n",
    "        create_field_condition(\"studiengang\", \"Alle\"),\n",
    "        create_field_condition(\"standort\", \"Alle\"),\n",
    "        create_field_condition(\"abschluss\", \"Alle\")\n",
    "    ]),\n",
    "    6: Filter(must=[\n",
    "        create_field_condition(\"studiengang\", \"Wirtschaftsinformatik\"),\n",
    "        create_field_condition(\"standort\", \"Hagen\"),\n",
    "        create_field_condition(\"abschluss\", \"Bachelor\")\n",
    "    ]),\n",
    "    7: Filter(must=[\n",
    "        create_field_condition(\"studiengang\", \"Elektrotechnik\"),\n",
    "        create_field_condition(\"standort\", \"Soest\"),\n",
    "        create_field_condition(\"abschluss\", \"Bachelor\")\n",
    "    ]),\n",
    "    8: Filter(must=[\n",
    "        create_field_condition(\"studiengang\", \"Alle\"),\n",
    "        create_field_condition(\"standort\", \"Alle\"),\n",
    "        create_field_condition(\"abschluss\", \"Alle\")\n",
    "    ]),\n",
    "    9: Filter(must=[\n",
    "        create_field_condition(\"studiengang\", \"Elektrotechnik\"),\n",
    "        create_field_condition(\"standort\", \"Hagen\"),\n",
    "        create_field_condition(\"abschluss\", \"Bachelor\")\n",
    "    ]),\n",
    "    10: Filter(must=[\n",
    "        create_field_condition(\"studiengang\", \"Wirtschaftsinformatik\"),\n",
    "        create_field_condition(\"standort\", \"Hagen\"),\n",
    "        create_field_condition(\"abschluss\", \"Bachelor\")\n",
    "    ]),\n",
    "}"
   ],
   "id": "4d79d04fa6cd5da0",
   "outputs": [],
   "execution_count": 5
  },
  {
   "metadata": {
    "ExecuteTime": {
     "end_time": "2025-03-16T12:27:36.556723Z",
     "start_time": "2025-03-16T12:27:36.554823Z"
    }
   },
   "cell_type": "code",
   "source": [
    "def save_results_to_file(file_path, results_dict):\n",
    "    try:\n",
    "        with open(file_path, \"w\") as file:\n",
    "            json.dump(results_dict, file, indent=4)\n",
    "        print(f\"Ergebnisse wurden erfolgreich in {file_path} gespeichert.\")\n",
    "    except Exception as e:\n",
    "        print(f\"Fehler beim Speichern der Datei: {e}\")"
   ],
   "id": "512accef7b71c177",
   "outputs": [],
   "execution_count": 6
  },
  {
   "metadata": {
    "ExecuteTime": {
     "end_time": "2025-03-16T12:27:36.933633Z",
     "start_time": "2025-03-16T12:27:36.561058Z"
    }
   },
   "cell_type": "code",
   "source": [
    "# Mapping (qrels) für die Collections mit fester Länge\n",
    "token_based_qrels_dict = {\n",
    "    \"q_1\": {\n",
    "        \"d_1021\": 10,\n",
    "        \"d_1022\": 1\n",
    "    },\n",
    "    \"q_2\": {\n",
    "        \"d_1301\": 10\n",
    "    },\n",
    "    \"q_3\": {\n",
    "        \"d_1476\": 10,\n",
    "        \"d_1480\": 10,\n",
    "        \"d_1481\": 2\n",
    "    },\n",
    "    \"q_4\": {\n",
    "        \"d_1498\": 10,\n",
    "        \"d_1499\": 10,\n",
    "        \"d_1500\": 2\n",
    "    },\n",
    "    \"q_5\": {\n",
    "        \"d_1482\": 10,\n",
    "        \"d_1483\": 10,\n",
    "        \"d_1484\": 10,\n",
    "        \"d_1485\": 10\n",
    "    },\n",
    "    \"q_6\": {\n",
    "        \"d_18\": 10\n",
    "    },\n",
    "    \"q_7\": {\n",
    "        \"d_1192\": 10,\n",
    "        \"d_1193\": 8\n",
    "    },\n",
    "    \"q_8\": {\n",
    "        \"d_1530\": 10,\n",
    "        \"d_1553\": 10,\n",
    "        \"d_1554\": 10,\n",
    "        \"d_1555\": 10\n",
    "    },\n",
    "    \"q_9\": {\n",
    "        \"d_704\": 10\n",
    "    },\n",
    "    \"q_10\": {\n",
    "        \"d_14\": 10,\n",
    "        \"d_15\": 10\n",
    "    }\n",
    "}\n",
    "\n",
    "TOKEN_BASED_QRELS = Qrels(token_based_qrels_dict)"
   ],
   "id": "19e24c4098b3b27d",
   "outputs": [],
   "execution_count": 7
  },
  {
   "metadata": {
    "ExecuteTime": {
     "end_time": "2025-03-16T12:27:38.230704Z",
     "start_time": "2025-03-16T12:27:38.228154Z"
    }
   },
   "cell_type": "code",
   "source": [
    "# Mapping (qrels) für die Collections mit rekursiv gebildeten Chunks\n",
    "recursive_qrels_dict = {\n",
    "    \"q_1\": {\n",
    "        \"d_1371\": 10,\n",
    "        \"d_1370\": 1\n",
    "    },\n",
    "    \"q_2\": {\n",
    "        \"d_1866\": 10\n",
    "    },\n",
    "    \"q_3\": {\n",
    "        \"d_2292\": 10,\n",
    "        \"d_2293\": 2,\n",
    "        \"d_2286\": 10\n",
    "    },\n",
    "    \"q_4\": {\n",
    "        \"d_2313\": 10,\n",
    "        \"d_2314\": 10,\n",
    "        \"d_2315\": 2\n",
    "    },\n",
    "    \"q_5\": {\n",
    "        \"d_2290\": 4,\n",
    "        \"d_2295\": 10,\n",
    "        \"d_2296\": 10,\n",
    "        \"d_2297\": 10,\n",
    "        \"d_2298\": 10\n",
    "    },\n",
    "    \"q_6\": {\n",
    "        \"d_25\": 10\n",
    "    },\n",
    "    \"q_7\": {\n",
    "        \"d_1586\": 10\n",
    "    },\n",
    "    \"q_8\": {\n",
    "        \"d_2388\": 10,\n",
    "        \"d_2389\": 10,\n",
    "        \"d_2390\": 10,\n",
    "        \"d_2356\": 8,\n",
    "        \"d_2357\": 8\n",
    "    },\n",
    "    \"q_9\": {\n",
    "        \"d_946\": 10\n",
    "    },\n",
    "    \"q_10\": {\n",
    "        \"d_19\": 10\n",
    "    }\n",
    "}\n",
    "\n",
    "RECURSIVE_QRELS = Qrels(recursive_qrels_dict)"
   ],
   "id": "5fc8f71faf5092df",
   "outputs": [],
   "execution_count": 8
  },
  {
   "metadata": {
    "ExecuteTime": {
     "end_time": "2025-03-16T12:27:46.212337Z",
     "start_time": "2025-03-16T12:27:38.236430Z"
    }
   },
   "cell_type": "code",
   "source": "embeddings = get_embeddings_function(model_name=EmbeddingModels.INFLOAT.value)",
   "id": "b83dfc59c0af47f4",
   "outputs": [
    {
     "name": "stderr",
     "output_type": "stream",
     "text": [
      "/Users/bastian/Desktop/BachelorProjektAbgabe/.venv/lib/python3.12/site-packages/tqdm/auto.py:21: TqdmWarning: IProgress not found. Please update jupyter and ipywidgets. See https://ipywidgets.readthedocs.io/en/stable/user_install.html\n",
      "  from .autonotebook import tqdm as notebook_tqdm\n",
      "2025-03-16 13:27:40,691 [INFO] PyTorch version 2.6.0 available.\n",
      "2025-03-16 13:27:40,923 [INFO] Use pytorch device_name: mps\n",
      "2025-03-16 13:27:40,923 [INFO] Load pretrained SentenceTransformer: intfloat/multilingual-e5-large\n"
     ]
    }
   ],
   "execution_count": 9
  },
  {
   "metadata": {
    "ExecuteTime": {
     "end_time": "2025-03-16T12:27:46.661200Z",
     "start_time": "2025-03-16T12:27:46.251789Z"
    }
   },
   "cell_type": "code",
   "source": [
    "qdrant_url = \"http://localhost:6333\"\n",
    "token_based_client = get_qdrant_client(embeddings=embeddings, collection_name=CollectionNames.INFLOAT_TOKEN_BASED.value,\n",
    "                                       qdrant_url=qdrant_url)\n",
    "recursive_client = get_qdrant_client(embeddings=embeddings, collection_name=CollectionNames.INFLOAT_RECURSIVE.value,\n",
    "                                     qdrant_url=qdrant_url)"
   ],
   "id": "3a99d20c8a62846",
   "outputs": [
    {
     "name": "stderr",
     "output_type": "stream",
     "text": [
      "2025-03-16 13:27:46,309 [INFO] HTTP Request: GET http://localhost:6333 \"HTTP/1.1 200 OK\"\n",
      "2025-03-16 13:27:46,319 [INFO] HTTP Request: GET http://localhost:6333/collections/intfloat_multilingual-e5-large_token_based_chunks \"HTTP/1.1 200 OK\"\n",
      "2025-03-16 13:27:46,624 [INFO] HTTP Request: GET http://localhost:6333 \"HTTP/1.1 200 OK\"\n",
      "2025-03-16 13:27:46,629 [INFO] HTTP Request: GET http://localhost:6333/collections/intfloat_multilingual-e5-large_recursive_chunks \"HTTP/1.1 200 OK\"\n"
     ]
    }
   ],
   "execution_count": 10
  },
  {
   "metadata": {
    "ExecuteTime": {
     "end_time": "2025-03-16T12:29:14.619316Z",
     "start_time": "2025-03-16T12:27:46.666573Z"
    }
   },
   "cell_type": "code",
   "source": [
    "# Run dicts ohne Filter, mit optimalen Filtern und mit Self-Query-Retriever erzeugen\n",
    "token_based_result_no_filters = retrieve_run_dict_with_documents_with_scores(client=token_based_client,\n",
    "                                                                             fragen_dict=FRAGEN, mode=\"no_filters\",\n",
    "                                                                             max_documents=MAX_DOCUMENTS)\n",
    "\n",
    "token_based_result_optimal_filters = retrieve_run_dict_with_documents_with_scores(client=token_based_client,\n",
    "                                                                                  fragen_dict=FRAGEN,\n",
    "                                                                                  mode=\"optimal_filters\",\n",
    "                                                                                  filter_dict=FILTERS,\n",
    "                                                                                  max_documents=MAX_DOCUMENTS)\n",
    "\n",
    "token_based_result_self_query_retriever = retrieve_run_dict_with_documents_with_scores(client=token_based_client,\n",
    "                                                                                       fragen_dict=SELF_QUERY_RETRIEVER_FRAGEN,\n",
    "                                                                                       mode=\"self_query_retriever\",\n",
    "                                                                                       llm=LLM,\n",
    "                                                                                       search_kwargs={\n",
    "                                                                                           \"k\": MAX_DOCUMENTS})"
   ],
   "id": "d1e54223dd28e802",
   "outputs": [
    {
     "name": "stderr",
     "output_type": "stream",
     "text": [
      "2025-03-16 13:27:46,786 [INFO] HTTP Request: POST http://localhost:6333/collections/intfloat_multilingual-e5-large_token_based_chunks/points/query \"HTTP/1.1 200 OK\"\n",
      "2025-03-16 13:27:46,907 [INFO] HTTP Request: POST http://localhost:6333/collections/intfloat_multilingual-e5-large_token_based_chunks/points/query \"HTTP/1.1 200 OK\"\n",
      "2025-03-16 13:27:47,009 [INFO] HTTP Request: POST http://localhost:6333/collections/intfloat_multilingual-e5-large_token_based_chunks/points/query \"HTTP/1.1 200 OK\"\n",
      "2025-03-16 13:27:47,050 [INFO] HTTP Request: POST http://localhost:6333/collections/intfloat_multilingual-e5-large_token_based_chunks/points/query \"HTTP/1.1 200 OK\"\n",
      "2025-03-16 13:27:47,109 [INFO] HTTP Request: POST http://localhost:6333/collections/intfloat_multilingual-e5-large_token_based_chunks/points/query \"HTTP/1.1 200 OK\"\n",
      "2025-03-16 13:27:47,147 [INFO] HTTP Request: POST http://localhost:6333/collections/intfloat_multilingual-e5-large_token_based_chunks/points/query \"HTTP/1.1 200 OK\"\n",
      "2025-03-16 13:27:47,208 [INFO] HTTP Request: POST http://localhost:6333/collections/intfloat_multilingual-e5-large_token_based_chunks/points/query \"HTTP/1.1 200 OK\"\n",
      "2025-03-16 13:27:47,306 [INFO] HTTP Request: POST http://localhost:6333/collections/intfloat_multilingual-e5-large_token_based_chunks/points/query \"HTTP/1.1 200 OK\"\n",
      "2025-03-16 13:27:47,400 [INFO] HTTP Request: POST http://localhost:6333/collections/intfloat_multilingual-e5-large_token_based_chunks/points/query \"HTTP/1.1 200 OK\"\n",
      "2025-03-16 13:27:47,462 [INFO] HTTP Request: POST http://localhost:6333/collections/intfloat_multilingual-e5-large_token_based_chunks/points/query \"HTTP/1.1 200 OK\"\n",
      "2025-03-16 13:27:47,508 [INFO] HTTP Request: POST http://localhost:6333/collections/intfloat_multilingual-e5-large_token_based_chunks/points/query \"HTTP/1.1 200 OK\"\n",
      "2025-03-16 13:27:47,562 [INFO] HTTP Request: POST http://localhost:6333/collections/intfloat_multilingual-e5-large_token_based_chunks/points/query \"HTTP/1.1 200 OK\"\n",
      "2025-03-16 13:27:47,600 [INFO] HTTP Request: POST http://localhost:6333/collections/intfloat_multilingual-e5-large_token_based_chunks/points/query \"HTTP/1.1 200 OK\"\n",
      "2025-03-16 13:27:47,638 [INFO] HTTP Request: POST http://localhost:6333/collections/intfloat_multilingual-e5-large_token_based_chunks/points/query \"HTTP/1.1 200 OK\"\n",
      "2025-03-16 13:27:47,698 [INFO] HTTP Request: POST http://localhost:6333/collections/intfloat_multilingual-e5-large_token_based_chunks/points/query \"HTTP/1.1 200 OK\"\n",
      "2025-03-16 13:27:47,738 [INFO] HTTP Request: POST http://localhost:6333/collections/intfloat_multilingual-e5-large_token_based_chunks/points/query \"HTTP/1.1 200 OK\"\n",
      "2025-03-16 13:27:47,802 [INFO] HTTP Request: POST http://localhost:6333/collections/intfloat_multilingual-e5-large_token_based_chunks/points/query \"HTTP/1.1 200 OK\"\n",
      "2025-03-16 13:27:47,846 [INFO] HTTP Request: POST http://localhost:6333/collections/intfloat_multilingual-e5-large_token_based_chunks/points/query \"HTTP/1.1 200 OK\"\n",
      "2025-03-16 13:27:47,889 [INFO] HTTP Request: POST http://localhost:6333/collections/intfloat_multilingual-e5-large_token_based_chunks/points/query \"HTTP/1.1 200 OK\"\n",
      "2025-03-16 13:27:47,944 [INFO] HTTP Request: POST http://localhost:6333/collections/intfloat_multilingual-e5-large_token_based_chunks/points/query \"HTTP/1.1 200 OK\"\n",
      "2025-03-16 13:27:50,795 [INFO] HTTP Request: POST http://127.0.0.1:11434/api/chat \"HTTP/1.1 200 OK\"\n",
      "2025-03-16 13:28:00,214 [INFO] Generated Query: query='Master in Elektrotechnik' filter=Operation(operator=<Operator.AND: 'and'>, arguments=[Comparison(comparator=<Comparator.EQ: 'eq'>, attribute='studiengang', value='Elektrotechnik'), Comparison(comparator=<Comparator.EQ: 'eq'>, attribute='abschluss', value='Master'), Comparison(comparator=<Comparator.EQ: 'eq'>, attribute='standort', value='Meschede')]) limit=None\n",
      "2025-03-16 13:28:01,313 [INFO] HTTP Request: POST http://localhost:6333/collections/intfloat_multilingual-e5-large_token_based_chunks/points/query \"HTTP/1.1 200 OK\"\n",
      "2025-03-16 13:28:02,887 [INFO] HTTP Request: POST http://127.0.0.1:11434/api/chat \"HTTP/1.1 200 OK\"\n",
      "2025-03-16 13:28:12,653 [INFO] Generated Query: query='Mathematik im Bachelorstudiengang Elektrotechnik' filter=Operation(operator=<Operator.AND: 'and'>, arguments=[Comparison(comparator=<Comparator.EQ: 'eq'>, attribute='studiengang', value='Elektrotechnik'), Comparison(comparator=<Comparator.EQ: 'eq'>, attribute='abschluss', value='Bachelor'), Comparison(comparator=<Comparator.EQ: 'eq'>, attribute='standort', value='Soest')]) limit=None\n",
      "2025-03-16 13:28:13,648 [INFO] HTTP Request: POST http://localhost:6333/collections/intfloat_multilingual-e5-large_token_based_chunks/points/query \"HTTP/1.1 200 OK\"\n",
      "2025-03-16 13:28:14,115 [INFO] HTTP Request: POST http://127.0.0.1:11434/api/chat \"HTTP/1.1 200 OK\"\n",
      "2025-03-16 13:28:18,097 [INFO] Generated Query: query='Fachgebiete an der FH' filter=None limit=None\n",
      "2025-03-16 13:28:18,955 [INFO] HTTP Request: POST http://localhost:6333/collections/intfloat_multilingual-e5-large_token_based_chunks/points/query \"HTTP/1.1 200 OK\"\n",
      "2025-03-16 13:28:19,408 [INFO] HTTP Request: POST http://127.0.0.1:11434/api/chat \"HTTP/1.1 200 OK\"\n",
      "2025-03-16 13:28:23,301 [INFO] Generated Query: query='Beurlaubung während des Studiums' filter=None limit=None\n",
      "2025-03-16 13:28:24,234 [INFO] HTTP Request: POST http://localhost:6333/collections/intfloat_multilingual-e5-large_token_based_chunks/points/query \"HTTP/1.1 200 OK\"\n",
      "2025-03-16 13:28:24,562 [INFO] HTTP Request: POST http://127.0.0.1:11434/api/chat \"HTTP/1.1 200 OK\"\n",
      "2025-03-16 13:28:28,297 [INFO] Generated Query: query='Studienmodelle' filter=None limit=None\n",
      "2025-03-16 13:28:29,346 [INFO] HTTP Request: POST http://localhost:6333/collections/intfloat_multilingual-e5-large_token_based_chunks/points/query \"HTTP/1.1 200 OK\"\n",
      "2025-03-16 13:28:29,867 [INFO] HTTP Request: POST http://127.0.0.1:11434/api/chat \"HTTP/1.1 200 OK\"\n",
      "2025-03-16 13:28:36,522 [INFO] Generated Query: query='wie viele Seiten muss ich in meiner bachelorarbeit in wirtschaftsinformatik in hagen schreiben' filter=Operation(operator=<Operator.AND: 'and'>, arguments=[Comparison(comparator=<Comparator.EQ: 'eq'>, attribute='studiengang', value='Wirtschaftsinformatik'), Comparison(comparator=<Comparator.EQ: 'eq'>, attribute='abschluss', value='Bachelor'), Comparison(comparator=<Comparator.EQ: 'eq'>, attribute='standort', value='Hagen')]) limit=None\n",
      "2025-03-16 13:28:37,575 [INFO] HTTP Request: POST http://localhost:6333/collections/intfloat_multilingual-e5-large_token_based_chunks/points/query \"HTTP/1.1 200 OK\"\n",
      "2025-03-16 13:28:38,115 [INFO] HTTP Request: POST http://127.0.0.1:11434/api/chat \"HTTP/1.1 200 OK\"\n",
      "2025-03-16 13:28:47,387 [INFO] Generated Query: query='Bachelorstudiengang Elektrotechnik in Soest' filter=Operation(operator=<Operator.AND: 'and'>, arguments=[Comparison(comparator=<Comparator.EQ: 'eq'>, attribute='studiengang', value='Elektrotechnik'), Comparison(comparator=<Comparator.EQ: 'eq'>, attribute='abschluss', value='Bachelor'), Comparison(comparator=<Comparator.EQ: 'eq'>, attribute='standort', value='Soest')]) limit=None\n",
      "2025-03-16 13:28:48,354 [INFO] HTTP Request: POST http://localhost:6333/collections/intfloat_multilingual-e5-large_token_based_chunks/points/query \"HTTP/1.1 200 OK\"\n",
      "2025-03-16 13:28:48,965 [INFO] HTTP Request: POST http://127.0.0.1:11434/api/chat \"HTTP/1.1 200 OK\"\n",
      "2025-03-16 13:28:52,789 [INFO] Generated Query: query='krank bei Prüfung' filter=None limit=None\n",
      "2025-03-16 13:28:53,891 [INFO] HTTP Request: POST http://localhost:6333/collections/intfloat_multilingual-e5-large_token_based_chunks/points/query \"HTTP/1.1 200 OK\"\n",
      "2025-03-16 13:28:54,445 [INFO] HTTP Request: POST http://127.0.0.1:11434/api/chat \"HTTP/1.1 200 OK\"\n",
      "2025-03-16 13:29:03,864 [INFO] Generated Query: query='Modul IT-Sicherheit' filter=Operation(operator=<Operator.AND: 'and'>, arguments=[Comparison(comparator=<Comparator.EQ: 'eq'>, attribute='studiengang', value='Elektrotechnik'), Comparison(comparator=<Comparator.EQ: 'eq'>, attribute='abschluss', value='Bachelor'), Comparison(comparator=<Comparator.EQ: 'eq'>, attribute='standort', value='Hagen')]) limit=None\n",
      "2025-03-16 13:29:04,875 [INFO] HTTP Request: POST http://localhost:6333/collections/intfloat_multilingual-e5-large_token_based_chunks/points/query \"HTTP/1.1 200 OK\"\n",
      "2025-03-16 13:29:05,377 [INFO] HTTP Request: POST http://127.0.0.1:11434/api/chat \"HTTP/1.1 200 OK\"\n",
      "2025-03-16 13:29:13,608 [INFO] Generated Query: query='Bachelorstudiengang Wirtschaftsinformatik in Hagen' filter=Operation(operator=<Operator.AND: 'and'>, arguments=[Comparison(comparator=<Comparator.EQ: 'eq'>, attribute='abschluss', value='Bachelor'), Comparison(comparator=<Comparator.EQ: 'eq'>, attribute='studiengang', value='Wirtschaftsinformatik'), Comparison(comparator=<Comparator.EQ: 'eq'>, attribute='standort', value='Hagen')]) limit=None\n",
      "2025-03-16 13:29:14,609 [INFO] HTTP Request: POST http://localhost:6333/collections/intfloat_multilingual-e5-large_token_based_chunks/points/query \"HTTP/1.1 200 OK\"\n"
     ]
    }
   ],
   "execution_count": 11
  },
  {
   "metadata": {},
   "cell_type": "markdown",
   "source": "# Token-Basierte Collections",
   "id": "7e3415c1aef49611"
  },
  {
   "metadata": {
    "ExecuteTime": {
     "end_time": "2025-03-16T12:29:14.700503Z",
     "start_time": "2025-03-16T12:29:14.694909Z"
    }
   },
   "cell_type": "code",
   "source": [
    "# Run dicts in Dateien schreiben, um sie einsehen zu können\n",
    "save_results_to_file(file_path=f\"{BASE_PATH}/token_based_result_no_filters.json\",\n",
    "                     results_dict=token_based_result_no_filters)\n",
    "\n",
    "save_results_to_file(file_path=f\"{BASE_PATH}/token_based_result_optimal_filters.json\",\n",
    "                     results_dict=token_based_result_optimal_filters)\n",
    "\n",
    "save_results_to_file(file_path=f\"{BASE_PATH}/token_based_result_self_query_retriever.json\",\n",
    "                     results_dict=token_based_result_self_query_retriever)"
   ],
   "id": "9dac33ac7cb9fc9d",
   "outputs": [
    {
     "name": "stdout",
     "output_type": "stream",
     "text": [
      "Ergebnisse wurden erfolgreich in ./infloat_retrieval_results_AT_10/token_based_result_no_filters.json gespeichert.\n",
      "Ergebnisse wurden erfolgreich in ./infloat_retrieval_results_AT_10/token_based_result_optimal_filters.json gespeichert.\n",
      "Ergebnisse wurden erfolgreich in ./infloat_retrieval_results_AT_10/token_based_result_self_query_retriever.json gespeichert.\n"
     ]
    }
   ],
   "execution_count": 12
  },
  {
   "metadata": {
    "ExecuteTime": {
     "end_time": "2025-03-16T12:29:15.030117Z",
     "start_time": "2025-03-16T12:29:14.760510Z"
    }
   },
   "cell_type": "code",
   "source": [
    "# Runs erzeugen\n",
    "run_token_based_result_no_filters = Run(token_based_result_no_filters, name=\"token_based_result_no_filters\")\n",
    "\n",
    "run_token_based_result_optimal_filters = Run(token_based_result_optimal_filters,\n",
    "                                             name=\"token_based_result_optimal_filters\")\n",
    "\n",
    "run_token_based_result_self_query_retriever = Run(token_based_result_self_query_retriever,\n",
    "                                                  name=\"token_based_result_self_query_retriever\")"
   ],
   "id": "d3a675cc1f3f15aa",
   "outputs": [],
   "execution_count": 13
  },
  {
   "metadata": {
    "ExecuteTime": {
     "end_time": "2025-03-16T12:29:15.339363Z",
     "start_time": "2025-03-16T12:29:15.033307Z"
    }
   },
   "cell_type": "code",
   "source": [
    "# Evaluation durchführen\n",
    "token_based_scores_no_filters = evaluate(qrels=TOKEN_BASED_QRELS, run=run_token_based_result_no_filters,\n",
    "                                         metrics=METRICS)\n",
    "\n",
    "token_based_scores_optimal_filters = evaluate(qrels=TOKEN_BASED_QRELS, run=run_token_based_result_optimal_filters,\n",
    "                                              metrics=METRICS)\n",
    "\n",
    "token_based_scores_self_query_retriever = evaluate(qrels=TOKEN_BASED_QRELS,\n",
    "                                                   run=run_token_based_result_self_query_retriever, metrics=METRICS)"
   ],
   "id": "8f35f75375912ba7",
   "outputs": [],
   "execution_count": 14
  },
  {
   "metadata": {
    "ExecuteTime": {
     "end_time": "2025-03-16T12:29:15.620063Z",
     "start_time": "2025-03-16T12:29:15.616276Z"
    }
   },
   "cell_type": "code",
   "source": [
    "# Scores in Dateien schreiben, um sie einsehen zu können\n",
    "save_results_to_file(file_path=f\"{BASE_PATH}/token_based_scores_no_filters.json\",\n",
    "                     results_dict=token_based_scores_no_filters)\n",
    "\n",
    "save_results_to_file(file_path=f\"{BASE_PATH}/token_based_scores_optimal_filters.json\",\n",
    "                     results_dict=token_based_scores_optimal_filters)\n",
    "\n",
    "save_results_to_file(file_path=f\"{BASE_PATH}/token_based_scores_self_query_retriever.json\",\n",
    "                     results_dict=token_based_scores_self_query_retriever)"
   ],
   "id": "2866d3e5167d7a90",
   "outputs": [
    {
     "name": "stdout",
     "output_type": "stream",
     "text": [
      "Ergebnisse wurden erfolgreich in ./infloat_retrieval_results_AT_10/token_based_scores_no_filters.json gespeichert.\n",
      "Ergebnisse wurden erfolgreich in ./infloat_retrieval_results_AT_10/token_based_scores_optimal_filters.json gespeichert.\n",
      "Ergebnisse wurden erfolgreich in ./infloat_retrieval_results_AT_10/token_based_scores_self_query_retriever.json gespeichert.\n"
     ]
    }
   ],
   "execution_count": 15
  },
  {
   "metadata": {
    "ExecuteTime": {
     "end_time": "2025-03-16T12:29:15.653002Z",
     "start_time": "2025-03-16T12:29:15.626244Z"
    }
   },
   "cell_type": "code",
   "source": [
    "report = compare(\n",
    "    qrels=TOKEN_BASED_QRELS,\n",
    "    runs=[run_token_based_result_no_filters, run_token_based_result_optimal_filters, run_token_based_result_self_query_retriever],\n",
    "    metrics=METRICS\n",
    ")"
   ],
   "id": "5c8e153bec052a7",
   "outputs": [],
   "execution_count": 16
  },
  {
   "metadata": {
    "ExecuteTime": {
     "end_time": "2025-03-16T12:29:15.676369Z",
     "start_time": "2025-03-16T12:29:15.673592Z"
    }
   },
   "cell_type": "code",
   "source": "print(report)",
   "id": "2940b94e745ba55a",
   "outputs": [
    {
     "name": "stdout",
     "output_type": "stream",
     "text": [
      "#    Model                                    NDCG@10      MRR@10  MAP@10      P@10    Recall@10    Hits@10    Hit Rate@10\n",
      "---  ---------------------------------------  ---------  --------  --------  ------  -----------  ---------  -------------\n",
      "a    token_based_result_no_filters            0.346         0.389  0.273       0.14        0.533        1.4            0.7\n",
      "b    token_based_result_optimal_filters       0.720ᵃ        0.8    0.663ᵃ      0.21        0.8          2.1            0.8\n",
      "c    token_based_result_self_query_retriever  0.382         0.429  0.350       0.13        0.483        1.3            0.6\n"
     ]
    }
   ],
   "execution_count": 17
  },
  {
   "metadata": {
    "ExecuteTime": {
     "end_time": "2025-03-16T12:29:15.685788Z",
     "start_time": "2025-03-16T12:29:15.683440Z"
    }
   },
   "cell_type": "code",
   "source": [
    "with open(f\"{BASE_PATH}/token_report@{MAX_DOCUMENTS}.txt\", \"w\") as file:\n",
    "    file.write(str(report))"
   ],
   "id": "fac68e5adb3c72ba",
   "outputs": [],
   "execution_count": 18
  },
  {
   "metadata": {
    "ExecuteTime": {
     "end_time": "2025-03-16T12:29:15.701338Z",
     "start_time": "2025-03-16T12:29:15.699899Z"
    }
   },
   "cell_type": "code",
   "source": "",
   "id": "156aac74a0f25ce3",
   "outputs": [],
   "execution_count": null
  },
  {
   "metadata": {},
   "cell_type": "markdown",
   "source": "# Rekursive Collections",
   "id": "a08943aff1790321"
  },
  {
   "metadata": {
    "ExecuteTime": {
     "end_time": "2025-03-16T12:30:41.101005Z",
     "start_time": "2025-03-16T12:29:15.722024Z"
    }
   },
   "cell_type": "code",
   "source": [
    "recursive_result_no_filters = retrieve_run_dict_with_documents_with_scores(client=recursive_client, fragen_dict=FRAGEN,\n",
    "                                                                           mode=\"no_filters\",\n",
    "                                                                           max_documents=MAX_DOCUMENTS)\n",
    "\n",
    "recursive_result_optimal_filters = retrieve_run_dict_with_documents_with_scores(client=recursive_client,\n",
    "                                                                                fragen_dict=FRAGEN,\n",
    "                                                                                mode=\"optimal_filters\",\n",
    "                                                                                filter_dict=FILTERS,\n",
    "                                                                                max_documents=MAX_DOCUMENTS)\n",
    "\n",
    "recursive_result_self_query_retriever = retrieve_run_dict_with_documents_with_scores(client=recursive_client,\n",
    "                                                                                     fragen_dict=SELF_QUERY_RETRIEVER_FRAGEN,\n",
    "                                                                                     mode=\"self_query_retriever\",\n",
    "                                                                                     llm=LLM,\n",
    "                                                                                     search_kwargs={\"k\": MAX_DOCUMENTS})"
   ],
   "id": "fa18e8bf1755a0ff",
   "outputs": [
    {
     "name": "stderr",
     "output_type": "stream",
     "text": [
      "2025-03-16 13:29:15,873 [INFO] HTTP Request: POST http://localhost:6333/collections/intfloat_multilingual-e5-large_recursive_chunks/points/query \"HTTP/1.1 200 OK\"\n",
      "2025-03-16 13:29:15,926 [INFO] HTTP Request: POST http://localhost:6333/collections/intfloat_multilingual-e5-large_recursive_chunks/points/query \"HTTP/1.1 200 OK\"\n",
      "2025-03-16 13:29:15,975 [INFO] HTTP Request: POST http://localhost:6333/collections/intfloat_multilingual-e5-large_recursive_chunks/points/query \"HTTP/1.1 200 OK\"\n",
      "2025-03-16 13:29:16,017 [INFO] HTTP Request: POST http://localhost:6333/collections/intfloat_multilingual-e5-large_recursive_chunks/points/query \"HTTP/1.1 200 OK\"\n",
      "2025-03-16 13:29:16,086 [INFO] HTTP Request: POST http://localhost:6333/collections/intfloat_multilingual-e5-large_recursive_chunks/points/query \"HTTP/1.1 200 OK\"\n",
      "2025-03-16 13:29:16,133 [INFO] HTTP Request: POST http://localhost:6333/collections/intfloat_multilingual-e5-large_recursive_chunks/points/query \"HTTP/1.1 200 OK\"\n",
      "2025-03-16 13:29:16,202 [INFO] HTTP Request: POST http://localhost:6333/collections/intfloat_multilingual-e5-large_recursive_chunks/points/query \"HTTP/1.1 200 OK\"\n",
      "2025-03-16 13:29:16,256 [INFO] HTTP Request: POST http://localhost:6333/collections/intfloat_multilingual-e5-large_recursive_chunks/points/query \"HTTP/1.1 200 OK\"\n",
      "2025-03-16 13:29:16,312 [INFO] HTTP Request: POST http://localhost:6333/collections/intfloat_multilingual-e5-large_recursive_chunks/points/query \"HTTP/1.1 200 OK\"\n",
      "2025-03-16 13:29:16,377 [INFO] HTTP Request: POST http://localhost:6333/collections/intfloat_multilingual-e5-large_recursive_chunks/points/query \"HTTP/1.1 200 OK\"\n",
      "2025-03-16 13:29:16,438 [INFO] HTTP Request: POST http://localhost:6333/collections/intfloat_multilingual-e5-large_recursive_chunks/points/query \"HTTP/1.1 200 OK\"\n",
      "2025-03-16 13:29:16,498 [INFO] HTTP Request: POST http://localhost:6333/collections/intfloat_multilingual-e5-large_recursive_chunks/points/query \"HTTP/1.1 200 OK\"\n",
      "2025-03-16 13:29:16,541 [INFO] HTTP Request: POST http://localhost:6333/collections/intfloat_multilingual-e5-large_recursive_chunks/points/query \"HTTP/1.1 200 OK\"\n",
      "2025-03-16 13:29:16,585 [INFO] HTTP Request: POST http://localhost:6333/collections/intfloat_multilingual-e5-large_recursive_chunks/points/query \"HTTP/1.1 200 OK\"\n",
      "2025-03-16 13:29:16,653 [INFO] HTTP Request: POST http://localhost:6333/collections/intfloat_multilingual-e5-large_recursive_chunks/points/query \"HTTP/1.1 200 OK\"\n",
      "2025-03-16 13:29:16,692 [INFO] HTTP Request: POST http://localhost:6333/collections/intfloat_multilingual-e5-large_recursive_chunks/points/query \"HTTP/1.1 200 OK\"\n",
      "2025-03-16 13:29:16,744 [INFO] HTTP Request: POST http://localhost:6333/collections/intfloat_multilingual-e5-large_recursive_chunks/points/query \"HTTP/1.1 200 OK\"\n",
      "2025-03-16 13:29:16,782 [INFO] HTTP Request: POST http://localhost:6333/collections/intfloat_multilingual-e5-large_recursive_chunks/points/query \"HTTP/1.1 200 OK\"\n",
      "2025-03-16 13:29:16,829 [INFO] HTTP Request: POST http://localhost:6333/collections/intfloat_multilingual-e5-large_recursive_chunks/points/query \"HTTP/1.1 200 OK\"\n",
      "2025-03-16 13:29:16,892 [INFO] HTTP Request: POST http://localhost:6333/collections/intfloat_multilingual-e5-large_recursive_chunks/points/query \"HTTP/1.1 200 OK\"\n",
      "2025-03-16 13:29:17,713 [INFO] HTTP Request: POST http://127.0.0.1:11434/api/chat \"HTTP/1.1 200 OK\"\n",
      "2025-03-16 13:29:27,163 [INFO] Generated Query: query='Master in Elektrotechnik' filter=Operation(operator=<Operator.AND: 'and'>, arguments=[Comparison(comparator=<Comparator.EQ: 'eq'>, attribute='studiengang', value='Elektrotechnik'), Comparison(comparator=<Comparator.EQ: 'eq'>, attribute='abschluss', value='Master'), Comparison(comparator=<Comparator.EQ: 'eq'>, attribute='standort', value='Meschede')]) limit=None\n",
      "2025-03-16 13:29:28,228 [INFO] HTTP Request: POST http://localhost:6333/collections/intfloat_multilingual-e5-large_recursive_chunks/points/query \"HTTP/1.1 200 OK\"\n",
      "2025-03-16 13:29:29,291 [INFO] HTTP Request: POST http://127.0.0.1:11434/api/chat \"HTTP/1.1 200 OK\"\n",
      "2025-03-16 13:29:39,060 [INFO] Generated Query: query='Mathematik im Bachelorstudiengang Elektrotechnik' filter=Operation(operator=<Operator.AND: 'and'>, arguments=[Comparison(comparator=<Comparator.EQ: 'eq'>, attribute='studiengang', value='Elektrotechnik'), Comparison(comparator=<Comparator.EQ: 'eq'>, attribute='abschluss', value='Bachelor'), Comparison(comparator=<Comparator.EQ: 'eq'>, attribute='standort', value='Soest')]) limit=None\n",
      "2025-03-16 13:29:40,095 [INFO] HTTP Request: POST http://localhost:6333/collections/intfloat_multilingual-e5-large_recursive_chunks/points/query \"HTTP/1.1 200 OK\"\n",
      "2025-03-16 13:29:40,549 [INFO] HTTP Request: POST http://127.0.0.1:11434/api/chat \"HTTP/1.1 200 OK\"\n",
      "2025-03-16 13:29:44,556 [INFO] Generated Query: query='Fachgebiete an der FH' filter=None limit=None\n",
      "2025-03-16 13:29:45,509 [INFO] HTTP Request: POST http://localhost:6333/collections/intfloat_multilingual-e5-large_recursive_chunks/points/query \"HTTP/1.1 200 OK\"\n",
      "2025-03-16 13:29:45,860 [INFO] HTTP Request: POST http://127.0.0.1:11434/api/chat \"HTTP/1.1 200 OK\"\n",
      "2025-03-16 13:29:49,741 [INFO] Generated Query: query='Beurlaubung während des Studiums' filter=None limit=None\n",
      "2025-03-16 13:29:50,653 [INFO] HTTP Request: POST http://localhost:6333/collections/intfloat_multilingual-e5-large_recursive_chunks/points/query \"HTTP/1.1 200 OK\"\n",
      "2025-03-16 13:29:51,046 [INFO] HTTP Request: POST http://127.0.0.1:11434/api/chat \"HTTP/1.1 200 OK\"\n",
      "2025-03-16 13:29:54,785 [INFO] Generated Query: query='Studienmodelle' filter=None limit=None\n",
      "2025-03-16 13:29:55,833 [INFO] HTTP Request: POST http://localhost:6333/collections/intfloat_multilingual-e5-large_recursive_chunks/points/query \"HTTP/1.1 200 OK\"\n",
      "2025-03-16 13:29:56,387 [INFO] HTTP Request: POST http://127.0.0.1:11434/api/chat \"HTTP/1.1 200 OK\"\n",
      "2025-03-16 13:30:03,076 [INFO] Generated Query: query='wie viele Seiten muss ich in meiner bachelorarbeit in wirtschaftsinformatik in hagen schreiben' filter=Operation(operator=<Operator.AND: 'and'>, arguments=[Comparison(comparator=<Comparator.EQ: 'eq'>, attribute='studiengang', value='Wirtschaftsinformatik'), Comparison(comparator=<Comparator.EQ: 'eq'>, attribute='abschluss', value='Bachelor'), Comparison(comparator=<Comparator.EQ: 'eq'>, attribute='standort', value='Hagen')]) limit=None\n",
      "2025-03-16 13:30:04,140 [INFO] HTTP Request: POST http://localhost:6333/collections/intfloat_multilingual-e5-large_recursive_chunks/points/query \"HTTP/1.1 200 OK\"\n",
      "2025-03-16 13:30:04,649 [INFO] HTTP Request: POST http://127.0.0.1:11434/api/chat \"HTTP/1.1 200 OK\"\n",
      "2025-03-16 13:30:13,927 [INFO] Generated Query: query='Bachelorstudiengang Elektrotechnik in Soest' filter=Operation(operator=<Operator.AND: 'and'>, arguments=[Comparison(comparator=<Comparator.EQ: 'eq'>, attribute='studiengang', value='Elektrotechnik'), Comparison(comparator=<Comparator.EQ: 'eq'>, attribute='abschluss', value='Bachelor'), Comparison(comparator=<Comparator.EQ: 'eq'>, attribute='standort', value='Soest')]) limit=None\n",
      "2025-03-16 13:30:15,026 [INFO] HTTP Request: POST http://localhost:6333/collections/intfloat_multilingual-e5-large_recursive_chunks/points/query \"HTTP/1.1 200 OK\"\n",
      "2025-03-16 13:30:15,390 [INFO] HTTP Request: POST http://127.0.0.1:11434/api/chat \"HTTP/1.1 200 OK\"\n",
      "2025-03-16 13:30:19,212 [INFO] Generated Query: query='krank bei Prüfung' filter=None limit=None\n",
      "2025-03-16 13:30:20,285 [INFO] HTTP Request: POST http://localhost:6333/collections/intfloat_multilingual-e5-large_recursive_chunks/points/query \"HTTP/1.1 200 OK\"\n",
      "2025-03-16 13:30:20,935 [INFO] HTTP Request: POST http://127.0.0.1:11434/api/chat \"HTTP/1.1 200 OK\"\n",
      "2025-03-16 13:30:30,391 [INFO] Generated Query: query='Modul IT-Sicherheit' filter=Operation(operator=<Operator.AND: 'and'>, arguments=[Comparison(comparator=<Comparator.EQ: 'eq'>, attribute='studiengang', value='Elektrotechnik'), Comparison(comparator=<Comparator.EQ: 'eq'>, attribute='abschluss', value='Bachelor'), Comparison(comparator=<Comparator.EQ: 'eq'>, attribute='standort', value='Hagen')]) limit=None\n",
      "2025-03-16 13:30:31,459 [INFO] HTTP Request: POST http://localhost:6333/collections/intfloat_multilingual-e5-large_recursive_chunks/points/query \"HTTP/1.1 200 OK\"\n",
      "2025-03-16 13:30:31,887 [INFO] HTTP Request: POST http://127.0.0.1:11434/api/chat \"HTTP/1.1 200 OK\"\n",
      "2025-03-16 13:30:40,114 [INFO] Generated Query: query='Bachelorstudiengang Wirtschaftsinformatik in Hagen' filter=Operation(operator=<Operator.AND: 'and'>, arguments=[Comparison(comparator=<Comparator.EQ: 'eq'>, attribute='abschluss', value='Bachelor'), Comparison(comparator=<Comparator.EQ: 'eq'>, attribute='studiengang', value='Wirtschaftsinformatik'), Comparison(comparator=<Comparator.EQ: 'eq'>, attribute='standort', value='Hagen')]) limit=None\n",
      "2025-03-16 13:30:41,085 [INFO] HTTP Request: POST http://localhost:6333/collections/intfloat_multilingual-e5-large_recursive_chunks/points/query \"HTTP/1.1 200 OK\"\n"
     ]
    }
   ],
   "execution_count": 19
  },
  {
   "metadata": {
    "ExecuteTime": {
     "end_time": "2025-03-16T12:30:41.212603Z",
     "start_time": "2025-03-16T12:30:41.207444Z"
    }
   },
   "cell_type": "code",
   "source": [
    "save_results_to_file(file_path=f\"{BASE_PATH}/recursive_result_no_filters.json\",\n",
    "                     results_dict=recursive_result_no_filters)\n",
    "\n",
    "save_results_to_file(file_path=f\"{BASE_PATH}/recursive_result_optimal_filters.json\",\n",
    "                     results_dict=recursive_result_optimal_filters)\n",
    "\n",
    "save_results_to_file(file_path=f\"{BASE_PATH}/recursive_result_self_query_retriever.json\",\n",
    "                     results_dict=recursive_result_self_query_retriever)"
   ],
   "id": "a1014cd17733f4c6",
   "outputs": [
    {
     "name": "stdout",
     "output_type": "stream",
     "text": [
      "Ergebnisse wurden erfolgreich in ./infloat_retrieval_results_AT_10/recursive_result_no_filters.json gespeichert.\n",
      "Ergebnisse wurden erfolgreich in ./infloat_retrieval_results_AT_10/recursive_result_optimal_filters.json gespeichert.\n",
      "Ergebnisse wurden erfolgreich in ./infloat_retrieval_results_AT_10/recursive_result_self_query_retriever.json gespeichert.\n"
     ]
    }
   ],
   "execution_count": 20
  },
  {
   "metadata": {
    "ExecuteTime": {
     "end_time": "2025-03-16T12:30:41.283501Z",
     "start_time": "2025-03-16T12:30:41.272939Z"
    }
   },
   "cell_type": "code",
   "source": [
    "run_recursive_result_no_filters = Run(recursive_result_no_filters, name=\"recursive_result_no_filters\")\n",
    "\n",
    "run_recursive_result_optimal_filters = Run(recursive_result_optimal_filters, name=\"recursive_result_optimal_filters\")\n",
    "\n",
    "run_recursive_result_self_query_retriever = Run(recursive_result_self_query_retriever, name=\"recursive_result_self_query_retriever\")"
   ],
   "id": "645593bec80088a4",
   "outputs": [],
   "execution_count": 21
  },
  {
   "metadata": {
    "ExecuteTime": {
     "end_time": "2025-03-16T12:30:41.316577Z",
     "start_time": "2025-03-16T12:30:41.302093Z"
    }
   },
   "cell_type": "code",
   "source": [
    "recursive_scores_no_filters = evaluate(qrels=RECURSIVE_QRELS, run=run_recursive_result_no_filters, metrics=METRICS)\n",
    "\n",
    "recursive_scores_optimal_filters = evaluate(qrels=RECURSIVE_QRELS, run=run_recursive_result_optimal_filters,\n",
    "                                            metrics=METRICS)\n",
    "\n",
    "recursive_scores_self_query_retriever = evaluate(qrels=RECURSIVE_QRELS, run=run_recursive_result_self_query_retriever, metrics=METRICS)"
   ],
   "id": "65c3942333833a56",
   "outputs": [],
   "execution_count": 22
  },
  {
   "metadata": {
    "ExecuteTime": {
     "end_time": "2025-03-16T12:30:41.332094Z",
     "start_time": "2025-03-16T12:30:41.328952Z"
    }
   },
   "cell_type": "code",
   "source": [
    "save_results_to_file(file_path=f\"{BASE_PATH}/recursive_scores_no_filters.json\",\n",
    "                     results_dict=recursive_scores_no_filters)\n",
    "\n",
    "save_results_to_file(file_path=f\"{BASE_PATH}/recursive_scores_optimal_filters.json\",\n",
    "                     results_dict=recursive_scores_optimal_filters)\n",
    "\n",
    "save_results_to_file(file_path=f\"{BASE_PATH}/recursive_scores_self_query_retriever.json\",\n",
    "                     results_dict=recursive_scores_self_query_retriever)"
   ],
   "id": "c9fd1ea353d0e8c3",
   "outputs": [
    {
     "name": "stdout",
     "output_type": "stream",
     "text": [
      "Ergebnisse wurden erfolgreich in ./infloat_retrieval_results_AT_10/recursive_scores_no_filters.json gespeichert.\n",
      "Ergebnisse wurden erfolgreich in ./infloat_retrieval_results_AT_10/recursive_scores_optimal_filters.json gespeichert.\n",
      "Ergebnisse wurden erfolgreich in ./infloat_retrieval_results_AT_10/recursive_scores_self_query_retriever.json gespeichert.\n"
     ]
    }
   ],
   "execution_count": 23
  },
  {
   "metadata": {
    "ExecuteTime": {
     "end_time": "2025-03-16T12:30:41.371774Z",
     "start_time": "2025-03-16T12:30:41.349211Z"
    }
   },
   "cell_type": "code",
   "source": [
    "report = compare(\n",
    "    qrels=RECURSIVE_QRELS,\n",
    "    runs=[run_recursive_result_no_filters, run_recursive_result_optimal_filters, run_recursive_result_self_query_retriever],\n",
    "    metrics=METRICS\n",
    ")"
   ],
   "id": "a2ba84d6ae8b37f9",
   "outputs": [],
   "execution_count": 24
  },
  {
   "metadata": {
    "ExecuteTime": {
     "end_time": "2025-03-16T12:30:41.383724Z",
     "start_time": "2025-03-16T12:30:41.380713Z"
    }
   },
   "cell_type": "code",
   "source": "print(report)",
   "id": "7fb1a1081d734ca4",
   "outputs": [
    {
     "name": "stdout",
     "output_type": "stream",
     "text": [
      "#    Model                                  NDCG@10    MRR@10    MAP@10      P@10    Recall@10    Hits@10    Hit Rate@10\n",
      "---  -------------------------------------  ---------  --------  --------  ------  -----------  ---------  -------------\n",
      "a    recursive_result_no_filters            0.464      0.458     0.367       0.18        0.697        1.8            0.8\n",
      "b    recursive_result_optimal_filters       0.827ᵃᶜ    0.900ᵃ    0.808ᵃᶜ     0.22        0.9          2.2            0.9\n",
      "c    recursive_result_self_query_retriever  0.428      0.517     0.393       0.15        0.587        1.5            0.7\n"
     ]
    }
   ],
   "execution_count": 25
  },
  {
   "metadata": {
    "ExecuteTime": {
     "end_time": "2025-03-16T12:30:41.401785Z",
     "start_time": "2025-03-16T12:30:41.398896Z"
    }
   },
   "cell_type": "code",
   "source": [
    "with open(f\"{BASE_PATH}/recursive_report@{MAX_DOCUMENTS}.txt\", \"w\") as file:\n",
    "    file.write(str(report))"
   ],
   "id": "1551830bb1ca4927",
   "outputs": [],
   "execution_count": 26
  }
 ],
 "metadata": {
  "kernelspec": {
   "display_name": "Python 3",
   "language": "python",
   "name": "python3"
  },
  "language_info": {
   "codemirror_mode": {
    "name": "ipython",
    "version": 2
   },
   "file_extension": ".py",
   "mimetype": "text/x-python",
   "name": "python",
   "nbconvert_exporter": "python",
   "pygments_lexer": "ipython2",
   "version": "2.7.6"
  }
 },
 "nbformat": 4,
 "nbformat_minor": 5
}
