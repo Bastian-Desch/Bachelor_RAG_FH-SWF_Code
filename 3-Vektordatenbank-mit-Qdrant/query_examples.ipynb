{
 "cells": [
  {
   "cell_type": "code",
   "id": "initial_id",
   "metadata": {
    "collapsed": true,
    "ExecuteTime": {
     "end_time": "2025-03-04T11:14:29.357247Z",
     "start_time": "2025-03-04T11:14:28.423903Z"
    }
   },
   "source": [
    "from langchain_huggingface import HuggingFaceEmbeddings\n",
    "from langchain_qdrant import RetrievalMode, QdrantVectorStore\n",
    "from qdrant_client.models import Filter, FieldCondition, MatchValue"
   ],
   "outputs": [],
   "execution_count": 1
  },
  {
   "metadata": {
    "ExecuteTime": {
     "end_time": "2025-03-04T11:14:31.565289Z",
     "start_time": "2025-03-04T11:14:31.563265Z"
    }
   },
   "cell_type": "code",
   "source": "frage = \"Wie viele Seiten muss ich in meiner Bachelorarbeit in Wirtschaftsinformatik schreiben?\"",
   "id": "b67fdf7b714077a8",
   "outputs": [],
   "execution_count": 2
  },
  {
   "metadata": {
    "ExecuteTime": {
     "end_time": "2025-03-04T11:14:32.314383Z",
     "start_time": "2025-03-04T11:14:32.312454Z"
    }
   },
   "cell_type": "code",
   "source": "encode_kwargs = {'prompt': 'query:'}",
   "id": "75371244340d0a65",
   "outputs": [],
   "execution_count": 3
  },
  {
   "metadata": {
    "ExecuteTime": {
     "end_time": "2025-03-04T11:14:41.244355Z",
     "start_time": "2025-03-04T11:14:33.393209Z"
    }
   },
   "cell_type": "code",
   "source": "embeddings = HuggingFaceEmbeddings(model_name=\"mixedbread-ai/deepset-mxbai-embed-de-large-v1\", encode_kwargs=encode_kwargs)",
   "id": "7448e98eca0d1081",
   "outputs": [
    {
     "name": "stderr",
     "output_type": "stream",
     "text": [
      "/Users/bastian/Desktop/BachelorProjektAbgabe/.venv/lib/python3.12/site-packages/tqdm/auto.py:21: TqdmWarning: IProgress not found. Please update jupyter and ipywidgets. See https://ipywidgets.readthedocs.io/en/stable/user_install.html\n",
      "  from .autonotebook import tqdm as notebook_tqdm\n"
     ]
    }
   ],
   "execution_count": 4
  },
  {
   "metadata": {
    "ExecuteTime": {
     "end_time": "2025-03-04T11:14:42.656459Z",
     "start_time": "2025-03-04T11:14:42.654497Z"
    }
   },
   "cell_type": "code",
   "source": "mixed_bread_token_collection = \"mixedbread-ai_deepset-mxbai-embed-de-large-v1_token_based_chunks\"",
   "id": "a9c59abd859a17fd",
   "outputs": [],
   "execution_count": 5
  },
  {
   "metadata": {
    "ExecuteTime": {
     "end_time": "2025-03-04T11:14:45.177601Z",
     "start_time": "2025-03-04T11:14:45.174892Z"
    }
   },
   "cell_type": "code",
   "source": "qdrant_url = \"http://localhost:6333\"",
   "id": "dc8b52c701ff83ef",
   "outputs": [],
   "execution_count": 6
  },
  {
   "metadata": {
    "ExecuteTime": {
     "end_time": "2025-03-04T06:57:05.443603Z",
     "start_time": "2025-03-04T06:57:04.144755Z"
    }
   },
   "cell_type": "code",
   "source": [
    "qdrant_client = QdrantVectorStore.from_existing_collection(\n",
    "    embedding=embeddings,\n",
    "    retrieval_mode=RetrievalMode.DENSE,\n",
    "    prefer_grpc=False,\n",
    "    collection_name=mixed_bread_token_collection,\n",
    "    url=qdrant_url,\n",
    ")"
   ],
   "id": "f6f8a1471b37dcb6",
   "outputs": [],
   "execution_count": 8
  },
  {
   "metadata": {
    "ExecuteTime": {
     "end_time": "2025-03-04T11:14:47.684146Z",
     "start_time": "2025-03-04T11:14:47.580826Z"
    }
   },
   "cell_type": "code",
   "source": [
    "from qdrant_client import QdrantClient, models\n",
    "client = QdrantClient(url=qdrant_url)\n",
    "print(client.get_collections())"
   ],
   "id": "3cb7e6479360cec7",
   "outputs": [
    {
     "name": "stdout",
     "output_type": "stream",
     "text": [
      "collections=[CollectionDescription(name='mixedbread-ai_deepset-mxbai-embed-de-large-v1_token_based_chunks'), CollectionDescription(name='intfloat_multilingual-e5-large_token_based_chunks'), CollectionDescription(name='intfloat_multilingual-e5-large_recursive_chunks'), CollectionDescription(name='mixedbread-ai_deepset-mxbai-embed-de-large-v1_recursive_chunks')]\n"
     ]
    }
   ],
   "execution_count": 7
  },
  {
   "metadata": {
    "ExecuteTime": {
     "end_time": "2025-03-04T11:14:58.658919Z",
     "start_time": "2025-03-04T11:14:58.646572Z"
    }
   },
   "cell_type": "code",
   "source": [
    "collection_info = client.get_collection(collection_name=\"mixedbread-ai_deepset-mxbai-embed-de-large-v1_token_based_chunks\")\n",
    "print(collection_info)"
   ],
   "id": "881683482c2ab9c2",
   "outputs": [
    {
     "name": "stdout",
     "output_type": "stream",
     "text": [
      "status=<CollectionStatus.GREEN: 'green'> optimizer_status=<OptimizersStatusOneOf.OK: 'ok'> vectors_count=None indexed_vectors_count=0 points_count=1763 segments_count=8 config=CollectionConfig(params=CollectionParams(vectors={'': VectorParams(size=1024, distance=<Distance.COSINE: 'Cosine'>, hnsw_config=None, quantization_config=None, on_disk=None, datatype=None, multivector_config=None)}, shard_number=1, sharding_method=None, replication_factor=1, write_consistency_factor=1, read_fan_out_factor=None, on_disk_payload=True, sparse_vectors={}), hnsw_config=HnswConfig(m=16, ef_construct=100, full_scan_threshold=10000, max_indexing_threads=0, on_disk=False, payload_m=None), optimizer_config=OptimizersConfig(deleted_threshold=0.2, vacuum_min_vector_number=1000, default_segment_number=0, max_segment_size=None, memmap_threshold=None, indexing_threshold=20000, flush_interval_sec=5, max_optimization_threads=None), wal_config=WalConfig(wal_capacity_mb=32, wal_segments_ahead=0), quantization_config=None, strict_mode_config=StrictModeConfig(enabled=False, max_query_limit=None, max_timeout=None, unindexed_filtering_retrieve=None, unindexed_filtering_update=None, search_max_hnsw_ef=None, search_allow_exact=None, search_max_oversampling=None, upsert_max_batchsize=None, max_collection_vector_size_bytes=None, read_rate_limit=None, write_rate_limit=None, max_collection_payload_size_bytes=None, filter_max_conditions=None, condition_max_size=None)) payload_schema={}\n"
     ]
    }
   ],
   "execution_count": 8
  },
  {
   "metadata": {
    "ExecuteTime": {
     "end_time": "2025-03-04T11:15:01.915329Z",
     "start_time": "2025-03-04T11:15:01.911286Z"
    }
   },
   "cell_type": "code",
   "source": "collection_info.config.hnsw_config",
   "id": "50d53aa2f596f9bc",
   "outputs": [
    {
     "data": {
      "text/plain": [
       "HnswConfig(m=16, ef_construct=100, full_scan_threshold=10000, max_indexing_threads=0, on_disk=False, payload_m=None)"
      ]
     },
     "execution_count": 9,
     "metadata": {},
     "output_type": "execute_result"
    }
   ],
   "execution_count": 9
  },
  {
   "metadata": {
    "ExecuteTime": {
     "end_time": "2025-03-04T11:19:48.210043Z",
     "start_time": "2025-03-04T11:19:48.186871Z"
    }
   },
   "cell_type": "code",
   "source": [
    "client.update_collection(\n",
    "    collection_name=\"mixedbread-ai_deepset-mxbai-embed-de-large-v1_token_based_chunks\",\n",
    "    optimizer_config={\"indexing_threshold\": 20000}\n",
    ")\n"
   ],
   "id": "45068401d7154b6f",
   "outputs": [
    {
     "data": {
      "text/plain": [
       "True"
      ]
     },
     "execution_count": 12,
     "metadata": {},
     "output_type": "execute_result"
    }
   ],
   "execution_count": 12
  },
  {
   "metadata": {
    "ExecuteTime": {
     "end_time": "2025-03-03T15:02:16.487968Z",
     "start_time": "2025-03-03T15:02:15.685009Z"
    }
   },
   "cell_type": "code",
   "source": [
    "found_docs = qdrant_client.similarity_search_with_score(\n",
    "    query=frage,\n",
    "    k=5\n",
    ")"
   ],
   "id": "6ff05af0442d8a29",
   "outputs": [],
   "execution_count": 8
  },
  {
   "metadata": {
    "ExecuteTime": {
     "end_time": "2025-03-03T15:02:58.775044Z",
     "start_time": "2025-03-03T15:02:58.770850Z"
    }
   },
   "cell_type": "code",
   "source": "found_docs",
   "id": "68f6bb7d2e97975d",
   "outputs": [
    {
     "data": {
      "text/plain": [
       "[(Document(metadata={'id': 1, 'studiengang': 'Wirtschaftsinformatik', 'abschluss': 'Bachelor', 'standort': 'Hagen', 'link': 'https://www.fh-swf.de/de/studienangebot/studiengaenge/wirtschaftsinformatik__b_sc__/wirtschaftsinformatik__b_sc__1.php', 'hash': '52d4e379d2abc0535448fc42b8962da89d850e7865654a3ea8a44648e2549a4a', '_id': '31b36de5-e963-4069-a963-0fee87c5459d', '_collection_name': 'mixedbread-ai_deepset-mxbai-embed-de-large-v1_token_based_chunks'}, page_content='# Wirtschaftsinformatik B.Sc. ## Hagen 1. Studienangebot 2. Studiengänge 3. Hagen 4. Wirtschaftsinformatik (B.Sc.) ## Bachelor-Studium Wirtschaftsinformatik ### Interdisziplinarität! Das ist der große Trumpf des Bachelor-Studiengangs Wirtschaftsinformatik. Er kombiniert Inhalte aus den Bereichen Informatik, Betriebswirtschaftslehre (BWL) und Technik zu einer attraktiven Mischung mit besten beruflichen Perspektiven. Auf dem Lehrplan stehen Fächer wie IT-Sicherheit, Business Intelligence oder Web-Programmierung. Dazu gibt es eine fundierte Fremdsprachenausbildung in Englisch, Französisch oder Spanisch. Auf einen Blick Was? Kombination von Informatik, Betriebswirtschaftslehre und Technik Für wen? Für alle, die interessiert, wie Informatik in Unternehmen eingesetzt wird Warum? Interdisziplinäres Studium mit fundierter Fremdsprachenausbildung Du hast diesen Studiengang bereits gespeichert! Der Studiengang wurde erfolgreich gemerkt! Vergleichen Sie Studiengänge, vereinbaren Sie einen Beratungstermin oder abonnieren Sie unseren Newsletter. Bewerbungsfristen &amp; Studienstart-Termine Studienstart nur zum Wintersemester. Bewerbung und Einschreibung für Deutsche und Deutschen Gleichgestellte i.d.R. Mitte Mai bis Ende Juli jeden Jahres.Hier finden Sie Fristen für weitere Bewerbungsgruppen (Hochschulwechsler, Gasthörende u.ä.). - Neugierig? Besuchen Sie unsere Infoveranstaltungen - Für einen gelungenen Start ins Studium sorgen die Erstsemesterbegrüßung und der Mathematik-Brückenkurs ## Auf dieser Seite - Der Studiengang im Überblick - Studienvoraussetzungen - Infos zum Bewerbungsverfahren - Info-Video zum Studiengang - Zielgruppe - Berufliche Perspektiven - Studi-Stimmen - Studienaufbau / Verlaufsplan - Infoveranstaltungen / Veranstaltungen zum Studienstart - Weitere Infos / Prüfungsordnungen, Modulhandbücher - Kontakt Studienstart nur zum Wintersemester. Bewerbung und Einschreibung für Deutsche und Deutschen Gleichgestellte i.d.R. Mitte Mai bis Ende Juli jeden Jahres. Hier finden Sie Fristen für weitere Bewerbungsgruppen (Hochschulwechsler, Gasthörende u.ä.). ### Zulassung: NC-frei Dieser Studiengang hat keine Zulassungsbeschränkung. Je nach Qualifikation wird der Nachweis einer praktische'),\n",
       "  0.8388448),\n",
       " (Document(metadata={'id': 270, 'studiengang': 'Wirtschaftsinformatik', 'abschluss': 'Bachelor', 'standort': 'Meschede', 'link': 'https://www.fh-swf.de/media/neu_np/hv_2/downloads_der_studiengangsseiten/fb_iw_1/wirtschaftsinformatik_b_sc_/FPO_2019_Winfo.pdf', 'hash': 'fc8050bc7170d803fa4e588785e842c02a46ed3ebff2882de5825798eb3bb714', '_id': '3c689a85-0546-49c8-b142-bb1d95e96e55', '_collection_name': 'mixedbread-ai_deepset-mxbai-embed-de-large-v1_token_based_chunks'}, page_content=\"Wahlpflichtmodule ## Teil 1 ## Allgemeines ## § 1 Geltungsbereich Diese Fachprüfungsordnung (FPO) für den Bachelorstudiengang Wirtschaftsinformatik im Fachbereich Ingenieur- und Wirtschaftswissenschaften in Meschede gilt zusammen mit der jeweils aktuell gültigen Fassung der Rahmenprüfungsordnung (RPO) der Fachhochschule Südwestfalen. ## § 2 Hochschulgrad Auf Grund der bestandenen Bachelorprüfung gemäß § 2 RPO verleiht die Fachhochschule Südwestfalen in dem Studiengang Wirtschaftsinformatik den akademischen Grad 'Bachelor of Science', kurz 'B.Sc.'. ## § 3 ## Beginn, Dauer, Aufbau und Umfang des Studiums - (1) Das Studium beginnt zum Wintersemester. - (2) Die Regelstudienzeit beträgt sechs Semester. Bei einem Studiengang mit Praxisphase (§ 15) oder optionalem Fachsemester (§ 16) beträgt sie sieben Semester. - (3) Der Leistungsumfang beträgt insgesamt 180 Credits. Das Studium umfasst Pflichtmodule im Umfang von 120 Credits, Technische Wahlpflichtmodule im Umfang von 24 Credits, Wirtschaftswissenschaftliche Wahlpflichtmodule im Umfang von 18 Credits, die Studienarbeit im Umfang von sechs Credits, die Bachelorarbeit im Umfang von zehn Credits sowie das Kolloquium im Umfang von zwei Credits. Bei einem Studiengang mit Praxisphase (§ 15) oder optionalen Fachsemester (§ 16) erhöht sich der Leistungsumfang auf 210 Credits. - (4) Die Pflichtmodule, die gemäß § 4 Absatz 4 RPO für alle Studierenden verpflichtend sind, sind der Anlage 1 zu entnehmen. Der Katalog, aus dem laut § 4 Absatz 4 RPO die Wahlpflichtmodule zu wählen sind, ist in der Anlage 2 und 3 aufgeführt. Näheres zur Gliederung des Studiums sowie Details zu Art, Umfang, Inhalten und Prüfungsformen der Module sind den Anlagen, dem Studienverlaufsplan, und dem Modulhandbuch zu entnehmen. - (5) Die Hochschule ist verpflichtet, die Studierenden beim Zusammenstellen ihrer Wahlpflichtmodule zu beraten. Ziel dieser Beratung ist ein im Wahlpflichtbereich fachlich abgestimmtes Studium. ## § 4 ## Prüfungsausschuss Bezugnehmend auf § 6 Absatz 3 RPO erfolgt die Wahl des vorsitzenden Mitglieds und des stellvertretend vorsitzenden Mitglieds des Prüfungsausschusses nicht durch\"),\n",
       "  0.81644475),\n",
       " (Document(metadata={'id': 10, 'studiengang': 'Wirtschaftsinformatik', 'abschluss': 'Bachelor', 'standort': 'Hagen', 'link': 'https://www.fh-swf.de/media/neu_np/hv_2/prfungsundnderungsordnungen/fbtbw_1/FPO_2018_WiIng_WiInf_IBE_IBI.pdf', 'hash': 'ff861463683837be653a2ba75af2198508491056a31928a7d092453a1ab59a09', '_id': '47d45303-8523-4942-8059-29595565e204', '_collection_name': 'mixedbread-ai_deepset-mxbai-embed-de-large-v1_token_based_chunks'}, page_content='## Fachprüfungsordnung für die Bachelorstudiengänge Wirtschaftsingenieurwesen Wirtschaftsinformatik International Business Administration and Engineering International Business Administration and Informatics an der Fachhochschule Südwestfalen Standort Hagen vom 19. Juli 2018 Auf Grund des § 2 Absatz 4 und des § 64 Absatz 1 des Gesetzes über die Hochschulen des Landes Nordrhein-Westfalen (Hochschulgesetz - HG) vom 16. September 2014 (GV. NRW. S. 547) zuletzt geändert durch Gesetz vom 17. Oktober 2017 (GV. NRW. S. 806) und des § 1 Absatz 1 der Rahmenprüfungsordnung für Bachelor- und Masterstudiengänge an der Fachhochschule Südwestfalen, hat der Fachbereichsrat des Fachbereichs Technische Betriebswirtschaft der Fachhochschule Südwestfalen folgende Fachprüfungsordnung erlassen: ## INHALTSÜBERSICHT ## Teil 1 Allgemeines - § 1 Geltungsbereich - § 2 Hochschulgrad - § 3 Spezielle Zugangsvoraussetzungen - § 4 Beginn, Dauer, Aufbau und Umfang des Studiums - § 5 Prüfungsausschuss - § 6 Prüfende und Beisitzende - § 7 Bewertung von Prüfungsleistungen - § 8 Wiederholung von Prüfungsleistungen ## Teil 2 Modulprüfungen und Studienleistungen - § 9 Umfang und Form der Modulprüfungen - § 10 Zulassung zu Modulprüfungen - § 11 Durchführung von Modulprüfungen - § 12 Klausurarbeiten - § 13 Klausurarbeiten im Antwortwahlverfahren - § 14 Mündliche Prüfungen - § 15 Hausarbeiten - § 16 Projektarbeiten - § 17 Portfolioprüfungen - § 18 Praxisphase - § 19 Auslandsstudium ## Teil 3 Das Studium - § 20 Umfang der Bachelorarbeit - § 21 Zulassung zur Bachelorarbeit - § 22 Durchführung und Bewertung der Bachelorarbeit - § 23 Kolloquium ## Teil 4 ## Ergebnis der Abschlussprüfung § 24 Zeugnis ## Teil 5 Schlussbestimmungen ## § 25 Inkrafttreten, Übergangsregelung und Veröffentlichung - Anlage 1: Studienplan Wirtschaftsingenieurwesen - Anlage 2: Studienplan Wirtschafsinformatik - Anlage 3: Studienplan International Business Administration and Engineering - Anlage 4: Studienplan International Business Administration and Informatics - Anlage 5: Wahlpflichtmodule aus Katalog ## Teil 1 Allgemeines ## § 1 Geltungsbereich Diese Fachprüfungsordnung (FPO) für die Bachelorstudiengänge Wirtschaftsingenieurwesen (WiIng), Wirtschaftsinformatik (WiInf'),\n",
       "  0.81420946),\n",
       " (Document(metadata={'id': 899, 'studiengang': 'Elektrotechnik', 'abschluss': 'Bachelor', 'standort': 'Meschede', 'link': 'https://www.fh-swf.de/media/neu_np/hv_2/downloads_der_studiengangsseiten/fb_iw_1/elektrotechnik_b_eng_/FPO_2019_ETM.pdf', 'hash': '8c2f504ed2e987f70e6dace06843c485bc2b27e36e5c323e0631dfb0acf12e20', '_id': '69d2fee4-4731-4123-8d1e-5a53a78ef0cf', '_collection_name': 'mixedbread-ai_deepset-mxbai-embed-de-large-v1_token_based_chunks'}, page_content='arbeit - (1) Der Umfang der Bachelorarbeit gemäß § 28 Absatz 1 RPO beträgt in der Regel etwa 30 bis 50 Seiten à etwa 32 Zeilen (11⁄2-zeilig). - (2) In Ergänzung zu § 28 Absatz 2 RPO gilt für die Betreuung der Bachelorarbeit, dass diese von jeder oder jedem betreut werden kann, die oder der gemäß § 5 Absatz 1 dieser Fachprüfungsordnung zur Prüferin beziehungsweise zum Prüfer bestellt werden kann. Wenn die Bachelorarbeit in Zusammenarbeit mit einem Unternehmen durchgeführt wird, ist in der Regel das Vorliegen zwingender Gründe für eine Abweichung von dem Erfordernis der einschlägigen selbstständigen Lehrtätigkeit gemäß § 7 RPO anzunehmen. - (3) Die Bearbeitungszeit (Zeitraum von der Ausgabe bis zur Abgabe der Bachelorarbeit) beträgt zwei Monate. Bei einem empirischen, experimentellen oder mathematischen Thema kann der Prüfungsausschuss die Bearbeitungszeit bereits bei der Ausgabe um zwei Wochen erhöhen. Das Thema und die Aufgabenstellung müssen so beschaffen sein, dass die Bachelorarbeit innerhalb der vorgegebenen Frist abgeschlossen werden kann. Auf einen vor Ablauf der Frist gestellten begründeten Antrag der Kandidatin oder des Kandidaten kann der Prüfungsausschuss ausnahmsweise eine Nachfrist der Bearbeitungszeit von bis zu einem Monat gewähren. Die Betreuerin oder der Betreuer soll zu dem Antrag gehört werden. ## § 22 ## Zulassung zur Bachelorarbeit Ergänzend zu § 29 Absatz 1 RPO kann zur Bachelorarbeit nur zugelassen werden, wer: - a) 60 Credits in den Modulprüfungen des ersten und zweiten Fachsemesters gemäß Anlage 1, - b) Mindestens 42 Credits in den Modulprüfungen gemäß Anlage 2 und - c) Sechs Credits aus der bestandenen Projektarbeit erworben hat. ## § 23 ## Durchführung und Bewertung der Bachelorarbeit - (1) Die Rückgabe des Themas der Bachelorarbeit gemäß § 30 Absatz 2 RPO kann nur einmal und nur innerhalb der ersten zwei Wochen des Bearbeitungszeitraums ohne Angaben von Gründen erfolgen. - (2) Abweichend von § 30 Absatz 4 RPO kann die Bachelorarbeit nicht nur in deutscher Sprache, sondern auch in englischer Sprache verfasst werden. - (3) In Ergänzung zu § 30 Absatz 5 RPO ist die Bachelorarbeit von zwei Prüfenden zu bewerten, die vom Prüfungsausschuss bestimmt werden. Darunter müssen die Betreuerin oder der'),\n",
       "  0.8114074),\n",
       " (Document(metadata={'id': 21, 'studiengang': 'Wirtschaftsinformatik', 'abschluss': 'Bachelor', 'standort': 'Hagen', 'link': 'https://www.fh-swf.de/media/neu_np/hv_2/prfungsundnderungsordnungen/fbtbw_1/FPO_2018_WiIng_WiInf_IBE_IBI.pdf', 'hash': 'ff861463683837be653a2ba75af2198508491056a31928a7d092453a1ab59a09', '_id': 'a2a4dd4f-eaa3-43ef-8936-aa961484b871', '_collection_name': 'mixedbread-ai_deepset-mxbai-embed-de-large-v1_token_based_chunks'}, page_content='setzung der Gesamtnote in Form eines ECTS gewichteten arithmetischen Mittels der Einzelnoten der durch das entsprechende Learning Agreement vereinbarten Modulprüfungen berücksichtigt. ## Teil 3 ## Das Studium ## § 20 ## Umfang der Bachelorarbeit Der Umfang der Bachelorarbeit gemäß § 28 Absatz 1 RPO beträgt in der Regel 65 Seiten (inklusive Bilder und Tabellen und ohne Verzeichnisse und Anhänge). Die Bearbeitungszeit (Zeitraum von der Ausgabe bis zur Abgabe der Bachelorarbeit) beträgt höchstens zehn Wochen. Auf einen vor Ablauf der Frist gestellten begründeten Antrag der Kandidatin oder des Kandidaten kann der Prüfungsausschuss ausnahmsweise eine Nachfrist der Bearbeitungszeit von bis zu drei Wochen gewähren. ## § 21 ## Zulassung zur Bachelorarbeit Ergänzend zu § 29 Absatz 1 RPO kann zur Bachelorarbeit nur zugelassen werden, wer die folgende Anzahl an Leistungspunkten erworben hat: - a) WiIng und WiInf: 170 Leistungspunkte aus den ersten sechs Studiensemestern laut Studienplan (Anlagen) und gegebenenfalls dem Auslandssemester, davon 95 Leistungspunkte aus den ersten drei Studiensemestern, - b) IBE und IBI: 170 Leistungspunkte aus den ersten vier Studiensemestern laut Studienplan (Anlagen) und dem Studienjahr im Ausland, davon 92 Leistungspunkte aus den ersten drei Studiensemestern. ## § 22 ## Durchführung und Bewertung der Bachelorarbeit - (1) Die Rückgabe des Themas der Bachelorarbeit gemäß § 30 Absatz 2 RPO kann nur einmal und nur innerhalb der ersten zwei Wochen des Bearbeitungszeitraums ohne Angabe von Gründen erfolgen. - (2) Im Falle der Studiengänge IBE und IBI muss abweichend von § 30 Absatz 4 RPO die Bachelorarbeit in englischer Sprache verfasst werden. - (3) In Ergänzung zu § 30 Absatz 5 RPO gilt hinsichtlich der Personen, die die Bachelorarbeit bewerten, dass die Betreuerin oder der Betreuer regelmäßig die erste Prüferin oder der erste Prüfer ist. - (4) Bezugnehmend auf § 30 Absatz 7 RPO werden durch das Bestehen der Bachelorarbeit zwölf Leistungspunkte erworben. ## § 23 Kolloquium - (1) Ergänzend zu den Regelungen in § 31 Absatz 2 RPO kann zum Kolloquium nur zugelassen werden, wer - a) in den Pflicht- und Wahlpflichtmodulen'),\n",
       "  0.81121624)]"
      ]
     },
     "execution_count": 11,
     "metadata": {},
     "output_type": "execute_result"
    }
   ],
   "execution_count": 11
  },
  {
   "metadata": {
    "ExecuteTime": {
     "end_time": "2025-03-03T15:04:07.388085Z",
     "start_time": "2025-03-03T15:04:07.385960Z"
    }
   },
   "cell_type": "code",
   "source": "aufbau_winfo_frage = \"Wie ist der Studiengang Wirtschaftsinformatik aufgebaut?\"",
   "id": "2045a1daf9931d4a",
   "outputs": [],
   "execution_count": 12
  },
  {
   "metadata": {
    "ExecuteTime": {
     "end_time": "2025-03-03T15:04:09.448600Z",
     "start_time": "2025-03-03T15:04:08.569562Z"
    }
   },
   "cell_type": "code",
   "source": [
    "found_docs = qdrant_client.similarity_search_with_score(\n",
    "    query=aufbau_winfo_frage,\n",
    "    k=5\n",
    ")"
   ],
   "id": "d79521aa77d28588",
   "outputs": [],
   "execution_count": 13
  },
  {
   "metadata": {
    "ExecuteTime": {
     "end_time": "2025-03-03T15:04:15.544390Z",
     "start_time": "2025-03-03T15:04:15.540802Z"
    }
   },
   "cell_type": "code",
   "source": "found_docs",
   "id": "345414ab20450828",
   "outputs": [
    {
     "data": {
      "text/plain": [
       "[(Document(metadata={'id': 263, 'studiengang': 'Wirtschaftsinformatik', 'abschluss': 'Bachelor', 'standort': 'Meschede', 'link': 'https://www.fh-swf.de/de/studienangebot/studiengaenge/wirtschaftsinformatik_b_sc_/index.php', 'hash': '54a73c342c193961ee06c94b7e5ccc624fc54261ec8ce26e615b4da5f9f59b41', '_id': 'b6a2c3a3-aec2-41ce-936c-98e13af8676f', '_collection_name': 'mixedbread-ai_deepset-mxbai-embed-de-large-v1_token_based_chunks'}, page_content='en sind Wirtschaftsinformatiker*innen bestens ausgestattet für ein breites Spektrum an möglichen beruflichen Entfaltungsmöglichkeiten. Zu den möglichen Berufen zählen: - Für stärker technisch Interessierte: Softwareentwicklung bzw. Anwendung von KI und maschinellem Lernen zur Analyse großer Datenmengen durch Data Science, Entwickler*innen für Softwarearchitektur für betriebliche Anwendung - Berufe an der klassischen Schnittstelle zwischen Wirtschaft und Informatik: Prozessanalysten und IT-Beratung für E-Commerce und anderes E-Business sowie Business Intelligence - Bei Interesse an Organisations- und Managementaufgaben: Tätigkeiten im Bereich des IT-Management und der Prozessoptimierung, zum Beispiel in ERP-Systemen oder im Bereich der Cyber-Security Die durch ein Studium der Wirtschaftsinformatik vermittelten Fähigkeiten sind grundlegend und bereiten die Studierenden nicht nur auf die aktuellen, sondern auch auf zukünftige Herausforderungen eines sich schnell entwickelnden Bereichs vor. Ein Bachelor-Studiengang in der Wirtschaftsinformatik bietet für diese Herausforderungen eine solide Basis. Und mehr noch: Die erworbenen Kompetenzen ermöglichen die berufliche Weiterentwicklung ganz nach einer sich im Zeitverlauf ändernden Interessenslage. Zum Beispiel vom Softwarewareentwickler zum IT-Manager? Kein Problem mit einem Bachelorabschluss in der Wirtschaftsinformatik. #### Masterstudium im Anschluss Die durch das Bachelorstudium der Wirtschaftsinformatik gelegte breite Basis ermöglicht die Aufnahme von Master-Studiengängen aus unterschiedlichen Bereichen. Weitere Informationen zum Masterstudium Nach meinem Studium habe ich vor, in einer IT-Abteilung eines größeren Unternehmens tätig zu werden, gerne mit Kontakt zu Kunden. Anschließend könnte ich mir sehr gut eine Aufgabe im Projektmanagement vorstellen. ## Wie ist das Studium der Wirtschaftsinformatik aufgebaut? Der Studiengang beruht auf einem durchgängigen didaktischen Konzept: Ausgehend von den betrieblichen Grundfunktionen wie Einkauf, Produktion und Vertrieb lernen Sie informationstechnische Inhalte als bereichsübergreifende Querschnittsfunktionen zu verstehen und mit betriebswirtschaftlichen Fragestellungen zu verknüpfen. ### Inhalt des Studiums In den einzelnen Modulen erhalten Sie einen Überblick über typische betriebswirtschaftliche Herausforderungen und lernen diese mit Herangehensweisen und Technologien der Informatik zu unterstützen. Sie lernen, wie betriebswirtschaftliche Probleme mit informationstechnischen Mitteln gelöst werden. Je nach Neigung und Berufswunsch können Sie ab dem'),\n",
       "  0.8633779),\n",
       " (Document(metadata={'id': 4, 'studiengang': 'Wirtschaftsinformatik', 'abschluss': 'Bachelor', 'standort': 'Hagen', 'link': 'https://www.fh-swf.de/de/studienangebot/studiengaenge/wirtschaftsinformatik__b_sc__/wirtschaftsinformatik__b_sc__1.php', 'hash': '52d4e379d2abc0535448fc42b8962da89d850e7865654a3ea8a44648e2549a4a', '_id': '6836ea7d-60d9-40ea-82f0-5635175f943b', '_collection_name': 'mixedbread-ai_deepset-mxbai-embed-de-large-v1_token_based_chunks'}, page_content='Projektorganisation sowie Marketing und Vertrieb sind unsere Absolventinnen und Absolventen gefragt. ### Tobias Augustin (Wirtschaftsinformatik) „Die Professorinnen und Professoren an der Fachhochschule Südwestfalen sind einfach Klasse. Fünf Minuten für eine spontane Frage haben sie eigentlich immer. Einige dürfte ich dafür vielleicht sogar nachts aus dem Bett klingeln. Bei der Wahl des Studiums hat mir auch das CHE-Ranking geholfen. Hier schneidet mein Studiengang hervorragend ab. Und das, wie ich inzwischen bestätigen kann, völlig zu Recht.“ ## Wie ist Bachelor Wirtschaftsinformatik aufgebaut? Im Studiengang Wirtschaftsinformatik werden Lehrinhalte aus den Bereichen Informatik, Betriebswirtschaftslehre und Technik interdisziplinär vermittelt. Es werden sowohl Fächer wie Grundlagen der Informatik, Algorithmen und Datenstrukturen, Datenbanken, Kommunikationssysteme als auch Grundlagen des Wirtschaftens, Rechnungswesen, Unternehmensprozesse, Betriebliche Planungstechniken/Führungstechniken sowie Überblicke über Maschinenbau, Elektrotechnik und Verfahrenstechnik angeboten. Die Studierenden erhalten eine fundierte Fremdsprachenausbildung in Englisch und wahlweise in Französisch oder Spanisch. Damit orientiert sich das Studium gezielt an den Anforderungen eines internationalen Arbeitsmarktes In den ersten drei Semestern werden die Grundlagenfächer zur BWL und Informatik gelehrt, mit vielen Übungen und Praktika zum Vertiefen des Stoffs der Vorlesungen und zum Üben der Programmierung. Ab dem dritten und vierten Semester kann man sich in den verschiedenen Bereichen der BWL und der Informatik spezialisieren, ebenso werden Grundlagenfächer des Ingenieurwesens angeboten. Im letzten Semester wird die Praxisphase in Unternehmen absolviert, aus der ein Thema für die Abschlussarbeit entstehen kann. ## Studienverlaufsplan Wirtschaftsinformatik B.Sc.* | | | | | | | | | | |---------------------------------------------------------------------------------------------|---------------------------------------------------------------------------------------------|---------------------------------------------------------------------------------------------|---------------------------------------------------------------------------------------------|-----------------------------------------------------------------------|------------------------------------------------|-----------------------------------------------------------------------|----------------------------------|------------------------------------------| | 1. Semester | Wirtschaftsenglisch | Recht | Mathematik 1 | Einführung in die BWL | Extern'),\n",
       "  0.8592566),\n",
       " (Document(metadata={'id': 264, 'studiengang': 'Wirtschaftsinformatik', 'abschluss': 'Bachelor', 'standort': 'Meschede', 'link': 'https://www.fh-swf.de/de/studienangebot/studiengaenge/wirtschaftsinformatik_b_sc_/index.php', 'hash': '54a73c342c193961ee06c94b7e5ccc624fc54261ec8ce26e615b4da5f9f59b41', '_id': '9d569705-4167-4d50-8176-74f7517da2e8', '_collection_name': 'mixedbread-ai_deepset-mxbai-embed-de-large-v1_token_based_chunks'}, page_content='sübergreifende Querschnittsfunktionen zu verstehen und mit betriebswirtschaftlichen Fragestellungen zu verknüpfen. ### Inhalt des Studiums In den einzelnen Modulen erhalten Sie einen Überblick über typische betriebswirtschaftliche Herausforderungen und lernen diese mit Herangehensweisen und Technologien der Informatik zu unterstützen. Sie lernen, wie betriebswirtschaftliche Probleme mit informationstechnischen Mitteln gelöst werden. Je nach Neigung und Berufswunsch können Sie ab dem 4. Semester entsprechende Spezialisierungen über Wahlpflichtfächer wählen. Hierbei steht ein breites Spektrum von möglichen Schwerpunkten offen, auf die Sie sich spezialisieren können: Datenanalyse / Business Intelligence, IT-Sicherheit, App- und Web-Entwicklung Einen besonders hohen Stellenwert hat dabei das Lernen in Projekten, die oft in Zusammenarbeit mit Industriepartnern durchgeführt werden. Dazu gehört eine Studienarbeit, in der ein praxisbezogenes Projekt oder eine theoretische Forschungsaufgabe bearbeitet wird. Den Praxisbezug ihres Studiums können Studierende zudem durch ein fakultatives Praxissemester ausbauen. Den Abschluss des Studiums bilden schließlich die Bachelorarbeit und eine mündliche Prüfung, das Kolloquium. ### Flexible Studienorganisation Sie können Ihr Studium individuell und flexibel gestalten. Vorlesungen, Übungen, Labore oder auch Projekt- bzw. Blockwochen werden in Präsenz durchgeführt. Hier besteht die Möglichkeit die Veranstaltung persönlich vor Ort besuchen oder an einer angebotenen Online-Veranstaltung teilzunehmen. Umfangreiche Selbstlernmaterialien wie Studienbücher, Online-Formate, Tutorien oder Lernplattformen stehen Ihnen ergänzend zur Verfügung. ## Studienverlaufsplan Wirtschaftsinformatik B.Sc. | | | | | | | |------------------|------------------------------------------------------------------------------------------|------------------------------------------------------------------------------------------|----------------------------------------------|------------------------------|------------------------------------------------| | 1. Semester | Allgemeine Betriebswirtschaftslehre | Datenbanksysteme 1 | Software Modellierung &amp; IT-Projektmanagement | Wirtschaftsinformatik | Wirtschaftsmathematik | | 2. Semester | Grundlagen der Programmierung | Produktionswirtschaft | Projektmanagement | Statistik | Unternehmensrechnung | | 3. Semester | Algorithmen und Datenstrukturen | Business'),\n",
       "  0.8480934),\n",
       " (Document(metadata={'id': 262, 'studiengang': 'Wirtschaftsinformatik', 'abschluss': 'Bachelor', 'standort': 'Meschede', 'link': 'https://www.fh-swf.de/de/studienangebot/studiengaenge/wirtschaftsinformatik_b_sc_/index.php', 'hash': '54a73c342c193961ee06c94b7e5ccc624fc54261ec8ce26e615b4da5f9f59b41', '_id': '3433344d-1ec9-4631-a041-820ed1eb20fb', '_collection_name': 'mixedbread-ai_deepset-mxbai-embed-de-large-v1_token_based_chunks'}, page_content='### Bewerbung und Einschreibung zum Sommersemester Für Bachelorstudiengänge ist eine Bewerbung und Einschreibung zum Sommersemester nur für höhere Fachsemester möglich. Die genauen Bewerbungsfristen finden Sie in der Tabelle Hochschulwechsler*innen / Studiengangwechsler*innen. (Achtung: Bewerbungen sind nur innerhalb des jeweiligen Bewerbungszeitraums möglich!) ## An wen richtet sich der Bachelor-Studiengang Wirtschaftsinformatik? Sie interessieren sich für die modernen Themen der Informatik, zum Beispiel Künstliche Intelligenz, IT-Sicherheit, Web-Apps, und deren Anwendung zur Lösung von Herausforderungen zur digitalen Transformation der Wirtschaft und Gesellschaft? Dann ist der praxisorientierte Studiengang der Wirtschaftsinformatik genau das Richtige für Sie. Das Studium der Wirtschaftsinformatik vermittelt sowohl Kompetenzen im Bereich der angewandten Informatik als auch umfangreiche Kenntnisse über ökonomische Zusammenhänge und betriebswirtschaftliche Abläufe. Absolvent*innen der Wirtschaftsinformatik sind somit hervorragend für ein breites Spektrum an möglichen Berufsfeldern qualifiziert – von eher technologisch getriebenen Berufen wie Softwareentwickler und Softwarearchitekten über IT- und Prozessberater bis hin zu Tätigkeiten im Bereich des IT-Sicherheitsmanagements. ### Kooperatives Studium Der Studiengang kann in Kooperation mit einem Unternehmen studiert werden. Praxisphasen, Projekt- bzw. Studienarbeiten und die Bachelorarbeit werden in diesem Fall im selben Unternehmen absolviert. Basis ist üblicherweise eine Werkstudierenden-Tätigkeit neben dem Studium, aber auch die Kombination mit einer betrieblichen Ausbildung ist möglich. Zum Kooperativen Studium Ankerpunkt ## Welche Berufsaussichten bietet das Studium der Wirtschaftsinformatik? Im Zeitalter der Digitalisierung sind Wirtschaftsinformatiker*innen unverzichtbar für den gesellschaftlichen und wirtschaftlichen Wandel. Mit den im Studiengang vermittelten Kompetenzen sind Wirtschaftsinformatiker*innen bestens ausgestattet für ein breites Spektrum an möglichen beruflichen Entfaltungsmöglichkeiten. Zu den möglichen Berufen zählen: - Für stärker technisch Interessierte: Softwareentwicklung bzw. Anwendung von KI und maschinellem Lernen zur Analyse großer Datenmengen durch Data Science, Entwickler*innen für Softwarearchitektur für betriebliche Anwendung - Berufe an der klassischen Schnittstelle zwischen Wirtschaft und Informatik: Prozessanalysten und IT-Beratung für E'),\n",
       "  0.84511966),\n",
       " (Document(metadata={'id': 84, 'studiengang': 'Wirtschaftsinformatik', 'abschluss': 'Bachelor', 'standort': 'Hagen', 'link': 'https://www.fh-swf.de/media/neu_np/hv_2/dateien_sg_2_4/verlaufsplaene_modulhandbuecher_1/hagen/tbw_neu/Modulhandbuch_Winf_FPO_2018_Stand_09.2024.pdf', 'hash': 'c93b3335a3ac9af325e13ffdfce0fddf437139582c54f3b579e5d59096e10fcf', '_id': 'd1e5e3c4-20a7-4375-9fac-e426d0456df4', '_collection_name': 'mixedbread-ai_deepset-mxbai-embed-de-large-v1_token_based_chunks'}, page_content=\"amp; Kompetenzen ## Kenntnisse (Wissen): ## Nach erfolgreich bestandenem Modul kennen die Studierenden - Breite Einführung in das Themengebiet 'Wirtschaftsinformatik' - Vorbereitung auf berufliche Tätigkeit: Grundsätzlicher Überblick und Verständnis relevanter Wirtschaftsinformatik-Themen - Interdisziplinäre Sichtweise: Technik, Organisation, Management ## Fertigkeiten (Können): Nach erfolgreich bestandenem Modul können die Studierenden - Umgang mit Office-Tools (Excel) - Geschäftsprozessmodellierung mit BPMN - Einfache Abfragen von Datenbanken mit SQL - Einfache Webseiten mit HTML anlegen - Datenaustausch mit XML - Eigenständige Einarbeitung in neue Themengebiete - Selbständige Verantwortung für termingerechte Vorbereitung von Hausaufgaben und schriftlicher Prüfung ## Lehrformen, Unterrichtssprache &amp; weitere Angaben zu Prüfungsformen Vorlesung zur Vermittlung des Grundlagenwissens, teilweise mit Unterrichtsgespräch; Praktikum im Team im Labor und/oder am PC. Die Portfolioprüfung besteht aus zwei Klausuren (Dauer je 45-60 Minuten), die jeweils zu 50% in die Gesamtbewertung eingehen. ## Grundlagen der Wirtschaftsinformatik 2 / 2 <unk> ## Teilnahmevoraussetzung Keine ## Lehrinhalte Die Veranstaltung bietet einen breit gefächerten Überblick über die wesentlichen Themen und Inhalte der Wirtschaftsinformatik. Beginnend mit einem Einblick in die vernetzte Unternehmenswelt und die Bedeutung von Informationssystemen für die Wertschöpfung und die Unternehmensstrategie wird das Profil der Wirtschaftsinformatik in Theorie und Praxis erörtert. Zur Umsetzung der Unternehmensstrategie mit Hilfe von Informationssystemen wird in das Thema Organisation eingeführt. Der Fokus liegt dabei auf der Beschreibung und Modellierung von Geschäftsprozessen mit der BPMN-Notation. Im Bereich der Informations- und Kommunikationsinfrastrukturen werden neben den wesentlichen Bestandteilen der IT-Infrastruktur im Hard- und Softwarebereich auch Grundlagen der Internetkommunikation sowie HTML eingeführt. Weitere Schwerpunkte liegen auf den Themen Datenorganisation und Datenmanagement, bei denen u. a. die Datenbanksprache SQL eingeführt wird. Im Zusammenhang mit der inner- und überbetrieblichen Informationsverarbeitung werden unterschiedliche Arten von Anwendungssystemen sowie deren Integrationsmöglichkeiten vorgestellt. Im Zusammenhang mit dem Austausch von Daten wird insbesondere auf XML eingegangen. ## Literaturhinweise &amp; ergänzende Information K. Laudon, J. Laudon,\"),\n",
       "  0.840435)]"
      ]
     },
     "execution_count": 14,
     "metadata": {},
     "output_type": "execute_result"
    }
   ],
   "execution_count": 14
  },
  {
   "metadata": {
    "ExecuteTime": {
     "end_time": "2025-03-03T15:07:05.644344Z",
     "start_time": "2025-03-03T15:07:05.641730Z"
    }
   },
   "cell_type": "code",
   "source": [
    "# Filter nutzen:\n",
    "metadata_filter = Filter(\n",
    "    must=[\n",
    "        FieldCondition(\n",
    "            key=\"metadata.standort\",\n",
    "            match=MatchValue(value=\"Hagen\")\n",
    "        ),\n",
    "        FieldCondition(\n",
    "            key=\"metadata.abschluss\",\n",
    "            match=MatchValue(value=\"Bachelor\")\n",
    "        ),\n",
    "        FieldCondition(\n",
    "            key=\"metadata.studiengang\",\n",
    "            match=MatchValue(value=\"Wirtschaftsinformatik\")\n",
    "        )\n",
    "    ]\n",
    ")"
   ],
   "id": "c5682b15fdf0fa93",
   "outputs": [],
   "execution_count": 19
  },
  {
   "metadata": {
    "ExecuteTime": {
     "end_time": "2025-03-03T15:07:07.733484Z",
     "start_time": "2025-03-03T15:07:07.071772Z"
    }
   },
   "cell_type": "code",
   "source": [
    "found_docs = qdrant_client.similarity_search_with_score(\n",
    "    query=frage,\n",
    "    k=5,\n",
    "    filter=metadata_filter\n",
    ")"
   ],
   "id": "a9e36537f55425f1",
   "outputs": [],
   "execution_count": 20
  },
  {
   "metadata": {
    "ExecuteTime": {
     "end_time": "2025-03-03T15:07:08.755997Z",
     "start_time": "2025-03-03T15:07:08.752286Z"
    }
   },
   "cell_type": "code",
   "source": "found_docs",
   "id": "fe7afc2f079af9ae",
   "outputs": [
    {
     "data": {
      "text/plain": [
       "[(Document(metadata={'id': 21, 'studiengang': 'Wirtschaftsinformatik', 'abschluss': 'Bachelor', 'standort': 'Hagen', 'link': 'https://www.fh-swf.de/media/neu_np/hv_2/prfungsundnderungsordnungen/fbtbw_1/FPO_2018_WiIng_WiInf_IBE_IBI.pdf', 'hash': 'ff861463683837be653a2ba75af2198508491056a31928a7d092453a1ab59a09', '_id': 'a2a4dd4f-eaa3-43ef-8936-aa961484b871', '_collection_name': 'mixedbread-ai_deepset-mxbai-embed-de-large-v1_token_based_chunks'}, page_content='setzung der Gesamtnote in Form eines ECTS gewichteten arithmetischen Mittels der Einzelnoten der durch das entsprechende Learning Agreement vereinbarten Modulprüfungen berücksichtigt. ## Teil 3 ## Das Studium ## § 20 ## Umfang der Bachelorarbeit Der Umfang der Bachelorarbeit gemäß § 28 Absatz 1 RPO beträgt in der Regel 65 Seiten (inklusive Bilder und Tabellen und ohne Verzeichnisse und Anhänge). Die Bearbeitungszeit (Zeitraum von der Ausgabe bis zur Abgabe der Bachelorarbeit) beträgt höchstens zehn Wochen. Auf einen vor Ablauf der Frist gestellten begründeten Antrag der Kandidatin oder des Kandidaten kann der Prüfungsausschuss ausnahmsweise eine Nachfrist der Bearbeitungszeit von bis zu drei Wochen gewähren. ## § 21 ## Zulassung zur Bachelorarbeit Ergänzend zu § 29 Absatz 1 RPO kann zur Bachelorarbeit nur zugelassen werden, wer die folgende Anzahl an Leistungspunkten erworben hat: - a) WiIng und WiInf: 170 Leistungspunkte aus den ersten sechs Studiensemestern laut Studienplan (Anlagen) und gegebenenfalls dem Auslandssemester, davon 95 Leistungspunkte aus den ersten drei Studiensemestern, - b) IBE und IBI: 170 Leistungspunkte aus den ersten vier Studiensemestern laut Studienplan (Anlagen) und dem Studienjahr im Ausland, davon 92 Leistungspunkte aus den ersten drei Studiensemestern. ## § 22 ## Durchführung und Bewertung der Bachelorarbeit - (1) Die Rückgabe des Themas der Bachelorarbeit gemäß § 30 Absatz 2 RPO kann nur einmal und nur innerhalb der ersten zwei Wochen des Bearbeitungszeitraums ohne Angabe von Gründen erfolgen. - (2) Im Falle der Studiengänge IBE und IBI muss abweichend von § 30 Absatz 4 RPO die Bachelorarbeit in englischer Sprache verfasst werden. - (3) In Ergänzung zu § 30 Absatz 5 RPO gilt hinsichtlich der Personen, die die Bachelorarbeit bewerten, dass die Betreuerin oder der Betreuer regelmäßig die erste Prüferin oder der erste Prüfer ist. - (4) Bezugnehmend auf § 30 Absatz 7 RPO werden durch das Bestehen der Bachelorarbeit zwölf Leistungspunkte erworben. ## § 23 Kolloquium - (1) Ergänzend zu den Regelungen in § 31 Absatz 2 RPO kann zum Kolloquium nur zugelassen werden, wer - a) in den Pflicht- und Wahlpflichtmodulen'),\n",
       "  0.83067054),\n",
       " (Document(metadata={'id': 83, 'studiengang': 'Wirtschaftsinformatik', 'abschluss': 'Bachelor', 'standort': 'Hagen', 'link': 'https://www.fh-swf.de/media/neu_np/hv_2/dateien_sg_2_4/verlaufsplaene_modulhandbuecher_1/hagen/tbw_neu/Modulhandbuch_Winf_FPO_2018_Stand_09.2024.pdf', 'hash': 'c93b3335a3ac9af325e13ffdfce0fddf437139582c54f3b579e5d59096e10fcf', '_id': '2cd27090-5013-4b6c-96ba-a6a9f7546d23', '_collection_name': 'mixedbread-ai_deepset-mxbai-embed-de-large-v1_token_based_chunks'}, page_content=\"----------------------------------------------------------------| | Modul: Pflichtfach | Planmäßig im: 1 Semester. | | Modulverfügbarkeit: 1 / Jahr | | Kreditpunkte: 5 | Dauer: 1 Semester | | Einfluss auf die Abschlussnote: | | Modulnummer: 271 | | | siehe Fachprüfungsordnung (FPO) <unk> | | Modulbeauftragte/r hauptamtl. Lehrende/r: | | | Verantwortlicher Fachbereich: TBW | | Lehrveranstaltungen: | | | | | Vorlesung | 2 [ SWS ] | | Geplante Gruppengröße: Semesterstärke | | Übung | 2 [ SWS ] | | Geplante Gruppengröße: 25 | | Studiengangvarianten: | | | | | Studienart: | Arbeitsaufwand: | Kontaktzeit: | Selbststudium: | | Vollzeitstudium | 150 Stunden | 48 Stunden | 102 Stunden | | Prüfungsformen: | | | | | Art der Prüfung: | Erstprüfer: | Erstprüfer: | Zweitprüfer: | | Portfolioprüfung | Prof. Dr. Christian Leubner | Prof. Dr. Christian Leubner | Prof. Dr. Andreas de Vries | | <unk> Zur Teilnahme an der Prüfung ist keine gesonderte Studienleistung erforderlich. <unk> | <unk> Zur Teilnahme an der Prüfung ist keine gesonderte Studienleistung erforderlich. <unk> | <unk> Zur Teilnahme an der Prüfung ist keine gesonderte Studienleistung erforderlich. <unk> | <unk> Zur Teilnahme an der Prüfung ist keine gesonderte Studienleistung erforderlich. <unk> | ## Lernergebnisse &amp; Kompetenzen ## Kenntnisse (Wissen): ## Nach erfolgreich bestandenem Modul kennen die Studierenden - Breite Einführung in das Themengebiet 'Wirtschaftsinformatik' - Vorbereitung auf berufliche Tätigkeit: Grundsätzlicher Überblick und Verständnis relevanter Wirtschaftsinformatik-Themen - Interdisziplinäre Sichtweise: Technik, Organisation, Management ## Fertigkeiten (Können): Nach erfolgreich bestandenem Modul können die Studierenden - Umgang mit Office-Tools (Excel\"),\n",
       "  0.82696545),\n",
       " (Document(metadata={'id': 4, 'studiengang': 'Wirtschaftsinformatik', 'abschluss': 'Bachelor', 'standort': 'Hagen', 'link': 'https://www.fh-swf.de/de/studienangebot/studiengaenge/wirtschaftsinformatik__b_sc__/wirtschaftsinformatik__b_sc__1.php', 'hash': '52d4e379d2abc0535448fc42b8962da89d850e7865654a3ea8a44648e2549a4a', '_id': '6836ea7d-60d9-40ea-82f0-5635175f943b', '_collection_name': 'mixedbread-ai_deepset-mxbai-embed-de-large-v1_token_based_chunks'}, page_content='Projektorganisation sowie Marketing und Vertrieb sind unsere Absolventinnen und Absolventen gefragt. ### Tobias Augustin (Wirtschaftsinformatik) „Die Professorinnen und Professoren an der Fachhochschule Südwestfalen sind einfach Klasse. Fünf Minuten für eine spontane Frage haben sie eigentlich immer. Einige dürfte ich dafür vielleicht sogar nachts aus dem Bett klingeln. Bei der Wahl des Studiums hat mir auch das CHE-Ranking geholfen. Hier schneidet mein Studiengang hervorragend ab. Und das, wie ich inzwischen bestätigen kann, völlig zu Recht.“ ## Wie ist Bachelor Wirtschaftsinformatik aufgebaut? Im Studiengang Wirtschaftsinformatik werden Lehrinhalte aus den Bereichen Informatik, Betriebswirtschaftslehre und Technik interdisziplinär vermittelt. Es werden sowohl Fächer wie Grundlagen der Informatik, Algorithmen und Datenstrukturen, Datenbanken, Kommunikationssysteme als auch Grundlagen des Wirtschaftens, Rechnungswesen, Unternehmensprozesse, Betriebliche Planungstechniken/Führungstechniken sowie Überblicke über Maschinenbau, Elektrotechnik und Verfahrenstechnik angeboten. Die Studierenden erhalten eine fundierte Fremdsprachenausbildung in Englisch und wahlweise in Französisch oder Spanisch. Damit orientiert sich das Studium gezielt an den Anforderungen eines internationalen Arbeitsmarktes In den ersten drei Semestern werden die Grundlagenfächer zur BWL und Informatik gelehrt, mit vielen Übungen und Praktika zum Vertiefen des Stoffs der Vorlesungen und zum Üben der Programmierung. Ab dem dritten und vierten Semester kann man sich in den verschiedenen Bereichen der BWL und der Informatik spezialisieren, ebenso werden Grundlagenfächer des Ingenieurwesens angeboten. Im letzten Semester wird die Praxisphase in Unternehmen absolviert, aus der ein Thema für die Abschlussarbeit entstehen kann. ## Studienverlaufsplan Wirtschaftsinformatik B.Sc.* | | | | | | | | | | |---------------------------------------------------------------------------------------------|---------------------------------------------------------------------------------------------|---------------------------------------------------------------------------------------------|---------------------------------------------------------------------------------------------|-----------------------------------------------------------------------|------------------------------------------------|-----------------------------------------------------------------------|----------------------------------|------------------------------------------| | 1. Semester | Wirtschaftsenglisch | Recht | Mathematik 1 | Einführung in die BWL | Extern'),\n",
       "  0.8251188),\n",
       " (Document(metadata={'id': 214, 'studiengang': 'Wirtschaftsinformatik', 'abschluss': 'Bachelor', 'standort': 'Hagen', 'link': 'https://www.fh-swf.de/media/neu_np/hv_2/dateien_sg_2_4/verlaufsplaene_modulhandbuecher_1/hagen/tbw_neu/Modulhandbuch_Winf_FPO_2018_Stand_09.2024.pdf', 'hash': 'c93b3335a3ac9af325e13ffdfce0fddf437139582c54f3b579e5d59096e10fcf', '_id': '4c7d318a-b1db-47e3-b8d2-aacfa624af16', '_collection_name': 'mixedbread-ai_deepset-mxbai-embed-de-large-v1_token_based_chunks'}, page_content='in den ersten sechs Semestern vermittelten Kenntnisse voraus. ## Lehrinhalte Die Bachelorthesis enthält komplexe Fragestellungen aus Technik, Informatik und/oder BWL mit Anforderungen an Fach- und Methodenkompetenz. Sie ist üblicherweise eine anwendungsorientierte Arbeit, in der Wissen in nutzbare Lösungen umgesetzt werden soll. Eine anwendungsorientierte Bachelorthesis sollte folgende Teilelemente enthalten: * Einarbeitung in die Aufgabenstellung * Literaturrecherche * Analyse und Lösungsansatz * bei entwicklungstechnischen Aufgabenstellungen Modellierung und Spezifikation * Umsetzungsstrategie und - Realisierung * Verifikation und Bewertung der Ergebnisse * Wissenschaftliche Dokumentation unter Berücksichtigung der o.a. Teilelemente. - - Einarbeitung in die Aufgabenstellung - - Literaturrecherche - - Analyse und Lösungsansatz - - Umsetzungsstrategie und Realisierung - - Verifikation und Bewertung der Ergebnisse - - Wissenschaftliche Dokumentation - - Verfassen eines wissenschaftlichen Artikels von zwei bis 4 Seiten über die Bachelorarbeit Bei der Themenfindung können in Absprache mit dem zuständigen Betreuer während der Praxisphase aufgeworfene Aufgabenstellungen berücksichtigt werden, sofern sie sich für eine Bachelorthesis eignen. ## Literaturhinweise &amp; ergänzende Information Entsprechend der Themenstellung. Hochschulkatalog durchstöbern | <unk> | Kolloquium 1 / 2 | | |------------------------------------------------------------|----------------------------|----------------------------------------------------------------------| | Modul: Pflichtfach | Planmäßig im: 7 Semester. | Modulverfügbarkeit: 2 / Jahr | | Kreditpunkte: 3 | Dauer: 1 Stunde | Einfluss auf die Abschlussnote: | | Modulnummer: 242 Modulbeauftragte/r hauptamtl. Lehrende/r: | | siehe Fachprüfungsordnung (FPO) <unk> Verantwortlicher Fachbereich: TBW | ## Kolloquium 2 / 2 <unk> ## Teilnahmevoraussetzung Formal: Siehe gültige Prüfungsordnung. Inhaltlich: Das Kolloquium setzt die in den Studiensemestern und in der Bachelorthesis vermittelten Kenntnisse voraus. ## Lehrinhalte Die / Der Studierende soll nachweisen, dass sie / er befähigt ist, Inhalt und Ergebnisse der Bachelorthesis, ihre fach'),\n",
       "  0.82488835),\n",
       " (Document(metadata={'id': 213, 'studiengang': 'Wirtschaftsinformatik', 'abschluss': 'Bachelor', 'standort': 'Hagen', 'link': 'https://www.fh-swf.de/media/neu_np/hv_2/dateien_sg_2_4/verlaufsplaene_modulhandbuecher_1/hagen/tbw_neu/Modulhandbuch_Winf_FPO_2018_Stand_09.2024.pdf', 'hash': 'c93b3335a3ac9af325e13ffdfce0fddf437139582c54f3b579e5d59096e10fcf', '_id': '289a62c3-19e3-462c-8909-89606cccfd92', '_collection_name': 'mixedbread-ai_deepset-mxbai-embed-de-large-v1_token_based_chunks'}, page_content='aufwand: | Kontaktzeit: | Selbststudium: | | Teilzeitstudium | 360 Stunden | 12 Stunden | 348 Stunden | | Prüfungsformen: | | | | | Art der Prüfung: | Erstprüfer: | Erstprüfer: | Zweitprüfer: | | Thesis | Betreuer*in | Betreuer*in | Lehrbeauftragte/r | <unk> Zur Teilnahme an der Prüfung ist keine gesonderte Studienleistung erforderlich. ## Lernergebnisse &amp; Kompetenzen In der Bachelorthesis zeigen die Studierenden, dass sie innerhalb einer vorgegebenen Frist eine praxisorientierte Aufgabe aus dem Bereich des Studiengangs weitgehend selbstständig mit den im Studium erlernten und erprobten wissenschaftlichen und praktischen Kompetenzen ingenieurmäßig bearbeiten können. Nach Abschluss der Arbeit sind die Studierenden in der Lage, komplexe praxisorientierte Problemstellungen selbstständig und unter Anwendung der erlernten wissenschaftlichen Methoden zu bearbeiten, sowie die Ergebnisse schriftlich und mündlich darzustellen. ## Lehrformen, Unterrichtssprache &amp; weitere Angaben zu Prüfungsformen Die Bachelorthesis ist eine selbstständige Durchführung einer ingenieurwissenschaftlichen Arbeit unter Betreuung. Der Betreuungsaufwand ist unterschiedlich und abhängig vom Umfang und der Komplexität des Themas. Entsprechend ist der zeitliche Aufwand für die Betreuung pauschal mit 10% des Gesamtaufwandes angegeben worden. Die Bachelorthesis wird typisch als Einzelarbeit ausgegeben, kann aber auch eine Gruppenarbeit sein, wobei bei einer Gruppenarbeit jeder Teilnehmer eigenständig einen Teil der Aufgabenstellung bearbeiten muss. Die Arbeit kann in der Hochschule oder in einem Unternehmen durchgeführt werden. ## Bachelorthesis 2 / 2 <unk> ## Teilnahmevoraussetzung Formal: Siehe gültige Prüfungsordnung. Inhaltlich: Die Bachelorthesis setzt die in den ersten sechs Semestern vermittelten Kenntnisse voraus. ## Lehrinhalte Die Bachelorthesis enthält komplexe Fragestellungen aus Technik, Informatik und/oder BWL mit Anforderungen an Fach- und Methodenkompetenz. Sie ist üblicherweise eine anwendungsorientierte Arbeit, in der Wissen in nutzbare Lösungen umgesetzt werden soll. Eine anwendungsorientierte Bachelorthesis sollte folgende Teilelemente enthalten: * Einarbeitung in die Aufgabenstellung * Literaturrecherche *'),\n",
       "  0.82303977)]"
      ]
     },
     "execution_count": 21,
     "metadata": {},
     "output_type": "execute_result"
    }
   ],
   "execution_count": 21
  },
  {
   "metadata": {
    "ExecuteTime": {
     "end_time": "2025-03-03T15:12:27.247191Z",
     "start_time": "2025-03-03T15:12:27.242525Z"
    }
   },
   "cell_type": "code",
   "source": "mixed_bread_recursive_collection = \"mixedbread-ai_deepset-mxbai-embed-de-large-v1_recursive_chunks\"",
   "id": "41515556a087ab74",
   "outputs": [],
   "execution_count": 22
  },
  {
   "metadata": {
    "ExecuteTime": {
     "end_time": "2025-03-03T15:12:35.296274Z",
     "start_time": "2025-03-03T15:12:34.257960Z"
    }
   },
   "cell_type": "code",
   "source": [
    "qdrant_client = QdrantVectorStore.from_existing_collection(\n",
    "    embedding=embeddings,\n",
    "    retrieval_mode=RetrievalMode.DENSE,\n",
    "    prefer_grpc=False,\n",
    "    collection_name=mixed_bread_recursive_collection,\n",
    "    url=qdrant_url,\n",
    ")"
   ],
   "id": "6d8726a271df4302",
   "outputs": [],
   "execution_count": 23
  },
  {
   "metadata": {
    "ExecuteTime": {
     "end_time": "2025-03-03T15:13:30.900051Z",
     "start_time": "2025-03-03T15:13:30.020517Z"
    }
   },
   "cell_type": "code",
   "source": [
    "found_docs = qdrant_client.similarity_search_with_score(\n",
    "    query=frage,\n",
    "    k=5,\n",
    "    filter=metadata_filter\n",
    ")"
   ],
   "id": "eeaeb54c2fb86474",
   "outputs": [],
   "execution_count": 26
  },
  {
   "metadata": {
    "ExecuteTime": {
     "end_time": "2025-03-03T15:13:32.166743Z",
     "start_time": "2025-03-03T15:13:32.159242Z"
    }
   },
   "cell_type": "code",
   "source": "found_docs",
   "id": "b65dd7038c90ab80",
   "outputs": [
    {
     "data": {
      "text/plain": [
       "[(Document(metadata={'id': 26, 'studiengang': 'Wirtschaftsinformatik', 'abschluss': 'Bachelor', 'standort': 'Hagen', 'link': 'https://www.fh-swf.de/media/neu_np/hv_2/prfungsundnderungsordnungen/fbtbw_1/FPO_2018_WiIng_WiInf_IBE_IBI.pdf', 'hash': 'ff861463683837be653a2ba75af2198508491056a31928a7d092453a1ab59a09', '_id': '40526838-f368-4298-b977-ac56562ffbaa', '_collection_name': 'mixedbread-ai_deepset-mxbai-embed-de-large-v1_recursive_chunks'}, page_content='## Teil 3\\n\\n## Das Studium\\n\\n## § 20\\n\\n## Umfang der Bachelorarbeit\\n\\nDer Umfang der Bachelorarbeit gemäß § 28 Absatz 1 RPO beträgt in der Regel 65 Seiten (inklusive Bilder und Tabellen und ohne Verzeichnisse und Anhänge). Die Bearbeitungszeit (Zeitraum  von  der  Ausgabe  bis  zur  Abgabe  der  Bachelorarbeit)  beträgt  höchstens  zehn Wochen. Auf einen vor Ablauf der Frist gestellten begründeten Antrag der Kandidatin oder des Kandidaten kann der Prüfungsausschuss ausnahmsweise eine Nachfrist der Bearbeitungszeit von bis zu drei Wochen gewähren.\\n\\n## § 21\\n\\n## Zulassung zur Bachelorarbeit\\n\\nErgänzend zu § 29 Absatz 1 RPO kann zur Bachelorarbeit nur zugelassen werden, wer die folgende Anzahl an Leistungspunkten erworben hat:\\n\\n- a) WiIng und WiInf: 170 Leistungspunkte aus den ersten sechs Studiensemestern laut  Studienplan  (Anlagen)  und  gegebenenfalls  dem  Auslandssemester,  davon 95 Leistungspunkte aus den ersten drei Studiensemestern,\\n- b) IBE  und  IBI:  170  Leistungspunkte  aus  den  ersten  vier  Studiensemestern  laut Studienplan (Anlagen) und dem Studienjahr im Ausland, davon 92 Leistungspunkte aus den ersten drei Studiensemestern.\\n\\n## § 22\\n\\n## Durchführung und Bewertung der Bachelorarbeit\\n\\n- (1)  Die  Rückgabe  des  Themas  der  Bachelorarbeit  gemäß  §  30  Absatz  2  RPO  kann  nur einmal  und  nur  innerhalb  der  ersten  zwei  Wochen  des  Bearbeitungszeitraums  ohne Angabe von Gründen erfolgen.\\n- (2)  Im Falle der Studiengänge IBE und IBI muss abweichend von § 30 Absatz 4 RPO die Bachelorarbeit in englischer Sprache verfasst werden.\\n- (3)  In Ergänzung zu § 30 Absatz 5 RPO gilt hinsichtlich der Personen, die die Bachelorarbeit bewerten, dass die Betreuerin oder der Betreuer regelmäßig die erste Prüferin oder der erste Prüfer ist.\\n- (4)  Bezugnehmend auf § 30 Absatz 7 RPO werden durch das Bestehen der Bachelorarbeit zwölf Leistungspunkte erworben.\\n\\n## § 23 Kolloquium'),\n",
       "  0.8498622),\n",
       " (Document(metadata={'id': 4, 'studiengang': 'Wirtschaftsinformatik', 'abschluss': 'Bachelor', 'standort': 'Hagen', 'link': 'https://www.fh-swf.de/de/studienangebot/studiengaenge/wirtschaftsinformatik__b_sc__/wirtschaftsinformatik__b_sc__1.php', 'hash': '52d4e379d2abc0535448fc42b8962da89d850e7865654a3ea8a44648e2549a4a', '_id': '64bc5c67-77c4-4826-b91e-58ede6f9ba09', '_collection_name': 'mixedbread-ai_deepset-mxbai-embed-de-large-v1_recursive_chunks'}, page_content='## An wen richtet sich der Bachelor-Studiengang Wirtschaftsinformatik?\\n\\nNatürlich sollten Sie sich für Informatik interessieren, keine Frage. Der Studiengang Wirtschaftsinformatik mit seinem interdisziplinären Ansatz bietet aber viel mehr. Wie wird Informatik in Unternehmen eingesetzt? Wie verändern Algorithmen die Wirtschaft? Und wie schützen sich Betriebe vor Hackerangriffen und verschlüsseln ihre Firmengeheimnisse am sichersten?\\n\\nDas Studium gibt Ihnen Antworten auf Fragen wie diese, die immer mehr an Relevanz gewinnen. Darüber hinaus qualifiziert er Sie für Ihre spätere Tätigkeit in betrieblichen Querschnittsfunktionen. Dieser Studiengang öffnet Ihnen vielen Türen. Sie haben die Wahl!\\n\\n## Welche Berufsaussichten bietet das Studium Wirtschaftsinformatik?\\n\\nMögliche Berufsfelder unserer Absolventinnen und Absolventen sind fachübergreifend und umfassen vorwiegend betriebliche Querschnittsfunktionen, vor allem für den Dienstleistungssektor, im Handel oder in der Unternehmensberatung. Aber auch im produzierenden Gewerbe in den Bereichen Logistik, Materialwirtschaft, Einkauf, Projektorganisation sowie Marketing und Vertrieb sind unsere Absolventinnen und Absolventen gefragt.\\n\\n### Tobias Augustin (Wirtschaftsinformatik)\\n\\n„Die Professorinnen und Professoren an der Fachhochschule Südwestfalen sind einfach Klasse. Fünf Minuten für eine spontane Frage haben sie eigentlich immer. Einige dürfte ich dafür vielleicht sogar nachts aus dem Bett klingeln. Bei der Wahl des Studiums hat mir auch das CHE-Ranking geholfen. Hier schneidet mein Studiengang hervorragend ab. Und das, wie ich inzwischen bestätigen kann, völlig zu Recht.“\\n\\n## Wie ist Bachelor Wirtschaftsinformatik aufgebaut?\\n\\nIm Studiengang Wirtschaftsinformatik werden Lehrinhalte aus den Bereichen Informatik, Betriebswirtschaftslehre und Technik interdisziplinär vermittelt. Es werden sowohl Fächer wie Grundlagen der Informatik, Algorithmen und Datenstrukturen, Datenbanken, Kommunikationssysteme als auch Grundlagen des Wirtschaftens, Rechnungswesen, Unternehmensprozesse, Betriebliche Planungstechniken/Führungstechniken sowie Überblicke über Maschinenbau, Elektrotechnik und Verfahrenstechnik angeboten.'),\n",
       "  0.8263446),\n",
       " (Document(metadata={'id': 240, 'studiengang': 'Wirtschaftsinformatik', 'abschluss': 'Bachelor', 'standort': 'Hagen', 'link': 'https://www.fh-swf.de/media/neu_np/hv_2/dateien_sg_2_4/verlaufsplaene_modulhandbuecher_1/hagen/tbw_neu/Modulhandbuch_Winf_FPO_2018_Stand_09.2024.pdf', 'hash': 'c93b3335a3ac9af325e13ffdfce0fddf437139582c54f3b579e5d59096e10fcf', '_id': '809c7cb1-efec-4025-a022-d893e02adee3', '_collection_name': 'mixedbread-ai_deepset-mxbai-embed-de-large-v1_recursive_chunks'}, page_content='23 Stunden\\n\\nSelbststudium:\\n\\n67 Stunden\\n\\nPrüfungsformen:\\n\\nArt der Prüfung:\\n\\nErstprüfer:\\n\\nZweitprüfer:\\n\\nHausarbeit\\n\\nBetreuer*in\\n\\nBetreuer*in\\n\\n\\uf101 Zur Teilnahme an der Prüfung ist keine gesonderte Studienleistung erforderlich.\\n\\n\\uf101\\n\\n## Lernergebnisse &amp; Kompetenzen\\n\\n## Kenntnisse (Wissen):\\n\\n## Nach erfolgreich bestandenem Modul kennen die Studierenden\\n\\n- selbständig abstrahieren und sich wissenschaftlich in vertiefende Themen der Wirtschaftsinformatik einarbeiten\\n- Grundlagen des wissenschaftlichen Diskurses\\n\\n## Fertigkeiten (Können):\\n\\nNach erfolgreich bestandenem Modul können die Studierenden\\n\\n- wissenschaftliche Ergebnisse adäquat vor einem Plenum vortragen\\n- wissenschaftliche Arbeiten verfassen\\n\\n## Lehrformen, Unterrichtssprache &amp; weitere Angaben zu Prüfungsformen\\n\\nIn dem Seminar werden die bearbeiteten Themen in der Gruppe vorgetragen und diskutiert, jeder Studierende verfasst eine Hausarbeit über sein Thema.\\n\\nDie abschließenden Vorträge finden im Block statt. Zur Einübung des wissenschaftlichen Diskurses besteht bei den abschließenden Vorträgen Anwesenheitspflicht.\\n\\n## Seminar Wirtschaftinformatik 2 / 2\\n\\n\\uf18d\\uf10c\\n\\n## Teilnahmevoraussetzung\\n\\nKenntnisse aus den Grundlagenfächern der Informatik und aus Vertiefungsfächern der Wirtschaftsinformatik, sowie Befähigung zum wissenschaftlichen Arbeiten\\n\\n## Lehrinhalte\\n\\nSpezielle und aktuelle Themen der Wirtschaftsinformatik\\n\\n## Literaturhinweise &amp; ergänzende Information\\n\\nKeine Eingabe.\\n\\n## Qualitätsmanagement 1 / 2\\n\\n\\uf18d\\uf10c\\n\\nModul: Pflichtfach\\n\\nPlanmäßig im: 6 Semester .\\n\\nModulverfügbarkeit: 1 / Jahr\\n\\nKreditpunkte: 5\\n\\nModulnummer: 236'),\n",
       "  0.82169014),\n",
       " (Document(metadata={'id': 13, 'studiengang': 'Wirtschaftsinformatik', 'abschluss': 'Bachelor', 'standort': 'Hagen', 'link': 'https://www.fh-swf.de/media/neu_np/hv_2/prfungsundnderungsordnungen/fbtbw_1/FPO_2018_WiIng_WiInf_IBE_IBI.pdf', 'hash': 'ff861463683837be653a2ba75af2198508491056a31928a7d092453a1ab59a09', '_id': 'b1b1605f-6c86-4340-a624-3dff9c514966', '_collection_name': 'mixedbread-ai_deepset-mxbai-embed-de-large-v1_recursive_chunks'}, page_content=\"## Teil 3 Das Studium\\n\\n- § 20 Umfang der Bachelorarbeit\\n- § 21 Zulassung zur Bachelorarbeit\\n- § 22 Durchführung und Bewertung der Bachelorarbeit\\n- § 23 Kolloquium\\n\\n## Teil 4\\n\\n## Ergebnis der Abschlussprüfung\\n\\n§ 24 Zeugnis\\n\\n## Teil 5 Schlussbestimmungen\\n\\n## § 25 Inkrafttreten, Übergangsregelung und Veröffentlichung\\n\\n- Anlage 1: Studienplan Wirtschaftsingenieurwesen\\n- Anlage 2: Studienplan Wirtschafsinformatik\\n- Anlage 3: Studienplan International Business Administration and Engineering\\n- Anlage 4: Studienplan International Business Administration and Informatics\\n- Anlage 5: Wahlpflichtmodule aus Katalog\\n\\n## Teil 1 Allgemeines\\n\\n## § 1 Geltungsbereich\\n\\nDiese Fachprüfungsordnung (FPO) für die Bachelorstudiengänge Wirtschaftsingenieurwesen (WiIng), Wirtschaftsinformatik (WiInf), International Business Administration and Engineering (IBE), International Business Administration and Informatics (IBI) im Fachbereich Technische Betriebswirtschaft  in  Hagen  gilt  zusammen  mit  der  jeweils  aktuell  gültigen  Fassung  der Rahmenprüfungsordnung (RPO) der Fachhochschule Südwestfalen.\\n\\n## § 2 Hochschulgrad\\n\\nAuf Grund der bestandenen Bachelorprüfung gemäß § 2 RPO verleiht die Fachhochschule Südwestfalen in allen Studiengängen des Geltungsbereiches dieser FPO den akademischen Grad 'Bachelor of Science', kurz 'B.Sc.'.\\n\\n## § 3 Spezielle Zugangsvoraussetzungen\"),\n",
       "  0.8210244),\n",
       " (Document(metadata={'id': 307, 'studiengang': 'Wirtschaftsinformatik', 'abschluss': 'Bachelor', 'standort': 'Hagen', 'link': 'https://www.fh-swf.de/media/neu_np/hv_2/dateien_sg_2_4/verlaufsplaene_modulhandbuecher_1/hagen/tbw_neu/Modulhandbuch_Winf_FPO_2018_Stand_09.2024.pdf', 'hash': 'c93b3335a3ac9af325e13ffdfce0fddf437139582c54f3b579e5d59096e10fcf', '_id': '7ab41a30-327e-4996-9d74-9f80b572211a', '_collection_name': 'mixedbread-ai_deepset-mxbai-embed-de-large-v1_recursive_chunks'}, page_content='Hausarbeit\\n\\nBetreuer*in\\n\\nBetreuer*in\\n\\n\\uf101 Zur Teilnahme an der Prüfung ist keine gesonderte Studienleistung erforderlich.\\n\\n\\uf101\\n\\n## Lernergebnisse &amp; Kompetenzen\\n\\nDie Studierenden haben die Fähigkeit zu selbständiger Abstraktion und eigenständiger Einarbeitung in spezielle Themen der Wirtschaftsinformatik\\n\\n## Lehrformen, Unterrichtssprache &amp; weitere Angaben zu Prüfungsformen\\n\\nSeminaristischer Unterricht\\n\\n## Kat: Sondergebiete Informatik 1, 2 2 / 2\\n\\n## Teilnahmevoraussetzung\\n\\nFormal : siehe gültige Prüfungsordnung\\n\\nInhaltlich : Grundlagenwissen der Wirtschaftsinformatik\\n\\n## Lehrinhalte\\n\\n## Inhalte\\n\\nSpezielle und aktuelle Themen der Wirtschaftsinformatik, die den Stoff der Grundlagenfächer vertiefen oder auf ihm aufbauen, z.B. Formale Sprachen, Losgrößen und Bestandsoptimierung, Komplexitätstheorie, neue Programmiersprachen\\n\\n## Literaturhinweise &amp; ergänzende Information\\n\\nKeine Eingabe.'),\n",
       "  0.8181911)]"
      ]
     },
     "execution_count": 27,
     "metadata": {},
     "output_type": "execute_result"
    }
   ],
   "execution_count": 27
  }
 ],
 "metadata": {
  "kernelspec": {
   "display_name": "Python 3",
   "language": "python",
   "name": "python3"
  },
  "language_info": {
   "codemirror_mode": {
    "name": "ipython",
    "version": 2
   },
   "file_extension": ".py",
   "mimetype": "text/x-python",
   "name": "python",
   "nbconvert_exporter": "python",
   "pygments_lexer": "ipython2",
   "version": "2.7.6"
  }
 },
 "nbformat": 4,
 "nbformat_minor": 5
}
